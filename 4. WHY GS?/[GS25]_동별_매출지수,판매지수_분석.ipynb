{
 "cells": [
  {
   "cell_type": "code",
   "execution_count": null,
   "metadata": {
    "id": "jXVRCyMkxo0u"
   },
   "outputs": [],
   "source": [
    "# # Mount\n",
    "# from google.colab import drive\n",
    "# drive.mount('/content/gdrive')"
   ]
  },
  {
   "cell_type": "code",
   "execution_count": null,
   "metadata": {
    "id": "ywmhA42Kxy4w"
   },
   "outputs": [],
   "source": [
    "# !sudo apt-get install -y fonts-nanum\n",
    "# !sudo fc-cache -fv\n",
    "# !rm ~/.cache/matplotlib -rf"
   ]
  },
  {
   "cell_type": "code",
   "execution_count": null,
   "metadata": {
    "colab": {
     "base_uri": "https://localhost:8080/",
     "height": 72
    },
    "id": "E2V2NEjNyAYS",
    "outputId": "ebf609a1-0e37-4ef2-f45d-12c4a3cfa043"
   },
   "outputs": [
    {
     "name": "stderr",
     "output_type": "stream",
     "text": [
      "/usr/local/lib/python3.6/dist-packages/statsmodels/tools/_testing.py:19: FutureWarning: pandas.util.testing is deprecated. Use the functions in the public API at pandas.testing instead.\n",
      "  import pandas.util.testing as tm\n"
     ]
    }
   ],
   "source": [
    "# Import Library\n",
    "import numpy as np\n",
    "import pandas as pd\n",
    "import seaborn as sns\n",
    "import matplotlib.pyplot as plt\n",
    "import datetime as dt\n",
    "from sklearn.cluster import KMeans\n",
    "import plotly.express as px\n",
    "import plotly.graph_objs as go\n",
    "%matplotlib inline\n",
    "\n",
    "plt.rc('font', family='NanumBarunGothic') "
   ]
  },
  {
   "cell_type": "code",
   "execution_count": null,
   "metadata": {
    "id": "cjHuHaKjyh6z"
   },
   "outputs": [],
   "source": [
    "all =  pd.read_csv('./gdrive/My Drive/빅콘 대상팀/data/all_clean.csv',parse_dates=['STD_YMD'])\n",
    "dong = pd.read_excel('./gdrive/My Drive/빅콘 대상팀/data/지역데이터/구_동.xlsx')"
   ]
  },
  {
   "cell_type": "code",
   "execution_count": null,
   "metadata": {},
   "outputs": [],
   "source": [
    "all = pd.merge(dong,all,on='HDONG_NM',how='left')\n",
    "all['year']=pd.DatetimeIndex(all.STD_YMD).year\n",
    "gs_list = ['GS_식사', 'GS_간식', 'GS_마실거리', 'GS_홈/리빙', 'GS_헬스/뷰티', 'GS_취미/여가활동','GS_사회활동', 'GS_임신육아']\n",
    "for i in gs_list:\n",
    "  all.loc[:,i] = all.loc[:,i].str.strip('%').astype(float) "
   ]
  },
  {
   "cell_type": "code",
   "execution_count": null,
   "metadata": {},
   "outputs": [],
   "source": [
    "all_seoul = all.query('HDONG_GU_x in [\"서울 중구\",\"서울 노원구\"]')\n",
    "gs_col = ['GS_매출지수','GS_식사', 'GS_간식', 'GS_마실거리', 'GS_홈/리빙', 'GS_헬스/뷰티', 'GS_취미/여가활동', 'GS_사회활동', 'GS_임신육아']\n",
    "gs = all_seoul.groupby(['HDONG_NM','year']).mean().loc[:,gs_col].unstack().reset_index(drop=False).dropna()#상계 8동 na\n",
    "gs_g = pd.DataFrame(gs.HDONG_NM)\n",
    "for i in gs_col:\n",
    "  gs_g[i] = (gs[(i,2020)] - gs[(i,2019)])*100\n",
    "gs[('GS_매출지수','growth')] = gs_g['GS_매출지수']"
   ]
  },
  {
   "cell_type": "code",
   "execution_count": null,
   "metadata": {},
   "outputs": [],
   "source": [
    "gs = gs.sort_values(by=('GS_매출지수','growth'),ascending=False)\n",
    "gs.loc[:,['HDONG_NM','GS_매출지수']].head()"
   ]
  },
  {
   "cell_type": "markdown",
   "metadata": {
    "id": "58vNqmhoZLdN"
   },
   "source": [
    "# **1. 동별 매출지수 증감률 비교**"
   ]
  },
  {
   "cell_type": "code",
   "execution_count": null,
   "metadata": {
    "colab": {
     "base_uri": "https://localhost:8080/",
     "height": 52
    },
    "id": "MQKWbgewBwS_",
    "outputId": "7364d1b9-859e-4d9a-ab1f-0f8d18c0c865"
   },
   "outputs": [
    {
     "name": "stdout",
     "output_type": "stream",
     "text": [
      "top 5:     ['상계3.4동', '중계1동', '약수동', '동화동', '상계5동']\n",
      "bottom 5:  ['광희동', '을지로동', '소공동', '명동', '회현동', '필동', '하계1동', '장충동', '다산동', '월계1동']\n"
     ]
    }
   ],
   "source": [
    "top5 = gs.sort_values(by=('GS_매출지수','growth'),ascending=False).iloc[:5,:].HDONG_NM.tolist()\n",
    "bott10 = gs.sort_values(by=('GS_매출지수','growth'),ascending=True).iloc[:10,:].HDONG_NM.tolist()\n",
    "print('top 5:    ',top5)\n",
    "print('bottom 5: ', bott10)"
   ]
  },
  {
   "cell_type": "code",
   "execution_count": null,
   "metadata": {},
   "outputs": [],
   "source": [
    "def gr_plot(data,title,color_list):\n",
    "  plt.figure(figsize = (10,6))\n",
    "  plt.bar(data.HDONG_NM, data[('GS_매출지수','growth')], color = color_list,width=0.8)\n",
    "  plt.xlabel('행정동',size=12)\n",
    "  plt.ylabel('GS_매출지수 증감률(%)',size=12)\n",
    "  plt.xticks(rotation=40,fontsize=9)\n",
    "  plt.xlim(-0.5,32.5)\n",
    "  plt.title(title,fontsize=20)\n",
    "  plt.show()\n",
    "\n",
    "all_color = ['#3d89be']*5+['grey']*18+['r']*10\n",
    "gr_plot(gs,'GS 매출지수 증감률',all_color)"
   ]
  },
  {
   "cell_type": "code",
   "execution_count": null,
   "metadata": {
    "id": "WSwKHRR3yyLt"
   },
   "outputs": [],
   "source": [
    "gs_top = gs.sort_values(by=('GS_매출지수','growth'),ascending=False).iloc[:5,:].loc[:,['HDONG_NM','GS_매출지수']]\n",
    "gs_bottom = gs.sort_values(by=('GS_매출지수','growth'),ascending=True).iloc[:10,:].loc[:,['HDONG_NM','GS_매출지수']].sort_values(by=('GS_매출지수','growth'),ascending=False)\n",
    "gs_tb = pd.concat([gs_top,gs_bottom])"
   ]
  },
  {
   "cell_type": "code",
   "execution_count": null,
   "metadata": {},
   "outputs": [],
   "source": [
    "def gr_plot(data,title,color_list):\n",
    "  plt.figure(figsize = (9,6))\n",
    "  plt.bar(data.HDONG_NM, data[('GS_매출지수','growth')], color = color_list,width=0.8)\n",
    "  plt.xlabel('행정동',size=12)\n",
    "  plt.ylabel('GS_매출지수 증감률(%)',size=12)\n",
    "  plt.xticks(rotation=35,fontsize=12)\n",
    "  plt.xlim(-0.5,14.5)\n",
    "  plt.title(title,fontsize=20)\n",
    "  plt.show()\n",
    "\n",
    "tb_color = ['#3d89be']*5+['r']*10\n",
    "gr_plot(gs_tb,'GS 매출지수 증감률',tb_color)"
   ]
  },
  {
   "cell_type": "markdown",
   "metadata": {
    "id": "EeOjNzqyTjB7"
   },
   "source": [
    "# **2. GS25 카테고리별 판매지수 증감률**\n"
   ]
  },
  {
   "cell_type": "code",
   "execution_count": null,
   "metadata": {
    "id": "mC9mp74BTo-N"
   },
   "outputs": [],
   "source": [
    "all_a =  pd.read_csv('./gdrive/My Drive/빅콘 대상팀/data/all_amt.csv',parse_dates=['STD_YMD'])\n",
    "dong = pd.read_excel('./gdrive/My Drive/빅콘 대상팀/data/지역데이터/구_동.xlsx')"
   ]
  },
  {
   "cell_type": "code",
   "execution_count": null,
   "metadata": {},
   "outputs": [],
   "source": [
    "all_a = pd.merge(dong,all_a,on='HDONG_NM',how='left')\n",
    "all_a['year']=pd.DatetimeIndex(all_a.STD_YMD).year\n",
    "all_a_seoul = all_a.query('HDONG_GU in [\"서울 중구\",\"서울 노원구\"]')\n",
    "gs_a_col = ['GS_식사', 'GS_간식', 'GS_마실거리', 'GS_홈/리빙', 'GS_헬스/뷰티', 'GS_취미/여가활동', 'GS_사회활동', 'GS_임신육아']\n",
    "all_a_seoul\n",
    "gs_a = all_a_seoul.groupby(['HDONG_NM','year']).sum().loc[:,gs_a_col].unstack().reset_index(drop=False)#.dropna()#상계 8동 na"
   ]
  },
  {
   "cell_type": "code",
   "execution_count": null,
   "metadata": {},
   "outputs": [],
   "source": [
    "gs_a_g = pd.DataFrame(gs_a.HDONG_NM)\n",
    "for i in gs_a_col:\n",
    "  cat_growth = (gs_a[(i,2020)] - gs_a[(i,2019)])/gs_a[(i,2019)]\n",
    "  gs_a_g[i] = cat_growth\n",
    "  gs_a[(i,'growth')]= cat_growth\n",
    "gs_a_g['GS_매출지수']=gs.loc[:,['HDONG_NM','GS_매출지수']].sort_values(by='HDONG_NM')[('GS_매출지수','growth')]\n",
    "gs_a[('GS_매출지수','growth')] = gs_a_g.GS_매출지수\n",
    "\n",
    "gs_a_g = gs_a_g[gs_a_g.loc(axis=1)['HDONG_NM'].isin(top5 + bott10)].sort_values(by='GS_매출지수',ascending=False)"
   ]
  },
  {
   "cell_type": "code",
   "execution_count": null,
   "metadata": {},
   "outputs": [],
   "source": [
    "gs_a_list = gs_a_g.HDONG_NM.tolist()\n",
    "print(gs_a_list)\n",
    "gs_a_rank = gs_a[gs_a.loc(axis=1)['HDONG_NM'].isin(gs_a_list)].sort_values(by=('GS_매출지수','growth'),ascending=False)"
   ]
  },
  {
   "cell_type": "code",
   "execution_count": null,
   "metadata": {
    "colab": {
     "base_uri": "https://localhost:8080/",
     "height": 104
    },
    "id": "4DPaVLdwc21l",
    "outputId": "69399ccc-8e8f-4474-c602-45ae7f9c2726"
   },
   "outputs": [
    {
     "name": "stderr",
     "output_type": "stream",
     "text": [
      "/usr/local/lib/python3.6/dist-packages/pandas/core/generic.py:3936: PerformanceWarning:\n",
      "\n",
      "dropping on a non-lexsorted multi-index without a level parameter may impact performance.\n",
      "\n"
     ]
    },
    {
     "data": {
      "text/plain": [
       "6446.813999999997"
      ]
     },
     "execution_count": 16,
     "metadata": {
      "tags": []
     },
     "output_type": "execute_result"
    }
   ],
   "source": [
    "cat='GS_식사'\n",
    "dat = gs_a_rank[['HDONG_NM',cat]].sort_values(by=(cat,'growth'),ascending=False)\n",
    "dat_sort_list = dat['HDONG_NM'].tolist()\n",
    "dat.index = dat['HDONG_NM']\n",
    "dat_g = pd.DataFrame(dat[[(cat,'growth')]].unstack().reset_index(drop=False).rename({0:'growth'},axis=1).drop(['level_0',\t'year'],axis=1))\n",
    "dat = dat.drop('HDONG_NM',axis=1).drop((cat,'growth'),axis=1).droplevel(0,axis=1).unstack().reset_index(drop=False).rename({0:'매출비중'},axis=1)\n",
    "dat.max().values[2]+100"
   ]
  },
  {
   "cell_type": "code",
   "execution_count": null,
   "metadata": {},
   "outputs": [],
   "source": [
    "def gr_cat_plot_sort(cat, gs_a_rank):\n",
    "\n",
    "  dat = gs_a_rank[['HDONG_NM',cat]].sort_values(by=(cat,'growth'),ascending=False)\n",
    "  dat_sort_list = dat['HDONG_NM'].tolist()\n",
    "  dat.index = dat['HDONG_NM']\n",
    "  dat_g = pd.DataFrame(dat[[(cat,'growth')]].unstack().reset_index(drop=False).rename({0:'growth'},axis=1).drop(['level_0',\t'year'],axis=1))\n",
    "  dat = dat.drop('HDONG_NM',axis=1).drop((cat,'growth'),axis=1).droplevel(0,axis=1).unstack().reset_index(drop=False).rename({0:'매출비중'},axis=1)\n",
    "\n",
    "  \n",
    "  plt.figure(figsize = (12,6))  \n",
    "  new_cat = cat[3:]\n",
    "  plt.title(new_cat + ' 매출액 변화 & 증감률',fontsize=20)\n",
    "  plt.bar(dat[dat.year==2019].index-0.2,dat[dat.year==2019].매출비중,width=0.4, color=['lightsteelblue']*5 + ['mistyrose']*15, label='2019')\n",
    "  plt.bar(dat[dat.year==2019].index+0.2,dat[dat.year==2020].매출비중,width=0.4, color=['#3d89be']*5 + ['crimson']*15,label='2020')\n",
    "  plt.xticks(np.array(range(15)),dat[dat.year==2019].HDONG_NM.to_list(),fontsize=12,rotation=35)\n",
    "  # plt.legend(['2019','2020'],ncol=2,loc='upper center')\n",
    "  plt.xlabel('행정동',size=12)\n",
    "  plt.ylabel('GS 매출 비중 * 매출지수',size=12)\n",
    "  ax2 = plt.twinx()  \n",
    "  ax2.axhline(y=0, xmin=0, xmax=1,color='grey',linestyle='--')\n",
    "  ax2.plot('HDONG_NM','growth',data = dat_g,\n",
    "            color='grey',marker='o',linestyle='--',linewidth=2,markerfacecolor='grey')\n",
    "  ax2.set_ylabel('증감률(%)',rotation=270)\n",
    "  ax2.yaxis.labelpad = 20\n",
    "  ax2.tick_params(axis='y', labelcolor='black')  \n",
    "    \n",
    "  plt.show()\n",
    "\n",
    "# 왼쪽 y = 카테고리별 19,20 비중 & 오른쪽 y = 비중 증감률\n",
    "### 비중 증감률 단순 sub 해도되는거 맞나 확인!\n",
    "for i in gs_list:\n",
    "  gr_cat_plot_sort(i,gs_a_rank)"
   ]
  }
 ],
 "metadata": {
  "colab": {
   "collapsed_sections": [],
   "name": "[GS25] 동별 매출지수,판매지수 분석",
   "provenance": [],
   "toc_visible": true
  },
  "kernelspec": {
   "display_name": "Python 3",
   "language": "python",
   "name": "python3"
  },
  "language_info": {
   "codemirror_mode": {
    "name": "ipython",
    "version": 3
   },
   "file_extension": ".py",
   "mimetype": "text/x-python",
   "name": "python",
   "nbconvert_exporter": "python",
   "pygments_lexer": "ipython3",
   "version": "3.6.10"
  }
 },
 "nbformat": 4,
 "nbformat_minor": 1
}