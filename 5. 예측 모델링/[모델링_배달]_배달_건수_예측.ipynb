{
 "cells": [
  {
   "cell_type": "code",
   "execution_count": null,
   "metadata": {
    "id": "UC39QzkO_o7C"
   },
   "outputs": [],
   "source": [
    "#!sudo apt-get install -y fonts-nanum\n",
    "#!sudo fc-cache -fv\n",
    "#!rm ~/.cache/matplotlib -rf"
   ]
  },
  {
   "cell_type": "code",
   "execution_count": null,
   "metadata": {
    "colab": {
     "base_uri": "https://localhost:8080/",
     "height": 36
    },
    "id": "f48uMB7ZAYvS",
    "outputId": "b98c8772-6cff-489f-e9f5-83581ece2fa8"
   },
   "outputs": [
    {
     "name": "stdout",
     "output_type": "stream",
     "text": [
      "Mounted at /content/gdrive\n"
     ]
    }
   ],
   "source": [
    "from google.colab import auth\n",
    "auth.authenticate_user()\n",
    "\n",
    "from google.colab import drive\n",
    "drive.mount('/content/gdrive')"
   ]
  },
  {
   "cell_type": "code",
   "execution_count": null,
   "metadata": {
    "colab": {
     "base_uri": "https://localhost:8080/",
     "height": 54
    },
    "id": "hk6KxNgYAgwt",
    "outputId": "51dd3b2e-a2a6-43ff-d2e1-17c3a886e4b9"
   },
   "outputs": [
    {
     "name": "stderr",
     "output_type": "stream",
     "text": [
      "/usr/local/lib/python3.6/dist-packages/statsmodels/tools/_testing.py:19: FutureWarning: pandas.util.testing is deprecated. Use the functions in the public API at pandas.testing instead.\n",
      "  import pandas.util.testing as tm\n"
     ]
    }
   ],
   "source": [
    "import numpy as np\n",
    "import pandas as pd\n",
    "import matplotlib.pyplot as plt\n",
    "import seaborn as sns\n",
    "\n",
    "from datetime import datetime as dt\n",
    "import warnings\n",
    " \n",
    "warnings.filterwarnings(\"ignore\")\n",
    "plt.rc('font', family='NanumBarunGothic') \n",
    "  \n",
    "\n",
    "from sklearn.model_selection import train_test_split\n",
    "\n",
    "%matplotlib inline"
   ]
  },
  {
   "cell_type": "markdown",
   "metadata": {
    "id": "VUfKwj9fP7HE"
   },
   "source": [
    "## 데이터"
   ]
  },
  {
   "cell_type": "code",
   "execution_count": null,
   "metadata": {
    "id": "5QgBe0FRA-_E"
   },
   "outputs": [],
   "source": [
    "# 통화 건 수\n",
    "delivery = pd.read_csv('./gdrive/My Drive/빅콘 대상팀/data/delivery/DELIVERY_FINAL_V1.csv', parse_dates=['일자'], encoding='cp949')\n",
    "# 날씨\n",
    "seoul_weather = pd.read_csv('./gdrive/My Drive/빅콘 대상팀/data/일별데이터/WEATHER_SEOUL.csv',parse_dates=['일시'])\n",
    "seoul_weather = seoul_weather.iloc[:,2:]\n",
    "seoul_weather.columns = ['STD_YMD','기온','최저기온','최고기온','일강수량']\n",
    "seoul_weather['일교차'] = seoul_weather['최고기온']-seoul_weather['최저기온']\n",
    "seoul_weather = seoul_weather.interpolate(method='values')  \n",
    "seoul_weather = seoul_weather.query('STD_YMD>=2020')\n",
    "# 미세먼지\n",
    "seoul_dust = pd.read_csv('./gdrive/My Drive/빅콘 대상팀/data/일별데이터/20미세먼지.csv',encoding='cp949',parse_dates=['date'])\n",
    "seoul_dust.columns=['STD_YMD','dust']\n",
    "# 공휴일\n",
    "seoul_holiday = pd.read_csv('./gdrive/My Drive/빅콘 대상팀/data/일별데이터/20holiday.csv',encoding='cp949',parse_dates=['date'])\n",
    "seoul_holiday.columns.values[0]='STD_YMD'"
   ]
  },
  {
   "cell_type": "code",
   "execution_count": null,
   "metadata": {
    "id": "S6AUj73iN20e"
   },
   "outputs": [],
   "source": [
    "# 데이터 합치기 \n",
    "delivery = pd.merge(delivery, search, left_on=['일자'], right_on=['STD_YMD'])\n",
    "other = pd.merge(pd.merge(seoul_weather, seoul_dust), seoul_holiday)\n",
    "data = pd.merge(delivery, other, left_on=['일자'], right_on=['STD_YMD'])\n",
    "\n",
    "data = data.drop(['시군구', 'STD_YMD_x', 'STD_YMD_y'], axis=1)"
   ]
  },
  {
   "cell_type": "code",
   "execution_count": null,
   "metadata": {
    "id": "0GB0Z3zad2c0"
   },
   "outputs": [],
   "source": [
    "# 데이터 전처리 \n",
    "from sklearn.preprocessing import MinMaxScaler\n",
    "scaler = MinMaxScaler()\n",
    "\n",
    "def minmax_scalar(X):\n",
    "  idx = X.index\n",
    "  col = X.columns\n",
    "\n",
    "  scalar = MinMaxScaler()\n",
    "  scaled_X = pd.DataFrame(scalar.fit_transform(X))\n",
    "  scaled_X.index = idx\n",
    "  scaled_X.columns = col\n",
    "\n",
    "  return scaled_X"
   ]
  },
  {
   "cell_type": "code",
   "execution_count": null,
   "metadata": {
    "id": "L6nLqACmQi8c"
   },
   "outputs": [],
   "source": [
    "data = data.groupby(['행정동', '일자']).mean()\n",
    "data = data[['통화건수', '기온', '최저기온', '최고기온', '일강수량', '일교차', 'dust']]\n",
    "data['y'] = data['통화건수']"
   ]
  },
  {
   "cell_type": "code",
   "execution_count": null,
   "metadata": {
    "id": "FOWmMoR4dcNR"
   },
   "outputs": [],
   "source": [
    "# 최종 데이터 \n",
    "data = data.reset_index(level=0)\n",
    "dong_list = list(data['행정동'].unique()) "
   ]
  },
  {
   "cell_type": "markdown",
   "metadata": {
    "id": "TlhuuHVsrN6n"
   },
   "source": [
    "## 모델링"
   ]
  },
  {
   "cell_type": "code",
   "execution_count": null,
   "metadata": {
    "id": "dLufRvSZSvZX"
   },
   "outputs": [],
   "source": [
    "import keras\n",
    "from keras.models import Sequential\n",
    "from keras.layers import Dense, SimpleRNN, LSTM, GRU, Bidirectional\n",
    "from keras.callbacks import EarlyStopping\n",
    "from keras.layers import Dense, Activation, Flatten\n",
    "from sklearn.metrics import mean_squared_log_error\n",
    "from sklearn.metrics import mean_absolute_error"
   ]
  },
  {
   "cell_type": "code",
   "execution_count": null,
   "metadata": {
    "id": "43O4tHGKl5J9"
   },
   "outputs": [],
   "source": [
    "# 시계열 데이터로 만들기 \n",
    "def split_xy3(dataset, time_steps, y_column):\n",
    "  x, y = list(), list()\n",
    "  for i in range(len(dataset)):\n",
    "    x_end_number = i + time_steps\n",
    "    y_end_number = x_end_number + y_column\n",
    "\n",
    "    if y_end_number > len(dataset):\n",
    "      break\n",
    "    tmp_x = np.array(dataset)[i:x_end_number, :]\n",
    "    tmp_y = np.array(dataset)[x_end_number:y_end_number, -1]\n",
    "    x.append(tmp_x)\n",
    "    y.append(tmp_y)\n",
    "  return np.array(x), np.array(y)\n",
    "data\n",
    "\n",
    "\n",
    "def RMSLE_fun(origin,pred):\n",
    "  rmsle = np.sqrt(mean_squared_log_error(origin+1, pred+1))\n",
    "  return rmsle\n",
    "\n",
    "# LSTM \n",
    "def LSTM_fun(data, timesteps):\n",
    "  X, y = split_xy3(dong_data, 7, 1)\n",
    "  X_train, y_train = X[:-7],y[:-7]\n",
    "  X_test, y_test = X[-7:],y[-7:]\n",
    "  X_test = X_test.reshape(1, 7, X_train.shape[2])\n",
    "  y_test = y_test.reshape(-1, 1)\n",
    "\n",
    "  model = Sequential()\n",
    "  model.add(LSTM(100, input_shape = (7, X_train.shape[2])))\n",
    "  #model.add(Dense(10))\n",
    "  model.add(Dense(1))\n",
    "\n",
    "  model.compile(optimizer='adam', loss='mse')\n",
    "  early_stopping = EarlyStopping(monitor='val_loss', patience=30, mode='min', restore_best_weights=True)\n",
    "  model.fit(X_train, y_train, epochs=5000, batch_size=32, verbose=0, callbacks=[early_stopping], validation_data = (X_test, y_test))\n",
    "\n",
    "  y_pred = model.predict(X_test, batch_size=1)\n",
    "  y_pred = y_pred.reshape(-1,1)\n",
    "\n",
    "  mse = np.mean((y_test-y_pred)**2)\n",
    "\n",
    "  return mse\n",
    "\n",
    "# GRU \n",
    "def GRU_fun(data,min,max, timesteps):\n",
    "  X, y = split_xy3(dong_data, 7, 1)\n",
    "  X_train, y_train = X[:-7],y[:-7]\n",
    "  X_test, y_test = X[-7:],y[-7:]\n",
    "  X_test = X_test.reshape(-1, 7, X_train.shape[2])\n",
    "  y_test = y_test.reshape(-1,1)\n",
    "\n",
    "  model = Sequential()\n",
    "  model.add(GRU(512, input_shape = (7, X_train.shape[2])))\n",
    "  model.add(Dense(100))\n",
    "  model.add(Dense(1))\n",
    "\n",
    "  model.compile(optimizer='adam', loss='mse')\n",
    "  early_stopping = EarlyStopping(monitor='val_loss', patience=30, mode='min', restore_best_weights=True)\n",
    "  model.fit(X_train, y_train, epochs=5000, batch_size=32, verbose=0, callbacks=[early_stopping], validation_data = (X_test, y_test))\n",
    "  model.save('./gdrive/My Drive/빅콘 대상팀/분석 code/GRU/delivery models/{}GRU.hdf5'.format(dong_list[i]))\n",
    "\n",
    "  y_pred = model.predict(X_test, batch_size=1)\n",
    "  #y_pred = y_pred.reshape(-1,1)*(max-min)+min\n",
    "  #y_test = y_test*(max-min)+min\n",
    "\n",
    "  mse = np.mean((y_test-y_pred)**2)\n",
    "  rmse = np.sqrt(mse)\n",
    "  mae = mean_absolute_error(y_test, y_pred)\n",
    "  rmsle = RMSLE_fun(np.array(y_test),np.array(y_pred))\n",
    "\n",
    "  return mse, rmse, mae, rmsle, y_pred"
   ]
  },
  {
   "cell_type": "code",
   "execution_count": null,
   "metadata": {
    "id": "vivhzK2cjQmJ"
   },
   "outputs": [],
   "source": [
    "MSE = [] \n",
    "RMSE = []\n",
    "MAE = []\n",
    "RMSLE = []\n",
    "pred = []\n",
    "\n",
    "for i in range(0, len(dong_list)):\n",
    "  dong_data = data[data['행정동'] == dong_list[i]]\n",
    "  dong_data = dong_data.iloc[:, 2:]\n",
    "  #print(dong_data.iloc[:, 1:])\n",
    "  dong_data = dong_data.dropna()\n",
    "  #min = dong_data['y'].min()\n",
    "  #max = dong_data['y'].max()\n",
    "  dong_data = minmax_scalar(dong_data)\n",
    "\n",
    "  mse, rmse, mae, rmlse, y_pred = GRU_fun(dong_data,min,max, 7)\n",
    "  #print()\n",
    "\n",
    "  MSE.append(mse)\n",
    "  RMSE.append(rmse)\n",
    "  MAE.append(mae)\n",
    "  RMSLE.append(rmlse)\n",
    "  pred.append(y_pred)"
   ]
  },
  {
   "cell_type": "code",
   "execution_count": null,
   "metadata": {
    "colab": {
     "base_uri": "https://localhost:8080/",
     "height": 764
    },
    "id": "5mf13fKRkTgu",
    "outputId": "aa1677ad-cb80-4ad0-fdbf-9f1111c06af1"
   },
   "outputs": [
    {
     "name": "stdout",
     "output_type": "stream",
     "text": [
      "      dong       MSE      RMSE       MAE     RMSLE\n",
      "0     공릉1동  0.005217  0.072231  0.062240  0.032879\n",
      "1     공릉2동  0.005446  0.073795  0.064611  0.033909\n",
      "2      광희동  0.000049  0.007002  0.004849  0.003514\n",
      "3      다산동  0.001945  0.044100  0.038905  0.017260\n",
      "4      동화동  0.003485  0.059033  0.053544  0.024270\n",
      "5       명동  0.012569  0.112110  0.094814  0.045979\n",
      "6    상계10동  0.003213  0.056687  0.042266  0.023660\n",
      "7     상계1동  0.002612  0.051105  0.044639  0.020361\n",
      "8     상계2동  0.003921  0.062615  0.048642  0.025968\n",
      "9   상계3.4동  0.001765  0.042015  0.034643  0.017442\n",
      "10    상계5동  0.002562  0.050617  0.045507  0.021328\n",
      "11  상계6.7동  0.001891  0.043490  0.032697  0.017562\n",
      "12    상계8동  0.002130  0.046147  0.034821  0.020835\n",
      "13    상계9동  0.002991  0.054693  0.043025  0.021996\n",
      "14     소공동  0.033452  0.182898  0.161767  0.073103\n",
      "15    신당5동  0.002539  0.050385  0.042715  0.019430\n",
      "16     신당동  0.004310  0.065651  0.058671  0.025800\n",
      "17     약수동  0.002600  0.050989  0.038374  0.019172\n",
      "18    월계1동  0.046322  0.215225  0.178971  0.095926\n",
      "19    월계2동  0.043788  0.209255  0.176349  0.093418\n",
      "20    월계3동  0.047417  0.217755  0.170810  0.096785\n",
      "21    을지로동  0.076645  0.276848  0.224446  0.117170\n",
      "22     장충동  0.007592  0.087135  0.066589  0.037952\n",
      "23    중계1동  0.002047  0.045242  0.038100  0.019826\n",
      "24  중계2.3동  0.003140  0.056036  0.046538  0.024169\n",
      "25    중계4동  0.002741  0.052359  0.041084  0.022409\n",
      "26    중계본동  0.005258  0.072510  0.059336  0.031984\n",
      "27     중림동  0.000094  0.009672  0.008824  0.004837\n",
      "28     청구동  0.001490  0.038607  0.031743  0.015819\n",
      "29      필동  0.012321  0.111002  0.090465  0.044200\n",
      "30    하계1동  0.026452  0.162642  0.129845  0.064407\n",
      "31    하계2동  0.028618  0.169168  0.136315  0.067243\n",
      "32     황학동  0.008064  0.089800  0.081204  0.042777\n",
      "33     회현동  0.023103  0.151996  0.132544  0.064624\n"
     ]
    },
    {
     "data": {
      "text/plain": [
       "MSE      0.012582\n",
       "RMSE     0.090906\n",
       "MAE      0.075291\n",
       "RMSLE    0.038471\n",
       "dtype: float64"
      ]
     },
     "execution_count": 25,
     "metadata": {
      "tags": []
     },
     "output_type": "execute_result"
    }
   ],
   "source": [
    "GRU_result = pd.DataFrame({'dong':dong_list,\n",
    "              'MSE':MSE,\n",
    "              'RMSE':RMSE,\n",
    "              'MAE':MAE,\n",
    "              'RMSLE':RMSLE})\n",
    "print(GRU_result)\n",
    "GRU_result.mean()"
   ]
  }
 ],
 "metadata": {
  "accelerator": "GPU",
  "colab": {
   "collapsed_sections": [],
   "name": "[모델링_배달] 배달 건수 예측",
   "provenance": []
  },
  "kernelspec": {
   "display_name": "Python 3",
   "language": "python",
   "name": "python3"
  },
  "language_info": {
   "codemirror_mode": {
    "name": "ipython",
    "version": 3
   },
   "file_extension": ".py",
   "mimetype": "text/x-python",
   "name": "python",
   "nbconvert_exporter": "python",
   "pygments_lexer": "ipython3",
   "version": "3.6.10"
  }
 },
 "nbformat": 4,
 "nbformat_minor": 1
}