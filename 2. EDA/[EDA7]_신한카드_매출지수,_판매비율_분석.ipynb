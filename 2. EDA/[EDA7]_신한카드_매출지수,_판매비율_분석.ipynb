{
 "cells": [
  {
   "cell_type": "code",
   "execution_count": null,
   "metadata": {
    "id": "cECdiZLEPKaM"
   },
   "outputs": [],
   "source": [
    "# from google.colab import auth\n",
    "# auth.authenticate_user()\n",
    "\n",
    "# from google.colab import drive\n",
    "# drive.mount('/content/gdrive')"
   ]
  },
  {
   "cell_type": "code",
   "execution_count": null,
   "metadata": {
    "id": "OGOWzqq9Pjpa"
   },
   "outputs": [],
   "source": [
    "# !sudo apt-get install -y fonts-nanum\n",
    "# !sudo fc-cache -fv\n",
    "# !rm ~/.cache/matplotlib -rf"
   ]
  },
  {
   "cell_type": "code",
   "execution_count": null,
   "metadata": {
    "colab": {
     "base_uri": "https://localhost:8080/",
     "height": 73
    },
    "id": "HEbhtOGsQQ9r",
    "outputId": "7a532e8a-90b4-4929-90f8-2cbe4e379e92"
   },
   "outputs": [
    {
     "name": "stderr",
     "output_type": "stream",
     "text": [
      "/usr/local/lib/python3.6/dist-packages/statsmodels/tools/_testing.py:19: FutureWarning: pandas.util.testing is deprecated. Use the functions in the public API at pandas.testing instead.\n",
      "  import pandas.util.testing as tm\n"
     ]
    }
   ],
   "source": [
    "import numpy as np\n",
    "import pandas as pd\n",
    "import matplotlib.pyplot as plt\n",
    "import seaborn as sns\n",
    "\n",
    "from datetime import datetime as dt\n",
    "import warnings\n",
    " \n",
    "warnings.filterwarnings(\"ignore\")\n",
    "plt.rc('font', family='NanumBarunGothic') \n",
    "\n",
    "%matplotlib inline\n",
    "\n",
    "from sklearn import datasets, linear_model\n",
    "from sklearn.linear_model import LinearRegression\n",
    "import statsmodels.api as sm\n",
    "from scipy import stats"
   ]
  },
  {
   "cell_type": "code",
   "execution_count": null,
   "metadata": {
    "id": "nobWZo4vQRAY"
   },
   "outputs": [],
   "source": [
    "scr =  pd.read_csv('./gdrive/My Drive/빅콘 대상팀/data/SC/CARD_SPENDING_RESIDENT.txt', sep='\\t')\n",
    "dong = pd.read_csv('./gdrive/My Drive/빅콘 대상팀/data/지역데이터/전체동별클러스터링.csv', sep = ',', encoding='UTF-8')\n",
    "dong_cd = pd.read_csv('./gdrive/My Drive/빅콘 대상팀/data/SC/SC동코드변환.csv', sep = ',',encoding='UTF-8')\n",
    "SCR = scr"
   ]
  },
  {
   "cell_type": "code",
   "execution_count": null,
   "metadata": {
    "id": "l59Poa0uQRGB"
   },
   "outputs": [],
   "source": [
    "#카테고리 이름 바꾸기(구, 업종별) ...자동화 하고싶다고요 했고요!!!\n",
    "# 코드 -> 이름으로 바꾸는 함수 : name_a_to_b\n",
    "# scr = SCR\n",
    "def name_a_to_b(data,col,a,b):\n",
    "  data = data.replace({col:a}, {col:b}, inplace=True)\n",
    "  return(data)\n",
    "\n",
    "# 카테고리 코드 -> 이름\n",
    "cat_code = [10,20,21,22,30,31,32,33,34,35,40,42,43,44,50,52,60,62,70,71,80,81,92]\n",
    "cat_name = ['숙박','레저용품','레저업소','문화취미','가구','전기','주방용구',\n",
    "            '연료판매','광학제품','가전','유통업','의복','직물','신변잡화','서적문구','사무통신',\n",
    "            '자동차판매','자동차정비','의료기관','보건위생','요식업소','음료식품','수리서비스']\n",
    "for i in range(len(cat_code)):\n",
    "  name_a_to_b(scr,'MCT_CAT_CD',cat_code[i],cat_name[i])\n",
    "\n",
    "# # 시구 및 동 이름 추가\n",
    "scr = pd.merge(scr, dong_cd, left_on=['GU_CD', 'DONG_CD'], right_on=['GU_CD', 'HDONG_CD'])\n",
    "scr = scr.drop(['GU_CD', 'DONG_CD'], axis=1)\n",
    "# 날짜 형식으로 변환(int->str->date)\n",
    "scr.STD_DD = pd.to_datetime(scr['STD_DD'].astype(str), format='%Y%m%d',infer_datetime_format=True)\n",
    "scr['AGE_CD'] = scr['AGE_CD'].astype('category')\n",
    "scr['HDONG_CD'] = scr['HDONG_CD'].astype('category')\n",
    "# 서울만\n",
    "scr = scr.query(\"GU_NM in ['서울 중구', '서울 노원구']\")\n",
    "SCR = scr\n",
    "# # 클러스터링 추가\n",
    "# scr = pd.merge(scr, dong, left_on='HDONG_NM', right_on='HDONG_NM')"
   ]
  },
  {
   "cell_type": "markdown",
   "metadata": {
    "id": "B2NOu94wM2Cz"
   },
   "source": [
    "# **1. 전체 카테고리별 매출 분석**"
   ]
  },
  {
   "cell_type": "markdown",
   "metadata": {
    "id": "pz7k5UbBNCvb"
   },
   "source": [
    "##카테고리별 매출 순위 (2019,2020)"
   ]
  },
  {
   "cell_type": "code",
   "execution_count": null,
   "metadata": {
    "id": "v-9rKlmNk_PP"
   },
   "outputs": [],
   "source": [
    "scr_a = scr.groupby(['STD_DD','MCT_CAT_CD']).sum()\n",
    "scr19 = scr.reset_index().query(\"'2019-02-01' <= STD_DD <= '2019-05-31'\").groupby(['MCT_CAT_CD']).sum().sort_values(by='USE_AMT',ascending=False)\n",
    "scr20 = scr.reset_index().query(\"'2020-02-01' <= STD_DD <= '2020-05-31'\").groupby(['MCT_CAT_CD']).sum().sort_values(by='USE_AMT',ascending=False)"
   ]
  },
  {
   "cell_type": "code",
   "execution_count": null,
   "metadata": {
    "colab": {
     "base_uri": "https://localhost:8080/",
     "height": 163
    },
    "id": "srtWyOLJNFoJ",
    "outputId": "d84751fa-a3d2-4af1-c9ef-8f649ce57f70"
   },
   "outputs": [
    {
     "name": "stdout",
     "output_type": "stream",
     "text": [
      "<<연도별 이용금액 순위>>\n",
      "['유통업', '요식업소', '의료기관', '레저용품', '보건위생', '의복', '숙박', '연료판매', '음료식품', '레저업소', '사무통신', '가전', '서적문구', '자동차정비', '신변잡화', '문화취미', '주방용구', '광학제품', '직물', '수리서비스', '가구', '자동차판매', '전기']\n",
      "['유통업', '요식업소', '의료기관', '레저용품', '보건위생', '음료식품', '연료판매', '의복', '숙박', '레저업소', '사무통신', '가전', '서적문구', '자동차정비', '신변잡화', '문화취미', '주방용구', '가구', '수리서비스', '직물', '광학제품', '자동차판매', '전기']\n",
      "\n",
      "<<연도별 이용건수 순위>>\n",
      "['요식업소', '유통업', '의료기관', '음료식품', '사무통신', '레저업소', '보건위생', '자동차정비', '연료판매', '서적문구', '레저용품', '의복', '문화취미', '숙박', '신변잡화', '수리서비스', '가전', '광학제품', '주방용구', '직물', '가구', '자동차판매', '전기']\n",
      "['유통업', '요식업소', '의료기관', '레저용품', '보건위생', '음료식품', '연료판매', '의복', '숙박', '레저업소', '사무통신', '가전', '서적문구', '자동차정비', '신변잡화', '문화취미', '주방용구', '가구', '수리서비스', '직물', '광학제품', '자동차판매', '전기']\n"
     ]
    }
   ],
   "source": [
    "print(\"<<연도별 이용금액 순위>>\")\n",
    "print(list(scr19.index))\n",
    "print(list(scr20.index))\n",
    "print(\"\\n<<연도별 이용건수 순위>>\")\n",
    "print(list(scr19.sort_values(by='USE_CNT',ascending=False).index))\n",
    "print(list(scr20.sort_values(by='USE_AMT',ascending=False).index))"
   ]
  },
  {
   "cell_type": "code",
   "execution_count": null,
   "metadata": {
    "colab": {
     "base_uri": "https://localhost:8080/",
     "height": 35
    },
    "id": "luNsfxdcI669",
    "outputId": "f76a1d26-7d93-49e9-cf95-70fb2d647fec"
   },
   "outputs": [
    {
     "data": {
      "text/plain": [
       "0.6325337787768428"
      ]
     },
     "execution_count": 8,
     "metadata": {
      "tags": []
     },
     "output_type": "execute_result"
    }
   ],
   "source": [
    "# 요식업소, 유통업 비중\n",
    "scr.groupby(['MCT_CAT_CD']).sum().loc[:,'USE_CNT'][['유통업','요식업소']].sum()/scr.groupby(['MCT_CAT_CD']).sum().loc[:,'USE_CNT'].sum()\n",
    "scr.groupby(['MCT_CAT_CD']).sum().loc[:,'USE_AMT'][['유통업','요식업소']].sum()/scr.groupby(['MCT_CAT_CD']).sum().loc[:,'USE_AMT'].sum()"
   ]
  },
  {
   "cell_type": "code",
   "execution_count": null,
   "metadata": {
    "id": "seiScepawDhY"
   },
   "outputs": [],
   "source": [
    "cat_dict_amt = scr19.reset_index().MCT_CAT_CD.to_dict()\n",
    "scr19['CAT_CD_AMT']=range(len(scr19)) ; scr20['CAT_CD_AMT']=0\n",
    "cat_dict_amt = {v:k for k,v in cat_dict_amt.items()} \n",
    "for k,v in cat_dict_amt.items():\n",
    "  scr20.loc[k].loc['CAT_CD_AMT'] = v"
   ]
  },
  {
   "cell_type": "code",
   "execution_count": null,
   "metadata": {},
   "outputs": [],
   "source": [
    "# 증감률\n",
    "# 설날 2019 2월 4,5,6일 보정\n",
    "scr_g = scr.groupby(['STD_DD','MCT_CAT_CD']).sum().fillna(0).unstack()\n",
    "for i in ['USE_CNT','USE_AMT']:\n",
    "  scr_g.xs(i,axis=1,level=0).loc['2019-02-04'] = (scr_g.xs(i,axis=1,level=0).loc['2019-02-11']+scr_g.xs(i,axis=1,level=0).loc['2019-02-18'])/2\n",
    "  scr_g.xs(i,axis=1,level=0).loc['2019-02-05'] = (scr_g.xs(i,axis=1,level=0).loc['2019-02-12']+scr_g.xs(i,axis=1,level=0).loc['2019-02-19'])/2\n",
    "  scr_g.xs(i,axis=1,level=0).loc['2019-02-06'] = (scr_g.xs(i,axis=1,level=0).loc['2019-02-13']+scr_g.xs(i,axis=1,level=0).loc['2019-02-20'])/2\n",
    "  \n",
    "scr_g = scr_g.reset_index(drop=False)\n",
    "scr_g = scr_g[scr_g.STD_DD != '2019-02-01'] ; scr_g = scr_g[scr_g.STD_DD != '2020-05-30'] ; scr_g = scr_g[scr_g.STD_DD != '2020-05-31'] \n",
    "scr_g = scr_g.set_index('STD_DD').stack()\n",
    "\n",
    "scr_gr19 = scr_g.unstack().loc['2019-02-01':'2019-05-31',:]\n",
    "scr_gr20 = scr_g.unstack().loc['2020-02-01':'2020-05-31',:]\n",
    "\n",
    "scr_gr = pd.DataFrame((scr_gr20.sum() - scr_gr19.sum())/scr_gr19.sum()*100).rename(columns ={0:'증감률'}).T"
   ]
  },
  {
   "cell_type": "code",
   "execution_count": null,
   "metadata": {},
   "outputs": [],
   "source": [
    "scr_gr.xs('USE_AMT',axis=1,level=0)\n",
    "scr_gr.xs('USE_CNT',axis=1,level=0)"
   ]
  },
  {
   "cell_type": "code",
   "execution_count": null,
   "metadata": {
    "colab": {
     "base_uri": "https://localhost:8080/",
     "height": 35
    },
    "id": "4hhKo83N5MaA",
    "outputId": "b4840d70-29d7-4e5e-949e-2f9f5df02d90"
   },
   "outputs": [
    {
     "data": {
      "text/plain": [
       "-19.752267200463354"
      ]
     },
     "execution_count": 12,
     "metadata": {
      "tags": []
     },
     "output_type": "execute_result"
    }
   ],
   "source": [
    "scr_gr.xs('USE_AMT',axis=1,level=0)[['유통업', '요식업소', '의료기관', '레저용품', '보건위생', '의복', '숙박', '연료판매', '음료식품', '레저업소']].values.mean()\n",
    "scr_gr.xs('USE_CNT',axis=1,level=0)[['유통업', '요식업소', '의료기관', '레저용품', '보건위생', '의복', '숙박', '연료판매', '음료식품', '레저업소']].values.mean()"
   ]
  },
  {
   "cell_type": "markdown",
   "metadata": {
    "id": "8qpPXgv1M761"
   },
   "source": [
    "## 카테고리별 이용금액, 이용건수 그래프"
   ]
  },
  {
   "cell_type": "code",
   "execution_count": null,
   "metadata": {},
   "outputs": [],
   "source": [
    "fig, (ax1, ax2) = plt.subplots(1,2, figsize=(14, 3))\n",
    "plt.subplots_adjust(wspace = 0.05) # hspace = 0.2\n",
    "\n",
    "dat_a19=scr19[:11]\n",
    "dat_a20=scr20[:11]\n",
    "ax1.bar(dat_a19.CAT_CD_AMT-0.2, dat_a19.USE_AMT, width=0.4, color = 'lightgrey', label=\"2019\")\n",
    "ax1.bar(dat_a20.CAT_CD_AMT+0.2, dat_a20.USE_AMT, width=0.4, label=\"2020\")\n",
    "ax1.set_title('신한카드 카테고리별 이용금액(TOP3)', fontsize=20)\n",
    "ax1.legend(prop={'size': 12})\n",
    "for i in range(2):\n",
    "  ax1.plot([i-0.2,i+0.2],(dat_a19.USE_AMT[i],dat_a20.USE_AMT[i]),marker='o',color='r',linestyle='--',markersize=5)\n",
    "  ax1.text(x=i+0.1,y=dat_a20.USE_AMT[i]+50000000,s=(str(round(scr_gr.xs('USE_AMT',axis=1,level=0)[['유통업','요식업소']].iloc[0,i],1))+'%'),color='r',fontsize=13)\n",
    "ax1.set_xticks(np.array(range(10)))\n",
    "ax1.set_xticklabels(dat_a19.CAT_CD_AMT.index.to_list()[:3],fontsize=12,rotation=20)\n",
    "\n",
    "\n",
    "print(scr19.sort_values(by='USE_CNT',ascending=False)[:10].index)\n",
    "print(scr20.sort_values(by='USE_CNT',ascending=False)[:10].index)\n",
    "scr_cnt_dict = {'요식업소':0, '유통업':1, '의료기관':2, '음료식품':3, '사무통신':4, '레저업소':5, '보건위생':6, '자동차정비':7, '연료판매':8,\n",
    "                '서적문구':9,'레저용품':10}\n",
    "dat_c19 = scr19.loc[list(scr_cnt_dict.keys()),:]\n",
    "dat_c20 = scr20.loc[list(scr_cnt_dict.keys()),:]\n",
    "dat_c19['CAT_CD_CNT'] = range(len(dat_c19))\n",
    "dat_c20['CAT_CD_CNT'] = range(len(dat_c20))\n",
    "ax2.bar(dat_c19.CAT_CD_CNT-0.2, dat_c19.USE_CNT, width=0.4, color = 'lightgrey', label=\"2019\")\n",
    "ax2.bar(dat_c20.CAT_CD_CNT+0.2, dat_c20.USE_CNT, width=0.4, label=\"2020\")[2].set_color('crimson')\n",
    "for i in range(2):\n",
    "  ax2.plot([i-0.2,i+0.2],(dat_c19.USE_CNT[i],dat_c20.USE_CNT[i]),marker='o',color='r',linestyle='--',markersize=5)\n",
    "  ax2.text(x=i+0.1,y=dat_c20.USE_CNT[i]+1500000,s=(str(round(scr_gr.xs('USE_CNT',axis=1,level=0)[['요식업소','유통업']].iloc[0,i],1))+'%'),color='r',fontsize=13)\n",
    "\n",
    "ax2.set_title('신한카드 카테고리별 이용건수(TOP10)', fontsize=20)\n",
    "ax2.legend(prop={'size': 12})\n",
    "ax2.set_xticks(np.array(range(11)))\n",
    "ax2.set_xticklabels(list(scr_cnt_dict.keys())[:3],fontsize=12,rotation=20)"
   ]
  },
  {
   "cell_type": "markdown",
   "metadata": {
    "id": "SJbabjUMOPZO"
   },
   "source": [
    "## 카테고리별 이용금액, 이용건수 그래프 (TOP3)"
   ]
  },
  {
   "cell_type": "code",
   "execution_count": null,
   "metadata": {},
   "outputs": [],
   "source": [
    "fig, (ax1, ax2) = plt.subplots(1,2, figsize=(12, 3))\n",
    "plt.subplots_adjust(wspace = 0.08, hspace = 1) # hspace = 0.2\n",
    "\n",
    "ax1.bar(dat_a19[:3].CAT_CD_AMT-0.2, dat_a19[:3].USE_AMT, width=0.4, color = 'lightgrey', label=\"2019\")\n",
    "ax1.bar(dat_a20[:3].CAT_CD_AMT+0.2, dat_a20[:3].USE_AMT, width=0.4, label=\"2020\")\n",
    "ax1.set_title('신한카드 카테고리별 이용금액(TOP3)', fontsize=20,pad=15)\n",
    "ax1.legend(prop={'size': 12})\n",
    "ax1.set_xticks(np.array(range(3)))\n",
    "ax1.set_xticklabels(dat_a19[:3].CAT_CD_AMT.index.to_list(),fontsize=12)\n",
    "\n",
    "ax2.bar(dat_c19[:3].CAT_CD_CNT-0.2, dat_c19[:3].USE_CNT, width=0.4, color = 'lightgrey', label=\"2019\")\n",
    "ax2.bar(dat_c20[:3].CAT_CD_CNT+0.2, dat_c20[:3].USE_CNT, width=0.4, label=\"2020\")[2].set_color('crimson')\n",
    "ax2.set_title('신한카드 카테고리별 이용건수(TOP3)', fontsize=20,pad=15)\n",
    "ax2.legend(prop={'size': 12})\n",
    "ax2.set_xticks(np.array(range(3)))\n",
    "ax2.set_xticklabels(list(scr_cnt_dict.keys()),fontsize=11)"
   ]
  },
  {
   "cell_type": "markdown",
   "metadata": {
    "id": "nYqAw_54OSaa"
   },
   "source": [
    "## 카테고리별 이용금액, 이용건수 그래프 (나머지)"
   ]
  },
  {
   "cell_type": "code",
   "execution_count": null,
   "metadata": {},
   "outputs": [],
   "source": [
    "fig, (ax1, ax2) = plt.subplots(1,2, figsize=(12, 3))\n",
    "plt.subplots_adjust(wspace = 0.08, hspace = 0.2) # hspace = 0.2\n",
    "\n",
    "ax1.bar(dat_a19[3:].CAT_CD_AMT-0.2, dat_a19[3:].USE_AMT, width=0.4, color = 'lightgrey', label=\"2019\")\n",
    "ax1.bar(dat_a20[3:].CAT_CD_AMT+0.2, dat_a20[3:].USE_AMT, width=0.4, label=\"2020\")[2].set_color('crimson')\n",
    "ax1.set_title('신한카드 카테고리별 이용금액', fontsize=20,pad=15)\n",
    "ax1.set_xticks(np.array(range(7))+3)\n",
    "ax1.set_xticklabels(dat_a19[3:].CAT_CD_AMT.index.to_list(),fontsize=12, rotation=25)\n",
    "\n",
    "ax2.bar(dat_c19[3:].CAT_CD_CNT-0.2, dat_c19[3:].USE_CNT, width=0.4, color = 'lightgrey', label=\"2019\")\n",
    "ax2.bar(dat_c20[3:].CAT_CD_CNT+0.2, dat_c20[3:].USE_CNT, width=0.4, label=\"2020\")\n",
    "ax2.set_title('신한카드 카테고리별 이용건수', fontsize=20,pad=15)\n",
    "ax2.legend(prop={'size': 10})\n",
    "ax2.set_xticks(np.array(range(8))+3)\n",
    "ax2.set_xticklabels(list(scr_cnt_dict.keys())[3:],fontsize=12, rotation=25)"
   ]
  },
  {
   "cell_type": "markdown",
   "metadata": {
    "id": "EhsppziWOiLD"
   },
   "source": [
    "## 카테고리별 매출 증감률 순위"
   ]
  },
  {
   "cell_type": "code",
   "execution_count": null,
   "metadata": {
    "colab": {
     "base_uri": "https://localhost:8080/",
     "height": 148
    },
    "id": "Xmf-MOLC6Qjn",
    "outputId": "dce151b8-0352-4802-ad5b-73008b73e0d3"
   },
   "outputs": [
    {
     "data": {
      "text/html": [
       "<div>\n",
       "<style scoped>\n",
       "    .dataframe tbody tr th:only-of-type {\n",
       "        vertical-align: middle;\n",
       "    }\n",
       "\n",
       "    .dataframe tbody tr th {\n",
       "        vertical-align: top;\n",
       "    }\n",
       "\n",
       "    .dataframe thead tr th {\n",
       "        text-align: left;\n",
       "    }\n",
       "</style>\n",
       "<table border=\"1\" class=\"dataframe\">\n",
       "  <thead>\n",
       "    <tr>\n",
       "      <th></th>\n",
       "      <th colspan=\"23\" halign=\"left\">USE_AMT</th>\n",
       "      <th colspan=\"23\" halign=\"left\">USE_CNT</th>\n",
       "    </tr>\n",
       "    <tr>\n",
       "      <th>MCT_CAT_CD</th>\n",
       "      <th>가구</th>\n",
       "      <th>가전</th>\n",
       "      <th>광학제품</th>\n",
       "      <th>레저업소</th>\n",
       "      <th>레저용품</th>\n",
       "      <th>문화취미</th>\n",
       "      <th>보건위생</th>\n",
       "      <th>사무통신</th>\n",
       "      <th>서적문구</th>\n",
       "      <th>수리서비스</th>\n",
       "      <th>숙박</th>\n",
       "      <th>신변잡화</th>\n",
       "      <th>연료판매</th>\n",
       "      <th>요식업소</th>\n",
       "      <th>유통업</th>\n",
       "      <th>음료식품</th>\n",
       "      <th>의료기관</th>\n",
       "      <th>의복</th>\n",
       "      <th>자동차정비</th>\n",
       "      <th>자동차판매</th>\n",
       "      <th>전기</th>\n",
       "      <th>주방용구</th>\n",
       "      <th>직물</th>\n",
       "      <th>가구</th>\n",
       "      <th>가전</th>\n",
       "      <th>광학제품</th>\n",
       "      <th>레저업소</th>\n",
       "      <th>레저용품</th>\n",
       "      <th>문화취미</th>\n",
       "      <th>보건위생</th>\n",
       "      <th>사무통신</th>\n",
       "      <th>서적문구</th>\n",
       "      <th>수리서비스</th>\n",
       "      <th>숙박</th>\n",
       "      <th>신변잡화</th>\n",
       "      <th>연료판매</th>\n",
       "      <th>요식업소</th>\n",
       "      <th>유통업</th>\n",
       "      <th>음료식품</th>\n",
       "      <th>의료기관</th>\n",
       "      <th>의복</th>\n",
       "      <th>자동차정비</th>\n",
       "      <th>자동차판매</th>\n",
       "      <th>전기</th>\n",
       "      <th>주방용구</th>\n",
       "      <th>직물</th>\n",
       "    </tr>\n",
       "  </thead>\n",
       "  <tbody>\n",
       "    <tr>\n",
       "      <th>증감률</th>\n",
       "      <td>12.549672</td>\n",
       "      <td>-26.959874</td>\n",
       "      <td>-27.195941</td>\n",
       "      <td>-22.062864</td>\n",
       "      <td>-19.645869</td>\n",
       "      <td>-22.418996</td>\n",
       "      <td>-26.501166</td>\n",
       "      <td>-17.508751</td>\n",
       "      <td>-26.046683</td>\n",
       "      <td>3.970086</td>\n",
       "      <td>-36.244723</td>\n",
       "      <td>-30.980384</td>\n",
       "      <td>-22.296658</td>\n",
       "      <td>-16.660179</td>\n",
       "      <td>-14.532141</td>\n",
       "      <td>3.49215</td>\n",
       "      <td>-8.361045</td>\n",
       "      <td>-45.335024</td>\n",
       "      <td>-21.261469</td>\n",
       "      <td>18.492646</td>\n",
       "      <td>5.787963</td>\n",
       "      <td>-12.01796</td>\n",
       "      <td>-8.214239</td>\n",
       "      <td>-15.776576</td>\n",
       "      <td>-29.337882</td>\n",
       "      <td>-21.506279</td>\n",
       "      <td>-10.294587</td>\n",
       "      <td>-22.574793</td>\n",
       "      <td>-36.967002</td>\n",
       "      <td>-34.726269</td>\n",
       "      <td>-32.949334</td>\n",
       "      <td>-40.511824</td>\n",
       "      <td>-6.87661</td>\n",
       "      <td>-27.166559</td>\n",
       "      <td>-40.923392</td>\n",
       "      <td>-21.937286</td>\n",
       "      <td>-12.110812</td>\n",
       "      <td>-17.71859</td>\n",
       "      <td>-6.573748</td>\n",
       "      <td>3.088988</td>\n",
       "      <td>-47.509017</td>\n",
       "      <td>-40.307872</td>\n",
       "      <td>11.581757</td>\n",
       "      <td>29.235936</td>\n",
       "      <td>2.295583</td>\n",
       "      <td>-11.796914</td>\n",
       "    </tr>\n",
       "  </tbody>\n",
       "</table>\n",
       "</div>"
      ],
      "text/plain": [
       "              USE_AMT                        ...    USE_CNT                     \n",
       "MCT_CAT_CD         가구         가전       광학제품  ...         전기      주방용구         직물\n",
       "증감률         12.549672 -26.959874 -27.195941  ...  29.235936  2.295583 -11.796914\n",
       "\n",
       "[1 rows x 46 columns]"
      ]
     },
     "execution_count": 16,
     "metadata": {
      "tags": []
     },
     "output_type": "execute_result"
    }
   ],
   "source": [
    "# 설날 2019 2월 4,5,6일 보정\n",
    "scr_g = scr.groupby(['STD_DD','MCT_CAT_CD']).sum().fillna(0).unstack()\n",
    "for i in ['USE_CNT','USE_AMT']:\n",
    "  scr_g.xs(i,axis=1,level=0).loc['2019-02-04'] = (scr_g.xs(i,axis=1,level=0).loc['2019-02-11']+scr_g.xs(i,axis=1,level=0).loc['2019-02-18'])/2\n",
    "  scr_g.xs(i,axis=1,level=0).loc['2019-02-05'] = (scr_g.xs(i,axis=1,level=0).loc['2019-02-12']+scr_g.xs(i,axis=1,level=0).loc['2019-02-19'])/2\n",
    "  scr_g.xs(i,axis=1,level=0).loc['2019-02-06'] = (scr_g.xs(i,axis=1,level=0).loc['2019-02-13']+scr_g.xs(i,axis=1,level=0).loc['2019-02-20'])/2\n",
    "  \n",
    "scr_g = scr_g.reset_index(drop=False)\n",
    "scr_g = scr_g[scr_g.STD_DD != '2019-02-01'] ; scr_g = scr_g[scr_g.STD_DD != '2020-05-30'] ; scr_g = scr_g[scr_g.STD_DD != '2020-05-31'] \n",
    "scr_g = scr_g.set_index('STD_DD').stack()\n",
    "\n",
    "scr_gr19 = scr_g.unstack().loc['2019-02-01':'2019-05-31',:]\n",
    "scr_gr20 = scr_g.unstack().loc['2020-02-01':'2020-05-31',:]\n",
    "\n",
    "scr_gr = pd.DataFrame((scr_gr20.sum() - scr_gr19.sum())/scr_gr19.sum()*100).rename(columns ={0:'증감률'}).T\n",
    "scr_gr"
   ]
  },
  {
   "cell_type": "code",
   "execution_count": null,
   "metadata": {},
   "outputs": [],
   "source": [
    "# 전체 데이터 주차별 성장률 그래프\n",
    "\n",
    "fig, (ax1, ax2) = plt.subplots(1,2, figsize=(20, 6))\n",
    "plt.subplots_adjust(wspace = 0.05) # hspace = 0.2\n",
    "\n",
    "ax1.bar(scr_gr.xs('USE_AMT',axis=1,level=0).T.sort_values(by='증감률',ascending=False).index,scr_gr.xs('USE_AMT',axis=1,level=0).T.sort_values(by='증감률',ascending=False).증감률, width=0.9)\n",
    "ax1.set_xlim(-0.8,22.8)\n",
    "ax1.set_ylim(-50,31)\n",
    "ax1.set_xticklabels(scr_gr.xs('USE_AMT',axis=1,level=0).T.sort_values(by='증감률',ascending=False).index,rotation=35)\n",
    "ax1.set_title('신한카드 카테고리별 이용금액 증감률(%)', fontsize=20)\n",
    "ax1.axhline(y=0, color='r',linestyle='--')\n",
    "\n",
    "ax2.bar(scr_gr.xs('USE_CNT',axis=1,level=0).T.sort_values(by='증감률',ascending=False).index,scr_gr.xs('USE_CNT',axis=1,level=0).T.sort_values(by='증감률',ascending=False).증감률, width=0.9)\n",
    "ax2.set_xlim(-0.8,22.8)\n",
    "ax2.set_ylim(-50,31)\n",
    "ax2.set_xticklabels(scr_gr.xs('USE_CNT',axis=1,level=0).T.sort_values(by='증감률',ascending=False).index,rotation=35)\n",
    "ax2.axhline(y=0, color='r',linestyle='--')\n",
    "ax2.set_title('신한카드 카테고리별 이용건수 증감률(%)', fontsize=20)\n",
    "\n"
   ]
  },
  {
   "cell_type": "markdown",
   "metadata": {
    "id": "DGHZ9YkplEvp"
   },
   "source": [
    "# **2. 카테고리별 매출 순위**"
   ]
  },
  {
   "cell_type": "code",
   "execution_count": null,
   "metadata": {
    "colab": {
     "base_uri": "https://localhost:8080/",
     "height": 541
    },
    "id": "5uXUAyckOp_6",
    "outputId": "c4d27a8d-1450-4238-9d36-e815398dace9"
   },
   "outputs": [
    {
     "name": "stdout",
     "output_type": "stream",
     "text": [
      "노원구 대학가\n",
      "<<연도별 이용금액 순위>>\n",
      "19년: ['의료기관', '요식업소', '유통업', '연료판매', '보건위생', '레저업소', '음료식품', '가전', '자동차정비', '레저용품', '서적문구', '의복', '숙박', '수리서비스', '주방용구', '문화취미', '신변잡화', '광학제품', '사무통신', '전기', '자동차판매', '직물', '가구']\n",
      "20년: ['의료기관', '요식업소', '유통업', '연료판매', '음료식품', '보건위생', '레저업소', '가전', '자동차정비', '레저용품', '서적문구', '의복', '문화취미', '숙박', '수리서비스', '주방용구', '신변잡화', '사무통신', '직물', '자동차판매', '전기', '가구', '광학제품']\n",
      "<<연도별 이용건수 순위>>\n",
      "19년: ['유통업', '요식업소', '의료기관', '연료판매', '음료식품', '레저업소', '보건위생', '서적문구', '레저용품', '자동차정비', '의복', '문화취미', '숙박', '수리서비스', '가전', '신변잡화', '사무통신', '광학제품', '주방용구', '직물', '전기', '자동차판매', '가구']\n",
      "20년: ['유통업', '요식업소', '의료기관', '음료식품', '연료판매', '레저업소', '보건위생', '서적문구', '레저용품', '문화취미', '수리서비스', '자동차정비', '숙박', '의복', '가전', '신변잡화', '주방용구', '사무통신', '광학제품', '직물', '전기', '자동차판매', '가구']\n",
      "노원구 학원가\n",
      "<<연도별 이용금액 순위>>\n",
      "19년: ['유통업', '요식업소', '의료기관', '보건위생', '음료식품', '연료판매', '레저업소', '의복', '서적문구', '자동차정비', '가전', '문화취미', '레저용품', '신변잡화', '수리서비스', '가구', '광학제품', '직물', '숙박', '주방용구', '사무통신', '전기', '자동차판매']\n",
      "20년: ['유통업', '요식업소', '의료기관', '음료식품', '보건위생', '연료판매', '레저업소', '서적문구', '의복', '자동차정비', '가전', '문화취미', '가구', '레저용품', '수리서비스', '신변잡화', '직물', '광학제품', '사무통신', '주방용구', '숙박', '전기', '자동차판매']\n",
      "<<연도별 이용건수 순위>>\n",
      "19년: ['유통업', '요식업소', '의료기관', '음료식품', '레저업소', '보건위생', '연료판매', '서적문구', '문화취미', '의복', '수리서비스', '신변잡화', '레저용품', '자동차정비', '광학제품', '가전', '숙박', '가구', '직물', '사무통신', '주방용구', '자동차판매', '전기']\n",
      "20년: ['유통업', '요식업소', '의료기관', '음료식품', '레저업소', '보건위생', '서적문구', '연료판매', '문화취미', '의복', '수리서비스', '자동차정비', '신변잡화', '레저용품', '광학제품', '가전', '직물', '숙박', '가구', '주방용구', '사무통신', '전기', '자동차판매']\n",
      "중구 빌딩숲\n",
      "<<연도별 이용금액 순위>>\n",
      "19년: ['유통업', '요식업소', '의료기관', '레저용품', '의복', '보건위생', '사무통신', '숙박', '음료식품', '신변잡화', '자동차정비', '가전', '레저업소', '서적문구', '문화취미', '광학제품', '연료판매', '직물', '자동차판매', '주방용구', '수리서비스', '가구', '전기']\n",
      "20년: ['유통업', '요식업소', '의료기관', '레저용품', '사무통신', '보건위생', '의복', '숙박', '음료식품', '신변잡화', '가전', '레저업소', '자동차정비', '서적문구', '광학제품', '연료판매', '자동차판매', '직물', '문화취미', '주방용구', '수리서비스', '가구', '전기']\n",
      "<<연도별 이용건수 순위>>\n",
      "19년: ['요식업소', '유통업', '사무통신', '의료기관', '자동차정비', '레저용품', '음료식품', '의복', '보건위생', '서적문구', '신변잡화', '숙박', '문화취미', '레저업소', '가전', '연료판매', '광학제품', '수리서비스', '직물', '주방용구', '자동차판매', '가구', '전기']\n",
      "20년: ['요식업소', '유통업', '사무통신', '의료기관', '레저용품', '음료식품', '자동차정비', '보건위생', '의복', '서적문구', '신변잡화', '숙박', '레저업소', '문화취미', '연료판매', '가전', '주방용구', '수리서비스', '광학제품', '직물', '자동차판매', '가구', '전기']\n",
      "중구 소상공\n",
      "<<연도별 이용금액 순위>>\n",
      "19년: ['요식업소', '유통업', '의료기관', '숙박', '의복', '음료식품', '보건위생', '가전', '서적문구', '레저업소', '주방용구', '연료판매', '자동차정비', '레저용품', '가구', '직물', '광학제품', '신변잡화', '문화취미', '사무통신', '수리서비스', '자동차판매', '전기']\n",
      "20년: ['요식업소', '유통업', '의료기관', '숙박', '음료식품', '보건위생', '의복', '레저업소', '주방용구', '서적문구', '가전', '연료판매', '자동차정비', '가구', '레저용품', '직물', '광학제품', '신변잡화', '문화취미', '수리서비스', '사무통신', '자동차판매', '전기']\n",
      "<<연도별 이용건수 순위>>\n",
      "19년: ['유통업', '요식업소', '의료기관', '음료식품', '레저업소', '서적문구', '보건위생', '자동차정비', '의복', '숙박', '연료판매', '문화취미', '레저용품', '신변잡화', '주방용구', '수리서비스', '가전', '광학제품', '직물', '사무통신', '가구', '자동차판매', '전기']\n",
      "20년: ['유통업', '요식업소', '의료기관', '음료식품', '레저업소', '보건위생', '자동차정비', '숙박', '서적문구', '의복', '연료판매', '문화취미', '광학제품', '레저용품', '수리서비스', '주방용구', '신변잡화', '가전', '직물', '사무통신', '가구', '자동차판매', '전기']\n"
     ]
    }
   ],
   "source": [
    "# # 클러스터링 추가\n",
    "scr_c = pd.merge(SCR, dong, left_on='HDONG_NM', right_on='HDONG_NM').groupby(['STD_DD','CLUS_NM','MCT_CAT_CD']).sum()\n",
    "scr_c19 = scr_c.reset_index().query(\"'2019-02-01' <= STD_DD <= '2019-05-31'\").groupby(['CLUS_NM','MCT_CAT_CD']).sum()\n",
    "scr_c20 = scr_c.reset_index().query(\"'2020-02-01' <= STD_DD <= '2020-05-31'\").groupby(['CLUS_NM','MCT_CAT_CD']).sum()\n",
    "\n",
    "clus_list = ['노원구 대학가','노원구 학원가','중구 빌딩숲','중구 소상공']\n",
    "for i in clus_list:\n",
    "  print(i)\n",
    "  print(\"<<연도별 이용금액 순위>>\")\n",
    "  print('19년:',list(scr_c19.loc[i].sort_values(by='USE_AMT',ascending=False).index))\n",
    "  print('20년:',list(scr_c20.loc[i].sort_values(by='USE_AMT',ascending=False).index))\n",
    "  print(\"<<연도별 이용건수 순위>>\")\n",
    "  print('19년:',list(scr_c19.loc[i].sort_values(by='USE_CNT',ascending=False).index))\n",
    "  print('20년:',list(scr_c20.loc[i].sort_values(by='USE_CNT',ascending=False).index))"
   ]
  },
  {
   "cell_type": "code",
   "execution_count": null,
   "metadata": {
    "id": "DGwcy6d0o40G"
   },
   "outputs": [],
   "source": [
    "scr_c_g = scr_c.unstack().fillna(0)\n",
    "for i in ['USE_CNT','USE_AMT']:\n",
    "  scr_c_g.xs(i,axis=1,level=0).loc['2019-02-04'] = (scr_c_g.xs(i,axis=1,level=0).loc['2019-02-11'].values + scr_c_g.xs(i,axis=1,level=0).loc['2019-02-18'].values)/2\n",
    "  scr_c_g.xs(i,axis=1,level=0).loc['2019-02-05'] = (scr_c_g.xs(i,axis=1,level=0).loc['2019-02-12'].values + scr_c_g.xs(i,axis=1,level=0).loc['2019-02-19'].values)/2\n",
    "  scr_c_g.xs(i,axis=1,level=0).loc['2019-02-06'] = (scr_c_g.xs(i,axis=1,level=0).loc['2019-02-13'].values + scr_c_g.xs(i,axis=1,level=0).loc['2019-02-20'].values)/2\n"
   ]
  },
  {
   "cell_type": "code",
   "execution_count": null,
   "metadata": {
    "colab": {
     "base_uri": "https://localhost:8080/",
     "height": 450
    },
    "id": "FGCN_60nL7UA",
    "outputId": "aecb2be3-6596-4c62-d56b-a5685992643c"
   },
   "outputs": [
    {
     "data": {
      "text/html": [
       "<div>\n",
       "<style scoped>\n",
       "    .dataframe tbody tr th:only-of-type {\n",
       "        vertical-align: middle;\n",
       "    }\n",
       "\n",
       "    .dataframe tbody tr th {\n",
       "        vertical-align: top;\n",
       "    }\n",
       "\n",
       "    .dataframe thead th {\n",
       "        text-align: right;\n",
       "    }\n",
       "</style>\n",
       "<table border=\"1\" class=\"dataframe\">\n",
       "  <thead>\n",
       "    <tr style=\"text-align: right;\">\n",
       "      <th></th>\n",
       "      <th></th>\n",
       "      <th>USE_AMT</th>\n",
       "      <th>USE_CNT</th>\n",
       "    </tr>\n",
       "    <tr>\n",
       "      <th>CLUS_NM</th>\n",
       "      <th>MCT_CAT_CD</th>\n",
       "      <th></th>\n",
       "      <th></th>\n",
       "    </tr>\n",
       "  </thead>\n",
       "  <tbody>\n",
       "    <tr>\n",
       "      <th rowspan=\"5\" valign=\"top\">노원구 대학가</th>\n",
       "      <th>가구</th>\n",
       "      <td>6.217711</td>\n",
       "      <td>47.665848</td>\n",
       "    </tr>\n",
       "    <tr>\n",
       "      <th>가전</th>\n",
       "      <td>-11.743471</td>\n",
       "      <td>-28.594303</td>\n",
       "    </tr>\n",
       "    <tr>\n",
       "      <th>광학제품</th>\n",
       "      <td>-37.354969</td>\n",
       "      <td>-44.361702</td>\n",
       "    </tr>\n",
       "    <tr>\n",
       "      <th>레저업소</th>\n",
       "      <td>-16.397288</td>\n",
       "      <td>-11.021008</td>\n",
       "    </tr>\n",
       "    <tr>\n",
       "      <th>레저용품</th>\n",
       "      <td>-24.260422</td>\n",
       "      <td>-28.827720</td>\n",
       "    </tr>\n",
       "    <tr>\n",
       "      <th>...</th>\n",
       "      <th>...</th>\n",
       "      <td>...</td>\n",
       "      <td>...</td>\n",
       "    </tr>\n",
       "    <tr>\n",
       "      <th rowspan=\"5\" valign=\"top\">중구 소상공</th>\n",
       "      <th>자동차정비</th>\n",
       "      <td>-8.189326</td>\n",
       "      <td>-23.014970</td>\n",
       "    </tr>\n",
       "    <tr>\n",
       "      <th>자동차판매</th>\n",
       "      <td>-2.556495</td>\n",
       "      <td>12.956593</td>\n",
       "    </tr>\n",
       "    <tr>\n",
       "      <th>전기</th>\n",
       "      <td>-32.917453</td>\n",
       "      <td>-3.559127</td>\n",
       "    </tr>\n",
       "    <tr>\n",
       "      <th>주방용구</th>\n",
       "      <td>-13.021305</td>\n",
       "      <td>-8.298090</td>\n",
       "    </tr>\n",
       "    <tr>\n",
       "      <th>직물</th>\n",
       "      <td>-12.936177</td>\n",
       "      <td>-14.189824</td>\n",
       "    </tr>\n",
       "  </tbody>\n",
       "</table>\n",
       "<p>92 rows × 2 columns</p>\n",
       "</div>"
      ],
      "text/plain": [
       "                      USE_AMT    USE_CNT\n",
       "CLUS_NM MCT_CAT_CD                      \n",
       "노원구 대학가 가구           6.217711  47.665848\n",
       "        가전         -11.743471 -28.594303\n",
       "        광학제품       -37.354969 -44.361702\n",
       "        레저업소       -16.397288 -11.021008\n",
       "        레저용품       -24.260422 -28.827720\n",
       "...                       ...        ...\n",
       "중구 소상공  자동차정비       -8.189326 -23.014970\n",
       "        자동차판매       -2.556495  12.956593\n",
       "        전기         -32.917453  -3.559127\n",
       "        주방용구       -13.021305  -8.298090\n",
       "        직물         -12.936177 -14.189824\n",
       "\n",
       "[92 rows x 2 columns]"
      ]
     },
     "execution_count": 20,
     "metadata": {
      "tags": []
     },
     "output_type": "execute_result"
    }
   ],
   "source": [
    "scr_c_g = scr_c.unstack().fillna(0)\n",
    "for i in ['USE_CNT','USE_AMT']:\n",
    "  scr_c_g.xs(i,axis=1,level=0).loc['2019-02-04'] = (scr_c_g.xs(i,axis=1,level=0).loc['2019-02-11'].values + scr_c_g.xs(i,axis=1,level=0).loc['2019-02-18'].values)/2\n",
    "  scr_c_g.xs(i,axis=1,level=0).loc['2019-02-05'] = (scr_c_g.xs(i,axis=1,level=0).loc['2019-02-12'].values + scr_c_g.xs(i,axis=1,level=0).loc['2019-02-19'].values)/2\n",
    "  scr_c_g.xs(i,axis=1,level=0).loc['2019-02-06'] = (scr_c_g.xs(i,axis=1,level=0).loc['2019-02-13'].values + scr_c_g.xs(i,axis=1,level=0).loc['2019-02-20'].values)/2\n",
    "\n",
    "scr_c_g = scr_c_g.reset_index()\n",
    "scr_c_g = scr_c_g[scr_c_g.STD_DD != '2019-02-01'] ;scr_c_g = scr_c_g[scr_c_g.STD_DD != '2020-05-30'] ;scr_c_g = scr_c_g[scr_c_g.STD_DD != '2020-05-31'] \n",
    "scr_c_g = scr_c_g.set_index(['STD_DD','CLUS_NM']).stack()\n",
    "#증감률 계산\n",
    "scr_c_gr19 = scr_c_g.loc[:'2019-05-31',:]\n",
    "scr_c_gr20 = scr_c_g.loc['2020-02-01':'2020-05-29',:]\n",
    "\n",
    "scr_c_gr = (scr_c_gr20.groupby(['CLUS_NM','MCT_CAT_CD']).sum() - scr_c_gr19.groupby(['CLUS_NM','MCT_CAT_CD']).sum())/scr_c_gr19.groupby(['CLUS_NM','MCT_CAT_CD']).sum()*100\n",
    "scr_c_gr"
   ]
  },
  {
   "cell_type": "code",
   "execution_count": null,
   "metadata": {
    "colab": {
     "base_uri": "https://localhost:8080/",
     "height": 613
    },
    "id": "seCrYpOtentu",
    "outputId": "bc4df5ae-202a-481a-f0e9-496e3825a60d"
   },
   "outputs": [
    {
     "name": "stdout",
     "output_type": "stream",
     "text": [
      "\n",
      " 노원구 대학가\n",
      "\n",
      "<<클러스터별 이용금액 증감률 순위>>\n",
      "증감률: ['문화취미', '수리서비스', '음료식품', '사무통신', '자동차판매', '직물', '가구', '유통업', '자동차정비', '전기', '의료기관', '가전', '주방용구', '요식업소', '보건위생', '신변잡화', '숙박', '레저업소', '연료판매', '의복', '레저용품', '서적문구', '광학제품']\n",
      "\n",
      "<<클러스터별 이용건수 증감률 순위>>\n",
      "증감률: ['가구', '문화취미', '주방용구', '수리서비스', '자동차판매', '전기', '직물', '음료식품', '의료기관', '자동차정비', '유통업', '레저업소', '요식업소', '숙박', '연료판매', '보건위생', '서적문구', '의복', '가전', '레저용품', '신변잡화', '광학제품', '사무통신']\n",
      "\n",
      " 노원구 학원가\n",
      "\n",
      "<<클러스터별 이용금액 증감률 순위>>\n",
      "증감률: ['자동차판매', '전기', '가구', '사무통신', '직물', '음료식품', '자동차정비', '수리서비스', '가전', '의료기관', '유통업', '요식업소', '신변잡화', '서적문구', '레저업소', '보건위생', '주방용구', '문화취미', '연료판매', '레저용품', '의복', '숙박', '광학제품']\n",
      "\n",
      "<<클러스터별 이용건수 증감률 순위>>\n",
      "증감률: ['전기', '자동차판매', '주방용구', '의료기관', '직물', '음료식품', '레저업소', '유통업', '가전', '요식업소', '자동차정비', '가구', '수리서비스', '서적문구', '연료판매', '보건위생', '숙박', '신변잡화', '의복', '사무통신', '광학제품', '문화취미', '레저용품']\n",
      "\n",
      " 중구 빌딩숲\n",
      "\n",
      "<<클러스터별 이용금액 증감률 순위>>\n",
      "증감률: ['전기', '자동차판매', '주방용구', '의료기관', '직물', '가구', '음료식품', '광학제품', '사무통신', '레저용품', '유통업', '요식업소', '연료판매', '수리서비스', '서적문구', '레저업소', '신변잡화', '보건위생', '가전', '숙박', '자동차정비', '문화취미', '의복']\n",
      "\n",
      "<<클러스터별 이용건수 증감률 순위>>\n",
      "증감률: ['전기', '자동차판매', '주방용구', '의료기관', '요식업소', '연료판매', '음료식품', '직물', '레저용품', '수리서비스', '레저업소', '유통업', '가구', '서적문구', '가전', '사무통신', '숙박', '광학제품', '신변잡화', '보건위생', '문화취미', '자동차정비', '의복']\n",
      "\n",
      " 중구 소상공\n",
      "\n",
      "<<클러스터별 이용금액 증감률 순위>>\n",
      "증감률: ['수리서비스', '음료식품', '자동차판매', '가구', '의료기관', '자동차정비', '사무통신', '연료판매', '직물', '주방용구', '요식업소', '유통업', '레저업소', '보건위생', '문화취미', '레저용품', '전기', '광학제품', '숙박', '서적문구', '신변잡화', '의복', '가전']\n",
      "\n",
      "<<클러스터별 이용건수 증감률 순위>>\n",
      "증감률: ['광학제품', '자동차판매', '의료기관', '수리서비스', '전기', '음료식품', '주방용구', '문화취미', '연료판매', '가구', '레저업소', '요식업소', '직물', '레저용품', '숙박', '자동차정비', '유통업', '보건위생', '신변잡화', '가전', '의복', '사무통신', '서적문구']\n"
     ]
    }
   ],
   "source": [
    "clus_list = ['노원구 대학가','노원구 학원가','중구 빌딩숲','중구 소상공']\n",
    "for i in clus_list:\n",
    "  print('\\n',i)\n",
    "  print(\"\\n<<클러스터별 이용금액 증감률 순위>>\")\n",
    "  print('증감률:',list(scr_c_gr.loc[i].sort_values(by='USE_AMT',ascending=False).index))\n",
    "  print(\"\\n<<클러스터별 이용건수 증감률 순위>>\")\n",
    "  print('증감률:',list(scr_c_gr.loc[i].sort_values(by='USE_CNT',ascending=False).index))"
   ]
  }
 ],
 "metadata": {
  "colab": {
   "collapsed_sections": [],
   "name": "[EDA7] 신한카드 / 매출지수, 판매비율 분석",
   "provenance": [],
   "toc_visible": true
  },
  "kernelspec": {
   "display_name": "Python 3",
   "language": "python",
   "name": "python3"
  },
  "language_info": {
   "codemirror_mode": {
    "name": "ipython",
    "version": 3
   },
   "file_extension": ".py",
   "mimetype": "text/x-python",
   "name": "python",
   "nbconvert_exporter": "python",
   "pygments_lexer": "ipython3",
   "version": "3.6.10"
  }
 },
 "nbformat": 4,
 "nbformat_minor": 1
}