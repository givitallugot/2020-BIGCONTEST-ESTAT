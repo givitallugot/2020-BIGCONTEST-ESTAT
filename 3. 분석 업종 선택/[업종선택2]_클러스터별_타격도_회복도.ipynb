{
 "cells": [
  {
   "cell_type": "code",
   "execution_count": null,
   "metadata": {
    "id": "ZCP2XOgDPGLi"
   },
   "outputs": [],
   "source": [
    "#!sudo apt-get install -y fonts-nanum\n",
    "#!sudo fc-cache -fv\n",
    "#!rm ~/.cache/matplotlib -rf"
   ]
  },
  {
   "cell_type": "code",
   "execution_count": null,
   "metadata": {
    "colab": {
     "base_uri": "https://localhost:8080/",
     "height": 34
    },
    "id": "aVf0AWPFO2uG",
    "outputId": "b33d9440-845f-4cd3-a90a-5668e4462bff"
   },
   "outputs": [
    {
     "name": "stdout",
     "output_type": "stream",
     "text": [
      "Drive already mounted at /content/gdrive; to attempt to forcibly remount, call drive.mount(\"/content/gdrive\", force_remount=True).\n"
     ]
    }
   ],
   "source": [
    "from google.colab import drive\n",
    "drive.mount('/content/gdrive')"
   ]
  },
  {
   "cell_type": "code",
   "execution_count": null,
   "metadata": {
    "colab": {
     "base_uri": "https://localhost:8080/",
     "height": 72
    },
    "id": "Swm4C1wcPEFV",
    "outputId": "9ec1547d-ed2a-4abd-9ea4-1df2c2f0c757"
   },
   "outputs": [
    {
     "name": "stderr",
     "output_type": "stream",
     "text": [
      "/usr/local/lib/python3.6/dist-packages/statsmodels/tools/_testing.py:19: FutureWarning: pandas.util.testing is deprecated. Use the functions in the public API at pandas.testing instead.\n",
      "  import pandas.util.testing as tm\n"
     ]
    }
   ],
   "source": [
    "# Import Library\n",
    "import numpy as np\n",
    "import pandas as pd\n",
    "import seaborn as sns\n",
    "import matplotlib.pyplot as plt\n",
    "import plotly.express as px\n",
    "import datetime as dt\n",
    "from sklearn.cluster import KMeans\n",
    "%matplotlib inline\n",
    "\n",
    "plt.rc('font', family='NanumBarunGothic')"
   ]
  },
  {
   "cell_type": "code",
   "execution_count": null,
   "metadata": {
    "id": "bVgDjvNnPEWx"
   },
   "outputs": [],
   "source": [
    "scr = pd.read_csv('./gdrive/My Drive/빅콘 대상팀/data/SC/CARD_SPENDING_RESIDENT.txt', sep='\\t', encoding='cp949')\n",
    "ska = pd.read_csv('./gdrive/My Drive/빅콘 대상팀/data/SK/ska.csv', index_col='Unnamed: 0')\n",
    "\n",
    "dong = pd.read_csv('./gdrive/My Drive/빅콘 대상팀/data/지역데이터/전체동별클러스터링.csv', sep = ',', encoding='utf-8')\n",
    "dong_cd = pd.read_csv('./gdrive/My Drive/빅콘 대상팀/data/SC/SC동코드변환.csv', sep = ',', encoding='utf-8')"
   ]
  },
  {
   "cell_type": "code",
   "execution_count": null,
   "metadata": {
    "id": "MsIjbEgdRpf2"
   },
   "outputs": [],
   "source": [
    "# 유동인구 전처리\n",
    "ska['STD_YMD'] = pd.to_datetime(ska['STD_YMD'].astype(str), format='%Y%m%d',infer_datetime_format=True)\n",
    "\n",
    "ska['유동인구_노원구학원가'] = pd.concat([ska.iloc[:,6:8], ska.iloc[:,12:16], ska.iloc[:,21:23], ska.iloc[:,27:31]], axis=1).sum(axis=1) # 10,40,50\n",
    "ska['유동인구_노원구대학가'] = pd.concat([ska.iloc[:,6:10], ska.iloc[:,12:16], ska.iloc[:,21:25], ska.iloc[:,27:31]], axis=1).sum(axis=1) # 10,20,40,50\n",
    "ska['유동인구_중구소상공'] =pd.concat([ska.iloc[:,8:12], ska.iloc[:,23:27]], axis=1).sum(axis=1) # 20,\n",
    "ska['유동인구_중구빌딩숲'] = pd.concat([ska.iloc[:,12:19], ska.iloc[:,27:34]], axis=1).sum(axis=1) # 40,50"
   ]
  },
  {
   "cell_type": "code",
   "execution_count": null,
   "metadata": {
    "id": "1iFvJlYyUQTf"
   },
   "outputs": [],
   "source": [
    "# 신한카드 전처리\n",
    "\n",
    "# 코드 -> 이름으로 바꾸는 함수 : name_a_to_b\n",
    "def name_a_to_b(data,col,a,b):\n",
    "  data = data.replace({col:a}, {col:b}, inplace=True)\n",
    "  return(data)\n",
    "\n",
    "# 카테고리 코드 -> 이름\n",
    "cat_code = [10,20,21,22,30,31,32,33,34,35,40,42,43,44,50,52,60,62,70,71,80,81,92]\n",
    "cat_name = ['숙박','레저용품','레저업소','문화취미','가구','전기','주방용구',\n",
    "            '연료판매','광학제품','가전','유통업','의복','직물','신변잡화','서적문구','사무통신',\n",
    "            '자동차판매','자동차정비','의료기관','보건위생','요식업소','음료식품','수리서비스']\n",
    "for i in range(len(cat_code)):\n",
    "  name_a_to_b(scr,'MCT_CAT_CD',cat_code[i],cat_name[i])\n",
    "\n",
    "# 시구 및 동 이름 추가\n",
    "scr = pd.merge(scr, dong_cd, left_on=['GU_CD', 'DONG_CD'], right_on=['GU_CD', 'HDONG_CD'])\n",
    "\n",
    "# 날짜 형식으로 변환(int->str->date)\n",
    "scr['STD_YMD'] = pd.to_datetime(scr['STD_DD'].astype(str), format='%Y%m%d',infer_datetime_format=True)\n",
    "\n",
    "# 클러스터링 추가\n",
    "scr = pd.merge(scr, dong, left_on='HDONG_NM', right_on='HDONG_NM')\n",
    "\n",
    "# 연도 추가\n",
    "scr['STD_Y'] = scr['STD_DD'].astype(str).str.slice(0,4)\n",
    "\n",
    "scr = scr.drop(['STD_DD', 'GU_CD', 'DONG_CD', 'HDONG_CD', 'AGE_CD'], axis=1)"
   ]
  },
  {
   "cell_type": "code",
   "execution_count": null,
   "metadata": {
    "id": "Py63rZ9SVEbD"
   },
   "outputs": [],
   "source": [
    "scr = scr.groupby(['CLUS_NM', 'HDONG_NM', 'STD_Y', 'STD_YMD', 'MCT_CAT_CD']).agg(sum).reset_index(drop=False)"
   ]
  },
  {
   "cell_type": "code",
   "execution_count": null,
   "metadata": {
    "id": "6JTkPM5yPjo0"
   },
   "outputs": [],
   "source": [
    "scr0 = pd.merge(scr, ska[['HDONG_NM', 'STD_YMD', '유동인구_노원구학원가']], left_on=['HDONG_NM', 'STD_YMD'], right_on=['HDONG_NM', 'STD_YMD'], how='left')\n",
    "scr1 = pd.merge(scr, ska[['HDONG_NM', 'STD_YMD', '유동인구_노원구대학가']], left_on=['HDONG_NM', 'STD_YMD'], right_on=['HDONG_NM', 'STD_YMD'], how='left')\n",
    "scr2 = pd.merge(scr, ska[['HDONG_NM', 'STD_YMD', '유동인구_중구소상공']], left_on=['HDONG_NM', 'STD_YMD'], right_on=['HDONG_NM', 'STD_YMD'], how='left')\n",
    "scr3 = pd.merge(scr, ska[['HDONG_NM', 'STD_YMD', '유동인구_중구빌딩숲']], left_on=['HDONG_NM', 'STD_YMD'], right_on=['HDONG_NM', 'STD_YMD'], how='left')"
   ]
  },
  {
   "cell_type": "markdown",
   "metadata": {
    "id": "TQqiKNifnvoo"
   },
   "source": [
    "# **0. 동일하게 적용되는 함수 정의**"
   ]
  },
  {
   "cell_type": "code",
   "execution_count": null,
   "metadata": {
    "id": "CuWGzDP_numm"
   },
   "outputs": [],
   "source": [
    "def growth(data):\n",
    "  sc_cnt_sum_19 =data[data['STD_YMD'] < '2020']\n",
    "  sc_cnt_sum_20 =data[data['STD_YMD'] > '2020']\n",
    "\n",
    "  sc_cnt_sum_20.index = sc_cnt_sum_20['STD_YMD']\n",
    "  del sc_cnt_sum_20['STD_YMD']\n",
    "  sc_cnt_sum_19.index = sc_cnt_sum_19['STD_YMD']\n",
    "  del sc_cnt_sum_19['STD_YMD']\n",
    "\n",
    "  #2020 index 저장\n",
    "  index_2020 = list(sc_cnt_sum_20.index)\n",
    "\n",
    "  # rolling 전 요일을 맞춰주기 위한 작업\n",
    "\n",
    "  #20/02/01 = 일요일\n",
    "  #19/02/01 = 토요일 ==> 19년 토요일 데이터 삭제\n",
    "  sc_cnt_sum_19=sc_cnt_sum_19.iloc[1:,]\n",
    "\n",
    "  #설날 보정\n",
    "  columns = sc_cnt_sum_19.columns\n",
    "  index = sc_cnt_sum_19.index\n",
    "\n",
    "  sc_cnt_sum_19 = np.array(sc_cnt_sum_19)\n",
    "  sc_cnt_sum_19[2:5,:] = (sc_cnt_sum_19[9:12,:]+sc_cnt_sum_19[16:19,:])/2\n",
    "  sc_cnt_sum_19 = pd.DataFrame(sc_cnt_sum_19)\n",
    "  sc_cnt_sum_19.columns = columns\n",
    "  sc_cnt_sum_19.index = index\n",
    "\n",
    "  sc_cnt_sum_19_roll7 = pd.DataFrame(sc_cnt_sum_19.rolling(7,min_periods = 1).mean()).reset_index()\n",
    "  sc_cnt_sum_20_roll7 = pd.DataFrame(sc_cnt_sum_20.rolling(7,min_periods = 1).mean()).reset_index()\n",
    "\n",
    "  del sc_cnt_sum_19_roll7['STD_YMD']\n",
    "  del sc_cnt_sum_20_roll7['STD_YMD']\n",
    "\n",
    "  sc_cnt_sum_20_roll7 = sc_cnt_sum_20_roll7.iloc[:-2,:]\n",
    "\n",
    "  sc_cnt_sum_per= (sc_cnt_sum_20_roll7-sc_cnt_sum_19_roll7)/sc_cnt_sum_19_roll7\n",
    "\n",
    "  index_2020=[x.strftime('%m-%d')for x in index_2020]\n",
    "  sc_cnt_sum_per.index = index_2020[:-2]\n",
    "\n",
    "  return sc_cnt_sum_per"
   ]
  },
  {
   "cell_type": "code",
   "execution_count": null,
   "metadata": {
    "id": "LUO9mWZLn2uy"
   },
   "outputs": [],
   "source": [
    "import numpy as np\n",
    "from sklearn.linear_model import LinearRegression\n",
    "\n",
    "def slope(data):\n",
    "  cat = data.columns\n",
    "\n",
    "  r_sq=[]\n",
    "  slope=[]\n",
    "  intercept=[]\n",
    "  for c in cat:\n",
    "    x = np.arange(0,data.shape[0]/100,0.01).reshape(data.shape[0],-1)\n",
    "    y = np.array(data.loc[:,c]).reshape(-1,)\n",
    "    model = LinearRegression().fit(x, y)\n",
    "    r_sq.append(model.score(x, y))\n",
    "    intercept.append(model.intercept_)\n",
    "    slope.append(model.coef_)\n",
    "  \n",
    "  return r_sq, intercept, slope"
   ]
  },
  {
   "cell_type": "code",
   "execution_count": null,
   "metadata": {
    "id": "gnt1d3HDn7JO"
   },
   "outputs": [],
   "source": [
    "def draw_slope(data):\n",
    "  sc_1 =  data.loc[data.index < '02-18',:]\n",
    "  sc_2 =  data.loc[(data.index >= '02-18') & (data.index < '03-22'),:]\n",
    "  sc_3 =  data.loc[data.index >= '03-22',:]\n",
    "\n",
    "  before_r, before_intercept, before_slope = slope(sc_1)\n",
    "  middle_r, middle_intercept, middle_slope = slope(sc_2)\n",
    "  after_r, after_intercept, after_slope = slope(sc_3)\n",
    "\n",
    "  before = pd.DataFrame(\n",
    "      {\n",
    "      'slope_before' : np.array(before_slope).reshape(-1,),\n",
    "      'inter_before' : before_intercept,\n",
    "      'r2_before': before_r,\n",
    "  }).T\n",
    "  before.columns = sc_1.columns\n",
    "\n",
    "  middle = pd.DataFrame(\n",
    "      {\n",
    "      'slope_middle' : - np.array(middle_slope).reshape(-1,),\n",
    "      'inter_middle' : middle_intercept,\n",
    "      'r2_middle': middle_r,\n",
    "  }).T\n",
    "  middle.columns = sc_2.columns\n",
    "\n",
    "  after = pd.DataFrame({\n",
    "      'slope_after': np.array(after_slope).reshape(-1,),\n",
    "      'inter_after' : after_intercept,\n",
    "      'r2_after':after_r    \n",
    "  }).T   \n",
    "  after.columns = sc_3.columns\n",
    "\n",
    "  merge = pd.concat([middle.iloc[0,:],after.iloc[0,:]],axis=1)  \n",
    "  merge['cat'] = merge.index\n",
    "  merge['cat'] = merge['cat'].apply(lambda x : x[7:])\n",
    "\n",
    "  return merge"
   ]
  },
  {
   "cell_type": "code",
   "execution_count": null,
   "metadata": {
    "id": "_kAGwYyGWaEI"
   },
   "outputs": [],
   "source": [
    "def draw_slope_tmsc(data, clus):\n",
    "  sc_1 =  data.loc[data.index < '02-18',:]\n",
    "  sc_2 =  data.loc[(data.index >= '02-18') & (data.index < '03-22'),:]\n",
    "  sc_3 =  data.loc[data.index >= '03-22',:]\n",
    "\n",
    "  before_r, before_intercept, before_slope = slope(sc_1)\n",
    "  middle_r, middle_intercept, middle_slope = slope(sc_2)\n",
    "  after_r, after_intercept, after_slope = slope(sc_3)\n",
    "\n",
    "  before = pd.DataFrame(\n",
    "      {\n",
    "      'slope_before' : np.array(before_slope).reshape(-1,),\n",
    "      'inter_before' : before_intercept,\n",
    "      'r2_before': before_r,\n",
    "  }).T\n",
    "  before.columns = sc_1.columns\n",
    "\n",
    "  middle = pd.DataFrame(\n",
    "      {\n",
    "      'slope_middle' : - np.array(middle_slope).reshape(-1,),\n",
    "      'inter_middle' : middle_intercept,\n",
    "      'r2_middle': middle_r,\n",
    "  }).T\n",
    "  middle.columns = sc_2.columns\n",
    "\n",
    "  after = pd.DataFrame({\n",
    "      'slope_after': np.array(after_slope).reshape(-1,),\n",
    "      'inter_after' : after_intercept,\n",
    "      'r2_after':after_r    \n",
    "  }).T   \n",
    "  after.columns = sc_3.columns\n",
    "\n",
    "  merge = pd.concat([middle.iloc[0,:], after.iloc[0,:]], axis=1)  \n",
    "  merge['cat'] = merge.index\n",
    "  merge['cat'] = merge['cat'].apply(lambda x : x[7:])\n",
    "  merge['CLUS_NM'] = clus\n",
    "\n",
    "  return merge"
   ]
  },
  {
   "cell_type": "code",
   "execution_count": null,
   "metadata": {
    "id": "_YKT8GPWMelJ"
   },
   "outputs": [],
   "source": [
    "def rename_col_tmsc(X):\n",
    "    X.columns =['SC_CNT_가구', 'SC_CNT_가전',\n",
    "       'SC_CNT_광학제품', 'SC_CNT_레저업소', 'SC_CNT_레저용품',\n",
    "       'SC_CNT_문화취미', 'SC_CNT_보건위생', 'SC_CNT_사무통신',\n",
    "       'SC_CNT_서적문구', 'SC_CNT_수리서비스', 'SC_CNT_숙박',\n",
    "       'SC_CNT_신변잡화', 'SC_CNT_연료판매', 'SC_CNT_요식업소',\n",
    "       'SC_CNT_유통업', 'SC_CNT_음료식품', 'SC_CNT_의료기관',\n",
    "       'SC_CNT_의복', 'SC_CNT_자동차정비', 'SC_CNT_자동차판매',\n",
    "       'SC_CNT_전기', 'SC_CNT_주방용구', 'SC_CNT_직물',\n",
    "       'SC_AMT_가구', 'SC_AMT_가전', 'SC_AMT_광학제품',\n",
    "       'SC_AMT_레저업소', 'SC_AMT_레저용품', 'SC_AMT_문화취미',\n",
    "       'SC_AMT_보건위생', 'SC_AMT_사무통신', 'SC_AMT_서적문구',\n",
    "       'SC_AMT_수리서비스', 'SC_AMT_숙박', 'SC_AMT_신변잡화',\n",
    "       'SC_AMT_연료판매', 'SC_AMT_요식업소', 'SC_AMT_유통업',\n",
    "       'SC_AMT_음료식품', 'SC_AMT_의료기관', 'SC_AMT_의복',\n",
    "       'SC_AMT_자동차정비', 'SC_AMT_자동차판매', 'SC_AMT_전기',\n",
    "       'SC_AMT_주방용구', 'SC_AMT_직물']\n",
    "    return X"
   ]
  },
  {
   "cell_type": "code",
   "execution_count": null,
   "metadata": {
    "id": "ChWXQ2OvizHu"
   },
   "outputs": [],
   "source": [
    "def add_catclus2(data):\n",
    "    data['cat_clus'] = 0\n",
    "\n",
    "    for i in range(len(data)):\n",
    "        if data.iloc[i,2] in [\"직물\", \"가구\", \"주방용구\", \"자동차판매\", \"레저용품\", \"자동차판매\", \"의복\", \"신변잡화\", \"가전\", \"자동차정비\"]:\n",
    "            data.iloc[i,8] = 'CAT1'\n",
    "        elif data.iloc[i,2] in [\"보건위생\", \"의료기관\", \"광학제품\", \"연료판매\", \"음료식품\", \"요식업소\", \"수리서비스\"]:\n",
    "            data.iloc[i,8] = 'CAT2'\n",
    "        else:\n",
    "            data.iloc[i,8] = 'CAT3'\n",
    "    return data"
   ]
  },
  {
   "cell_type": "code",
   "execution_count": null,
   "metadata": {
    "id": "cWVsmBTmevLK"
   },
   "outputs": [],
   "source": [
    "def remove_cat(data):\n",
    "    data = data.drop(['SC_CNT_숙박', 'SC_CNT_문화취미', 'SC_CNT_전기', 'SC_CNT_수리서비스'], axis=0)\n",
    "    return data"
   ]
  },
  {
   "cell_type": "code",
   "execution_count": null,
   "metadata": {
    "id": "qgs_8eZoj3sU"
   },
   "outputs": [],
   "source": [
    "def choose_cat(data, num):\n",
    "    if num == 1:\n",
    "        data = data.query('cat in [\"직물\", \"가구\", \"주방용구\", \"자동차판매\", \"레저용품\", \"자동차판매\", \"의복\", \"신변잡화\", \"가전\", \"자동차정비\"]')\n",
    "    elif num == 2:\n",
    "        data = data.query('cat in [\"보건위생\", \"의료기관\", \"광학제품\", \"연료판매\", \"음료식품\", \"요식업소\"]') # 수리서비스\n",
    "    else:\n",
    "        data = data.query('cat in [\"서적문구\", \"레저업소\", \"유통업\", \"사무통신\"]') # 숙박, 전기, 문화취미\n",
    "    return data"
   ]
  },
  {
   "cell_type": "code",
   "execution_count": null,
   "metadata": {
    "id": "uhG-qkUQM1To"
   },
   "outputs": [],
   "source": [
    "scr_s3 = scr[scr['CLUS_NM']=='중구 빌딩숲']\n",
    "scr_s2 = scr[scr['CLUS_NM']=='중구 소상공']\n",
    "scr_s1 = scr[scr['CLUS_NM']=='노원구 대학가']\n",
    "scr_s0 = scr[scr['CLUS_NM']=='노원구 학원가']\n",
    "\n",
    "scr_s3 = scr_s3.groupby(['STD_YMD', 'MCT_CAT_CD']).sum().unstack(level=1).fillna(0)\n",
    "scr_s2 = scr_s2.groupby(['STD_YMD', 'MCT_CAT_CD']).sum().unstack(level=1).fillna(0)\n",
    "scr_s1 = scr_s1.groupby(['STD_YMD', 'MCT_CAT_CD']).sum().unstack(level=1).fillna(0)\n",
    "scr_s0 = scr_s0.groupby(['STD_YMD', 'MCT_CAT_CD']).sum().unstack(level=1).fillna(0)\n",
    "\n",
    "scr_s3 = rename_col_tmsc(scr_s3)\n",
    "scr_s2 = rename_col_tmsc(scr_s2)\n",
    "scr_s1 = rename_col_tmsc(scr_s1)\n",
    "scr_s0 = rename_col_tmsc(scr_s0)\n",
    "\n",
    "scr_s3 = scr_s3.iloc[:,:23]\n",
    "scr_s2 = scr_s2.iloc[:,:23]\n",
    "scr_s1 = scr_s1.iloc[:,:23]\n",
    "scr_s0 = scr_s0.iloc[:,:23]\n",
    "\n",
    "scr_s3 = scr_s3.reset_index(drop=False)\n",
    "scr_s2 = scr_s2.reset_index(drop=False)\n",
    "scr_s1 = scr_s1.reset_index(drop=False)\n",
    "scr_s0 = scr_s0.reset_index(drop=False)\n",
    "\n",
    "scr_s3 = growth(scr_s3)\n",
    "scr_s2 = growth(scr_s2)\n",
    "scr_s1 = growth(scr_s1)\n",
    "scr_s0 = growth(scr_s0)\n",
    "\n",
    "# 전기 inf 54개 NA 11개\n",
    "scr_s3 = scr_s3.fillna(0)\n",
    "\n",
    "scr_s3 = scr_s3.replace([np.inf, -np.inf], 0)"
   ]
  },
  {
   "cell_type": "code",
   "execution_count": null,
   "metadata": {
    "id": "G8417YHL57e6"
   },
   "outputs": [],
   "source": [
    "# scr = scr.groupby(['CLUS_NM', 'HDONG_NM', 'STD_Y', 'STD_YMD', 'MCT_CAT_CD']).agg(sum).reset_index(drop=False)"
   ]
  },
  {
   "cell_type": "markdown",
   "metadata": {
    "id": "c1hQ6okPMgeu"
   },
   "source": [
    "# **1. 타격도/회복도 시각화(plane ver.)**"
   ]
  },
  {
   "cell_type": "code",
   "execution_count": null,
   "metadata": {
    "id": "f5t_9EW_xwCk"
   },
   "outputs": [],
   "source": [
    "import plotly.graph_objects as go\n",
    "\n",
    "def show_scattor_tmsc4(data, x1, x2, y1, y2,name, cat):\n",
    "    color_discrete_map = {'CAT1': 'rgb(85,107,47)', 'CAT2': 'rgb(169,169,169)', 'CAT3': 'rgb(250,128,114)'}\n",
    "    fig = px.scatter(data, x=\"slope_middle\", y=\"slope_after\", hover_data=[\"cat\"], text=cat, template='plotly_white', color='cat_clus', color_discrete_map=color_discrete_map) # text=\"cat\", \n",
    "    fig.update_traces(textfont_size=15)\n",
    "\n",
    "    fig.update_traces(textposition='bottom center', \n",
    "                      marker=dict(size=15))\n",
    "\n",
    "    fig.update_layout(\n",
    "        showlegend=False,\n",
    "        title=dict(text=\"회복도 및 타격도 / 클러스터별 / \" + name, font=dict(size=20)),\n",
    "        xaxis_title=dict(text=\"타격도 (신천지 - 사회적 거리두기)\", font=dict(size=16)),\n",
    "        yaxis_title=dict(text=\"회복도 (사회적 거리두기 - 최근)\", font=dict(size=16)),\n",
    "        autosize=False,\n",
    "        width=600,\n",
    "        height=800,\n",
    "        margin=dict(l=20,r=20,b=20,t=50,pad=4))\n",
    "\n",
    "    fig.add_shape(dict(type=\"line\", \n",
    "                    x0=0.5, y0=y1,x1=0.5, y1=y2,\n",
    "                    line=dict(color=\"red\",width=1,dash=\"dash\")))\n",
    "\n",
    "    fig.add_shape(dict(type=\"line\", \n",
    "                    x0=x1, y0=0.5, x1=x2, y1=0.5,\n",
    "                    line=dict(color=\"red\",width=1,dash=\"dash\")))  \n",
    "    fig.show()"
   ]
  },
  {
   "cell_type": "code",
   "execution_count": null,
   "metadata": {
    "id": "oei9Btunfioe"
   },
   "outputs": [],
   "source": [
    "def new_cat(data):\n",
    "     data['catnm1'] = data['cat'].apply(lambda x: '' if x in ['보건위생', '요식업소', '음료식품', '수리서비스', '자동차정비','광학제품', '레저업소', '숙박', '레저용품','의복', '신변잡화'] else x)\n",
    "     data['catnm2'] = data['cat'].apply(lambda x: '' if x in ['음료식품', '광학제품', '자동차정비'] else x)\n",
    "     data['catnm3'] = data['cat'].apply(lambda x: '' if x in ['보건위생', '음료식품', '자동차정비','광학제품', '레저업소', '요식업소', '의료기관', '숙박', '레저용품', '신변잡화', '서적문구', '사무통신', '문화취미', '주방용구', '가전', '연료판매'] else x)\n",
    "     data['catnm4'] = data['cat'].apply(lambda x: '' if x in ['보건위생', '음료식품', '자동차정비', '레저업소', '요식업소', '의료기관', '숙박', '신변잡화', '문화취미', '의복', '수리서비스', '자동차판매', '연료판매'] else x)\n",
    "     return data"
   ]
  },
  {
   "cell_type": "code",
   "execution_count": null,
   "metadata": {
    "colab": {
     "base_uri": "https://localhost:8080/",
     "height": 817
    },
    "id": "yaJzGY803Nw4",
    "outputId": "88f384a8-818b-4d22-9697-8c59e61c1139"
   },
   "outputs": [
    {
     "data": {
      "text/html": [
       "<html>\n",
       "<head><meta charset=\"utf-8\" /></head>\n",
       "<body>\n",
       "    <div>\n",
       "            <script src=\"https://cdnjs.cloudflare.com/ajax/libs/mathjax/2.7.5/MathJax.js?config=TeX-AMS-MML_SVG\"></script><script type=\"text/javascript\">if (window.MathJax) {MathJax.Hub.Config({SVG: {font: \"STIX-Web\"}});}</script>\n",
       "                <script type=\"text/javascript\">window.PlotlyConfig = {MathJaxConfig: 'local'};</script>\n",
       "        <script src=\"https://cdn.plot.ly/plotly-latest.min.js\"></script>    \n",
       "            <div id=\"cb62e776-4826-4f20-9358-3bac4f35fd7f\" class=\"plotly-graph-div\" style=\"height:800px; width:600px;\"></div>\n",
       "            <script type=\"text/javascript\">\n",
       "                \n",
       "                    window.PLOTLYENV=window.PLOTLYENV || {};\n",
       "                    \n",
       "                if (document.getElementById(\"cb62e776-4826-4f20-9358-3bac4f35fd7f\")) {\n",
       "                    Plotly.newPlot(\n",
       "                        'cb62e776-4826-4f20-9358-3bac4f35fd7f',\n",
       "                        [{\"customdata\": [[\"\\uac00\\uad6c\"], [\"\\uac00\\uc804\"], [\"\\ub808\\uc800\\uc6a9\\ud488\"], [\"\\uc2e0\\ubcc0\\uc7a1\\ud654\"], [\"\\uc758\\ubcf5\"], [\"\\uc790\\ub3d9\\ucc28\\uc815\\ube44\"], [\"\\uc790\\ub3d9\\ucc28\\ud310\\ub9e4\"], [\"\\uc8fc\\ubc29\\uc6a9\\uad6c\"], [\"\\uc9c1\\ubb3c\"]], \"hoverlabel\": {\"namelength\": 0}, \"hovertemplate\": \"cat_clus=CAT1<br>slope_middle=%{x}<br>slope_after=%{y}<br>cat=%{customdata[0]}<br>catnm1=%{text}\", \"legendgroup\": \"cat_clus=CAT1\", \"marker\": {\"color\": \"rgb(85,107,47)\", \"size\": 15, \"symbol\": \"circle\"}, \"mode\": \"markers+text\", \"name\": \"cat_clus=CAT1\", \"showlegend\": true, \"text\": [\"\\uac00\\uad6c\", \"\\uac00\\uc804\", \"\", \"\", \"\", \"\", \"\\uc790\\ub3d9\\ucc28\\ud310\\ub9e4\", \"\\uc8fc\\ubc29\\uc6a9\\uad6c\", \"\\uc9c1\\ubb3c\"], \"textfont\": {\"size\": 15}, \"textposition\": \"bottom center\", \"type\": \"scatter\", \"x\": [-0.6309311725205458, -0.016177994465933897, 0.0887006649825237, 0.17756280928693477, 0.20430677323755225, 0.14471267028968396, -1.4705165333093033, 1.8537139327311432, -0.558416597525803], \"xaxis\": \"x\", \"y\": [0.7160985479616253, 0.2614340922107615, 0.7678874180738257, 0.6363502562084786, 0.6667138080390141, 0.5248950810587032, 0.718673327513154, 2.512244856237176, 1.5864965639224795], \"yaxis\": \"y\"}, {\"customdata\": [[\"\\uad11\\ud559\\uc81c\\ud488\"], [\"\\ubcf4\\uac74\\uc704\\uc0dd\"], [\"\\uc218\\ub9ac\\uc11c\\ube44\\uc2a4\"], [\"\\uc5f0\\ub8cc\\ud310\\ub9e4\"], [\"\\uc694\\uc2dd\\uc5c5\\uc18c\"], [\"\\uc74c\\ub8cc\\uc2dd\\ud488\"], [\"\\uc758\\ub8cc\\uae30\\uad00\"]], \"hoverlabel\": {\"namelength\": 0}, \"hovertemplate\": \"cat_clus=CAT2<br>slope_middle=%{x}<br>slope_after=%{y}<br>cat=%{customdata[0]}<br>catnm1=%{text}\", \"legendgroup\": \"cat_clus=CAT2\", \"marker\": {\"color\": \"rgb(169,169,169)\", \"size\": 15, \"symbol\": \"circle\"}, \"mode\": \"markers+text\", \"name\": \"cat_clus=CAT2\", \"showlegend\": true, \"text\": [\"\", \"\", \"\", \"\\uc5f0\\ub8cc\\ud310\\ub9e4\", \"\", \"\", \"\\uc758\\ub8cc\\uae30\\uad00\"], \"textfont\": {\"size\": 15}, \"textposition\": \"bottom center\", \"type\": \"scatter\", \"x\": [0.376503953113609, 0.5277557968858487, -0.3022443975627369, -0.18551226703263704, 0.35279569899892416, 0.7641805850028786, -0.6193923418915016], \"xaxis\": \"x\", \"y\": [0.3092575217155801, 0.3254198728994353, 0.8514550033179541, 0.62457753651477, 0.26190967063189624, 0.3203005391824033, 0.10627619796491904], \"yaxis\": \"y\"}, {\"customdata\": [[\"\\ub808\\uc800\\uc5c5\\uc18c\"], [\"\\ubb38\\ud654\\ucde8\\ubbf8\"], [\"\\uc0ac\\ubb34\\ud1b5\\uc2e0\"], [\"\\uc11c\\uc801\\ubb38\\uad6c\"], [\"\\uc219\\ubc15\"], [\"\\uc720\\ud1b5\\uc5c5\"], [\"\\uc804\\uae30\"]], \"hoverlabel\": {\"namelength\": 0}, \"hovertemplate\": \"cat_clus=CAT3<br>slope_middle=%{x}<br>slope_after=%{y}<br>cat=%{customdata[0]}<br>catnm1=%{text}\", \"legendgroup\": \"cat_clus=CAT3\", \"marker\": {\"color\": \"rgb(250,128,114)\", \"size\": 15, \"symbol\": \"circle\"}, \"mode\": \"markers+text\", \"name\": \"cat_clus=CAT3\", \"showlegend\": true, \"text\": [\"\", \"\\ubb38\\ud654\\ucde8\\ubbf8\", \"\\uc0ac\\ubb34\\ud1b5\\uc2e0\", \"\\uc11c\\uc801\\ubb38\\uad6c\", \"\", \"\\uc720\\ud1b5\\uc5c5\", \"\\uc804\\uae30\"], \"textfont\": {\"size\": 15}, \"textposition\": \"bottom center\", \"type\": \"scatter\", \"x\": [1.0152570419646616, 1.1079241274916016, 0.9423293467411062, 0.40265032095000663, 0.35623941698741396, 0.5898825623860304, -2.1991978609625678], \"xaxis\": \"x\", \"y\": [0.4799651398197568, 0.45430801496416257, -2.204357548200018, 0.7339397532538713, 0.40364197865403995, 0.2110029402215408, 1.4833759590792839], \"yaxis\": \"y\"}],\n",
       "                        {\"autosize\": false, \"height\": 800, \"legend\": {\"tracegroupgap\": 0}, \"margin\": {\"b\": 20, \"l\": 20, \"pad\": 4, \"r\": 20, \"t\": 50}, \"shapes\": [{\"line\": {\"color\": \"red\", \"dash\": \"dash\", \"width\": 1}, \"type\": \"line\", \"x0\": 0.5, \"x1\": 0.5, \"y0\": -2.5, \"y1\": 2.5}, {\"line\": {\"color\": \"red\", \"dash\": \"dash\", \"width\": 1}, \"type\": \"line\", \"x0\": -2.2, \"x1\": 1.9, \"y0\": 0.5, \"y1\": 0.5}], \"showlegend\": false, \"template\": {\"data\": {\"bar\": [{\"error_x\": {\"color\": \"#2a3f5f\"}, \"error_y\": {\"color\": \"#2a3f5f\"}, \"marker\": {\"line\": {\"color\": \"white\", \"width\": 0.5}}, \"type\": \"bar\"}], \"barpolar\": [{\"marker\": {\"line\": {\"color\": \"white\", \"width\": 0.5}}, \"type\": \"barpolar\"}], \"carpet\": [{\"aaxis\": {\"endlinecolor\": \"#2a3f5f\", \"gridcolor\": \"#C8D4E3\", \"linecolor\": \"#C8D4E3\", \"minorgridcolor\": \"#C8D4E3\", \"startlinecolor\": \"#2a3f5f\"}, \"baxis\": {\"endlinecolor\": \"#2a3f5f\", \"gridcolor\": \"#C8D4E3\", \"linecolor\": \"#C8D4E3\", \"minorgridcolor\": \"#C8D4E3\", \"startlinecolor\": \"#2a3f5f\"}, \"type\": \"carpet\"}], \"choropleth\": [{\"colorbar\": {\"outlinewidth\": 0, \"ticks\": \"\"}, \"type\": \"choropleth\"}], \"contour\": [{\"colorbar\": {\"outlinewidth\": 0, \"ticks\": \"\"}, \"colorscale\": [[0.0, \"#0d0887\"], [0.1111111111111111, \"#46039f\"], [0.2222222222222222, \"#7201a8\"], [0.3333333333333333, \"#9c179e\"], [0.4444444444444444, \"#bd3786\"], [0.5555555555555556, \"#d8576b\"], [0.6666666666666666, \"#ed7953\"], [0.7777777777777778, \"#fb9f3a\"], [0.8888888888888888, \"#fdca26\"], [1.0, \"#f0f921\"]], \"type\": \"contour\"}], \"contourcarpet\": [{\"colorbar\": {\"outlinewidth\": 0, \"ticks\": \"\"}, \"type\": \"contourcarpet\"}], \"heatmap\": [{\"colorbar\": {\"outlinewidth\": 0, \"ticks\": \"\"}, \"colorscale\": [[0.0, \"#0d0887\"], [0.1111111111111111, \"#46039f\"], [0.2222222222222222, \"#7201a8\"], [0.3333333333333333, \"#9c179e\"], [0.4444444444444444, \"#bd3786\"], [0.5555555555555556, \"#d8576b\"], [0.6666666666666666, \"#ed7953\"], [0.7777777777777778, \"#fb9f3a\"], [0.8888888888888888, \"#fdca26\"], [1.0, \"#f0f921\"]], \"type\": \"heatmap\"}], \"heatmapgl\": [{\"colorbar\": {\"outlinewidth\": 0, \"ticks\": \"\"}, \"colorscale\": [[0.0, \"#0d0887\"], [0.1111111111111111, \"#46039f\"], [0.2222222222222222, \"#7201a8\"], [0.3333333333333333, \"#9c179e\"], [0.4444444444444444, \"#bd3786\"], [0.5555555555555556, \"#d8576b\"], [0.6666666666666666, \"#ed7953\"], [0.7777777777777778, \"#fb9f3a\"], [0.8888888888888888, \"#fdca26\"], [1.0, \"#f0f921\"]], \"type\": \"heatmapgl\"}], \"histogram\": [{\"marker\": {\"colorbar\": {\"outlinewidth\": 0, \"ticks\": \"\"}}, \"type\": \"histogram\"}], \"histogram2d\": [{\"colorbar\": {\"outlinewidth\": 0, \"ticks\": \"\"}, \"colorscale\": [[0.0, \"#0d0887\"], [0.1111111111111111, \"#46039f\"], [0.2222222222222222, \"#7201a8\"], [0.3333333333333333, \"#9c179e\"], [0.4444444444444444, \"#bd3786\"], [0.5555555555555556, \"#d8576b\"], [0.6666666666666666, \"#ed7953\"], [0.7777777777777778, \"#fb9f3a\"], [0.8888888888888888, \"#fdca26\"], [1.0, \"#f0f921\"]], \"type\": \"histogram2d\"}], \"histogram2dcontour\": [{\"colorbar\": {\"outlinewidth\": 0, \"ticks\": \"\"}, \"colorscale\": [[0.0, \"#0d0887\"], [0.1111111111111111, \"#46039f\"], [0.2222222222222222, \"#7201a8\"], [0.3333333333333333, \"#9c179e\"], [0.4444444444444444, \"#bd3786\"], [0.5555555555555556, \"#d8576b\"], [0.6666666666666666, \"#ed7953\"], [0.7777777777777778, \"#fb9f3a\"], [0.8888888888888888, \"#fdca26\"], [1.0, \"#f0f921\"]], \"type\": \"histogram2dcontour\"}], \"mesh3d\": [{\"colorbar\": {\"outlinewidth\": 0, \"ticks\": \"\"}, \"type\": \"mesh3d\"}], \"parcoords\": [{\"line\": {\"colorbar\": {\"outlinewidth\": 0, \"ticks\": \"\"}}, \"type\": \"parcoords\"}], \"pie\": [{\"automargin\": true, \"type\": \"pie\"}], \"scatter\": [{\"marker\": {\"colorbar\": {\"outlinewidth\": 0, \"ticks\": \"\"}}, \"type\": \"scatter\"}], \"scatter3d\": [{\"line\": {\"colorbar\": {\"outlinewidth\": 0, \"ticks\": \"\"}}, \"marker\": {\"colorbar\": {\"outlinewidth\": 0, \"ticks\": \"\"}}, \"type\": \"scatter3d\"}], \"scattercarpet\": [{\"marker\": {\"colorbar\": {\"outlinewidth\": 0, \"ticks\": \"\"}}, \"type\": \"scattercarpet\"}], \"scattergeo\": [{\"marker\": {\"colorbar\": {\"outlinewidth\": 0, \"ticks\": \"\"}}, \"type\": \"scattergeo\"}], \"scattergl\": [{\"marker\": {\"colorbar\": {\"outlinewidth\": 0, \"ticks\": \"\"}}, \"type\": \"scattergl\"}], \"scattermapbox\": [{\"marker\": {\"colorbar\": {\"outlinewidth\": 0, \"ticks\": \"\"}}, \"type\": \"scattermapbox\"}], \"scatterpolar\": [{\"marker\": {\"colorbar\": {\"outlinewidth\": 0, \"ticks\": \"\"}}, \"type\": \"scatterpolar\"}], \"scatterpolargl\": [{\"marker\": {\"colorbar\": {\"outlinewidth\": 0, \"ticks\": \"\"}}, \"type\": \"scatterpolargl\"}], \"scatterternary\": [{\"marker\": {\"colorbar\": {\"outlinewidth\": 0, \"ticks\": \"\"}}, \"type\": \"scatterternary\"}], \"surface\": [{\"colorbar\": {\"outlinewidth\": 0, \"ticks\": \"\"}, \"colorscale\": [[0.0, \"#0d0887\"], [0.1111111111111111, \"#46039f\"], [0.2222222222222222, \"#7201a8\"], [0.3333333333333333, \"#9c179e\"], [0.4444444444444444, \"#bd3786\"], [0.5555555555555556, \"#d8576b\"], [0.6666666666666666, \"#ed7953\"], [0.7777777777777778, \"#fb9f3a\"], [0.8888888888888888, \"#fdca26\"], [1.0, \"#f0f921\"]], \"type\": \"surface\"}], \"table\": [{\"cells\": {\"fill\": {\"color\": \"#EBF0F8\"}, \"line\": {\"color\": \"white\"}}, \"header\": {\"fill\": {\"color\": \"#C8D4E3\"}, \"line\": {\"color\": \"white\"}}, \"type\": \"table\"}]}, \"layout\": {\"annotationdefaults\": {\"arrowcolor\": \"#2a3f5f\", \"arrowhead\": 0, \"arrowwidth\": 1}, \"coloraxis\": {\"colorbar\": {\"outlinewidth\": 0, \"ticks\": \"\"}}, \"colorscale\": {\"diverging\": [[0, \"#8e0152\"], [0.1, \"#c51b7d\"], [0.2, \"#de77ae\"], [0.3, \"#f1b6da\"], [0.4, \"#fde0ef\"], [0.5, \"#f7f7f7\"], [0.6, \"#e6f5d0\"], [0.7, \"#b8e186\"], [0.8, \"#7fbc41\"], [0.9, \"#4d9221\"], [1, \"#276419\"]], \"sequential\": [[0.0, \"#0d0887\"], [0.1111111111111111, \"#46039f\"], [0.2222222222222222, \"#7201a8\"], [0.3333333333333333, \"#9c179e\"], [0.4444444444444444, \"#bd3786\"], [0.5555555555555556, \"#d8576b\"], [0.6666666666666666, \"#ed7953\"], [0.7777777777777778, \"#fb9f3a\"], [0.8888888888888888, \"#fdca26\"], [1.0, \"#f0f921\"]], \"sequentialminus\": [[0.0, \"#0d0887\"], [0.1111111111111111, \"#46039f\"], [0.2222222222222222, \"#7201a8\"], [0.3333333333333333, \"#9c179e\"], [0.4444444444444444, \"#bd3786\"], [0.5555555555555556, \"#d8576b\"], [0.6666666666666666, \"#ed7953\"], [0.7777777777777778, \"#fb9f3a\"], [0.8888888888888888, \"#fdca26\"], [1.0, \"#f0f921\"]]}, \"colorway\": [\"#636efa\", \"#EF553B\", \"#00cc96\", \"#ab63fa\", \"#FFA15A\", \"#19d3f3\", \"#FF6692\", \"#B6E880\", \"#FF97FF\", \"#FECB52\"], \"font\": {\"color\": \"#2a3f5f\"}, \"geo\": {\"bgcolor\": \"white\", \"lakecolor\": \"white\", \"landcolor\": \"white\", \"showlakes\": true, \"showland\": true, \"subunitcolor\": \"#C8D4E3\"}, \"hoverlabel\": {\"align\": \"left\"}, \"hovermode\": \"closest\", \"mapbox\": {\"style\": \"light\"}, \"paper_bgcolor\": \"white\", \"plot_bgcolor\": \"white\", \"polar\": {\"angularaxis\": {\"gridcolor\": \"#EBF0F8\", \"linecolor\": \"#EBF0F8\", \"ticks\": \"\"}, \"bgcolor\": \"white\", \"radialaxis\": {\"gridcolor\": \"#EBF0F8\", \"linecolor\": \"#EBF0F8\", \"ticks\": \"\"}}, \"scene\": {\"xaxis\": {\"backgroundcolor\": \"white\", \"gridcolor\": \"#DFE8F3\", \"gridwidth\": 2, \"linecolor\": \"#EBF0F8\", \"showbackground\": true, \"ticks\": \"\", \"zerolinecolor\": \"#EBF0F8\"}, \"yaxis\": {\"backgroundcolor\": \"white\", \"gridcolor\": \"#DFE8F3\", \"gridwidth\": 2, \"linecolor\": \"#EBF0F8\", \"showbackground\": true, \"ticks\": \"\", \"zerolinecolor\": \"#EBF0F8\"}, \"zaxis\": {\"backgroundcolor\": \"white\", \"gridcolor\": \"#DFE8F3\", \"gridwidth\": 2, \"linecolor\": \"#EBF0F8\", \"showbackground\": true, \"ticks\": \"\", \"zerolinecolor\": \"#EBF0F8\"}}, \"shapedefaults\": {\"line\": {\"color\": \"#2a3f5f\"}}, \"ternary\": {\"aaxis\": {\"gridcolor\": \"#DFE8F3\", \"linecolor\": \"#A2B1C6\", \"ticks\": \"\"}, \"baxis\": {\"gridcolor\": \"#DFE8F3\", \"linecolor\": \"#A2B1C6\", \"ticks\": \"\"}, \"bgcolor\": \"white\", \"caxis\": {\"gridcolor\": \"#DFE8F3\", \"linecolor\": \"#A2B1C6\", \"ticks\": \"\"}}, \"title\": {\"x\": 0.05}, \"xaxis\": {\"automargin\": true, \"gridcolor\": \"#EBF0F8\", \"linecolor\": \"#EBF0F8\", \"ticks\": \"\", \"title\": {\"standoff\": 15}, \"zerolinecolor\": \"#EBF0F8\", \"zerolinewidth\": 2}, \"yaxis\": {\"automargin\": true, \"gridcolor\": \"#EBF0F8\", \"linecolor\": \"#EBF0F8\", \"ticks\": \"\", \"title\": {\"standoff\": 15}, \"zerolinecolor\": \"#EBF0F8\", \"zerolinewidth\": 2}}}, \"title\": {\"font\": {\"size\": 20}, \"text\": \"\\ud68c\\ubcf5\\ub3c4 \\ubc0f \\ud0c0\\uaca9\\ub3c4 / \\ud074\\ub7ec\\uc2a4\\ud130\\ubcc4 / \\uc911\\uad6c \\ube4c\\ub529\\uc232\"}, \"width\": 600, \"xaxis\": {\"anchor\": \"y\", \"domain\": [0.0, 1.0], \"title\": {\"font\": {\"size\": 16}, \"text\": \"\\ud0c0\\uaca9\\ub3c4 (\\uc2e0\\ucc9c\\uc9c0 - \\uc0ac\\ud68c\\uc801 \\uac70\\ub9ac\\ub450\\uae30)\"}}, \"yaxis\": {\"anchor\": \"x\", \"domain\": [0.0, 1.0], \"title\": {\"font\": {\"size\": 16}, \"text\": \"\\ud68c\\ubcf5\\ub3c4 (\\uc0ac\\ud68c\\uc801 \\uac70\\ub9ac\\ub450\\uae30 - \\ucd5c\\uadfc)\"}}},\n",
       "                        {\"responsive\": true}\n",
       "                    ).then(function(){\n",
       "                            \n",
       "var gd = document.getElementById('cb62e776-4826-4f20-9358-3bac4f35fd7f');\n",
       "var x = new MutationObserver(function (mutations, observer) {{\n",
       "        var display = window.getComputedStyle(gd).display;\n",
       "        if (!display || display === 'none') {{\n",
       "            console.log([gd, 'removed!']);\n",
       "            Plotly.purge(gd);\n",
       "            observer.disconnect();\n",
       "        }}\n",
       "}});\n",
       "\n",
       "// Listen for the removal of the full notebook cells\n",
       "var notebookContainer = gd.closest('#notebook-container');\n",
       "if (notebookContainer) {{\n",
       "    x.observe(notebookContainer, {childList: true});\n",
       "}}\n",
       "\n",
       "// Listen for the clearing of the current output cell\n",
       "var outputEl = gd.closest('.output');\n",
       "if (outputEl) {{\n",
       "    x.observe(outputEl, {childList: true});\n",
       "}}\n",
       "\n",
       "                        })\n",
       "                };\n",
       "                \n",
       "            </script>\n",
       "        </div>\n",
       "</body>\n",
       "</html>"
      ]
     },
     "metadata": {
      "tags": []
     },
     "output_type": "display_data"
    }
   ],
   "source": [
    "show_scattor_tmsc4(add_catclus2(new_cat(draw_slope_tmsc(scr_s3, '중구 빌딩숲'))), -2.2, 1.9, -2.5, 2.5,'중구 빌딩숲', 'catnm1')"
   ]
  },
  {
   "cell_type": "code",
   "execution_count": null,
   "metadata": {
    "colab": {
     "base_uri": "https://localhost:8080/",
     "height": 817
    },
    "id": "g4Wag0YAboRR",
    "outputId": "a00b6ff0-78d7-40d4-b334-909311987322"
   },
   "outputs": [
    {
     "data": {
      "text/html": [
       "<html>\n",
       "<head><meta charset=\"utf-8\" /></head>\n",
       "<body>\n",
       "    <div>\n",
       "            <script src=\"https://cdnjs.cloudflare.com/ajax/libs/mathjax/2.7.5/MathJax.js?config=TeX-AMS-MML_SVG\"></script><script type=\"text/javascript\">if (window.MathJax) {MathJax.Hub.Config({SVG: {font: \"STIX-Web\"}});}</script>\n",
       "                <script type=\"text/javascript\">window.PlotlyConfig = {MathJaxConfig: 'local'};</script>\n",
       "        <script src=\"https://cdn.plot.ly/plotly-latest.min.js\"></script>    \n",
       "            <div id=\"f20c0f42-1a30-49a8-b3ba-676cf85ccbe5\" class=\"plotly-graph-div\" style=\"height:800px; width:600px;\"></div>\n",
       "            <script type=\"text/javascript\">\n",
       "                \n",
       "                    window.PLOTLYENV=window.PLOTLYENV || {};\n",
       "                    \n",
       "                if (document.getElementById(\"f20c0f42-1a30-49a8-b3ba-676cf85ccbe5\")) {\n",
       "                    Plotly.newPlot(\n",
       "                        'f20c0f42-1a30-49a8-b3ba-676cf85ccbe5',\n",
       "                        [{\"customdata\": [[\"\\uac00\\uad6c\"], [\"\\uac00\\uc804\"], [\"\\ub808\\uc800\\uc6a9\\ud488\"], [\"\\uc2e0\\ubcc0\\uc7a1\\ud654\"], [\"\\uc758\\ubcf5\"], [\"\\uc790\\ub3d9\\ucc28\\uc815\\ube44\"], [\"\\uc790\\ub3d9\\ucc28\\ud310\\ub9e4\"], [\"\\uc8fc\\ubc29\\uc6a9\\uad6c\"], [\"\\uc9c1\\ubb3c\"]], \"hoverlabel\": {\"namelength\": 0}, \"hovertemplate\": \"cat_clus=CAT1<br>slope_middle=%{x}<br>slope_after=%{y}<br>cat=%{customdata[0]}<br>catnm2=%{text}\", \"legendgroup\": \"cat_clus=CAT1\", \"marker\": {\"color\": \"rgb(85,107,47)\", \"size\": 15, \"symbol\": \"circle\"}, \"mode\": \"markers+text\", \"name\": \"cat_clus=CAT1\", \"showlegend\": true, \"text\": [\"\\uac00\\uad6c\", \"\\uac00\\uc804\", \"\\ub808\\uc800\\uc6a9\\ud488\", \"\\uc2e0\\ubcc0\\uc7a1\\ud654\", \"\\uc758\\ubcf5\", \"\", \"\\uc790\\ub3d9\\ucc28\\ud310\\ub9e4\", \"\\uc8fc\\ubc29\\uc6a9\\uad6c\", \"\\uc9c1\\ubb3c\"], \"textfont\": {\"size\": 15}, \"textposition\": \"bottom center\", \"type\": \"scatter\", \"x\": [-0.6999826433119122, -0.3987303341540288, 2.140165360577105, 0.9116386240598647, 0.5629018148147178, 0.36568186491686705, -0.7307806340553076, 0.4391582048863861, 0.4108841611766115], \"xaxis\": \"x\", \"y\": [1.6113177492926387, 0.7938989352686662, 1.0245309189516523, 0.9217115776166513, 0.5322353983424125, 0.3506144422312947, 0.710404175015132, 0.8054747149828562, 1.1128368016491705], \"yaxis\": \"y\"}, {\"customdata\": [[\"\\uad11\\ud559\\uc81c\\ud488\"], [\"\\ubcf4\\uac74\\uc704\\uc0dd\"], [\"\\uc218\\ub9ac\\uc11c\\ube44\\uc2a4\"], [\"\\uc5f0\\ub8cc\\ud310\\ub9e4\"], [\"\\uc694\\uc2dd\\uc5c5\\uc18c\"], [\"\\uc74c\\ub8cc\\uc2dd\\ud488\"], [\"\\uc758\\ub8cc\\uae30\\uad00\"]], \"hoverlabel\": {\"namelength\": 0}, \"hovertemplate\": \"cat_clus=CAT2<br>slope_middle=%{x}<br>slope_after=%{y}<br>cat=%{customdata[0]}<br>catnm2=%{text}\", \"legendgroup\": \"cat_clus=CAT2\", \"marker\": {\"color\": \"rgb(169,169,169)\", \"size\": 15, \"symbol\": \"circle\"}, \"mode\": \"markers+text\", \"name\": \"cat_clus=CAT2\", \"showlegend\": true, \"text\": [\"\", \"\\ubcf4\\uac74\\uc704\\uc0dd\", \"\\uc218\\ub9ac\\uc11c\\ube44\\uc2a4\", \"\\uc5f0\\ub8cc\\ud310\\ub9e4\", \"\\uc694\\uc2dd\\uc5c5\\uc18c\", \"\", \"\\uc758\\ub8cc\\uae30\\uad00\"], \"textfont\": {\"size\": 15}, \"textposition\": \"bottom center\", \"type\": \"scatter\", \"x\": [-0.3920662142685959, 0.4326323673151573, -0.06078215025233123, -0.10822713261027095, 0.6632747963578397, 0.47447759991250127, -0.2325271677701917], \"xaxis\": \"x\", \"y\": [0.38019344579771996, 0.3923041251643447, -0.1743445505278769, 0.16001105547453848, 0.27702035118749874, 0.4887348938712595, 0.29274014177883834], \"yaxis\": \"y\"}, {\"customdata\": [[\"\\ub808\\uc800\\uc5c5\\uc18c\"], [\"\\ubb38\\ud654\\ucde8\\ubbf8\"], [\"\\uc0ac\\ubb34\\ud1b5\\uc2e0\"], [\"\\uc11c\\uc801\\ubb38\\uad6c\"], [\"\\uc219\\ubc15\"], [\"\\uc720\\ud1b5\\uc5c5\"], [\"\\uc804\\uae30\"]], \"hoverlabel\": {\"namelength\": 0}, \"hovertemplate\": \"cat_clus=CAT3<br>slope_middle=%{x}<br>slope_after=%{y}<br>cat=%{customdata[0]}<br>catnm2=%{text}\", \"legendgroup\": \"cat_clus=CAT3\", \"marker\": {\"color\": \"rgb(250,128,114)\", \"size\": 15, \"symbol\": \"circle\"}, \"mode\": \"markers+text\", \"name\": \"cat_clus=CAT3\", \"showlegend\": true, \"text\": [\"\\ub808\\uc800\\uc5c5\\uc18c\", \"\\ubb38\\ud654\\ucde8\\ubbf8\", \"\\uc0ac\\ubb34\\ud1b5\\uc2e0\", \"\\uc11c\\uc801\\ubb38\\uad6c\", \"\\uc219\\ubc15\", \"\\uc720\\ud1b5\\uc5c5\", \"\\uc804\\uae30\"], \"textfont\": {\"size\": 15}, \"textposition\": \"bottom center\", \"type\": \"scatter\", \"x\": [0.8901621039017681, -0.9585841330150542, -0.7083064455376136, 2.374501726236526, 1.100753947226276, 1.110741576125828, -1.8701935319582383], \"xaxis\": \"x\", \"y\": [0.21624151138438882, 0.35988908921318497, 0.06932902055993097, 0.17064634561192862, 0.5444841122183056, 0.1195607292524755, 0.9252326533507772], \"yaxis\": \"y\"}],\n",
       "                        {\"autosize\": false, \"height\": 800, \"legend\": {\"tracegroupgap\": 0}, \"margin\": {\"b\": 20, \"l\": 20, \"pad\": 4, \"r\": 20, \"t\": 50}, \"shapes\": [{\"line\": {\"color\": \"red\", \"dash\": \"dash\", \"width\": 1}, \"type\": \"line\", \"x0\": 0.5, \"x1\": 0.5, \"y0\": -0.2, \"y1\": 1.65}, {\"line\": {\"color\": \"red\", \"dash\": \"dash\", \"width\": 1}, \"type\": \"line\", \"x0\": -2, \"x1\": 2.21, \"y0\": 0.5, \"y1\": 0.5}], \"showlegend\": false, \"template\": {\"data\": {\"bar\": [{\"error_x\": {\"color\": \"#2a3f5f\"}, \"error_y\": {\"color\": \"#2a3f5f\"}, \"marker\": {\"line\": {\"color\": \"white\", \"width\": 0.5}}, \"type\": \"bar\"}], \"barpolar\": [{\"marker\": {\"line\": {\"color\": \"white\", \"width\": 0.5}}, \"type\": \"barpolar\"}], \"carpet\": [{\"aaxis\": {\"endlinecolor\": \"#2a3f5f\", \"gridcolor\": \"#C8D4E3\", \"linecolor\": \"#C8D4E3\", \"minorgridcolor\": \"#C8D4E3\", \"startlinecolor\": \"#2a3f5f\"}, \"baxis\": {\"endlinecolor\": \"#2a3f5f\", \"gridcolor\": \"#C8D4E3\", \"linecolor\": \"#C8D4E3\", \"minorgridcolor\": \"#C8D4E3\", \"startlinecolor\": \"#2a3f5f\"}, \"type\": \"carpet\"}], \"choropleth\": [{\"colorbar\": {\"outlinewidth\": 0, \"ticks\": \"\"}, \"type\": \"choropleth\"}], \"contour\": [{\"colorbar\": {\"outlinewidth\": 0, \"ticks\": \"\"}, \"colorscale\": [[0.0, \"#0d0887\"], [0.1111111111111111, \"#46039f\"], [0.2222222222222222, \"#7201a8\"], [0.3333333333333333, \"#9c179e\"], [0.4444444444444444, \"#bd3786\"], [0.5555555555555556, \"#d8576b\"], [0.6666666666666666, \"#ed7953\"], [0.7777777777777778, \"#fb9f3a\"], [0.8888888888888888, \"#fdca26\"], [1.0, \"#f0f921\"]], \"type\": \"contour\"}], \"contourcarpet\": [{\"colorbar\": {\"outlinewidth\": 0, \"ticks\": \"\"}, \"type\": \"contourcarpet\"}], \"heatmap\": [{\"colorbar\": {\"outlinewidth\": 0, \"ticks\": \"\"}, \"colorscale\": [[0.0, \"#0d0887\"], [0.1111111111111111, \"#46039f\"], [0.2222222222222222, \"#7201a8\"], [0.3333333333333333, \"#9c179e\"], [0.4444444444444444, \"#bd3786\"], [0.5555555555555556, \"#d8576b\"], [0.6666666666666666, \"#ed7953\"], [0.7777777777777778, \"#fb9f3a\"], [0.8888888888888888, \"#fdca26\"], [1.0, \"#f0f921\"]], \"type\": \"heatmap\"}], \"heatmapgl\": [{\"colorbar\": {\"outlinewidth\": 0, \"ticks\": \"\"}, \"colorscale\": [[0.0, \"#0d0887\"], [0.1111111111111111, \"#46039f\"], [0.2222222222222222, \"#7201a8\"], [0.3333333333333333, \"#9c179e\"], [0.4444444444444444, \"#bd3786\"], [0.5555555555555556, \"#d8576b\"], [0.6666666666666666, \"#ed7953\"], [0.7777777777777778, \"#fb9f3a\"], [0.8888888888888888, \"#fdca26\"], [1.0, \"#f0f921\"]], \"type\": \"heatmapgl\"}], \"histogram\": [{\"marker\": {\"colorbar\": {\"outlinewidth\": 0, \"ticks\": \"\"}}, \"type\": \"histogram\"}], \"histogram2d\": [{\"colorbar\": {\"outlinewidth\": 0, \"ticks\": \"\"}, \"colorscale\": [[0.0, \"#0d0887\"], [0.1111111111111111, \"#46039f\"], [0.2222222222222222, \"#7201a8\"], [0.3333333333333333, \"#9c179e\"], [0.4444444444444444, \"#bd3786\"], [0.5555555555555556, \"#d8576b\"], [0.6666666666666666, \"#ed7953\"], [0.7777777777777778, \"#fb9f3a\"], [0.8888888888888888, \"#fdca26\"], [1.0, \"#f0f921\"]], \"type\": \"histogram2d\"}], \"histogram2dcontour\": [{\"colorbar\": {\"outlinewidth\": 0, \"ticks\": \"\"}, \"colorscale\": [[0.0, \"#0d0887\"], [0.1111111111111111, \"#46039f\"], [0.2222222222222222, \"#7201a8\"], [0.3333333333333333, \"#9c179e\"], [0.4444444444444444, \"#bd3786\"], [0.5555555555555556, \"#d8576b\"], [0.6666666666666666, \"#ed7953\"], [0.7777777777777778, \"#fb9f3a\"], [0.8888888888888888, \"#fdca26\"], [1.0, \"#f0f921\"]], \"type\": \"histogram2dcontour\"}], \"mesh3d\": [{\"colorbar\": {\"outlinewidth\": 0, \"ticks\": \"\"}, \"type\": \"mesh3d\"}], \"parcoords\": [{\"line\": {\"colorbar\": {\"outlinewidth\": 0, \"ticks\": \"\"}}, \"type\": \"parcoords\"}], \"pie\": [{\"automargin\": true, \"type\": \"pie\"}], \"scatter\": [{\"marker\": {\"colorbar\": {\"outlinewidth\": 0, \"ticks\": \"\"}}, \"type\": \"scatter\"}], \"scatter3d\": [{\"line\": {\"colorbar\": {\"outlinewidth\": 0, \"ticks\": \"\"}}, \"marker\": {\"colorbar\": {\"outlinewidth\": 0, \"ticks\": \"\"}}, \"type\": \"scatter3d\"}], \"scattercarpet\": [{\"marker\": {\"colorbar\": {\"outlinewidth\": 0, \"ticks\": \"\"}}, \"type\": \"scattercarpet\"}], \"scattergeo\": [{\"marker\": {\"colorbar\": {\"outlinewidth\": 0, \"ticks\": \"\"}}, \"type\": \"scattergeo\"}], \"scattergl\": [{\"marker\": {\"colorbar\": {\"outlinewidth\": 0, \"ticks\": \"\"}}, \"type\": \"scattergl\"}], \"scattermapbox\": [{\"marker\": {\"colorbar\": {\"outlinewidth\": 0, \"ticks\": \"\"}}, \"type\": \"scattermapbox\"}], \"scatterpolar\": [{\"marker\": {\"colorbar\": {\"outlinewidth\": 0, \"ticks\": \"\"}}, \"type\": \"scatterpolar\"}], \"scatterpolargl\": [{\"marker\": {\"colorbar\": {\"outlinewidth\": 0, \"ticks\": \"\"}}, \"type\": \"scatterpolargl\"}], \"scatterternary\": [{\"marker\": {\"colorbar\": {\"outlinewidth\": 0, \"ticks\": \"\"}}, \"type\": \"scatterternary\"}], \"surface\": [{\"colorbar\": {\"outlinewidth\": 0, \"ticks\": \"\"}, \"colorscale\": [[0.0, \"#0d0887\"], [0.1111111111111111, \"#46039f\"], [0.2222222222222222, \"#7201a8\"], [0.3333333333333333, \"#9c179e\"], [0.4444444444444444, \"#bd3786\"], [0.5555555555555556, \"#d8576b\"], [0.6666666666666666, \"#ed7953\"], [0.7777777777777778, \"#fb9f3a\"], [0.8888888888888888, \"#fdca26\"], [1.0, \"#f0f921\"]], \"type\": \"surface\"}], \"table\": [{\"cells\": {\"fill\": {\"color\": \"#EBF0F8\"}, \"line\": {\"color\": \"white\"}}, \"header\": {\"fill\": {\"color\": \"#C8D4E3\"}, \"line\": {\"color\": \"white\"}}, \"type\": \"table\"}]}, \"layout\": {\"annotationdefaults\": {\"arrowcolor\": \"#2a3f5f\", \"arrowhead\": 0, \"arrowwidth\": 1}, \"coloraxis\": {\"colorbar\": {\"outlinewidth\": 0, \"ticks\": \"\"}}, \"colorscale\": {\"diverging\": [[0, \"#8e0152\"], [0.1, \"#c51b7d\"], [0.2, \"#de77ae\"], [0.3, \"#f1b6da\"], [0.4, \"#fde0ef\"], [0.5, \"#f7f7f7\"], [0.6, \"#e6f5d0\"], [0.7, \"#b8e186\"], [0.8, \"#7fbc41\"], [0.9, \"#4d9221\"], [1, \"#276419\"]], \"sequential\": [[0.0, \"#0d0887\"], [0.1111111111111111, \"#46039f\"], [0.2222222222222222, \"#7201a8\"], [0.3333333333333333, \"#9c179e\"], [0.4444444444444444, \"#bd3786\"], [0.5555555555555556, \"#d8576b\"], [0.6666666666666666, \"#ed7953\"], [0.7777777777777778, \"#fb9f3a\"], [0.8888888888888888, \"#fdca26\"], [1.0, \"#f0f921\"]], \"sequentialminus\": [[0.0, \"#0d0887\"], [0.1111111111111111, \"#46039f\"], [0.2222222222222222, \"#7201a8\"], [0.3333333333333333, \"#9c179e\"], [0.4444444444444444, \"#bd3786\"], [0.5555555555555556, \"#d8576b\"], [0.6666666666666666, \"#ed7953\"], [0.7777777777777778, \"#fb9f3a\"], [0.8888888888888888, \"#fdca26\"], [1.0, \"#f0f921\"]]}, \"colorway\": [\"#636efa\", \"#EF553B\", \"#00cc96\", \"#ab63fa\", \"#FFA15A\", \"#19d3f3\", \"#FF6692\", \"#B6E880\", \"#FF97FF\", \"#FECB52\"], \"font\": {\"color\": \"#2a3f5f\"}, \"geo\": {\"bgcolor\": \"white\", \"lakecolor\": \"white\", \"landcolor\": \"white\", \"showlakes\": true, \"showland\": true, \"subunitcolor\": \"#C8D4E3\"}, \"hoverlabel\": {\"align\": \"left\"}, \"hovermode\": \"closest\", \"mapbox\": {\"style\": \"light\"}, \"paper_bgcolor\": \"white\", \"plot_bgcolor\": \"white\", \"polar\": {\"angularaxis\": {\"gridcolor\": \"#EBF0F8\", \"linecolor\": \"#EBF0F8\", \"ticks\": \"\"}, \"bgcolor\": \"white\", \"radialaxis\": {\"gridcolor\": \"#EBF0F8\", \"linecolor\": \"#EBF0F8\", \"ticks\": \"\"}}, \"scene\": {\"xaxis\": {\"backgroundcolor\": \"white\", \"gridcolor\": \"#DFE8F3\", \"gridwidth\": 2, \"linecolor\": \"#EBF0F8\", \"showbackground\": true, \"ticks\": \"\", \"zerolinecolor\": \"#EBF0F8\"}, \"yaxis\": {\"backgroundcolor\": \"white\", \"gridcolor\": \"#DFE8F3\", \"gridwidth\": 2, \"linecolor\": \"#EBF0F8\", \"showbackground\": true, \"ticks\": \"\", \"zerolinecolor\": \"#EBF0F8\"}, \"zaxis\": {\"backgroundcolor\": \"white\", \"gridcolor\": \"#DFE8F3\", \"gridwidth\": 2, \"linecolor\": \"#EBF0F8\", \"showbackground\": true, \"ticks\": \"\", \"zerolinecolor\": \"#EBF0F8\"}}, \"shapedefaults\": {\"line\": {\"color\": \"#2a3f5f\"}}, \"ternary\": {\"aaxis\": {\"gridcolor\": \"#DFE8F3\", \"linecolor\": \"#A2B1C6\", \"ticks\": \"\"}, \"baxis\": {\"gridcolor\": \"#DFE8F3\", \"linecolor\": \"#A2B1C6\", \"ticks\": \"\"}, \"bgcolor\": \"white\", \"caxis\": {\"gridcolor\": \"#DFE8F3\", \"linecolor\": \"#A2B1C6\", \"ticks\": \"\"}}, \"title\": {\"x\": 0.05}, \"xaxis\": {\"automargin\": true, \"gridcolor\": \"#EBF0F8\", \"linecolor\": \"#EBF0F8\", \"ticks\": \"\", \"title\": {\"standoff\": 15}, \"zerolinecolor\": \"#EBF0F8\", \"zerolinewidth\": 2}, \"yaxis\": {\"automargin\": true, \"gridcolor\": \"#EBF0F8\", \"linecolor\": \"#EBF0F8\", \"ticks\": \"\", \"title\": {\"standoff\": 15}, \"zerolinecolor\": \"#EBF0F8\", \"zerolinewidth\": 2}}}, \"title\": {\"font\": {\"size\": 20}, \"text\": \"\\ud68c\\ubcf5\\ub3c4 \\ubc0f \\ud0c0\\uaca9\\ub3c4 / \\ud074\\ub7ec\\uc2a4\\ud130\\ubcc4 / \\uc911\\uad6c \\uc18c\\uc0c1\\uacf5\"}, \"width\": 600, \"xaxis\": {\"anchor\": \"y\", \"domain\": [0.0, 1.0], \"title\": {\"font\": {\"size\": 16}, \"text\": \"\\ud0c0\\uaca9\\ub3c4 (\\uc2e0\\ucc9c\\uc9c0 - \\uc0ac\\ud68c\\uc801 \\uac70\\ub9ac\\ub450\\uae30)\"}}, \"yaxis\": {\"anchor\": \"x\", \"domain\": [0.0, 1.0], \"title\": {\"font\": {\"size\": 16}, \"text\": \"\\ud68c\\ubcf5\\ub3c4 (\\uc0ac\\ud68c\\uc801 \\uac70\\ub9ac\\ub450\\uae30 - \\ucd5c\\uadfc)\"}}},\n",
       "                        {\"responsive\": true}\n",
       "                    ).then(function(){\n",
       "                            \n",
       "var gd = document.getElementById('f20c0f42-1a30-49a8-b3ba-676cf85ccbe5');\n",
       "var x = new MutationObserver(function (mutations, observer) {{\n",
       "        var display = window.getComputedStyle(gd).display;\n",
       "        if (!display || display === 'none') {{\n",
       "            console.log([gd, 'removed!']);\n",
       "            Plotly.purge(gd);\n",
       "            observer.disconnect();\n",
       "        }}\n",
       "}});\n",
       "\n",
       "// Listen for the removal of the full notebook cells\n",
       "var notebookContainer = gd.closest('#notebook-container');\n",
       "if (notebookContainer) {{\n",
       "    x.observe(notebookContainer, {childList: true});\n",
       "}}\n",
       "\n",
       "// Listen for the clearing of the current output cell\n",
       "var outputEl = gd.closest('.output');\n",
       "if (outputEl) {{\n",
       "    x.observe(outputEl, {childList: true});\n",
       "}}\n",
       "\n",
       "                        })\n",
       "                };\n",
       "                \n",
       "            </script>\n",
       "        </div>\n",
       "</body>\n",
       "</html>"
      ]
     },
     "metadata": {
      "tags": []
     },
     "output_type": "display_data"
    }
   ],
   "source": [
    "show_scattor_tmsc4(add_catclus2(new_cat(draw_slope_tmsc(scr_s2, '중구 소상공'))), -2, 2.21, -0.2, 1.65, '중구 소상공', 'catnm2')"
   ]
  },
  {
   "cell_type": "code",
   "execution_count": null,
   "metadata": {
    "colab": {
     "base_uri": "https://localhost:8080/",
     "height": 817
    },
    "id": "fAW3QvAkcEhy",
    "outputId": "7dcbf833-f7f7-4c3f-9519-890b57bd28a4"
   },
   "outputs": [
    {
     "data": {
      "text/html": [
       "<html>\n",
       "<head><meta charset=\"utf-8\" /></head>\n",
       "<body>\n",
       "    <div>\n",
       "            <script src=\"https://cdnjs.cloudflare.com/ajax/libs/mathjax/2.7.5/MathJax.js?config=TeX-AMS-MML_SVG\"></script><script type=\"text/javascript\">if (window.MathJax) {MathJax.Hub.Config({SVG: {font: \"STIX-Web\"}});}</script>\n",
       "                <script type=\"text/javascript\">window.PlotlyConfig = {MathJaxConfig: 'local'};</script>\n",
       "        <script src=\"https://cdn.plot.ly/plotly-latest.min.js\"></script>    \n",
       "            <div id=\"2a588749-1427-47c1-b140-65d379894697\" class=\"plotly-graph-div\" style=\"height:800px; width:600px;\"></div>\n",
       "            <script type=\"text/javascript\">\n",
       "                \n",
       "                    window.PLOTLYENV=window.PLOTLYENV || {};\n",
       "                    \n",
       "                if (document.getElementById(\"2a588749-1427-47c1-b140-65d379894697\")) {\n",
       "                    Plotly.newPlot(\n",
       "                        '2a588749-1427-47c1-b140-65d379894697',\n",
       "                        [{\"customdata\": [[\"\\uac00\\uad6c\"], [\"\\uac00\\uc804\"], [\"\\ub808\\uc800\\uc6a9\\ud488\"], [\"\\uc2e0\\ubcc0\\uc7a1\\ud654\"], [\"\\uc758\\ubcf5\"], [\"\\uc790\\ub3d9\\ucc28\\uc815\\ube44\"], [\"\\uc790\\ub3d9\\ucc28\\ud310\\ub9e4\"], [\"\\uc8fc\\ubc29\\uc6a9\\uad6c\"], [\"\\uc9c1\\ubb3c\"]], \"hoverlabel\": {\"namelength\": 0}, \"hovertemplate\": \"cat_clus=CAT1<br>slope_middle=%{x}<br>slope_after=%{y}<br>cat=%{customdata[0]}<br>catnm3=%{text}\", \"legendgroup\": \"cat_clus=CAT1\", \"marker\": {\"color\": \"rgb(85,107,47)\", \"size\": 15, \"symbol\": \"circle\"}, \"mode\": \"markers+text\", \"name\": \"cat_clus=CAT1\", \"showlegend\": true, \"text\": [\"\\uac00\\uad6c\", \"\", \"\", \"\", \"\\uc758\\ubcf5\", \"\", \"\\uc790\\ub3d9\\ucc28\\ud310\\ub9e4\", \"\", \"\\uc9c1\\ubb3c\"], \"textfont\": {\"size\": 15}, \"textposition\": \"bottom center\", \"type\": \"scatter\", \"x\": [-2.2980487649605297, -0.2206149519236386, -0.07350394191638052, 0.37462058892661804, 0.238102470504053, 0.7128250057421615, -6.053090431182008, -0.13558432746044935, -0.4916794252246705], \"xaxis\": \"x\", \"y\": [4.016065478277574, 0.7490357539488698, 0.5004941543275914, 0.1769248114271744, 2.0698116175531545, 0.36795662135476287, 1.3978113671144645, 0.7405179981128147, 2.919314862527763], \"yaxis\": \"y\"}, {\"customdata\": [[\"\\uad11\\ud559\\uc81c\\ud488\"], [\"\\ubcf4\\uac74\\uc704\\uc0dd\"], [\"\\uc218\\ub9ac\\uc11c\\ube44\\uc2a4\"], [\"\\uc5f0\\ub8cc\\ud310\\ub9e4\"], [\"\\uc694\\uc2dd\\uc5c5\\uc18c\"], [\"\\uc74c\\ub8cc\\uc2dd\\ud488\"], [\"\\uc758\\ub8cc\\uae30\\uad00\"]], \"hoverlabel\": {\"namelength\": 0}, \"hovertemplate\": \"cat_clus=CAT2<br>slope_middle=%{x}<br>slope_after=%{y}<br>cat=%{customdata[0]}<br>catnm3=%{text}\", \"legendgroup\": \"cat_clus=CAT2\", \"marker\": {\"color\": \"rgb(169,169,169)\", \"size\": 15, \"symbol\": \"circle\"}, \"mode\": \"markers+text\", \"name\": \"cat_clus=CAT2\", \"showlegend\": true, \"text\": [\"\", \"\", \"\\uc218\\ub9ac\\uc11c\\ube44\\uc2a4\", \"\", \"\", \"\", \"\"], \"textfont\": {\"size\": 15}, \"textposition\": \"bottom center\", \"type\": \"scatter\", \"x\": [0.22708103120949022, 0.4156217939983624, 0.034851481356170055, 0.081091708991385, 0.5425783537028809, 0.1328897771696551, -0.040813556563008654], \"xaxis\": \"x\", \"y\": [0.608988497402125, 0.5417830021740734, -0.29846464230949, 0.16517030141695327, 0.26698083852549914, 0.3193522195843759, 0.3484214648274338], \"yaxis\": \"y\"}, {\"customdata\": [[\"\\ub808\\uc800\\uc5c5\\uc18c\"], [\"\\ubb38\\ud654\\ucde8\\ubbf8\"], [\"\\uc0ac\\ubb34\\ud1b5\\uc2e0\"], [\"\\uc11c\\uc801\\ubb38\\uad6c\"], [\"\\uc219\\ubc15\"], [\"\\uc720\\ud1b5\\uc5c5\"], [\"\\uc804\\uae30\"]], \"hoverlabel\": {\"namelength\": 0}, \"hovertemplate\": \"cat_clus=CAT3<br>slope_middle=%{x}<br>slope_after=%{y}<br>cat=%{customdata[0]}<br>catnm3=%{text}\", \"legendgroup\": \"cat_clus=CAT3\", \"marker\": {\"color\": \"rgb(250,128,114)\", \"size\": 15, \"symbol\": \"circle\"}, \"mode\": \"markers+text\", \"name\": \"cat_clus=CAT3\", \"showlegend\": true, \"text\": [\"\", \"\", \"\", \"\", \"\", \"\\uc720\\ud1b5\\uc5c5\", \"\\uc804\\uae30\"], \"textfont\": {\"size\": 15}, \"textposition\": \"bottom center\", \"type\": \"scatter\", \"x\": [0.44692621221681517, -0.17799913752279, 0.783053748630882, 0.9315170005316639, 0.32016617304139305, 0.582628622363638, 1.6236416261909496], \"xaxis\": \"x\", \"y\": [0.3516930655857237, 0.6485569792553167, 0.6142114766008117, 0.5699421268782363, 0.2613472641376503, 0.07395430125063142, 0.631069716134024], \"yaxis\": \"y\"}],\n",
       "                        {\"autosize\": false, \"height\": 800, \"legend\": {\"tracegroupgap\": 0}, \"margin\": {\"b\": 20, \"l\": 20, \"pad\": 4, \"r\": 20, \"t\": 50}, \"shapes\": [{\"line\": {\"color\": \"red\", \"dash\": \"dash\", \"width\": 1}, \"type\": \"line\", \"x0\": 0.5, \"x1\": 0.5, \"y0\": -0.5, \"y1\": 4}, {\"line\": {\"color\": \"red\", \"dash\": \"dash\", \"width\": 1}, \"type\": \"line\", \"x0\": -6, \"x1\": 2, \"y0\": 0.5, \"y1\": 0.5}], \"showlegend\": false, \"template\": {\"data\": {\"bar\": [{\"error_x\": {\"color\": \"#2a3f5f\"}, \"error_y\": {\"color\": \"#2a3f5f\"}, \"marker\": {\"line\": {\"color\": \"white\", \"width\": 0.5}}, \"type\": \"bar\"}], \"barpolar\": [{\"marker\": {\"line\": {\"color\": \"white\", \"width\": 0.5}}, \"type\": \"barpolar\"}], \"carpet\": [{\"aaxis\": {\"endlinecolor\": \"#2a3f5f\", \"gridcolor\": \"#C8D4E3\", \"linecolor\": \"#C8D4E3\", \"minorgridcolor\": \"#C8D4E3\", \"startlinecolor\": \"#2a3f5f\"}, \"baxis\": {\"endlinecolor\": \"#2a3f5f\", \"gridcolor\": \"#C8D4E3\", \"linecolor\": \"#C8D4E3\", \"minorgridcolor\": \"#C8D4E3\", \"startlinecolor\": \"#2a3f5f\"}, \"type\": \"carpet\"}], \"choropleth\": [{\"colorbar\": {\"outlinewidth\": 0, \"ticks\": \"\"}, \"type\": \"choropleth\"}], \"contour\": [{\"colorbar\": {\"outlinewidth\": 0, \"ticks\": \"\"}, \"colorscale\": [[0.0, \"#0d0887\"], [0.1111111111111111, \"#46039f\"], [0.2222222222222222, \"#7201a8\"], [0.3333333333333333, \"#9c179e\"], [0.4444444444444444, \"#bd3786\"], [0.5555555555555556, \"#d8576b\"], [0.6666666666666666, \"#ed7953\"], [0.7777777777777778, \"#fb9f3a\"], [0.8888888888888888, \"#fdca26\"], [1.0, \"#f0f921\"]], \"type\": \"contour\"}], \"contourcarpet\": [{\"colorbar\": {\"outlinewidth\": 0, \"ticks\": \"\"}, \"type\": \"contourcarpet\"}], \"heatmap\": [{\"colorbar\": {\"outlinewidth\": 0, \"ticks\": \"\"}, \"colorscale\": [[0.0, \"#0d0887\"], [0.1111111111111111, \"#46039f\"], [0.2222222222222222, \"#7201a8\"], [0.3333333333333333, \"#9c179e\"], [0.4444444444444444, \"#bd3786\"], [0.5555555555555556, \"#d8576b\"], [0.6666666666666666, \"#ed7953\"], [0.7777777777777778, \"#fb9f3a\"], [0.8888888888888888, \"#fdca26\"], [1.0, \"#f0f921\"]], \"type\": \"heatmap\"}], \"heatmapgl\": [{\"colorbar\": {\"outlinewidth\": 0, \"ticks\": \"\"}, \"colorscale\": [[0.0, \"#0d0887\"], [0.1111111111111111, \"#46039f\"], [0.2222222222222222, \"#7201a8\"], [0.3333333333333333, \"#9c179e\"], [0.4444444444444444, \"#bd3786\"], [0.5555555555555556, \"#d8576b\"], [0.6666666666666666, \"#ed7953\"], [0.7777777777777778, \"#fb9f3a\"], [0.8888888888888888, \"#fdca26\"], [1.0, \"#f0f921\"]], \"type\": \"heatmapgl\"}], \"histogram\": [{\"marker\": {\"colorbar\": {\"outlinewidth\": 0, \"ticks\": \"\"}}, \"type\": \"histogram\"}], \"histogram2d\": [{\"colorbar\": {\"outlinewidth\": 0, \"ticks\": \"\"}, \"colorscale\": [[0.0, \"#0d0887\"], [0.1111111111111111, \"#46039f\"], [0.2222222222222222, \"#7201a8\"], [0.3333333333333333, \"#9c179e\"], [0.4444444444444444, \"#bd3786\"], [0.5555555555555556, \"#d8576b\"], [0.6666666666666666, \"#ed7953\"], [0.7777777777777778, \"#fb9f3a\"], [0.8888888888888888, \"#fdca26\"], [1.0, \"#f0f921\"]], \"type\": \"histogram2d\"}], \"histogram2dcontour\": [{\"colorbar\": {\"outlinewidth\": 0, \"ticks\": \"\"}, \"colorscale\": [[0.0, \"#0d0887\"], [0.1111111111111111, \"#46039f\"], [0.2222222222222222, \"#7201a8\"], [0.3333333333333333, \"#9c179e\"], [0.4444444444444444, \"#bd3786\"], [0.5555555555555556, \"#d8576b\"], [0.6666666666666666, \"#ed7953\"], [0.7777777777777778, \"#fb9f3a\"], [0.8888888888888888, \"#fdca26\"], [1.0, \"#f0f921\"]], \"type\": \"histogram2dcontour\"}], \"mesh3d\": [{\"colorbar\": {\"outlinewidth\": 0, \"ticks\": \"\"}, \"type\": \"mesh3d\"}], \"parcoords\": [{\"line\": {\"colorbar\": {\"outlinewidth\": 0, \"ticks\": \"\"}}, \"type\": \"parcoords\"}], \"pie\": [{\"automargin\": true, \"type\": \"pie\"}], \"scatter\": [{\"marker\": {\"colorbar\": {\"outlinewidth\": 0, \"ticks\": \"\"}}, \"type\": \"scatter\"}], \"scatter3d\": [{\"line\": {\"colorbar\": {\"outlinewidth\": 0, \"ticks\": \"\"}}, \"marker\": {\"colorbar\": {\"outlinewidth\": 0, \"ticks\": \"\"}}, \"type\": \"scatter3d\"}], \"scattercarpet\": [{\"marker\": {\"colorbar\": {\"outlinewidth\": 0, \"ticks\": \"\"}}, \"type\": \"scattercarpet\"}], \"scattergeo\": [{\"marker\": {\"colorbar\": {\"outlinewidth\": 0, \"ticks\": \"\"}}, \"type\": \"scattergeo\"}], \"scattergl\": [{\"marker\": {\"colorbar\": {\"outlinewidth\": 0, \"ticks\": \"\"}}, \"type\": \"scattergl\"}], \"scattermapbox\": [{\"marker\": {\"colorbar\": {\"outlinewidth\": 0, \"ticks\": \"\"}}, \"type\": \"scattermapbox\"}], \"scatterpolar\": [{\"marker\": {\"colorbar\": {\"outlinewidth\": 0, \"ticks\": \"\"}}, \"type\": \"scatterpolar\"}], \"scatterpolargl\": [{\"marker\": {\"colorbar\": {\"outlinewidth\": 0, \"ticks\": \"\"}}, \"type\": \"scatterpolargl\"}], \"scatterternary\": [{\"marker\": {\"colorbar\": {\"outlinewidth\": 0, \"ticks\": \"\"}}, \"type\": \"scatterternary\"}], \"surface\": [{\"colorbar\": {\"outlinewidth\": 0, \"ticks\": \"\"}, \"colorscale\": [[0.0, \"#0d0887\"], [0.1111111111111111, \"#46039f\"], [0.2222222222222222, \"#7201a8\"], [0.3333333333333333, \"#9c179e\"], [0.4444444444444444, \"#bd3786\"], [0.5555555555555556, \"#d8576b\"], [0.6666666666666666, \"#ed7953\"], [0.7777777777777778, \"#fb9f3a\"], [0.8888888888888888, \"#fdca26\"], [1.0, \"#f0f921\"]], \"type\": \"surface\"}], \"table\": [{\"cells\": {\"fill\": {\"color\": \"#EBF0F8\"}, \"line\": {\"color\": \"white\"}}, \"header\": {\"fill\": {\"color\": \"#C8D4E3\"}, \"line\": {\"color\": \"white\"}}, \"type\": \"table\"}]}, \"layout\": {\"annotationdefaults\": {\"arrowcolor\": \"#2a3f5f\", \"arrowhead\": 0, \"arrowwidth\": 1}, \"coloraxis\": {\"colorbar\": {\"outlinewidth\": 0, \"ticks\": \"\"}}, \"colorscale\": {\"diverging\": [[0, \"#8e0152\"], [0.1, \"#c51b7d\"], [0.2, \"#de77ae\"], [0.3, \"#f1b6da\"], [0.4, \"#fde0ef\"], [0.5, \"#f7f7f7\"], [0.6, \"#e6f5d0\"], [0.7, \"#b8e186\"], [0.8, \"#7fbc41\"], [0.9, \"#4d9221\"], [1, \"#276419\"]], \"sequential\": [[0.0, \"#0d0887\"], [0.1111111111111111, \"#46039f\"], [0.2222222222222222, \"#7201a8\"], [0.3333333333333333, \"#9c179e\"], [0.4444444444444444, \"#bd3786\"], [0.5555555555555556, \"#d8576b\"], [0.6666666666666666, \"#ed7953\"], [0.7777777777777778, \"#fb9f3a\"], [0.8888888888888888, \"#fdca26\"], [1.0, \"#f0f921\"]], \"sequentialminus\": [[0.0, \"#0d0887\"], [0.1111111111111111, \"#46039f\"], [0.2222222222222222, \"#7201a8\"], [0.3333333333333333, \"#9c179e\"], [0.4444444444444444, \"#bd3786\"], [0.5555555555555556, \"#d8576b\"], [0.6666666666666666, \"#ed7953\"], [0.7777777777777778, \"#fb9f3a\"], [0.8888888888888888, \"#fdca26\"], [1.0, \"#f0f921\"]]}, \"colorway\": [\"#636efa\", \"#EF553B\", \"#00cc96\", \"#ab63fa\", \"#FFA15A\", \"#19d3f3\", \"#FF6692\", \"#B6E880\", \"#FF97FF\", \"#FECB52\"], \"font\": {\"color\": \"#2a3f5f\"}, \"geo\": {\"bgcolor\": \"white\", \"lakecolor\": \"white\", \"landcolor\": \"white\", \"showlakes\": true, \"showland\": true, \"subunitcolor\": \"#C8D4E3\"}, \"hoverlabel\": {\"align\": \"left\"}, \"hovermode\": \"closest\", \"mapbox\": {\"style\": \"light\"}, \"paper_bgcolor\": \"white\", \"plot_bgcolor\": \"white\", \"polar\": {\"angularaxis\": {\"gridcolor\": \"#EBF0F8\", \"linecolor\": \"#EBF0F8\", \"ticks\": \"\"}, \"bgcolor\": \"white\", \"radialaxis\": {\"gridcolor\": \"#EBF0F8\", \"linecolor\": \"#EBF0F8\", \"ticks\": \"\"}}, \"scene\": {\"xaxis\": {\"backgroundcolor\": \"white\", \"gridcolor\": \"#DFE8F3\", \"gridwidth\": 2, \"linecolor\": \"#EBF0F8\", \"showbackground\": true, \"ticks\": \"\", \"zerolinecolor\": \"#EBF0F8\"}, \"yaxis\": {\"backgroundcolor\": \"white\", \"gridcolor\": \"#DFE8F3\", \"gridwidth\": 2, \"linecolor\": \"#EBF0F8\", \"showbackground\": true, \"ticks\": \"\", \"zerolinecolor\": \"#EBF0F8\"}, \"zaxis\": {\"backgroundcolor\": \"white\", \"gridcolor\": \"#DFE8F3\", \"gridwidth\": 2, \"linecolor\": \"#EBF0F8\", \"showbackground\": true, \"ticks\": \"\", \"zerolinecolor\": \"#EBF0F8\"}}, \"shapedefaults\": {\"line\": {\"color\": \"#2a3f5f\"}}, \"ternary\": {\"aaxis\": {\"gridcolor\": \"#DFE8F3\", \"linecolor\": \"#A2B1C6\", \"ticks\": \"\"}, \"baxis\": {\"gridcolor\": \"#DFE8F3\", \"linecolor\": \"#A2B1C6\", \"ticks\": \"\"}, \"bgcolor\": \"white\", \"caxis\": {\"gridcolor\": \"#DFE8F3\", \"linecolor\": \"#A2B1C6\", \"ticks\": \"\"}}, \"title\": {\"x\": 0.05}, \"xaxis\": {\"automargin\": true, \"gridcolor\": \"#EBF0F8\", \"linecolor\": \"#EBF0F8\", \"ticks\": \"\", \"title\": {\"standoff\": 15}, \"zerolinecolor\": \"#EBF0F8\", \"zerolinewidth\": 2}, \"yaxis\": {\"automargin\": true, \"gridcolor\": \"#EBF0F8\", \"linecolor\": \"#EBF0F8\", \"ticks\": \"\", \"title\": {\"standoff\": 15}, \"zerolinecolor\": \"#EBF0F8\", \"zerolinewidth\": 2}}}, \"title\": {\"font\": {\"size\": 20}, \"text\": \"\\ud68c\\ubcf5\\ub3c4 \\ubc0f \\ud0c0\\uaca9\\ub3c4 / \\ud074\\ub7ec\\uc2a4\\ud130\\ubcc4 / \\ub178\\uc6d0\\uad6c \\ub300\\ud559\\uac00\"}, \"width\": 600, \"xaxis\": {\"anchor\": \"y\", \"domain\": [0.0, 1.0], \"title\": {\"font\": {\"size\": 16}, \"text\": \"\\ud0c0\\uaca9\\ub3c4 (\\uc2e0\\ucc9c\\uc9c0 - \\uc0ac\\ud68c\\uc801 \\uac70\\ub9ac\\ub450\\uae30)\"}}, \"yaxis\": {\"anchor\": \"x\", \"domain\": [0.0, 1.0], \"title\": {\"font\": {\"size\": 16}, \"text\": \"\\ud68c\\ubcf5\\ub3c4 (\\uc0ac\\ud68c\\uc801 \\uac70\\ub9ac\\ub450\\uae30 - \\ucd5c\\uadfc)\"}}},\n",
       "                        {\"responsive\": true}\n",
       "                    ).then(function(){\n",
       "                            \n",
       "var gd = document.getElementById('2a588749-1427-47c1-b140-65d379894697');\n",
       "var x = new MutationObserver(function (mutations, observer) {{\n",
       "        var display = window.getComputedStyle(gd).display;\n",
       "        if (!display || display === 'none') {{\n",
       "            console.log([gd, 'removed!']);\n",
       "            Plotly.purge(gd);\n",
       "            observer.disconnect();\n",
       "        }}\n",
       "}});\n",
       "\n",
       "// Listen for the removal of the full notebook cells\n",
       "var notebookContainer = gd.closest('#notebook-container');\n",
       "if (notebookContainer) {{\n",
       "    x.observe(notebookContainer, {childList: true});\n",
       "}}\n",
       "\n",
       "// Listen for the clearing of the current output cell\n",
       "var outputEl = gd.closest('.output');\n",
       "if (outputEl) {{\n",
       "    x.observe(outputEl, {childList: true});\n",
       "}}\n",
       "\n",
       "                        })\n",
       "                };\n",
       "                \n",
       "            </script>\n",
       "        </div>\n",
       "</body>\n",
       "</html>"
      ]
     },
     "metadata": {
      "tags": []
     },
     "output_type": "display_data"
    }
   ],
   "source": [
    "show_scattor_tmsc4(add_catclus2(new_cat(draw_slope_tmsc(scr_s1, '노원구 대학가'))), -6, 2, -0.5, 4, '노원구 대학가', 'catnm3')"
   ]
  },
  {
   "cell_type": "code",
   "execution_count": null,
   "metadata": {
    "colab": {
     "base_uri": "https://localhost:8080/",
     "height": 817
    },
    "id": "pRgk4rWvcHLs",
    "outputId": "42ed8346-29a3-4bfc-d7d7-713da4dcead8"
   },
   "outputs": [
    {
     "data": {
      "text/html": [
       "<html>\n",
       "<head><meta charset=\"utf-8\" /></head>\n",
       "<body>\n",
       "    <div>\n",
       "            <script src=\"https://cdnjs.cloudflare.com/ajax/libs/mathjax/2.7.5/MathJax.js?config=TeX-AMS-MML_SVG\"></script><script type=\"text/javascript\">if (window.MathJax) {MathJax.Hub.Config({SVG: {font: \"STIX-Web\"}});}</script>\n",
       "                <script type=\"text/javascript\">window.PlotlyConfig = {MathJaxConfig: 'local'};</script>\n",
       "        <script src=\"https://cdn.plot.ly/plotly-latest.min.js\"></script>    \n",
       "            <div id=\"120ac59d-d61c-45e0-9459-4dc091a677bb\" class=\"plotly-graph-div\" style=\"height:800px; width:600px;\"></div>\n",
       "            <script type=\"text/javascript\">\n",
       "                \n",
       "                    window.PLOTLYENV=window.PLOTLYENV || {};\n",
       "                    \n",
       "                if (document.getElementById(\"120ac59d-d61c-45e0-9459-4dc091a677bb\")) {\n",
       "                    Plotly.newPlot(\n",
       "                        '120ac59d-d61c-45e0-9459-4dc091a677bb',\n",
       "                        [{\"customdata\": [[\"\\uac00\\uad6c\"], [\"\\uac00\\uc804\"], [\"\\ub808\\uc800\\uc6a9\\ud488\"], [\"\\uc2e0\\ubcc0\\uc7a1\\ud654\"], [\"\\uc758\\ubcf5\"], [\"\\uc790\\ub3d9\\ucc28\\uc815\\ube44\"], [\"\\uc790\\ub3d9\\ucc28\\ud310\\ub9e4\"], [\"\\uc8fc\\ubc29\\uc6a9\\uad6c\"], [\"\\uc9c1\\ubb3c\"]], \"hoverlabel\": {\"namelength\": 0}, \"hovertemplate\": \"cat_clus=CAT1<br>slope_middle=%{x}<br>slope_after=%{y}<br>cat=%{customdata[0]}<br>catnm4=%{text}\", \"legendgroup\": \"cat_clus=CAT1\", \"marker\": {\"color\": \"rgb(85,107,47)\", \"size\": 15, \"symbol\": \"circle\"}, \"mode\": \"markers+text\", \"name\": \"cat_clus=CAT1\", \"showlegend\": true, \"text\": [\"\\uac00\\uad6c\", \"\\uac00\\uc804\", \"\\ub808\\uc800\\uc6a9\\ud488\", \"\", \"\", \"\", \"\", \"\\uc8fc\\ubc29\\uc6a9\\uad6c\", \"\\uc9c1\\ubb3c\"], \"textfont\": {\"size\": 15}, \"textposition\": \"bottom center\", \"type\": \"scatter\", \"x\": [0.5321480292737537, -0.2081790492511277, 0.2403344553602878, 0.4794069802373655, -0.16582129377520755, -0.24595135375002833, -0.1882731799990042, -1.9831782444783919, -0.0634226283098568], \"xaxis\": \"x\", \"y\": [2.7399554544728644, 0.8951943682381482, 0.601288420179197, 0.3737432786629866, 0.25081275740873454, 0.5574177076759685, 0.68267178002828, 1.1544166482369083, 1.118405834310385], \"yaxis\": \"y\"}, {\"customdata\": [[\"\\uad11\\ud559\\uc81c\\ud488\"], [\"\\ubcf4\\uac74\\uc704\\uc0dd\"], [\"\\uc218\\ub9ac\\uc11c\\ube44\\uc2a4\"], [\"\\uc5f0\\ub8cc\\ud310\\ub9e4\"], [\"\\uc694\\uc2dd\\uc5c5\\uc18c\"], [\"\\uc74c\\ub8cc\\uc2dd\\ud488\"], [\"\\uc758\\ub8cc\\uae30\\uad00\"]], \"hoverlabel\": {\"namelength\": 0}, \"hovertemplate\": \"cat_clus=CAT2<br>slope_middle=%{x}<br>slope_after=%{y}<br>cat=%{customdata[0]}<br>catnm4=%{text}\", \"legendgroup\": \"cat_clus=CAT2\", \"marker\": {\"color\": \"rgb(169,169,169)\", \"size\": 15, \"symbol\": \"circle\"}, \"mode\": \"markers+text\", \"name\": \"cat_clus=CAT2\", \"showlegend\": true, \"text\": [\"\\uad11\\ud559\\uc81c\\ud488\", \"\", \"\", \"\", \"\", \"\", \"\"], \"textfont\": {\"size\": 15}, \"textposition\": \"bottom center\", \"type\": \"scatter\", \"x\": [-0.05987876063910084, 0.24101474366902595, -0.12147631273729749, 0.4147719113665784, 0.5871402338249339, -0.025755812931984874, -0.2489301606056577], \"xaxis\": \"x\", \"y\": [0.10937148878873812, 0.40884578549090184, 0.432084333708463, 0.11110424591032501, 0.3711750175754252, 0.26736091039368365, 0.3205798989758137], \"yaxis\": \"y\"}, {\"customdata\": [[\"\\ub808\\uc800\\uc5c5\\uc18c\"], [\"\\ubb38\\ud654\\ucde8\\ubbf8\"], [\"\\uc0ac\\ubb34\\ud1b5\\uc2e0\"], [\"\\uc11c\\uc801\\ubb38\\uad6c\"], [\"\\uc219\\ubc15\"], [\"\\uc720\\ud1b5\\uc5c5\"], [\"\\uc804\\uae30\"]], \"hoverlabel\": {\"namelength\": 0}, \"hovertemplate\": \"cat_clus=CAT3<br>slope_middle=%{x}<br>slope_after=%{y}<br>cat=%{customdata[0]}<br>catnm4=%{text}\", \"legendgroup\": \"cat_clus=CAT3\", \"marker\": {\"color\": \"rgb(250,128,114)\", \"size\": 15, \"symbol\": \"circle\"}, \"mode\": \"markers+text\", \"name\": \"cat_clus=CAT3\", \"showlegend\": true, \"text\": [\"\", \"\", \"\\uc0ac\\ubb34\\ud1b5\\uc2e0\", \"\\uc11c\\uc801\\ubb38\\uad6c\", \"\", \"\\uc720\\ud1b5\\uc5c5\", \"\\uc804\\uae30\"], \"textfont\": {\"size\": 15}, \"textposition\": \"bottom center\", \"type\": \"scatter\", \"x\": [0.6861951892412598, 0.5222943921557033, -1.190411619536725, 1.0430360624823698, -0.2292740961254105, 0.5035747417160586, 3.435436555279893], \"xaxis\": \"x\", \"y\": [0.16300073768365023, 0.24111722724626877, 1.0110001571097065, 0.7876003808062576, 0.5260395059602136, 0.1727159552304615, -0.4600279403240243], \"yaxis\": \"y\"}],\n",
       "                        {\"autosize\": false, \"height\": 800, \"legend\": {\"tracegroupgap\": 0}, \"margin\": {\"b\": 20, \"l\": 20, \"pad\": 4, \"r\": 20, \"t\": 50}, \"shapes\": [{\"line\": {\"color\": \"red\", \"dash\": \"dash\", \"width\": 1}, \"type\": \"line\", \"x0\": 0.5, \"x1\": 0.5, \"y0\": -0.5, \"y1\": 2.7}, {\"line\": {\"color\": \"red\", \"dash\": \"dash\", \"width\": 1}, \"type\": \"line\", \"x0\": -2.5, \"x1\": 3.5, \"y0\": 0.5, \"y1\": 0.5}], \"showlegend\": false, \"template\": {\"data\": {\"bar\": [{\"error_x\": {\"color\": \"#2a3f5f\"}, \"error_y\": {\"color\": \"#2a3f5f\"}, \"marker\": {\"line\": {\"color\": \"white\", \"width\": 0.5}}, \"type\": \"bar\"}], \"barpolar\": [{\"marker\": {\"line\": {\"color\": \"white\", \"width\": 0.5}}, \"type\": \"barpolar\"}], \"carpet\": [{\"aaxis\": {\"endlinecolor\": \"#2a3f5f\", \"gridcolor\": \"#C8D4E3\", \"linecolor\": \"#C8D4E3\", \"minorgridcolor\": \"#C8D4E3\", \"startlinecolor\": \"#2a3f5f\"}, \"baxis\": {\"endlinecolor\": \"#2a3f5f\", \"gridcolor\": \"#C8D4E3\", \"linecolor\": \"#C8D4E3\", \"minorgridcolor\": \"#C8D4E3\", \"startlinecolor\": \"#2a3f5f\"}, \"type\": \"carpet\"}], \"choropleth\": [{\"colorbar\": {\"outlinewidth\": 0, \"ticks\": \"\"}, \"type\": \"choropleth\"}], \"contour\": [{\"colorbar\": {\"outlinewidth\": 0, \"ticks\": \"\"}, \"colorscale\": [[0.0, \"#0d0887\"], [0.1111111111111111, \"#46039f\"], [0.2222222222222222, \"#7201a8\"], [0.3333333333333333, \"#9c179e\"], [0.4444444444444444, \"#bd3786\"], [0.5555555555555556, \"#d8576b\"], [0.6666666666666666, \"#ed7953\"], [0.7777777777777778, \"#fb9f3a\"], [0.8888888888888888, \"#fdca26\"], [1.0, \"#f0f921\"]], \"type\": \"contour\"}], \"contourcarpet\": [{\"colorbar\": {\"outlinewidth\": 0, \"ticks\": \"\"}, \"type\": \"contourcarpet\"}], \"heatmap\": [{\"colorbar\": {\"outlinewidth\": 0, \"ticks\": \"\"}, \"colorscale\": [[0.0, \"#0d0887\"], [0.1111111111111111, \"#46039f\"], [0.2222222222222222, \"#7201a8\"], [0.3333333333333333, \"#9c179e\"], [0.4444444444444444, \"#bd3786\"], [0.5555555555555556, \"#d8576b\"], [0.6666666666666666, \"#ed7953\"], [0.7777777777777778, \"#fb9f3a\"], [0.8888888888888888, \"#fdca26\"], [1.0, \"#f0f921\"]], \"type\": \"heatmap\"}], \"heatmapgl\": [{\"colorbar\": {\"outlinewidth\": 0, \"ticks\": \"\"}, \"colorscale\": [[0.0, \"#0d0887\"], [0.1111111111111111, \"#46039f\"], [0.2222222222222222, \"#7201a8\"], [0.3333333333333333, \"#9c179e\"], [0.4444444444444444, \"#bd3786\"], [0.5555555555555556, \"#d8576b\"], [0.6666666666666666, \"#ed7953\"], [0.7777777777777778, \"#fb9f3a\"], [0.8888888888888888, \"#fdca26\"], [1.0, \"#f0f921\"]], \"type\": \"heatmapgl\"}], \"histogram\": [{\"marker\": {\"colorbar\": {\"outlinewidth\": 0, \"ticks\": \"\"}}, \"type\": \"histogram\"}], \"histogram2d\": [{\"colorbar\": {\"outlinewidth\": 0, \"ticks\": \"\"}, \"colorscale\": [[0.0, \"#0d0887\"], [0.1111111111111111, \"#46039f\"], [0.2222222222222222, \"#7201a8\"], [0.3333333333333333, \"#9c179e\"], [0.4444444444444444, \"#bd3786\"], [0.5555555555555556, \"#d8576b\"], [0.6666666666666666, \"#ed7953\"], [0.7777777777777778, \"#fb9f3a\"], [0.8888888888888888, \"#fdca26\"], [1.0, \"#f0f921\"]], \"type\": \"histogram2d\"}], \"histogram2dcontour\": [{\"colorbar\": {\"outlinewidth\": 0, \"ticks\": \"\"}, \"colorscale\": [[0.0, \"#0d0887\"], [0.1111111111111111, \"#46039f\"], [0.2222222222222222, \"#7201a8\"], [0.3333333333333333, \"#9c179e\"], [0.4444444444444444, \"#bd3786\"], [0.5555555555555556, \"#d8576b\"], [0.6666666666666666, \"#ed7953\"], [0.7777777777777778, \"#fb9f3a\"], [0.8888888888888888, \"#fdca26\"], [1.0, \"#f0f921\"]], \"type\": \"histogram2dcontour\"}], \"mesh3d\": [{\"colorbar\": {\"outlinewidth\": 0, \"ticks\": \"\"}, \"type\": \"mesh3d\"}], \"parcoords\": [{\"line\": {\"colorbar\": {\"outlinewidth\": 0, \"ticks\": \"\"}}, \"type\": \"parcoords\"}], \"pie\": [{\"automargin\": true, \"type\": \"pie\"}], \"scatter\": [{\"marker\": {\"colorbar\": {\"outlinewidth\": 0, \"ticks\": \"\"}}, \"type\": \"scatter\"}], \"scatter3d\": [{\"line\": {\"colorbar\": {\"outlinewidth\": 0, \"ticks\": \"\"}}, \"marker\": {\"colorbar\": {\"outlinewidth\": 0, \"ticks\": \"\"}}, \"type\": \"scatter3d\"}], \"scattercarpet\": [{\"marker\": {\"colorbar\": {\"outlinewidth\": 0, \"ticks\": \"\"}}, \"type\": \"scattercarpet\"}], \"scattergeo\": [{\"marker\": {\"colorbar\": {\"outlinewidth\": 0, \"ticks\": \"\"}}, \"type\": \"scattergeo\"}], \"scattergl\": [{\"marker\": {\"colorbar\": {\"outlinewidth\": 0, \"ticks\": \"\"}}, \"type\": \"scattergl\"}], \"scattermapbox\": [{\"marker\": {\"colorbar\": {\"outlinewidth\": 0, \"ticks\": \"\"}}, \"type\": \"scattermapbox\"}], \"scatterpolar\": [{\"marker\": {\"colorbar\": {\"outlinewidth\": 0, \"ticks\": \"\"}}, \"type\": \"scatterpolar\"}], \"scatterpolargl\": [{\"marker\": {\"colorbar\": {\"outlinewidth\": 0, \"ticks\": \"\"}}, \"type\": \"scatterpolargl\"}], \"scatterternary\": [{\"marker\": {\"colorbar\": {\"outlinewidth\": 0, \"ticks\": \"\"}}, \"type\": \"scatterternary\"}], \"surface\": [{\"colorbar\": {\"outlinewidth\": 0, \"ticks\": \"\"}, \"colorscale\": [[0.0, \"#0d0887\"], [0.1111111111111111, \"#46039f\"], [0.2222222222222222, \"#7201a8\"], [0.3333333333333333, \"#9c179e\"], [0.4444444444444444, \"#bd3786\"], [0.5555555555555556, \"#d8576b\"], [0.6666666666666666, \"#ed7953\"], [0.7777777777777778, \"#fb9f3a\"], [0.8888888888888888, \"#fdca26\"], [1.0, \"#f0f921\"]], \"type\": \"surface\"}], \"table\": [{\"cells\": {\"fill\": {\"color\": \"#EBF0F8\"}, \"line\": {\"color\": \"white\"}}, \"header\": {\"fill\": {\"color\": \"#C8D4E3\"}, \"line\": {\"color\": \"white\"}}, \"type\": \"table\"}]}, \"layout\": {\"annotationdefaults\": {\"arrowcolor\": \"#2a3f5f\", \"arrowhead\": 0, \"arrowwidth\": 1}, \"coloraxis\": {\"colorbar\": {\"outlinewidth\": 0, \"ticks\": \"\"}}, \"colorscale\": {\"diverging\": [[0, \"#8e0152\"], [0.1, \"#c51b7d\"], [0.2, \"#de77ae\"], [0.3, \"#f1b6da\"], [0.4, \"#fde0ef\"], [0.5, \"#f7f7f7\"], [0.6, \"#e6f5d0\"], [0.7, \"#b8e186\"], [0.8, \"#7fbc41\"], [0.9, \"#4d9221\"], [1, \"#276419\"]], \"sequential\": [[0.0, \"#0d0887\"], [0.1111111111111111, \"#46039f\"], [0.2222222222222222, \"#7201a8\"], [0.3333333333333333, \"#9c179e\"], [0.4444444444444444, \"#bd3786\"], [0.5555555555555556, \"#d8576b\"], [0.6666666666666666, \"#ed7953\"], [0.7777777777777778, \"#fb9f3a\"], [0.8888888888888888, \"#fdca26\"], [1.0, \"#f0f921\"]], \"sequentialminus\": [[0.0, \"#0d0887\"], [0.1111111111111111, \"#46039f\"], [0.2222222222222222, \"#7201a8\"], [0.3333333333333333, \"#9c179e\"], [0.4444444444444444, \"#bd3786\"], [0.5555555555555556, \"#d8576b\"], [0.6666666666666666, \"#ed7953\"], [0.7777777777777778, \"#fb9f3a\"], [0.8888888888888888, \"#fdca26\"], [1.0, \"#f0f921\"]]}, \"colorway\": [\"#636efa\", \"#EF553B\", \"#00cc96\", \"#ab63fa\", \"#FFA15A\", \"#19d3f3\", \"#FF6692\", \"#B6E880\", \"#FF97FF\", \"#FECB52\"], \"font\": {\"color\": \"#2a3f5f\"}, \"geo\": {\"bgcolor\": \"white\", \"lakecolor\": \"white\", \"landcolor\": \"white\", \"showlakes\": true, \"showland\": true, \"subunitcolor\": \"#C8D4E3\"}, \"hoverlabel\": {\"align\": \"left\"}, \"hovermode\": \"closest\", \"mapbox\": {\"style\": \"light\"}, \"paper_bgcolor\": \"white\", \"plot_bgcolor\": \"white\", \"polar\": {\"angularaxis\": {\"gridcolor\": \"#EBF0F8\", \"linecolor\": \"#EBF0F8\", \"ticks\": \"\"}, \"bgcolor\": \"white\", \"radialaxis\": {\"gridcolor\": \"#EBF0F8\", \"linecolor\": \"#EBF0F8\", \"ticks\": \"\"}}, \"scene\": {\"xaxis\": {\"backgroundcolor\": \"white\", \"gridcolor\": \"#DFE8F3\", \"gridwidth\": 2, \"linecolor\": \"#EBF0F8\", \"showbackground\": true, \"ticks\": \"\", \"zerolinecolor\": \"#EBF0F8\"}, \"yaxis\": {\"backgroundcolor\": \"white\", \"gridcolor\": \"#DFE8F3\", \"gridwidth\": 2, \"linecolor\": \"#EBF0F8\", \"showbackground\": true, \"ticks\": \"\", \"zerolinecolor\": \"#EBF0F8\"}, \"zaxis\": {\"backgroundcolor\": \"white\", \"gridcolor\": \"#DFE8F3\", \"gridwidth\": 2, \"linecolor\": \"#EBF0F8\", \"showbackground\": true, \"ticks\": \"\", \"zerolinecolor\": \"#EBF0F8\"}}, \"shapedefaults\": {\"line\": {\"color\": \"#2a3f5f\"}}, \"ternary\": {\"aaxis\": {\"gridcolor\": \"#DFE8F3\", \"linecolor\": \"#A2B1C6\", \"ticks\": \"\"}, \"baxis\": {\"gridcolor\": \"#DFE8F3\", \"linecolor\": \"#A2B1C6\", \"ticks\": \"\"}, \"bgcolor\": \"white\", \"caxis\": {\"gridcolor\": \"#DFE8F3\", \"linecolor\": \"#A2B1C6\", \"ticks\": \"\"}}, \"title\": {\"x\": 0.05}, \"xaxis\": {\"automargin\": true, \"gridcolor\": \"#EBF0F8\", \"linecolor\": \"#EBF0F8\", \"ticks\": \"\", \"title\": {\"standoff\": 15}, \"zerolinecolor\": \"#EBF0F8\", \"zerolinewidth\": 2}, \"yaxis\": {\"automargin\": true, \"gridcolor\": \"#EBF0F8\", \"linecolor\": \"#EBF0F8\", \"ticks\": \"\", \"title\": {\"standoff\": 15}, \"zerolinecolor\": \"#EBF0F8\", \"zerolinewidth\": 2}}}, \"title\": {\"font\": {\"size\": 20}, \"text\": \"\\ud68c\\ubcf5\\ub3c4 \\ubc0f \\ud0c0\\uaca9\\ub3c4 / \\ud074\\ub7ec\\uc2a4\\ud130\\ubcc4 / \\ub178\\uc6d0\\uad6c \\ud559\\uc6d0\\uac00\"}, \"width\": 600, \"xaxis\": {\"anchor\": \"y\", \"domain\": [0.0, 1.0], \"title\": {\"font\": {\"size\": 16}, \"text\": \"\\ud0c0\\uaca9\\ub3c4 (\\uc2e0\\ucc9c\\uc9c0 - \\uc0ac\\ud68c\\uc801 \\uac70\\ub9ac\\ub450\\uae30)\"}}, \"yaxis\": {\"anchor\": \"x\", \"domain\": [0.0, 1.0], \"title\": {\"font\": {\"size\": 16}, \"text\": \"\\ud68c\\ubcf5\\ub3c4 (\\uc0ac\\ud68c\\uc801 \\uac70\\ub9ac\\ub450\\uae30 - \\ucd5c\\uadfc)\"}}},\n",
       "                        {\"responsive\": true}\n",
       "                    ).then(function(){\n",
       "                            \n",
       "var gd = document.getElementById('120ac59d-d61c-45e0-9459-4dc091a677bb');\n",
       "var x = new MutationObserver(function (mutations, observer) {{\n",
       "        var display = window.getComputedStyle(gd).display;\n",
       "        if (!display || display === 'none') {{\n",
       "            console.log([gd, 'removed!']);\n",
       "            Plotly.purge(gd);\n",
       "            observer.disconnect();\n",
       "        }}\n",
       "}});\n",
       "\n",
       "// Listen for the removal of the full notebook cells\n",
       "var notebookContainer = gd.closest('#notebook-container');\n",
       "if (notebookContainer) {{\n",
       "    x.observe(notebookContainer, {childList: true});\n",
       "}}\n",
       "\n",
       "// Listen for the clearing of the current output cell\n",
       "var outputEl = gd.closest('.output');\n",
       "if (outputEl) {{\n",
       "    x.observe(outputEl, {childList: true});\n",
       "}}\n",
       "\n",
       "                        })\n",
       "                };\n",
       "                \n",
       "            </script>\n",
       "        </div>\n",
       "</body>\n",
       "</html>"
      ]
     },
     "metadata": {
      "tags": []
     },
     "output_type": "display_data"
    }
   ],
   "source": [
    "show_scattor_tmsc4(add_catclus2(new_cat(draw_slope_tmsc(scr_s0, '노원구 학원가'))), -2.5, 3.5, -0.5, 2.7, '노원구 학원가', 'catnm4')"
   ]
  },
  {
   "cell_type": "markdown",
   "metadata": {
    "id": "tYTzUZKIMSQG"
   },
   "source": [
    "# **2. 타격도/회복도 시각화(유통업 강조 ver.)**"
   ]
  },
  {
   "cell_type": "code",
   "execution_count": null,
   "metadata": {
    "id": "ETJeZYH0dEKt"
   },
   "outputs": [],
   "source": [
    "import plotly.graph_objects as go\n",
    "\n",
    "def show_scattor_tmsc3(data, x1, x2, y1, y2,name, cat):\n",
    "    color_discrete_map = {'CAT1': 'rgb(85,107,47)', 'CAT2': 'rgb(169,169,169)', 'CAT3': 'rgb(250,128,114)'}\n",
    "    fig = px.scatter(data, x=\"slope_middle\", y=\"slope_after\", hover_data=[\"cat\"], template='plotly_white', color='cat_clus', color_discrete_map=color_discrete_map) # text=\"cat\", \n",
    "    # fig.update_traces(textfont_size=20)\n",
    "\n",
    "    fig.update_traces(marker=dict(size=15))\n",
    "\n",
    "    fig.update_layout(\n",
    "        showlegend=False,\n",
    "        title=dict(text=\"회복도 및 타격도 / 클러스터별 / \" + name, font=dict(size=20)),\n",
    "        xaxis_title=dict(text=\"타격도 (신천지 - 사회적 거리두기)\", font=dict(size=16)),\n",
    "        yaxis_title=dict(text=\"회복도 (사회적 거리두기 - 최근)\", font=dict(size=16)),\n",
    "        autosize=False,\n",
    "        width=600,\n",
    "        height=700,\n",
    "        margin=dict(l=20,r=20,b=20,t=50,pad=4),\n",
    "        shapes=[dict(type=\"rect\",xref=\"x\",yref=\"y\",\n",
    "                 x0=0.5,y0=0,\n",
    "                 x1=1.2,y1=0.5,\n",
    "                 opacity=0.2,fillcolor=\"pink\",line_color=\"pink\")])\n",
    "\n",
    "    fig.add_shape(dict(type=\"line\", \n",
    "                    x0=0.5, y0=y1,x1=0.5, y1=y2,\n",
    "                    line=dict(color=\"red\",width=1,dash=\"dash\")))\n",
    "\n",
    "    fig.add_shape(dict(type=\"line\", \n",
    "                    x0=x1, y0=0.5, x1=x2, y1=0.5,\n",
    "                    line=dict(color=\"red\",width=1,dash=\"dash\")))\n",
    "    fig.add_trace(\n",
    "        go.Scatter(\n",
    "            mode='markers',\n",
    "            x=[data.loc['SC_CNT_유통업','slope_middle']],\n",
    "            y=[data.loc['SC_CNT_유통업','slope_after']],\n",
    "            marker=dict(\n",
    "                color='crimson',\n",
    "                size=25,\n",
    "                line=dict(\n",
    "                    color='black',\n",
    "                    width=5\n",
    "                )\n",
    "            ),\n",
    "            showlegend=False\n",
    "        )\n",
    "    )\n",
    "    fig.show()"
   ]
  },
  {
   "cell_type": "code",
   "execution_count": null,
   "metadata": {
    "id": "kQRDhr84hbsD"
   },
   "outputs": [],
   "source": [
    "def new_cat2(data):\n",
    "     data['catnm1'] = data['cat'].apply(lambda x: '' if x not in ['유통업'] else x)\n",
    "     data['catnm2'] = data['cat'].apply(lambda x: '' if x not in ['유통업'] else x)\n",
    "     data['catnm3'] = data['cat'].apply(lambda x: '' if x not in ['유통업'] else x)\n",
    "     data['catnm4'] = data['cat'].apply(lambda x: '' if x not in ['유통업'] else x)\n",
    "     return data"
   ]
  },
  {
   "cell_type": "code",
   "execution_count": null,
   "metadata": {
    "colab": {
     "base_uri": "https://localhost:8080/",
     "height": 717
    },
    "id": "es0qiZ0hdHee",
    "outputId": "04dad3e9-5c37-4963-c2ed-68b288532124"
   },
   "outputs": [
    {
     "data": {
      "text/html": [
       "<html>\n",
       "<head><meta charset=\"utf-8\" /></head>\n",
       "<body>\n",
       "    <div>\n",
       "            <script src=\"https://cdnjs.cloudflare.com/ajax/libs/mathjax/2.7.5/MathJax.js?config=TeX-AMS-MML_SVG\"></script><script type=\"text/javascript\">if (window.MathJax) {MathJax.Hub.Config({SVG: {font: \"STIX-Web\"}});}</script>\n",
       "                <script type=\"text/javascript\">window.PlotlyConfig = {MathJaxConfig: 'local'};</script>\n",
       "        <script src=\"https://cdn.plot.ly/plotly-latest.min.js\"></script>    \n",
       "            <div id=\"00086c8a-ec19-44ca-be6d-a4a88d938502\" class=\"plotly-graph-div\" style=\"height:700px; width:600px;\"></div>\n",
       "            <script type=\"text/javascript\">\n",
       "                \n",
       "                    window.PLOTLYENV=window.PLOTLYENV || {};\n",
       "                    \n",
       "                if (document.getElementById(\"00086c8a-ec19-44ca-be6d-a4a88d938502\")) {\n",
       "                    Plotly.newPlot(\n",
       "                        '00086c8a-ec19-44ca-be6d-a4a88d938502',\n",
       "                        [{\"customdata\": [[\"\\uac00\\uad6c\"], [\"\\uac00\\uc804\"], [\"\\ub808\\uc800\\uc6a9\\ud488\"], [\"\\uc2e0\\ubcc0\\uc7a1\\ud654\"], [\"\\uc758\\ubcf5\"], [\"\\uc790\\ub3d9\\ucc28\\uc815\\ube44\"], [\"\\uc790\\ub3d9\\ucc28\\ud310\\ub9e4\"], [\"\\uc8fc\\ubc29\\uc6a9\\uad6c\"], [\"\\uc9c1\\ubb3c\"]], \"hoverlabel\": {\"namelength\": 0}, \"hovertemplate\": \"cat_clus=CAT1<br>slope_middle=%{x}<br>slope_after=%{y}<br>cat=%{customdata[0]}\", \"legendgroup\": \"cat_clus=CAT1\", \"marker\": {\"color\": \"rgb(85,107,47)\", \"size\": 15, \"symbol\": \"circle\"}, \"mode\": \"markers\", \"name\": \"cat_clus=CAT1\", \"showlegend\": true, \"type\": \"scatter\", \"x\": [-0.6309311725205458, -0.016177994465933897, 0.0887006649825237, 0.17756280928693477, 0.20430677323755225, 0.14471267028968396, -1.4705165333093033, 1.8537139327311432, -0.558416597525803], \"xaxis\": \"x\", \"y\": [0.7160985479616253, 0.2614340922107615, 0.7678874180738257, 0.6363502562084786, 0.6667138080390141, 0.5248950810587032, 0.718673327513154, 2.512244856237176, 1.5864965639224795], \"yaxis\": \"y\"}, {\"customdata\": [[\"\\uad11\\ud559\\uc81c\\ud488\"], [\"\\ubcf4\\uac74\\uc704\\uc0dd\"], [\"\\uc218\\ub9ac\\uc11c\\ube44\\uc2a4\"], [\"\\uc5f0\\ub8cc\\ud310\\ub9e4\"], [\"\\uc694\\uc2dd\\uc5c5\\uc18c\"], [\"\\uc74c\\ub8cc\\uc2dd\\ud488\"], [\"\\uc758\\ub8cc\\uae30\\uad00\"]], \"hoverlabel\": {\"namelength\": 0}, \"hovertemplate\": \"cat_clus=CAT2<br>slope_middle=%{x}<br>slope_after=%{y}<br>cat=%{customdata[0]}\", \"legendgroup\": \"cat_clus=CAT2\", \"marker\": {\"color\": \"rgb(169,169,169)\", \"size\": 15, \"symbol\": \"circle\"}, \"mode\": \"markers\", \"name\": \"cat_clus=CAT2\", \"showlegend\": true, \"type\": \"scatter\", \"x\": [0.376503953113609, 0.5277557968858487, -0.3022443975627369, -0.18551226703263704, 0.35279569899892416, 0.7641805850028786, -0.6193923418915016], \"xaxis\": \"x\", \"y\": [0.3092575217155801, 0.3254198728994353, 0.8514550033179541, 0.62457753651477, 0.26190967063189624, 0.3203005391824033, 0.10627619796491904], \"yaxis\": \"y\"}, {\"customdata\": [[\"\\ub808\\uc800\\uc5c5\\uc18c\"], [\"\\ubb38\\ud654\\ucde8\\ubbf8\"], [\"\\uc0ac\\ubb34\\ud1b5\\uc2e0\"], [\"\\uc11c\\uc801\\ubb38\\uad6c\"], [\"\\uc219\\ubc15\"], [\"\\uc720\\ud1b5\\uc5c5\"], [\"\\uc804\\uae30\"]], \"hoverlabel\": {\"namelength\": 0}, \"hovertemplate\": \"cat_clus=CAT3<br>slope_middle=%{x}<br>slope_after=%{y}<br>cat=%{customdata[0]}\", \"legendgroup\": \"cat_clus=CAT3\", \"marker\": {\"color\": \"rgb(250,128,114)\", \"size\": 15, \"symbol\": \"circle\"}, \"mode\": \"markers\", \"name\": \"cat_clus=CAT3\", \"showlegend\": true, \"type\": \"scatter\", \"x\": [1.0152570419646616, 1.1079241274916016, 0.9423293467411062, 0.40265032095000663, 0.35623941698741396, 0.5898825623860304, -2.1991978609625678], \"xaxis\": \"x\", \"y\": [0.4799651398197568, 0.45430801496416257, -2.204357548200018, 0.7339397532538713, 0.40364197865403995, 0.2110029402215408, 1.4833759590792839], \"yaxis\": \"y\"}, {\"marker\": {\"color\": \"crimson\", \"line\": {\"color\": \"black\", \"width\": 5}, \"size\": 25}, \"mode\": \"markers\", \"showlegend\": false, \"type\": \"scatter\", \"x\": [0.5898825623860304], \"y\": [0.2110029402215408]}],\n",
       "                        {\"autosize\": false, \"height\": 700, \"legend\": {\"tracegroupgap\": 0}, \"margin\": {\"b\": 20, \"l\": 20, \"pad\": 4, \"r\": 20, \"t\": 50}, \"shapes\": [{\"fillcolor\": \"pink\", \"line\": {\"color\": \"pink\"}, \"opacity\": 0.2, \"type\": \"rect\", \"x0\": 0.5, \"x1\": 1.2, \"xref\": \"x\", \"y0\": 0, \"y1\": 0.5, \"yref\": \"y\"}, {\"line\": {\"color\": \"red\", \"dash\": \"dash\", \"width\": 1}, \"type\": \"line\", \"x0\": 0.5, \"x1\": 0.5, \"y0\": -2, \"y1\": 2}, {\"line\": {\"color\": \"red\", \"dash\": \"dash\", \"width\": 1}, \"type\": \"line\", \"x0\": -1.5, \"x1\": 1.5, \"y0\": 0.5, \"y1\": 0.5}], \"showlegend\": false, \"template\": {\"data\": {\"bar\": [{\"error_x\": {\"color\": \"#2a3f5f\"}, \"error_y\": {\"color\": \"#2a3f5f\"}, \"marker\": {\"line\": {\"color\": \"white\", \"width\": 0.5}}, \"type\": \"bar\"}], \"barpolar\": [{\"marker\": {\"line\": {\"color\": \"white\", \"width\": 0.5}}, \"type\": \"barpolar\"}], \"carpet\": [{\"aaxis\": {\"endlinecolor\": \"#2a3f5f\", \"gridcolor\": \"#C8D4E3\", \"linecolor\": \"#C8D4E3\", \"minorgridcolor\": \"#C8D4E3\", \"startlinecolor\": \"#2a3f5f\"}, \"baxis\": {\"endlinecolor\": \"#2a3f5f\", \"gridcolor\": \"#C8D4E3\", \"linecolor\": \"#C8D4E3\", \"minorgridcolor\": \"#C8D4E3\", \"startlinecolor\": \"#2a3f5f\"}, \"type\": \"carpet\"}], \"choropleth\": [{\"colorbar\": {\"outlinewidth\": 0, \"ticks\": \"\"}, \"type\": \"choropleth\"}], \"contour\": [{\"colorbar\": {\"outlinewidth\": 0, \"ticks\": \"\"}, \"colorscale\": [[0.0, \"#0d0887\"], [0.1111111111111111, \"#46039f\"], [0.2222222222222222, \"#7201a8\"], [0.3333333333333333, \"#9c179e\"], [0.4444444444444444, \"#bd3786\"], [0.5555555555555556, \"#d8576b\"], [0.6666666666666666, \"#ed7953\"], [0.7777777777777778, \"#fb9f3a\"], [0.8888888888888888, \"#fdca26\"], [1.0, \"#f0f921\"]], \"type\": \"contour\"}], \"contourcarpet\": [{\"colorbar\": {\"outlinewidth\": 0, \"ticks\": \"\"}, \"type\": \"contourcarpet\"}], \"heatmap\": [{\"colorbar\": {\"outlinewidth\": 0, \"ticks\": \"\"}, \"colorscale\": [[0.0, \"#0d0887\"], [0.1111111111111111, \"#46039f\"], [0.2222222222222222, \"#7201a8\"], [0.3333333333333333, \"#9c179e\"], [0.4444444444444444, \"#bd3786\"], [0.5555555555555556, \"#d8576b\"], [0.6666666666666666, \"#ed7953\"], [0.7777777777777778, \"#fb9f3a\"], [0.8888888888888888, \"#fdca26\"], [1.0, \"#f0f921\"]], \"type\": \"heatmap\"}], \"heatmapgl\": [{\"colorbar\": {\"outlinewidth\": 0, \"ticks\": \"\"}, \"colorscale\": [[0.0, \"#0d0887\"], [0.1111111111111111, \"#46039f\"], [0.2222222222222222, \"#7201a8\"], [0.3333333333333333, \"#9c179e\"], [0.4444444444444444, \"#bd3786\"], [0.5555555555555556, \"#d8576b\"], [0.6666666666666666, \"#ed7953\"], [0.7777777777777778, \"#fb9f3a\"], [0.8888888888888888, \"#fdca26\"], [1.0, \"#f0f921\"]], \"type\": \"heatmapgl\"}], \"histogram\": [{\"marker\": {\"colorbar\": {\"outlinewidth\": 0, \"ticks\": \"\"}}, \"type\": \"histogram\"}], \"histogram2d\": [{\"colorbar\": {\"outlinewidth\": 0, \"ticks\": \"\"}, \"colorscale\": [[0.0, \"#0d0887\"], [0.1111111111111111, \"#46039f\"], [0.2222222222222222, \"#7201a8\"], [0.3333333333333333, \"#9c179e\"], [0.4444444444444444, \"#bd3786\"], [0.5555555555555556, \"#d8576b\"], [0.6666666666666666, \"#ed7953\"], [0.7777777777777778, \"#fb9f3a\"], [0.8888888888888888, \"#fdca26\"], [1.0, \"#f0f921\"]], \"type\": \"histogram2d\"}], \"histogram2dcontour\": [{\"colorbar\": {\"outlinewidth\": 0, \"ticks\": \"\"}, \"colorscale\": [[0.0, \"#0d0887\"], [0.1111111111111111, \"#46039f\"], [0.2222222222222222, \"#7201a8\"], [0.3333333333333333, \"#9c179e\"], [0.4444444444444444, \"#bd3786\"], [0.5555555555555556, \"#d8576b\"], [0.6666666666666666, \"#ed7953\"], [0.7777777777777778, \"#fb9f3a\"], [0.8888888888888888, \"#fdca26\"], [1.0, \"#f0f921\"]], \"type\": \"histogram2dcontour\"}], \"mesh3d\": [{\"colorbar\": {\"outlinewidth\": 0, \"ticks\": \"\"}, \"type\": \"mesh3d\"}], \"parcoords\": [{\"line\": {\"colorbar\": {\"outlinewidth\": 0, \"ticks\": \"\"}}, \"type\": \"parcoords\"}], \"pie\": [{\"automargin\": true, \"type\": \"pie\"}], \"scatter\": [{\"marker\": {\"colorbar\": {\"outlinewidth\": 0, \"ticks\": \"\"}}, \"type\": \"scatter\"}], \"scatter3d\": [{\"line\": {\"colorbar\": {\"outlinewidth\": 0, \"ticks\": \"\"}}, \"marker\": {\"colorbar\": {\"outlinewidth\": 0, \"ticks\": \"\"}}, \"type\": \"scatter3d\"}], \"scattercarpet\": [{\"marker\": {\"colorbar\": {\"outlinewidth\": 0, \"ticks\": \"\"}}, \"type\": \"scattercarpet\"}], \"scattergeo\": [{\"marker\": {\"colorbar\": {\"outlinewidth\": 0, \"ticks\": \"\"}}, \"type\": \"scattergeo\"}], \"scattergl\": [{\"marker\": {\"colorbar\": {\"outlinewidth\": 0, \"ticks\": \"\"}}, \"type\": \"scattergl\"}], \"scattermapbox\": [{\"marker\": {\"colorbar\": {\"outlinewidth\": 0, \"ticks\": \"\"}}, \"type\": \"scattermapbox\"}], \"scatterpolar\": [{\"marker\": {\"colorbar\": {\"outlinewidth\": 0, \"ticks\": \"\"}}, \"type\": \"scatterpolar\"}], \"scatterpolargl\": [{\"marker\": {\"colorbar\": {\"outlinewidth\": 0, \"ticks\": \"\"}}, \"type\": \"scatterpolargl\"}], \"scatterternary\": [{\"marker\": {\"colorbar\": {\"outlinewidth\": 0, \"ticks\": \"\"}}, \"type\": \"scatterternary\"}], \"surface\": [{\"colorbar\": {\"outlinewidth\": 0, \"ticks\": \"\"}, \"colorscale\": [[0.0, \"#0d0887\"], [0.1111111111111111, \"#46039f\"], [0.2222222222222222, \"#7201a8\"], [0.3333333333333333, \"#9c179e\"], [0.4444444444444444, \"#bd3786\"], [0.5555555555555556, \"#d8576b\"], [0.6666666666666666, \"#ed7953\"], [0.7777777777777778, \"#fb9f3a\"], [0.8888888888888888, \"#fdca26\"], [1.0, \"#f0f921\"]], \"type\": \"surface\"}], \"table\": [{\"cells\": {\"fill\": {\"color\": \"#EBF0F8\"}, \"line\": {\"color\": \"white\"}}, \"header\": {\"fill\": {\"color\": \"#C8D4E3\"}, \"line\": {\"color\": \"white\"}}, \"type\": \"table\"}]}, \"layout\": {\"annotationdefaults\": {\"arrowcolor\": \"#2a3f5f\", \"arrowhead\": 0, \"arrowwidth\": 1}, \"coloraxis\": {\"colorbar\": {\"outlinewidth\": 0, \"ticks\": \"\"}}, \"colorscale\": {\"diverging\": [[0, \"#8e0152\"], [0.1, \"#c51b7d\"], [0.2, \"#de77ae\"], [0.3, \"#f1b6da\"], [0.4, \"#fde0ef\"], [0.5, \"#f7f7f7\"], [0.6, \"#e6f5d0\"], [0.7, \"#b8e186\"], [0.8, \"#7fbc41\"], [0.9, \"#4d9221\"], [1, \"#276419\"]], \"sequential\": [[0.0, \"#0d0887\"], [0.1111111111111111, \"#46039f\"], [0.2222222222222222, \"#7201a8\"], [0.3333333333333333, \"#9c179e\"], [0.4444444444444444, \"#bd3786\"], [0.5555555555555556, \"#d8576b\"], [0.6666666666666666, \"#ed7953\"], [0.7777777777777778, \"#fb9f3a\"], [0.8888888888888888, \"#fdca26\"], [1.0, \"#f0f921\"]], \"sequentialminus\": [[0.0, \"#0d0887\"], [0.1111111111111111, \"#46039f\"], [0.2222222222222222, \"#7201a8\"], [0.3333333333333333, \"#9c179e\"], [0.4444444444444444, \"#bd3786\"], [0.5555555555555556, \"#d8576b\"], [0.6666666666666666, \"#ed7953\"], [0.7777777777777778, \"#fb9f3a\"], [0.8888888888888888, \"#fdca26\"], [1.0, \"#f0f921\"]]}, \"colorway\": [\"#636efa\", \"#EF553B\", \"#00cc96\", \"#ab63fa\", \"#FFA15A\", \"#19d3f3\", \"#FF6692\", \"#B6E880\", \"#FF97FF\", \"#FECB52\"], \"font\": {\"color\": \"#2a3f5f\"}, \"geo\": {\"bgcolor\": \"white\", \"lakecolor\": \"white\", \"landcolor\": \"white\", \"showlakes\": true, \"showland\": true, \"subunitcolor\": \"#C8D4E3\"}, \"hoverlabel\": {\"align\": \"left\"}, \"hovermode\": \"closest\", \"mapbox\": {\"style\": \"light\"}, \"paper_bgcolor\": \"white\", \"plot_bgcolor\": \"white\", \"polar\": {\"angularaxis\": {\"gridcolor\": \"#EBF0F8\", \"linecolor\": \"#EBF0F8\", \"ticks\": \"\"}, \"bgcolor\": \"white\", \"radialaxis\": {\"gridcolor\": \"#EBF0F8\", \"linecolor\": \"#EBF0F8\", \"ticks\": \"\"}}, \"scene\": {\"xaxis\": {\"backgroundcolor\": \"white\", \"gridcolor\": \"#DFE8F3\", \"gridwidth\": 2, \"linecolor\": \"#EBF0F8\", \"showbackground\": true, \"ticks\": \"\", \"zerolinecolor\": \"#EBF0F8\"}, \"yaxis\": {\"backgroundcolor\": \"white\", \"gridcolor\": \"#DFE8F3\", \"gridwidth\": 2, \"linecolor\": \"#EBF0F8\", \"showbackground\": true, \"ticks\": \"\", \"zerolinecolor\": \"#EBF0F8\"}, \"zaxis\": {\"backgroundcolor\": \"white\", \"gridcolor\": \"#DFE8F3\", \"gridwidth\": 2, \"linecolor\": \"#EBF0F8\", \"showbackground\": true, \"ticks\": \"\", \"zerolinecolor\": \"#EBF0F8\"}}, \"shapedefaults\": {\"line\": {\"color\": \"#2a3f5f\"}}, \"ternary\": {\"aaxis\": {\"gridcolor\": \"#DFE8F3\", \"linecolor\": \"#A2B1C6\", \"ticks\": \"\"}, \"baxis\": {\"gridcolor\": \"#DFE8F3\", \"linecolor\": \"#A2B1C6\", \"ticks\": \"\"}, \"bgcolor\": \"white\", \"caxis\": {\"gridcolor\": \"#DFE8F3\", \"linecolor\": \"#A2B1C6\", \"ticks\": \"\"}}, \"title\": {\"x\": 0.05}, \"xaxis\": {\"automargin\": true, \"gridcolor\": \"#EBF0F8\", \"linecolor\": \"#EBF0F8\", \"ticks\": \"\", \"title\": {\"standoff\": 15}, \"zerolinecolor\": \"#EBF0F8\", \"zerolinewidth\": 2}, \"yaxis\": {\"automargin\": true, \"gridcolor\": \"#EBF0F8\", \"linecolor\": \"#EBF0F8\", \"ticks\": \"\", \"title\": {\"standoff\": 15}, \"zerolinecolor\": \"#EBF0F8\", \"zerolinewidth\": 2}}}, \"title\": {\"font\": {\"size\": 20}, \"text\": \"\\ud68c\\ubcf5\\ub3c4 \\ubc0f \\ud0c0\\uaca9\\ub3c4 / \\ud074\\ub7ec\\uc2a4\\ud130\\ubcc4 / \\uc911\\uad6c \\ube4c\\ub529\\uc232\"}, \"width\": 600, \"xaxis\": {\"anchor\": \"y\", \"domain\": [0.0, 1.0], \"title\": {\"font\": {\"size\": 16}, \"text\": \"\\ud0c0\\uaca9\\ub3c4 (\\uc2e0\\ucc9c\\uc9c0 - \\uc0ac\\ud68c\\uc801 \\uac70\\ub9ac\\ub450\\uae30)\"}}, \"yaxis\": {\"anchor\": \"x\", \"domain\": [0.0, 1.0], \"title\": {\"font\": {\"size\": 16}, \"text\": \"\\ud68c\\ubcf5\\ub3c4 (\\uc0ac\\ud68c\\uc801 \\uac70\\ub9ac\\ub450\\uae30 - \\ucd5c\\uadfc)\"}}},\n",
       "                        {\"responsive\": true}\n",
       "                    ).then(function(){\n",
       "                            \n",
       "var gd = document.getElementById('00086c8a-ec19-44ca-be6d-a4a88d938502');\n",
       "var x = new MutationObserver(function (mutations, observer) {{\n",
       "        var display = window.getComputedStyle(gd).display;\n",
       "        if (!display || display === 'none') {{\n",
       "            console.log([gd, 'removed!']);\n",
       "            Plotly.purge(gd);\n",
       "            observer.disconnect();\n",
       "        }}\n",
       "}});\n",
       "\n",
       "// Listen for the removal of the full notebook cells\n",
       "var notebookContainer = gd.closest('#notebook-container');\n",
       "if (notebookContainer) {{\n",
       "    x.observe(notebookContainer, {childList: true});\n",
       "}}\n",
       "\n",
       "// Listen for the clearing of the current output cell\n",
       "var outputEl = gd.closest('.output');\n",
       "if (outputEl) {{\n",
       "    x.observe(outputEl, {childList: true});\n",
       "}}\n",
       "\n",
       "                        })\n",
       "                };\n",
       "                \n",
       "            </script>\n",
       "        </div>\n",
       "</body>\n",
       "</html>"
      ]
     },
     "metadata": {
      "tags": []
     },
     "output_type": "display_data"
    }
   ],
   "source": [
    "show_scattor_tmsc3(add_catclus2(new_cat2(draw_slope_tmsc(scr_s3, '중구 빌딩숲'))), -1.5, 1.5, -2, 2,'중구 빌딩숲', 'catnm1') # x는 (0, 1) y는 (0, 1.2)"
   ]
  },
  {
   "cell_type": "code",
   "execution_count": null,
   "metadata": {
    "colab": {
     "base_uri": "https://localhost:8080/",
     "height": 717
    },
    "id": "G9qX7zH_dH1s",
    "outputId": "55ecd055-aa1c-4493-ad10-507618092032"
   },
   "outputs": [
    {
     "data": {
      "text/html": [
       "<html>\n",
       "<head><meta charset=\"utf-8\" /></head>\n",
       "<body>\n",
       "    <div>\n",
       "            <script src=\"https://cdnjs.cloudflare.com/ajax/libs/mathjax/2.7.5/MathJax.js?config=TeX-AMS-MML_SVG\"></script><script type=\"text/javascript\">if (window.MathJax) {MathJax.Hub.Config({SVG: {font: \"STIX-Web\"}});}</script>\n",
       "                <script type=\"text/javascript\">window.PlotlyConfig = {MathJaxConfig: 'local'};</script>\n",
       "        <script src=\"https://cdn.plot.ly/plotly-latest.min.js\"></script>    \n",
       "            <div id=\"7b01e6b7-31f5-4781-bf14-fdbceb2dfc95\" class=\"plotly-graph-div\" style=\"height:700px; width:600px;\"></div>\n",
       "            <script type=\"text/javascript\">\n",
       "                \n",
       "                    window.PLOTLYENV=window.PLOTLYENV || {};\n",
       "                    \n",
       "                if (document.getElementById(\"7b01e6b7-31f5-4781-bf14-fdbceb2dfc95\")) {\n",
       "                    Plotly.newPlot(\n",
       "                        '7b01e6b7-31f5-4781-bf14-fdbceb2dfc95',\n",
       "                        [{\"customdata\": [[\"\\uac00\\uad6c\"], [\"\\uac00\\uc804\"], [\"\\ub808\\uc800\\uc6a9\\ud488\"], [\"\\uc2e0\\ubcc0\\uc7a1\\ud654\"], [\"\\uc758\\ubcf5\"], [\"\\uc790\\ub3d9\\ucc28\\uc815\\ube44\"], [\"\\uc790\\ub3d9\\ucc28\\ud310\\ub9e4\"], [\"\\uc8fc\\ubc29\\uc6a9\\uad6c\"], [\"\\uc9c1\\ubb3c\"]], \"hoverlabel\": {\"namelength\": 0}, \"hovertemplate\": \"cat_clus=CAT1<br>slope_middle=%{x}<br>slope_after=%{y}<br>cat=%{customdata[0]}\", \"legendgroup\": \"cat_clus=CAT1\", \"marker\": {\"color\": \"rgb(85,107,47)\", \"size\": 15, \"symbol\": \"circle\"}, \"mode\": \"markers\", \"name\": \"cat_clus=CAT1\", \"showlegend\": true, \"type\": \"scatter\", \"x\": [-0.6999826433119122, -0.3987303341540288, 2.140165360577105, 0.9116386240598647, 0.5629018148147178, 0.36568186491686705, -0.7307806340553076, 0.4391582048863861, 0.4108841611766115], \"xaxis\": \"x\", \"y\": [1.6113177492926387, 0.7938989352686662, 1.0245309189516523, 0.9217115776166513, 0.5322353983424125, 0.3506144422312947, 0.710404175015132, 0.8054747149828562, 1.1128368016491705], \"yaxis\": \"y\"}, {\"customdata\": [[\"\\uad11\\ud559\\uc81c\\ud488\"], [\"\\ubcf4\\uac74\\uc704\\uc0dd\"], [\"\\uc218\\ub9ac\\uc11c\\ube44\\uc2a4\"], [\"\\uc5f0\\ub8cc\\ud310\\ub9e4\"], [\"\\uc694\\uc2dd\\uc5c5\\uc18c\"], [\"\\uc74c\\ub8cc\\uc2dd\\ud488\"], [\"\\uc758\\ub8cc\\uae30\\uad00\"]], \"hoverlabel\": {\"namelength\": 0}, \"hovertemplate\": \"cat_clus=CAT2<br>slope_middle=%{x}<br>slope_after=%{y}<br>cat=%{customdata[0]}\", \"legendgroup\": \"cat_clus=CAT2\", \"marker\": {\"color\": \"rgb(169,169,169)\", \"size\": 15, \"symbol\": \"circle\"}, \"mode\": \"markers\", \"name\": \"cat_clus=CAT2\", \"showlegend\": true, \"type\": \"scatter\", \"x\": [-0.3920662142685959, 0.4326323673151573, -0.06078215025233123, -0.10822713261027095, 0.6632747963578397, 0.47447759991250127, -0.2325271677701917], \"xaxis\": \"x\", \"y\": [0.38019344579771996, 0.3923041251643447, -0.1743445505278769, 0.16001105547453848, 0.27702035118749874, 0.4887348938712595, 0.29274014177883834], \"yaxis\": \"y\"}, {\"customdata\": [[\"\\ub808\\uc800\\uc5c5\\uc18c\"], [\"\\ubb38\\ud654\\ucde8\\ubbf8\"], [\"\\uc0ac\\ubb34\\ud1b5\\uc2e0\"], [\"\\uc11c\\uc801\\ubb38\\uad6c\"], [\"\\uc219\\ubc15\"], [\"\\uc720\\ud1b5\\uc5c5\"], [\"\\uc804\\uae30\"]], \"hoverlabel\": {\"namelength\": 0}, \"hovertemplate\": \"cat_clus=CAT3<br>slope_middle=%{x}<br>slope_after=%{y}<br>cat=%{customdata[0]}\", \"legendgroup\": \"cat_clus=CAT3\", \"marker\": {\"color\": \"rgb(250,128,114)\", \"size\": 15, \"symbol\": \"circle\"}, \"mode\": \"markers\", \"name\": \"cat_clus=CAT3\", \"showlegend\": true, \"type\": \"scatter\", \"x\": [0.8901621039017681, -0.9585841330150542, -0.7083064455376136, 2.374501726236526, 1.100753947226276, 1.110741576125828, -1.8701935319582383], \"xaxis\": \"x\", \"y\": [0.21624151138438882, 0.35988908921318497, 0.06932902055993097, 0.17064634561192862, 0.5444841122183056, 0.1195607292524755, 0.9252326533507772], \"yaxis\": \"y\"}, {\"marker\": {\"color\": \"crimson\", \"line\": {\"color\": \"black\", \"width\": 5}, \"size\": 25}, \"mode\": \"markers\", \"showlegend\": false, \"type\": \"scatter\", \"x\": [1.110741576125828], \"y\": [0.1195607292524755]}],\n",
       "                        {\"autosize\": false, \"height\": 700, \"legend\": {\"tracegroupgap\": 0}, \"margin\": {\"b\": 20, \"l\": 20, \"pad\": 4, \"r\": 20, \"t\": 50}, \"shapes\": [{\"fillcolor\": \"pink\", \"line\": {\"color\": \"pink\"}, \"opacity\": 0.2, \"type\": \"rect\", \"x0\": 0.5, \"x1\": 1.2, \"xref\": \"x\", \"y0\": 0, \"y1\": 0.5, \"yref\": \"y\"}, {\"line\": {\"color\": \"red\", \"dash\": \"dash\", \"width\": 1}, \"type\": \"line\", \"x0\": 0.5, \"x1\": 0.5, \"y0\": -2, \"y1\": 2}, {\"line\": {\"color\": \"red\", \"dash\": \"dash\", \"width\": 1}, \"type\": \"line\", \"x0\": -1.5, \"x1\": 1.5, \"y0\": 0.5, \"y1\": 0.5}], \"showlegend\": false, \"template\": {\"data\": {\"bar\": [{\"error_x\": {\"color\": \"#2a3f5f\"}, \"error_y\": {\"color\": \"#2a3f5f\"}, \"marker\": {\"line\": {\"color\": \"white\", \"width\": 0.5}}, \"type\": \"bar\"}], \"barpolar\": [{\"marker\": {\"line\": {\"color\": \"white\", \"width\": 0.5}}, \"type\": \"barpolar\"}], \"carpet\": [{\"aaxis\": {\"endlinecolor\": \"#2a3f5f\", \"gridcolor\": \"#C8D4E3\", \"linecolor\": \"#C8D4E3\", \"minorgridcolor\": \"#C8D4E3\", \"startlinecolor\": \"#2a3f5f\"}, \"baxis\": {\"endlinecolor\": \"#2a3f5f\", \"gridcolor\": \"#C8D4E3\", \"linecolor\": \"#C8D4E3\", \"minorgridcolor\": \"#C8D4E3\", \"startlinecolor\": \"#2a3f5f\"}, \"type\": \"carpet\"}], \"choropleth\": [{\"colorbar\": {\"outlinewidth\": 0, \"ticks\": \"\"}, \"type\": \"choropleth\"}], \"contour\": [{\"colorbar\": {\"outlinewidth\": 0, \"ticks\": \"\"}, \"colorscale\": [[0.0, \"#0d0887\"], [0.1111111111111111, \"#46039f\"], [0.2222222222222222, \"#7201a8\"], [0.3333333333333333, \"#9c179e\"], [0.4444444444444444, \"#bd3786\"], [0.5555555555555556, \"#d8576b\"], [0.6666666666666666, \"#ed7953\"], [0.7777777777777778, \"#fb9f3a\"], [0.8888888888888888, \"#fdca26\"], [1.0, \"#f0f921\"]], \"type\": \"contour\"}], \"contourcarpet\": [{\"colorbar\": {\"outlinewidth\": 0, \"ticks\": \"\"}, \"type\": \"contourcarpet\"}], \"heatmap\": [{\"colorbar\": {\"outlinewidth\": 0, \"ticks\": \"\"}, \"colorscale\": [[0.0, \"#0d0887\"], [0.1111111111111111, \"#46039f\"], [0.2222222222222222, \"#7201a8\"], [0.3333333333333333, \"#9c179e\"], [0.4444444444444444, \"#bd3786\"], [0.5555555555555556, \"#d8576b\"], [0.6666666666666666, \"#ed7953\"], [0.7777777777777778, \"#fb9f3a\"], [0.8888888888888888, \"#fdca26\"], [1.0, \"#f0f921\"]], \"type\": \"heatmap\"}], \"heatmapgl\": [{\"colorbar\": {\"outlinewidth\": 0, \"ticks\": \"\"}, \"colorscale\": [[0.0, \"#0d0887\"], [0.1111111111111111, \"#46039f\"], [0.2222222222222222, \"#7201a8\"], [0.3333333333333333, \"#9c179e\"], [0.4444444444444444, \"#bd3786\"], [0.5555555555555556, \"#d8576b\"], [0.6666666666666666, \"#ed7953\"], [0.7777777777777778, \"#fb9f3a\"], [0.8888888888888888, \"#fdca26\"], [1.0, \"#f0f921\"]], \"type\": \"heatmapgl\"}], \"histogram\": [{\"marker\": {\"colorbar\": {\"outlinewidth\": 0, \"ticks\": \"\"}}, \"type\": \"histogram\"}], \"histogram2d\": [{\"colorbar\": {\"outlinewidth\": 0, \"ticks\": \"\"}, \"colorscale\": [[0.0, \"#0d0887\"], [0.1111111111111111, \"#46039f\"], [0.2222222222222222, \"#7201a8\"], [0.3333333333333333, \"#9c179e\"], [0.4444444444444444, \"#bd3786\"], [0.5555555555555556, \"#d8576b\"], [0.6666666666666666, \"#ed7953\"], [0.7777777777777778, \"#fb9f3a\"], [0.8888888888888888, \"#fdca26\"], [1.0, \"#f0f921\"]], \"type\": \"histogram2d\"}], \"histogram2dcontour\": [{\"colorbar\": {\"outlinewidth\": 0, \"ticks\": \"\"}, \"colorscale\": [[0.0, \"#0d0887\"], [0.1111111111111111, \"#46039f\"], [0.2222222222222222, \"#7201a8\"], [0.3333333333333333, \"#9c179e\"], [0.4444444444444444, \"#bd3786\"], [0.5555555555555556, \"#d8576b\"], [0.6666666666666666, \"#ed7953\"], [0.7777777777777778, \"#fb9f3a\"], [0.8888888888888888, \"#fdca26\"], [1.0, \"#f0f921\"]], \"type\": \"histogram2dcontour\"}], \"mesh3d\": [{\"colorbar\": {\"outlinewidth\": 0, \"ticks\": \"\"}, \"type\": \"mesh3d\"}], \"parcoords\": [{\"line\": {\"colorbar\": {\"outlinewidth\": 0, \"ticks\": \"\"}}, \"type\": \"parcoords\"}], \"pie\": [{\"automargin\": true, \"type\": \"pie\"}], \"scatter\": [{\"marker\": {\"colorbar\": {\"outlinewidth\": 0, \"ticks\": \"\"}}, \"type\": \"scatter\"}], \"scatter3d\": [{\"line\": {\"colorbar\": {\"outlinewidth\": 0, \"ticks\": \"\"}}, \"marker\": {\"colorbar\": {\"outlinewidth\": 0, \"ticks\": \"\"}}, \"type\": \"scatter3d\"}], \"scattercarpet\": [{\"marker\": {\"colorbar\": {\"outlinewidth\": 0, \"ticks\": \"\"}}, \"type\": \"scattercarpet\"}], \"scattergeo\": [{\"marker\": {\"colorbar\": {\"outlinewidth\": 0, \"ticks\": \"\"}}, \"type\": \"scattergeo\"}], \"scattergl\": [{\"marker\": {\"colorbar\": {\"outlinewidth\": 0, \"ticks\": \"\"}}, \"type\": \"scattergl\"}], \"scattermapbox\": [{\"marker\": {\"colorbar\": {\"outlinewidth\": 0, \"ticks\": \"\"}}, \"type\": \"scattermapbox\"}], \"scatterpolar\": [{\"marker\": {\"colorbar\": {\"outlinewidth\": 0, \"ticks\": \"\"}}, \"type\": \"scatterpolar\"}], \"scatterpolargl\": [{\"marker\": {\"colorbar\": {\"outlinewidth\": 0, \"ticks\": \"\"}}, \"type\": \"scatterpolargl\"}], \"scatterternary\": [{\"marker\": {\"colorbar\": {\"outlinewidth\": 0, \"ticks\": \"\"}}, \"type\": \"scatterternary\"}], \"surface\": [{\"colorbar\": {\"outlinewidth\": 0, \"ticks\": \"\"}, \"colorscale\": [[0.0, \"#0d0887\"], [0.1111111111111111, \"#46039f\"], [0.2222222222222222, \"#7201a8\"], [0.3333333333333333, \"#9c179e\"], [0.4444444444444444, \"#bd3786\"], [0.5555555555555556, \"#d8576b\"], [0.6666666666666666, \"#ed7953\"], [0.7777777777777778, \"#fb9f3a\"], [0.8888888888888888, \"#fdca26\"], [1.0, \"#f0f921\"]], \"type\": \"surface\"}], \"table\": [{\"cells\": {\"fill\": {\"color\": \"#EBF0F8\"}, \"line\": {\"color\": \"white\"}}, \"header\": {\"fill\": {\"color\": \"#C8D4E3\"}, \"line\": {\"color\": \"white\"}}, \"type\": \"table\"}]}, \"layout\": {\"annotationdefaults\": {\"arrowcolor\": \"#2a3f5f\", \"arrowhead\": 0, \"arrowwidth\": 1}, \"coloraxis\": {\"colorbar\": {\"outlinewidth\": 0, \"ticks\": \"\"}}, \"colorscale\": {\"diverging\": [[0, \"#8e0152\"], [0.1, \"#c51b7d\"], [0.2, \"#de77ae\"], [0.3, \"#f1b6da\"], [0.4, \"#fde0ef\"], [0.5, \"#f7f7f7\"], [0.6, \"#e6f5d0\"], [0.7, \"#b8e186\"], [0.8, \"#7fbc41\"], [0.9, \"#4d9221\"], [1, \"#276419\"]], \"sequential\": [[0.0, \"#0d0887\"], [0.1111111111111111, \"#46039f\"], [0.2222222222222222, \"#7201a8\"], [0.3333333333333333, \"#9c179e\"], [0.4444444444444444, \"#bd3786\"], [0.5555555555555556, \"#d8576b\"], [0.6666666666666666, \"#ed7953\"], [0.7777777777777778, \"#fb9f3a\"], [0.8888888888888888, \"#fdca26\"], [1.0, \"#f0f921\"]], \"sequentialminus\": [[0.0, \"#0d0887\"], [0.1111111111111111, \"#46039f\"], [0.2222222222222222, \"#7201a8\"], [0.3333333333333333, \"#9c179e\"], [0.4444444444444444, \"#bd3786\"], [0.5555555555555556, \"#d8576b\"], [0.6666666666666666, \"#ed7953\"], [0.7777777777777778, \"#fb9f3a\"], [0.8888888888888888, \"#fdca26\"], [1.0, \"#f0f921\"]]}, \"colorway\": [\"#636efa\", \"#EF553B\", \"#00cc96\", \"#ab63fa\", \"#FFA15A\", \"#19d3f3\", \"#FF6692\", \"#B6E880\", \"#FF97FF\", \"#FECB52\"], \"font\": {\"color\": \"#2a3f5f\"}, \"geo\": {\"bgcolor\": \"white\", \"lakecolor\": \"white\", \"landcolor\": \"white\", \"showlakes\": true, \"showland\": true, \"subunitcolor\": \"#C8D4E3\"}, \"hoverlabel\": {\"align\": \"left\"}, \"hovermode\": \"closest\", \"mapbox\": {\"style\": \"light\"}, \"paper_bgcolor\": \"white\", \"plot_bgcolor\": \"white\", \"polar\": {\"angularaxis\": {\"gridcolor\": \"#EBF0F8\", \"linecolor\": \"#EBF0F8\", \"ticks\": \"\"}, \"bgcolor\": \"white\", \"radialaxis\": {\"gridcolor\": \"#EBF0F8\", \"linecolor\": \"#EBF0F8\", \"ticks\": \"\"}}, \"scene\": {\"xaxis\": {\"backgroundcolor\": \"white\", \"gridcolor\": \"#DFE8F3\", \"gridwidth\": 2, \"linecolor\": \"#EBF0F8\", \"showbackground\": true, \"ticks\": \"\", \"zerolinecolor\": \"#EBF0F8\"}, \"yaxis\": {\"backgroundcolor\": \"white\", \"gridcolor\": \"#DFE8F3\", \"gridwidth\": 2, \"linecolor\": \"#EBF0F8\", \"showbackground\": true, \"ticks\": \"\", \"zerolinecolor\": \"#EBF0F8\"}, \"zaxis\": {\"backgroundcolor\": \"white\", \"gridcolor\": \"#DFE8F3\", \"gridwidth\": 2, \"linecolor\": \"#EBF0F8\", \"showbackground\": true, \"ticks\": \"\", \"zerolinecolor\": \"#EBF0F8\"}}, \"shapedefaults\": {\"line\": {\"color\": \"#2a3f5f\"}}, \"ternary\": {\"aaxis\": {\"gridcolor\": \"#DFE8F3\", \"linecolor\": \"#A2B1C6\", \"ticks\": \"\"}, \"baxis\": {\"gridcolor\": \"#DFE8F3\", \"linecolor\": \"#A2B1C6\", \"ticks\": \"\"}, \"bgcolor\": \"white\", \"caxis\": {\"gridcolor\": \"#DFE8F3\", \"linecolor\": \"#A2B1C6\", \"ticks\": \"\"}}, \"title\": {\"x\": 0.05}, \"xaxis\": {\"automargin\": true, \"gridcolor\": \"#EBF0F8\", \"linecolor\": \"#EBF0F8\", \"ticks\": \"\", \"title\": {\"standoff\": 15}, \"zerolinecolor\": \"#EBF0F8\", \"zerolinewidth\": 2}, \"yaxis\": {\"automargin\": true, \"gridcolor\": \"#EBF0F8\", \"linecolor\": \"#EBF0F8\", \"ticks\": \"\", \"title\": {\"standoff\": 15}, \"zerolinecolor\": \"#EBF0F8\", \"zerolinewidth\": 2}}}, \"title\": {\"font\": {\"size\": 20}, \"text\": \"\\ud68c\\ubcf5\\ub3c4 \\ubc0f \\ud0c0\\uaca9\\ub3c4 / \\ud074\\ub7ec\\uc2a4\\ud130\\ubcc4 / \\uc911\\uad6c \\uc18c\\uc0c1\\uacf5\"}, \"width\": 600, \"xaxis\": {\"anchor\": \"y\", \"domain\": [0.0, 1.0], \"title\": {\"font\": {\"size\": 16}, \"text\": \"\\ud0c0\\uaca9\\ub3c4 (\\uc2e0\\ucc9c\\uc9c0 - \\uc0ac\\ud68c\\uc801 \\uac70\\ub9ac\\ub450\\uae30)\"}}, \"yaxis\": {\"anchor\": \"x\", \"domain\": [0.0, 1.0], \"title\": {\"font\": {\"size\": 16}, \"text\": \"\\ud68c\\ubcf5\\ub3c4 (\\uc0ac\\ud68c\\uc801 \\uac70\\ub9ac\\ub450\\uae30 - \\ucd5c\\uadfc)\"}}},\n",
       "                        {\"responsive\": true}\n",
       "                    ).then(function(){\n",
       "                            \n",
       "var gd = document.getElementById('7b01e6b7-31f5-4781-bf14-fdbceb2dfc95');\n",
       "var x = new MutationObserver(function (mutations, observer) {{\n",
       "        var display = window.getComputedStyle(gd).display;\n",
       "        if (!display || display === 'none') {{\n",
       "            console.log([gd, 'removed!']);\n",
       "            Plotly.purge(gd);\n",
       "            observer.disconnect();\n",
       "        }}\n",
       "}});\n",
       "\n",
       "// Listen for the removal of the full notebook cells\n",
       "var notebookContainer = gd.closest('#notebook-container');\n",
       "if (notebookContainer) {{\n",
       "    x.observe(notebookContainer, {childList: true});\n",
       "}}\n",
       "\n",
       "// Listen for the clearing of the current output cell\n",
       "var outputEl = gd.closest('.output');\n",
       "if (outputEl) {{\n",
       "    x.observe(outputEl, {childList: true});\n",
       "}}\n",
       "\n",
       "                        })\n",
       "                };\n",
       "                \n",
       "            </script>\n",
       "        </div>\n",
       "</body>\n",
       "</html>"
      ]
     },
     "metadata": {
      "tags": []
     },
     "output_type": "display_data"
    }
   ],
   "source": [
    "show_scattor_tmsc3(add_catclus2(new_cat2(draw_slope_tmsc(scr_s2, '중구 소상공'))), -1.5, 1.5, -2, 2, '중구 소상공', 'catnm2')"
   ]
  },
  {
   "cell_type": "code",
   "execution_count": null,
   "metadata": {
    "colab": {
     "base_uri": "https://localhost:8080/",
     "height": 717
    },
    "id": "pQbthtfYdH9T",
    "outputId": "303f363a-af88-44a2-e4b6-bd774882db99"
   },
   "outputs": [
    {
     "data": {
      "text/html": [
       "<html>\n",
       "<head><meta charset=\"utf-8\" /></head>\n",
       "<body>\n",
       "    <div>\n",
       "            <script src=\"https://cdnjs.cloudflare.com/ajax/libs/mathjax/2.7.5/MathJax.js?config=TeX-AMS-MML_SVG\"></script><script type=\"text/javascript\">if (window.MathJax) {MathJax.Hub.Config({SVG: {font: \"STIX-Web\"}});}</script>\n",
       "                <script type=\"text/javascript\">window.PlotlyConfig = {MathJaxConfig: 'local'};</script>\n",
       "        <script src=\"https://cdn.plot.ly/plotly-latest.min.js\"></script>    \n",
       "            <div id=\"1d02f287-4d72-4bf8-90d5-203ff474cc0a\" class=\"plotly-graph-div\" style=\"height:700px; width:600px;\"></div>\n",
       "            <script type=\"text/javascript\">\n",
       "                \n",
       "                    window.PLOTLYENV=window.PLOTLYENV || {};\n",
       "                    \n",
       "                if (document.getElementById(\"1d02f287-4d72-4bf8-90d5-203ff474cc0a\")) {\n",
       "                    Plotly.newPlot(\n",
       "                        '1d02f287-4d72-4bf8-90d5-203ff474cc0a',\n",
       "                        [{\"customdata\": [[\"\\uac00\\uad6c\"], [\"\\uac00\\uc804\"], [\"\\ub808\\uc800\\uc6a9\\ud488\"], [\"\\uc2e0\\ubcc0\\uc7a1\\ud654\"], [\"\\uc758\\ubcf5\"], [\"\\uc790\\ub3d9\\ucc28\\uc815\\ube44\"], [\"\\uc790\\ub3d9\\ucc28\\ud310\\ub9e4\"], [\"\\uc8fc\\ubc29\\uc6a9\\uad6c\"], [\"\\uc9c1\\ubb3c\"]], \"hoverlabel\": {\"namelength\": 0}, \"hovertemplate\": \"cat_clus=CAT1<br>slope_middle=%{x}<br>slope_after=%{y}<br>cat=%{customdata[0]}\", \"legendgroup\": \"cat_clus=CAT1\", \"marker\": {\"color\": \"rgb(85,107,47)\", \"size\": 15, \"symbol\": \"circle\"}, \"mode\": \"markers\", \"name\": \"cat_clus=CAT1\", \"showlegend\": true, \"type\": \"scatter\", \"x\": [-2.2980487649605297, -0.2206149519236386, -0.07350394191638052, 0.37462058892661804, 0.238102470504053, 0.7128250057421615, -6.053090431182008, -0.13558432746044935, -0.4916794252246705], \"xaxis\": \"x\", \"y\": [4.016065478277574, 0.7490357539488698, 0.5004941543275914, 0.1769248114271744, 2.0698116175531545, 0.36795662135476287, 1.3978113671144645, 0.7405179981128147, 2.919314862527763], \"yaxis\": \"y\"}, {\"customdata\": [[\"\\uad11\\ud559\\uc81c\\ud488\"], [\"\\ubcf4\\uac74\\uc704\\uc0dd\"], [\"\\uc218\\ub9ac\\uc11c\\ube44\\uc2a4\"], [\"\\uc5f0\\ub8cc\\ud310\\ub9e4\"], [\"\\uc694\\uc2dd\\uc5c5\\uc18c\"], [\"\\uc74c\\ub8cc\\uc2dd\\ud488\"], [\"\\uc758\\ub8cc\\uae30\\uad00\"]], \"hoverlabel\": {\"namelength\": 0}, \"hovertemplate\": \"cat_clus=CAT2<br>slope_middle=%{x}<br>slope_after=%{y}<br>cat=%{customdata[0]}\", \"legendgroup\": \"cat_clus=CAT2\", \"marker\": {\"color\": \"rgb(169,169,169)\", \"size\": 15, \"symbol\": \"circle\"}, \"mode\": \"markers\", \"name\": \"cat_clus=CAT2\", \"showlegend\": true, \"type\": \"scatter\", \"x\": [0.22708103120949022, 0.4156217939983624, 0.034851481356170055, 0.081091708991385, 0.5425783537028809, 0.1328897771696551, -0.040813556563008654], \"xaxis\": \"x\", \"y\": [0.608988497402125, 0.5417830021740734, -0.29846464230949, 0.16517030141695327, 0.26698083852549914, 0.3193522195843759, 0.3484214648274338], \"yaxis\": \"y\"}, {\"customdata\": [[\"\\ub808\\uc800\\uc5c5\\uc18c\"], [\"\\ubb38\\ud654\\ucde8\\ubbf8\"], [\"\\uc0ac\\ubb34\\ud1b5\\uc2e0\"], [\"\\uc11c\\uc801\\ubb38\\uad6c\"], [\"\\uc219\\ubc15\"], [\"\\uc720\\ud1b5\\uc5c5\"], [\"\\uc804\\uae30\"]], \"hoverlabel\": {\"namelength\": 0}, \"hovertemplate\": \"cat_clus=CAT3<br>slope_middle=%{x}<br>slope_after=%{y}<br>cat=%{customdata[0]}\", \"legendgroup\": \"cat_clus=CAT3\", \"marker\": {\"color\": \"rgb(250,128,114)\", \"size\": 15, \"symbol\": \"circle\"}, \"mode\": \"markers\", \"name\": \"cat_clus=CAT3\", \"showlegend\": true, \"type\": \"scatter\", \"x\": [0.44692621221681517, -0.17799913752279, 0.783053748630882, 0.9315170005316639, 0.32016617304139305, 0.582628622363638, 1.6236416261909496], \"xaxis\": \"x\", \"y\": [0.3516930655857237, 0.6485569792553167, 0.6142114766008117, 0.5699421268782363, 0.2613472641376503, 0.07395430125063142, 0.631069716134024], \"yaxis\": \"y\"}, {\"marker\": {\"color\": \"crimson\", \"line\": {\"color\": \"black\", \"width\": 5}, \"size\": 25}, \"mode\": \"markers\", \"showlegend\": false, \"type\": \"scatter\", \"x\": [0.582628622363638], \"y\": [0.07395430125063142]}],\n",
       "                        {\"autosize\": false, \"height\": 700, \"legend\": {\"tracegroupgap\": 0}, \"margin\": {\"b\": 20, \"l\": 20, \"pad\": 4, \"r\": 20, \"t\": 50}, \"shapes\": [{\"fillcolor\": \"pink\", \"line\": {\"color\": \"pink\"}, \"opacity\": 0.2, \"type\": \"rect\", \"x0\": 0.5, \"x1\": 1.2, \"xref\": \"x\", \"y0\": 0, \"y1\": 0.5, \"yref\": \"y\"}, {\"line\": {\"color\": \"red\", \"dash\": \"dash\", \"width\": 1}, \"type\": \"line\", \"x0\": 0.5, \"x1\": 0.5, \"y0\": -2, \"y1\": 2}, {\"line\": {\"color\": \"red\", \"dash\": \"dash\", \"width\": 1}, \"type\": \"line\", \"x0\": -1.5, \"x1\": 1.5, \"y0\": 0.5, \"y1\": 0.5}], \"showlegend\": false, \"template\": {\"data\": {\"bar\": [{\"error_x\": {\"color\": \"#2a3f5f\"}, \"error_y\": {\"color\": \"#2a3f5f\"}, \"marker\": {\"line\": {\"color\": \"white\", \"width\": 0.5}}, \"type\": \"bar\"}], \"barpolar\": [{\"marker\": {\"line\": {\"color\": \"white\", \"width\": 0.5}}, \"type\": \"barpolar\"}], \"carpet\": [{\"aaxis\": {\"endlinecolor\": \"#2a3f5f\", \"gridcolor\": \"#C8D4E3\", \"linecolor\": \"#C8D4E3\", \"minorgridcolor\": \"#C8D4E3\", \"startlinecolor\": \"#2a3f5f\"}, \"baxis\": {\"endlinecolor\": \"#2a3f5f\", \"gridcolor\": \"#C8D4E3\", \"linecolor\": \"#C8D4E3\", \"minorgridcolor\": \"#C8D4E3\", \"startlinecolor\": \"#2a3f5f\"}, \"type\": \"carpet\"}], \"choropleth\": [{\"colorbar\": {\"outlinewidth\": 0, \"ticks\": \"\"}, \"type\": \"choropleth\"}], \"contour\": [{\"colorbar\": {\"outlinewidth\": 0, \"ticks\": \"\"}, \"colorscale\": [[0.0, \"#0d0887\"], [0.1111111111111111, \"#46039f\"], [0.2222222222222222, \"#7201a8\"], [0.3333333333333333, \"#9c179e\"], [0.4444444444444444, \"#bd3786\"], [0.5555555555555556, \"#d8576b\"], [0.6666666666666666, \"#ed7953\"], [0.7777777777777778, \"#fb9f3a\"], [0.8888888888888888, \"#fdca26\"], [1.0, \"#f0f921\"]], \"type\": \"contour\"}], \"contourcarpet\": [{\"colorbar\": {\"outlinewidth\": 0, \"ticks\": \"\"}, \"type\": \"contourcarpet\"}], \"heatmap\": [{\"colorbar\": {\"outlinewidth\": 0, \"ticks\": \"\"}, \"colorscale\": [[0.0, \"#0d0887\"], [0.1111111111111111, \"#46039f\"], [0.2222222222222222, \"#7201a8\"], [0.3333333333333333, \"#9c179e\"], [0.4444444444444444, \"#bd3786\"], [0.5555555555555556, \"#d8576b\"], [0.6666666666666666, \"#ed7953\"], [0.7777777777777778, \"#fb9f3a\"], [0.8888888888888888, \"#fdca26\"], [1.0, \"#f0f921\"]], \"type\": \"heatmap\"}], \"heatmapgl\": [{\"colorbar\": {\"outlinewidth\": 0, \"ticks\": \"\"}, \"colorscale\": [[0.0, \"#0d0887\"], [0.1111111111111111, \"#46039f\"], [0.2222222222222222, \"#7201a8\"], [0.3333333333333333, \"#9c179e\"], [0.4444444444444444, \"#bd3786\"], [0.5555555555555556, \"#d8576b\"], [0.6666666666666666, \"#ed7953\"], [0.7777777777777778, \"#fb9f3a\"], [0.8888888888888888, \"#fdca26\"], [1.0, \"#f0f921\"]], \"type\": \"heatmapgl\"}], \"histogram\": [{\"marker\": {\"colorbar\": {\"outlinewidth\": 0, \"ticks\": \"\"}}, \"type\": \"histogram\"}], \"histogram2d\": [{\"colorbar\": {\"outlinewidth\": 0, \"ticks\": \"\"}, \"colorscale\": [[0.0, \"#0d0887\"], [0.1111111111111111, \"#46039f\"], [0.2222222222222222, \"#7201a8\"], [0.3333333333333333, \"#9c179e\"], [0.4444444444444444, \"#bd3786\"], [0.5555555555555556, \"#d8576b\"], [0.6666666666666666, \"#ed7953\"], [0.7777777777777778, \"#fb9f3a\"], [0.8888888888888888, \"#fdca26\"], [1.0, \"#f0f921\"]], \"type\": \"histogram2d\"}], \"histogram2dcontour\": [{\"colorbar\": {\"outlinewidth\": 0, \"ticks\": \"\"}, \"colorscale\": [[0.0, \"#0d0887\"], [0.1111111111111111, \"#46039f\"], [0.2222222222222222, \"#7201a8\"], [0.3333333333333333, \"#9c179e\"], [0.4444444444444444, \"#bd3786\"], [0.5555555555555556, \"#d8576b\"], [0.6666666666666666, \"#ed7953\"], [0.7777777777777778, \"#fb9f3a\"], [0.8888888888888888, \"#fdca26\"], [1.0, \"#f0f921\"]], \"type\": \"histogram2dcontour\"}], \"mesh3d\": [{\"colorbar\": {\"outlinewidth\": 0, \"ticks\": \"\"}, \"type\": \"mesh3d\"}], \"parcoords\": [{\"line\": {\"colorbar\": {\"outlinewidth\": 0, \"ticks\": \"\"}}, \"type\": \"parcoords\"}], \"pie\": [{\"automargin\": true, \"type\": \"pie\"}], \"scatter\": [{\"marker\": {\"colorbar\": {\"outlinewidth\": 0, \"ticks\": \"\"}}, \"type\": \"scatter\"}], \"scatter3d\": [{\"line\": {\"colorbar\": {\"outlinewidth\": 0, \"ticks\": \"\"}}, \"marker\": {\"colorbar\": {\"outlinewidth\": 0, \"ticks\": \"\"}}, \"type\": \"scatter3d\"}], \"scattercarpet\": [{\"marker\": {\"colorbar\": {\"outlinewidth\": 0, \"ticks\": \"\"}}, \"type\": \"scattercarpet\"}], \"scattergeo\": [{\"marker\": {\"colorbar\": {\"outlinewidth\": 0, \"ticks\": \"\"}}, \"type\": \"scattergeo\"}], \"scattergl\": [{\"marker\": {\"colorbar\": {\"outlinewidth\": 0, \"ticks\": \"\"}}, \"type\": \"scattergl\"}], \"scattermapbox\": [{\"marker\": {\"colorbar\": {\"outlinewidth\": 0, \"ticks\": \"\"}}, \"type\": \"scattermapbox\"}], \"scatterpolar\": [{\"marker\": {\"colorbar\": {\"outlinewidth\": 0, \"ticks\": \"\"}}, \"type\": \"scatterpolar\"}], \"scatterpolargl\": [{\"marker\": {\"colorbar\": {\"outlinewidth\": 0, \"ticks\": \"\"}}, \"type\": \"scatterpolargl\"}], \"scatterternary\": [{\"marker\": {\"colorbar\": {\"outlinewidth\": 0, \"ticks\": \"\"}}, \"type\": \"scatterternary\"}], \"surface\": [{\"colorbar\": {\"outlinewidth\": 0, \"ticks\": \"\"}, \"colorscale\": [[0.0, \"#0d0887\"], [0.1111111111111111, \"#46039f\"], [0.2222222222222222, \"#7201a8\"], [0.3333333333333333, \"#9c179e\"], [0.4444444444444444, \"#bd3786\"], [0.5555555555555556, \"#d8576b\"], [0.6666666666666666, \"#ed7953\"], [0.7777777777777778, \"#fb9f3a\"], [0.8888888888888888, \"#fdca26\"], [1.0, \"#f0f921\"]], \"type\": \"surface\"}], \"table\": [{\"cells\": {\"fill\": {\"color\": \"#EBF0F8\"}, \"line\": {\"color\": \"white\"}}, \"header\": {\"fill\": {\"color\": \"#C8D4E3\"}, \"line\": {\"color\": \"white\"}}, \"type\": \"table\"}]}, \"layout\": {\"annotationdefaults\": {\"arrowcolor\": \"#2a3f5f\", \"arrowhead\": 0, \"arrowwidth\": 1}, \"coloraxis\": {\"colorbar\": {\"outlinewidth\": 0, \"ticks\": \"\"}}, \"colorscale\": {\"diverging\": [[0, \"#8e0152\"], [0.1, \"#c51b7d\"], [0.2, \"#de77ae\"], [0.3, \"#f1b6da\"], [0.4, \"#fde0ef\"], [0.5, \"#f7f7f7\"], [0.6, \"#e6f5d0\"], [0.7, \"#b8e186\"], [0.8, \"#7fbc41\"], [0.9, \"#4d9221\"], [1, \"#276419\"]], \"sequential\": [[0.0, \"#0d0887\"], [0.1111111111111111, \"#46039f\"], [0.2222222222222222, \"#7201a8\"], [0.3333333333333333, \"#9c179e\"], [0.4444444444444444, \"#bd3786\"], [0.5555555555555556, \"#d8576b\"], [0.6666666666666666, \"#ed7953\"], [0.7777777777777778, \"#fb9f3a\"], [0.8888888888888888, \"#fdca26\"], [1.0, \"#f0f921\"]], \"sequentialminus\": [[0.0, \"#0d0887\"], [0.1111111111111111, \"#46039f\"], [0.2222222222222222, \"#7201a8\"], [0.3333333333333333, \"#9c179e\"], [0.4444444444444444, \"#bd3786\"], [0.5555555555555556, \"#d8576b\"], [0.6666666666666666, \"#ed7953\"], [0.7777777777777778, \"#fb9f3a\"], [0.8888888888888888, \"#fdca26\"], [1.0, \"#f0f921\"]]}, \"colorway\": [\"#636efa\", \"#EF553B\", \"#00cc96\", \"#ab63fa\", \"#FFA15A\", \"#19d3f3\", \"#FF6692\", \"#B6E880\", \"#FF97FF\", \"#FECB52\"], \"font\": {\"color\": \"#2a3f5f\"}, \"geo\": {\"bgcolor\": \"white\", \"lakecolor\": \"white\", \"landcolor\": \"white\", \"showlakes\": true, \"showland\": true, \"subunitcolor\": \"#C8D4E3\"}, \"hoverlabel\": {\"align\": \"left\"}, \"hovermode\": \"closest\", \"mapbox\": {\"style\": \"light\"}, \"paper_bgcolor\": \"white\", \"plot_bgcolor\": \"white\", \"polar\": {\"angularaxis\": {\"gridcolor\": \"#EBF0F8\", \"linecolor\": \"#EBF0F8\", \"ticks\": \"\"}, \"bgcolor\": \"white\", \"radialaxis\": {\"gridcolor\": \"#EBF0F8\", \"linecolor\": \"#EBF0F8\", \"ticks\": \"\"}}, \"scene\": {\"xaxis\": {\"backgroundcolor\": \"white\", \"gridcolor\": \"#DFE8F3\", \"gridwidth\": 2, \"linecolor\": \"#EBF0F8\", \"showbackground\": true, \"ticks\": \"\", \"zerolinecolor\": \"#EBF0F8\"}, \"yaxis\": {\"backgroundcolor\": \"white\", \"gridcolor\": \"#DFE8F3\", \"gridwidth\": 2, \"linecolor\": \"#EBF0F8\", \"showbackground\": true, \"ticks\": \"\", \"zerolinecolor\": \"#EBF0F8\"}, \"zaxis\": {\"backgroundcolor\": \"white\", \"gridcolor\": \"#DFE8F3\", \"gridwidth\": 2, \"linecolor\": \"#EBF0F8\", \"showbackground\": true, \"ticks\": \"\", \"zerolinecolor\": \"#EBF0F8\"}}, \"shapedefaults\": {\"line\": {\"color\": \"#2a3f5f\"}}, \"ternary\": {\"aaxis\": {\"gridcolor\": \"#DFE8F3\", \"linecolor\": \"#A2B1C6\", \"ticks\": \"\"}, \"baxis\": {\"gridcolor\": \"#DFE8F3\", \"linecolor\": \"#A2B1C6\", \"ticks\": \"\"}, \"bgcolor\": \"white\", \"caxis\": {\"gridcolor\": \"#DFE8F3\", \"linecolor\": \"#A2B1C6\", \"ticks\": \"\"}}, \"title\": {\"x\": 0.05}, \"xaxis\": {\"automargin\": true, \"gridcolor\": \"#EBF0F8\", \"linecolor\": \"#EBF0F8\", \"ticks\": \"\", \"title\": {\"standoff\": 15}, \"zerolinecolor\": \"#EBF0F8\", \"zerolinewidth\": 2}, \"yaxis\": {\"automargin\": true, \"gridcolor\": \"#EBF0F8\", \"linecolor\": \"#EBF0F8\", \"ticks\": \"\", \"title\": {\"standoff\": 15}, \"zerolinecolor\": \"#EBF0F8\", \"zerolinewidth\": 2}}}, \"title\": {\"font\": {\"size\": 20}, \"text\": \"\\ud68c\\ubcf5\\ub3c4 \\ubc0f \\ud0c0\\uaca9\\ub3c4 / \\ud074\\ub7ec\\uc2a4\\ud130\\ubcc4 / \\ub178\\uc6d0\\uad6c \\ub300\\ud559\\uac00\"}, \"width\": 600, \"xaxis\": {\"anchor\": \"y\", \"domain\": [0.0, 1.0], \"title\": {\"font\": {\"size\": 16}, \"text\": \"\\ud0c0\\uaca9\\ub3c4 (\\uc2e0\\ucc9c\\uc9c0 - \\uc0ac\\ud68c\\uc801 \\uac70\\ub9ac\\ub450\\uae30)\"}}, \"yaxis\": {\"anchor\": \"x\", \"domain\": [0.0, 1.0], \"title\": {\"font\": {\"size\": 16}, \"text\": \"\\ud68c\\ubcf5\\ub3c4 (\\uc0ac\\ud68c\\uc801 \\uac70\\ub9ac\\ub450\\uae30 - \\ucd5c\\uadfc)\"}}},\n",
       "                        {\"responsive\": true}\n",
       "                    ).then(function(){\n",
       "                            \n",
       "var gd = document.getElementById('1d02f287-4d72-4bf8-90d5-203ff474cc0a');\n",
       "var x = new MutationObserver(function (mutations, observer) {{\n",
       "        var display = window.getComputedStyle(gd).display;\n",
       "        if (!display || display === 'none') {{\n",
       "            console.log([gd, 'removed!']);\n",
       "            Plotly.purge(gd);\n",
       "            observer.disconnect();\n",
       "        }}\n",
       "}});\n",
       "\n",
       "// Listen for the removal of the full notebook cells\n",
       "var notebookContainer = gd.closest('#notebook-container');\n",
       "if (notebookContainer) {{\n",
       "    x.observe(notebookContainer, {childList: true});\n",
       "}}\n",
       "\n",
       "// Listen for the clearing of the current output cell\n",
       "var outputEl = gd.closest('.output');\n",
       "if (outputEl) {{\n",
       "    x.observe(outputEl, {childList: true});\n",
       "}}\n",
       "\n",
       "                        })\n",
       "                };\n",
       "                \n",
       "            </script>\n",
       "        </div>\n",
       "</body>\n",
       "</html>"
      ]
     },
     "metadata": {
      "tags": []
     },
     "output_type": "display_data"
    }
   ],
   "source": [
    "show_scattor_tmsc3(add_catclus2(new_cat2(draw_slope_tmsc(scr_s1, '노원구 대학가'))),  -1.5, 1.5, -2, 2, '노원구 대학가', 'catnm3')"
   ]
  },
  {
   "cell_type": "code",
   "execution_count": null,
   "metadata": {
    "colab": {
     "base_uri": "https://localhost:8080/",
     "height": 717
    },
    "id": "a3A4iPBXdIDS",
    "outputId": "f509f40c-5b85-4a31-a1d2-5d524412d21e"
   },
   "outputs": [
    {
     "data": {
      "text/html": [
       "<html>\n",
       "<head><meta charset=\"utf-8\" /></head>\n",
       "<body>\n",
       "    <div>\n",
       "            <script src=\"https://cdnjs.cloudflare.com/ajax/libs/mathjax/2.7.5/MathJax.js?config=TeX-AMS-MML_SVG\"></script><script type=\"text/javascript\">if (window.MathJax) {MathJax.Hub.Config({SVG: {font: \"STIX-Web\"}});}</script>\n",
       "                <script type=\"text/javascript\">window.PlotlyConfig = {MathJaxConfig: 'local'};</script>\n",
       "        <script src=\"https://cdn.plot.ly/plotly-latest.min.js\"></script>    \n",
       "            <div id=\"0643e399-6209-4ed4-bf0a-f09d21c6a1f0\" class=\"plotly-graph-div\" style=\"height:700px; width:600px;\"></div>\n",
       "            <script type=\"text/javascript\">\n",
       "                \n",
       "                    window.PLOTLYENV=window.PLOTLYENV || {};\n",
       "                    \n",
       "                if (document.getElementById(\"0643e399-6209-4ed4-bf0a-f09d21c6a1f0\")) {\n",
       "                    Plotly.newPlot(\n",
       "                        '0643e399-6209-4ed4-bf0a-f09d21c6a1f0',\n",
       "                        [{\"customdata\": [[\"\\uac00\\uad6c\"], [\"\\uac00\\uc804\"], [\"\\ub808\\uc800\\uc6a9\\ud488\"], [\"\\uc2e0\\ubcc0\\uc7a1\\ud654\"], [\"\\uc758\\ubcf5\"], [\"\\uc790\\ub3d9\\ucc28\\uc815\\ube44\"], [\"\\uc790\\ub3d9\\ucc28\\ud310\\ub9e4\"], [\"\\uc8fc\\ubc29\\uc6a9\\uad6c\"], [\"\\uc9c1\\ubb3c\"]], \"hoverlabel\": {\"namelength\": 0}, \"hovertemplate\": \"cat_clus=CAT1<br>slope_middle=%{x}<br>slope_after=%{y}<br>cat=%{customdata[0]}\", \"legendgroup\": \"cat_clus=CAT1\", \"marker\": {\"color\": \"rgb(85,107,47)\", \"size\": 15, \"symbol\": \"circle\"}, \"mode\": \"markers\", \"name\": \"cat_clus=CAT1\", \"showlegend\": true, \"type\": \"scatter\", \"x\": [0.5321480292737537, -0.2081790492511277, 0.2403344553602878, 0.4794069802373655, -0.16582129377520755, -0.24595135375002833, -0.1882731799990042, -1.9831782444783919, -0.0634226283098568], \"xaxis\": \"x\", \"y\": [2.7399554544728644, 0.8951943682381482, 0.601288420179197, 0.3737432786629866, 0.25081275740873454, 0.5574177076759685, 0.68267178002828, 1.1544166482369083, 1.118405834310385], \"yaxis\": \"y\"}, {\"customdata\": [[\"\\uad11\\ud559\\uc81c\\ud488\"], [\"\\ubcf4\\uac74\\uc704\\uc0dd\"], [\"\\uc218\\ub9ac\\uc11c\\ube44\\uc2a4\"], [\"\\uc5f0\\ub8cc\\ud310\\ub9e4\"], [\"\\uc694\\uc2dd\\uc5c5\\uc18c\"], [\"\\uc74c\\ub8cc\\uc2dd\\ud488\"], [\"\\uc758\\ub8cc\\uae30\\uad00\"]], \"hoverlabel\": {\"namelength\": 0}, \"hovertemplate\": \"cat_clus=CAT2<br>slope_middle=%{x}<br>slope_after=%{y}<br>cat=%{customdata[0]}\", \"legendgroup\": \"cat_clus=CAT2\", \"marker\": {\"color\": \"rgb(169,169,169)\", \"size\": 15, \"symbol\": \"circle\"}, \"mode\": \"markers\", \"name\": \"cat_clus=CAT2\", \"showlegend\": true, \"type\": \"scatter\", \"x\": [-0.05987876063910084, 0.24101474366902595, -0.12147631273729749, 0.4147719113665784, 0.5871402338249339, -0.025755812931984874, -0.2489301606056577], \"xaxis\": \"x\", \"y\": [0.10937148878873812, 0.40884578549090184, 0.432084333708463, 0.11110424591032501, 0.3711750175754252, 0.26736091039368365, 0.3205798989758137], \"yaxis\": \"y\"}, {\"customdata\": [[\"\\ub808\\uc800\\uc5c5\\uc18c\"], [\"\\ubb38\\ud654\\ucde8\\ubbf8\"], [\"\\uc0ac\\ubb34\\ud1b5\\uc2e0\"], [\"\\uc11c\\uc801\\ubb38\\uad6c\"], [\"\\uc219\\ubc15\"], [\"\\uc720\\ud1b5\\uc5c5\"], [\"\\uc804\\uae30\"]], \"hoverlabel\": {\"namelength\": 0}, \"hovertemplate\": \"cat_clus=CAT3<br>slope_middle=%{x}<br>slope_after=%{y}<br>cat=%{customdata[0]}\", \"legendgroup\": \"cat_clus=CAT3\", \"marker\": {\"color\": \"rgb(250,128,114)\", \"size\": 15, \"symbol\": \"circle\"}, \"mode\": \"markers\", \"name\": \"cat_clus=CAT3\", \"showlegend\": true, \"type\": \"scatter\", \"x\": [0.6861951892412598, 0.5222943921557033, -1.190411619536725, 1.0430360624823698, -0.2292740961254105, 0.5035747417160586, 3.435436555279893], \"xaxis\": \"x\", \"y\": [0.16300073768365023, 0.24111722724626877, 1.0110001571097065, 0.7876003808062576, 0.5260395059602136, 0.1727159552304615, -0.4600279403240243], \"yaxis\": \"y\"}, {\"marker\": {\"color\": \"crimson\", \"line\": {\"color\": \"black\", \"width\": 5}, \"size\": 25}, \"mode\": \"markers\", \"showlegend\": false, \"type\": \"scatter\", \"x\": [0.5035747417160586], \"y\": [0.1727159552304615]}],\n",
       "                        {\"autosize\": false, \"height\": 700, \"legend\": {\"tracegroupgap\": 0}, \"margin\": {\"b\": 20, \"l\": 20, \"pad\": 4, \"r\": 20, \"t\": 50}, \"shapes\": [{\"fillcolor\": \"pink\", \"line\": {\"color\": \"pink\"}, \"opacity\": 0.2, \"type\": \"rect\", \"x0\": 0.5, \"x1\": 1.2, \"xref\": \"x\", \"y0\": 0, \"y1\": 0.5, \"yref\": \"y\"}, {\"line\": {\"color\": \"red\", \"dash\": \"dash\", \"width\": 1}, \"type\": \"line\", \"x0\": 0.5, \"x1\": 0.5, \"y0\": -2, \"y1\": 2}, {\"line\": {\"color\": \"red\", \"dash\": \"dash\", \"width\": 1}, \"type\": \"line\", \"x0\": -1.5, \"x1\": 1.5, \"y0\": 0.5, \"y1\": 0.5}], \"showlegend\": false, \"template\": {\"data\": {\"bar\": [{\"error_x\": {\"color\": \"#2a3f5f\"}, \"error_y\": {\"color\": \"#2a3f5f\"}, \"marker\": {\"line\": {\"color\": \"white\", \"width\": 0.5}}, \"type\": \"bar\"}], \"barpolar\": [{\"marker\": {\"line\": {\"color\": \"white\", \"width\": 0.5}}, \"type\": \"barpolar\"}], \"carpet\": [{\"aaxis\": {\"endlinecolor\": \"#2a3f5f\", \"gridcolor\": \"#C8D4E3\", \"linecolor\": \"#C8D4E3\", \"minorgridcolor\": \"#C8D4E3\", \"startlinecolor\": \"#2a3f5f\"}, \"baxis\": {\"endlinecolor\": \"#2a3f5f\", \"gridcolor\": \"#C8D4E3\", \"linecolor\": \"#C8D4E3\", \"minorgridcolor\": \"#C8D4E3\", \"startlinecolor\": \"#2a3f5f\"}, \"type\": \"carpet\"}], \"choropleth\": [{\"colorbar\": {\"outlinewidth\": 0, \"ticks\": \"\"}, \"type\": \"choropleth\"}], \"contour\": [{\"colorbar\": {\"outlinewidth\": 0, \"ticks\": \"\"}, \"colorscale\": [[0.0, \"#0d0887\"], [0.1111111111111111, \"#46039f\"], [0.2222222222222222, \"#7201a8\"], [0.3333333333333333, \"#9c179e\"], [0.4444444444444444, \"#bd3786\"], [0.5555555555555556, \"#d8576b\"], [0.6666666666666666, \"#ed7953\"], [0.7777777777777778, \"#fb9f3a\"], [0.8888888888888888, \"#fdca26\"], [1.0, \"#f0f921\"]], \"type\": \"contour\"}], \"contourcarpet\": [{\"colorbar\": {\"outlinewidth\": 0, \"ticks\": \"\"}, \"type\": \"contourcarpet\"}], \"heatmap\": [{\"colorbar\": {\"outlinewidth\": 0, \"ticks\": \"\"}, \"colorscale\": [[0.0, \"#0d0887\"], [0.1111111111111111, \"#46039f\"], [0.2222222222222222, \"#7201a8\"], [0.3333333333333333, \"#9c179e\"], [0.4444444444444444, \"#bd3786\"], [0.5555555555555556, \"#d8576b\"], [0.6666666666666666, \"#ed7953\"], [0.7777777777777778, \"#fb9f3a\"], [0.8888888888888888, \"#fdca26\"], [1.0, \"#f0f921\"]], \"type\": \"heatmap\"}], \"heatmapgl\": [{\"colorbar\": {\"outlinewidth\": 0, \"ticks\": \"\"}, \"colorscale\": [[0.0, \"#0d0887\"], [0.1111111111111111, \"#46039f\"], [0.2222222222222222, \"#7201a8\"], [0.3333333333333333, \"#9c179e\"], [0.4444444444444444, \"#bd3786\"], [0.5555555555555556, \"#d8576b\"], [0.6666666666666666, \"#ed7953\"], [0.7777777777777778, \"#fb9f3a\"], [0.8888888888888888, \"#fdca26\"], [1.0, \"#f0f921\"]], \"type\": \"heatmapgl\"}], \"histogram\": [{\"marker\": {\"colorbar\": {\"outlinewidth\": 0, \"ticks\": \"\"}}, \"type\": \"histogram\"}], \"histogram2d\": [{\"colorbar\": {\"outlinewidth\": 0, \"ticks\": \"\"}, \"colorscale\": [[0.0, \"#0d0887\"], [0.1111111111111111, \"#46039f\"], [0.2222222222222222, \"#7201a8\"], [0.3333333333333333, \"#9c179e\"], [0.4444444444444444, \"#bd3786\"], [0.5555555555555556, \"#d8576b\"], [0.6666666666666666, \"#ed7953\"], [0.7777777777777778, \"#fb9f3a\"], [0.8888888888888888, \"#fdca26\"], [1.0, \"#f0f921\"]], \"type\": \"histogram2d\"}], \"histogram2dcontour\": [{\"colorbar\": {\"outlinewidth\": 0, \"ticks\": \"\"}, \"colorscale\": [[0.0, \"#0d0887\"], [0.1111111111111111, \"#46039f\"], [0.2222222222222222, \"#7201a8\"], [0.3333333333333333, \"#9c179e\"], [0.4444444444444444, \"#bd3786\"], [0.5555555555555556, \"#d8576b\"], [0.6666666666666666, \"#ed7953\"], [0.7777777777777778, \"#fb9f3a\"], [0.8888888888888888, \"#fdca26\"], [1.0, \"#f0f921\"]], \"type\": \"histogram2dcontour\"}], \"mesh3d\": [{\"colorbar\": {\"outlinewidth\": 0, \"ticks\": \"\"}, \"type\": \"mesh3d\"}], \"parcoords\": [{\"line\": {\"colorbar\": {\"outlinewidth\": 0, \"ticks\": \"\"}}, \"type\": \"parcoords\"}], \"pie\": [{\"automargin\": true, \"type\": \"pie\"}], \"scatter\": [{\"marker\": {\"colorbar\": {\"outlinewidth\": 0, \"ticks\": \"\"}}, \"type\": \"scatter\"}], \"scatter3d\": [{\"line\": {\"colorbar\": {\"outlinewidth\": 0, \"ticks\": \"\"}}, \"marker\": {\"colorbar\": {\"outlinewidth\": 0, \"ticks\": \"\"}}, \"type\": \"scatter3d\"}], \"scattercarpet\": [{\"marker\": {\"colorbar\": {\"outlinewidth\": 0, \"ticks\": \"\"}}, \"type\": \"scattercarpet\"}], \"scattergeo\": [{\"marker\": {\"colorbar\": {\"outlinewidth\": 0, \"ticks\": \"\"}}, \"type\": \"scattergeo\"}], \"scattergl\": [{\"marker\": {\"colorbar\": {\"outlinewidth\": 0, \"ticks\": \"\"}}, \"type\": \"scattergl\"}], \"scattermapbox\": [{\"marker\": {\"colorbar\": {\"outlinewidth\": 0, \"ticks\": \"\"}}, \"type\": \"scattermapbox\"}], \"scatterpolar\": [{\"marker\": {\"colorbar\": {\"outlinewidth\": 0, \"ticks\": \"\"}}, \"type\": \"scatterpolar\"}], \"scatterpolargl\": [{\"marker\": {\"colorbar\": {\"outlinewidth\": 0, \"ticks\": \"\"}}, \"type\": \"scatterpolargl\"}], \"scatterternary\": [{\"marker\": {\"colorbar\": {\"outlinewidth\": 0, \"ticks\": \"\"}}, \"type\": \"scatterternary\"}], \"surface\": [{\"colorbar\": {\"outlinewidth\": 0, \"ticks\": \"\"}, \"colorscale\": [[0.0, \"#0d0887\"], [0.1111111111111111, \"#46039f\"], [0.2222222222222222, \"#7201a8\"], [0.3333333333333333, \"#9c179e\"], [0.4444444444444444, \"#bd3786\"], [0.5555555555555556, \"#d8576b\"], [0.6666666666666666, \"#ed7953\"], [0.7777777777777778, \"#fb9f3a\"], [0.8888888888888888, \"#fdca26\"], [1.0, \"#f0f921\"]], \"type\": \"surface\"}], \"table\": [{\"cells\": {\"fill\": {\"color\": \"#EBF0F8\"}, \"line\": {\"color\": \"white\"}}, \"header\": {\"fill\": {\"color\": \"#C8D4E3\"}, \"line\": {\"color\": \"white\"}}, \"type\": \"table\"}]}, \"layout\": {\"annotationdefaults\": {\"arrowcolor\": \"#2a3f5f\", \"arrowhead\": 0, \"arrowwidth\": 1}, \"coloraxis\": {\"colorbar\": {\"outlinewidth\": 0, \"ticks\": \"\"}}, \"colorscale\": {\"diverging\": [[0, \"#8e0152\"], [0.1, \"#c51b7d\"], [0.2, \"#de77ae\"], [0.3, \"#f1b6da\"], [0.4, \"#fde0ef\"], [0.5, \"#f7f7f7\"], [0.6, \"#e6f5d0\"], [0.7, \"#b8e186\"], [0.8, \"#7fbc41\"], [0.9, \"#4d9221\"], [1, \"#276419\"]], \"sequential\": [[0.0, \"#0d0887\"], [0.1111111111111111, \"#46039f\"], [0.2222222222222222, \"#7201a8\"], [0.3333333333333333, \"#9c179e\"], [0.4444444444444444, \"#bd3786\"], [0.5555555555555556, \"#d8576b\"], [0.6666666666666666, \"#ed7953\"], [0.7777777777777778, \"#fb9f3a\"], [0.8888888888888888, \"#fdca26\"], [1.0, \"#f0f921\"]], \"sequentialminus\": [[0.0, \"#0d0887\"], [0.1111111111111111, \"#46039f\"], [0.2222222222222222, \"#7201a8\"], [0.3333333333333333, \"#9c179e\"], [0.4444444444444444, \"#bd3786\"], [0.5555555555555556, \"#d8576b\"], [0.6666666666666666, \"#ed7953\"], [0.7777777777777778, \"#fb9f3a\"], [0.8888888888888888, \"#fdca26\"], [1.0, \"#f0f921\"]]}, \"colorway\": [\"#636efa\", \"#EF553B\", \"#00cc96\", \"#ab63fa\", \"#FFA15A\", \"#19d3f3\", \"#FF6692\", \"#B6E880\", \"#FF97FF\", \"#FECB52\"], \"font\": {\"color\": \"#2a3f5f\"}, \"geo\": {\"bgcolor\": \"white\", \"lakecolor\": \"white\", \"landcolor\": \"white\", \"showlakes\": true, \"showland\": true, \"subunitcolor\": \"#C8D4E3\"}, \"hoverlabel\": {\"align\": \"left\"}, \"hovermode\": \"closest\", \"mapbox\": {\"style\": \"light\"}, \"paper_bgcolor\": \"white\", \"plot_bgcolor\": \"white\", \"polar\": {\"angularaxis\": {\"gridcolor\": \"#EBF0F8\", \"linecolor\": \"#EBF0F8\", \"ticks\": \"\"}, \"bgcolor\": \"white\", \"radialaxis\": {\"gridcolor\": \"#EBF0F8\", \"linecolor\": \"#EBF0F8\", \"ticks\": \"\"}}, \"scene\": {\"xaxis\": {\"backgroundcolor\": \"white\", \"gridcolor\": \"#DFE8F3\", \"gridwidth\": 2, \"linecolor\": \"#EBF0F8\", \"showbackground\": true, \"ticks\": \"\", \"zerolinecolor\": \"#EBF0F8\"}, \"yaxis\": {\"backgroundcolor\": \"white\", \"gridcolor\": \"#DFE8F3\", \"gridwidth\": 2, \"linecolor\": \"#EBF0F8\", \"showbackground\": true, \"ticks\": \"\", \"zerolinecolor\": \"#EBF0F8\"}, \"zaxis\": {\"backgroundcolor\": \"white\", \"gridcolor\": \"#DFE8F3\", \"gridwidth\": 2, \"linecolor\": \"#EBF0F8\", \"showbackground\": true, \"ticks\": \"\", \"zerolinecolor\": \"#EBF0F8\"}}, \"shapedefaults\": {\"line\": {\"color\": \"#2a3f5f\"}}, \"ternary\": {\"aaxis\": {\"gridcolor\": \"#DFE8F3\", \"linecolor\": \"#A2B1C6\", \"ticks\": \"\"}, \"baxis\": {\"gridcolor\": \"#DFE8F3\", \"linecolor\": \"#A2B1C6\", \"ticks\": \"\"}, \"bgcolor\": \"white\", \"caxis\": {\"gridcolor\": \"#DFE8F3\", \"linecolor\": \"#A2B1C6\", \"ticks\": \"\"}}, \"title\": {\"x\": 0.05}, \"xaxis\": {\"automargin\": true, \"gridcolor\": \"#EBF0F8\", \"linecolor\": \"#EBF0F8\", \"ticks\": \"\", \"title\": {\"standoff\": 15}, \"zerolinecolor\": \"#EBF0F8\", \"zerolinewidth\": 2}, \"yaxis\": {\"automargin\": true, \"gridcolor\": \"#EBF0F8\", \"linecolor\": \"#EBF0F8\", \"ticks\": \"\", \"title\": {\"standoff\": 15}, \"zerolinecolor\": \"#EBF0F8\", \"zerolinewidth\": 2}}}, \"title\": {\"font\": {\"size\": 20}, \"text\": \"\\ud68c\\ubcf5\\ub3c4 \\ubc0f \\ud0c0\\uaca9\\ub3c4 / \\ud074\\ub7ec\\uc2a4\\ud130\\ubcc4 / \\ub178\\uc6d0\\uad6c \\ud559\\uc6d0\\uac00\"}, \"width\": 600, \"xaxis\": {\"anchor\": \"y\", \"domain\": [0.0, 1.0], \"title\": {\"font\": {\"size\": 16}, \"text\": \"\\ud0c0\\uaca9\\ub3c4 (\\uc2e0\\ucc9c\\uc9c0 - \\uc0ac\\ud68c\\uc801 \\uac70\\ub9ac\\ub450\\uae30)\"}}, \"yaxis\": {\"anchor\": \"x\", \"domain\": [0.0, 1.0], \"title\": {\"font\": {\"size\": 16}, \"text\": \"\\ud68c\\ubcf5\\ub3c4 (\\uc0ac\\ud68c\\uc801 \\uac70\\ub9ac\\ub450\\uae30 - \\ucd5c\\uadfc)\"}}},\n",
       "                        {\"responsive\": true}\n",
       "                    ).then(function(){\n",
       "                            \n",
       "var gd = document.getElementById('0643e399-6209-4ed4-bf0a-f09d21c6a1f0');\n",
       "var x = new MutationObserver(function (mutations, observer) {{\n",
       "        var display = window.getComputedStyle(gd).display;\n",
       "        if (!display || display === 'none') {{\n",
       "            console.log([gd, 'removed!']);\n",
       "            Plotly.purge(gd);\n",
       "            observer.disconnect();\n",
       "        }}\n",
       "}});\n",
       "\n",
       "// Listen for the removal of the full notebook cells\n",
       "var notebookContainer = gd.closest('#notebook-container');\n",
       "if (notebookContainer) {{\n",
       "    x.observe(notebookContainer, {childList: true});\n",
       "}}\n",
       "\n",
       "// Listen for the clearing of the current output cell\n",
       "var outputEl = gd.closest('.output');\n",
       "if (outputEl) {{\n",
       "    x.observe(outputEl, {childList: true});\n",
       "}}\n",
       "\n",
       "                        })\n",
       "                };\n",
       "                \n",
       "            </script>\n",
       "        </div>\n",
       "</body>\n",
       "</html>"
      ]
     },
     "metadata": {
      "tags": []
     },
     "output_type": "display_data"
    }
   ],
   "source": [
    "show_scattor_tmsc3(add_catclus2(new_cat2(draw_slope_tmsc(scr_s0, '노원구 학원가'))), -1.5, 1.5, -2, 2, '노원구 학원가', 'catnm4')"
   ]
  }
 ],
 "metadata": {
  "colab": {
   "collapsed_sections": [],
   "name": "[업종선택2] 클러스터별 타격도/회복도",
   "provenance": [],
   "toc_visible": true
  },
  "kernelspec": {
   "display_name": "Python 3",
   "language": "python",
   "name": "python3"
  },
  "language_info": {
   "codemirror_mode": {
    "name": "ipython",
    "version": 3
   },
   "file_extension": ".py",
   "mimetype": "text/x-python",
   "name": "python",
   "nbconvert_exporter": "python",
   "pygments_lexer": "ipython3",
   "version": "3.6.10"
  }
 },
 "nbformat": 4,
 "nbformat_minor": 1
}