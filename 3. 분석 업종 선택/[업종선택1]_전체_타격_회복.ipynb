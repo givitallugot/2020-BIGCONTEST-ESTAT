{
 "cells": [
  {
   "cell_type": "code",
   "execution_count": null,
   "metadata": {
    "id": "LelXJ0LXt6Km"
   },
   "outputs": [],
   "source": [
    "# !sudo apt-get install -y fonts-nanum\n",
    "# !sudo fc-cache -fv\n",
    "# !rm ~/.cache/matplotlib -rf"
   ]
  },
  {
   "cell_type": "code",
   "execution_count": null,
   "metadata": {
    "colab": {
     "base_uri": "https://localhost:8080/",
     "height": 34
    },
    "id": "t4ig-450uJaA",
    "outputId": "597b5343-85ed-4cf9-8e7f-8cd55e55d064"
   },
   "outputs": [
    {
     "name": "stdout",
     "output_type": "stream",
     "text": [
      "Mounted at /content/gdrive\n"
     ]
    }
   ],
   "source": [
    "from google.colab import drive\n",
    "drive.mount('/content/gdrive')"
   ]
  },
  {
   "cell_type": "code",
   "execution_count": null,
   "metadata": {
    "colab": {
     "base_uri": "https://localhost:8080/",
     "height": 72
    },
    "id": "thibwamkuQPD",
    "outputId": "1d3dbc20-7745-4d8a-9009-24ec655661e9"
   },
   "outputs": [
    {
     "name": "stderr",
     "output_type": "stream",
     "text": [
      "/usr/local/lib/python3.6/dist-packages/statsmodels/tools/_testing.py:19: FutureWarning: pandas.util.testing is deprecated. Use the functions in the public API at pandas.testing instead.\n",
      "  import pandas.util.testing as tm\n"
     ]
    }
   ],
   "source": [
    "import numpy as np\n",
    "import pandas as pd\n",
    "import matplotlib.pyplot as plt\n",
    "import seaborn as sns\n",
    "from sklearn.model_selection import train_test_split\n",
    "\n",
    "from datetime import datetime as dt\n",
    "import warnings\n",
    " \n",
    "warnings.filterwarnings(\"ignore\")\n",
    "plt.rc('font', family='NanumBarunGothic') \n",
    "\n",
    "%matplotlib inline"
   ]
  },
  {
   "cell_type": "markdown",
   "metadata": {
    "id": "dtW4biRDOUab"
   },
   "source": [
    "# **1.신한카드 전체에 대한 타격, 회복 그래프**"
   ]
  },
  {
   "cell_type": "code",
   "execution_count": null,
   "metadata": {
    "id": "a1OS6SP9uidh"
   },
   "outputs": [],
   "source": [
    "scr = pd.read_csv('./gdrive/My Drive/빅콘 대상팀/data/SC/CARD_SPENDING_RESIDENT.txt', sep='\\t', encoding='cp949')\n",
    "\n",
    "dong = pd.read_csv('./gdrive/My Drive/빅콘 대상팀/data/지역데이터/전체동별클러스터링.csv', sep = ',', encoding='utf-8')\n",
    "dong_cd = pd.read_csv('./gdrive/My Drive/빅콘 대상팀/data/SC/SC동코드변환.csv', sep = ',', encoding='utf-8')"
   ]
  },
  {
   "cell_type": "code",
   "execution_count": null,
   "metadata": {
    "id": "1l3r137AbmEV"
   },
   "outputs": [],
   "source": [
    "# 신한카드 전처리\n",
    "\n",
    "# 코드 -> 이름으로 바꾸는 함수 : name_a_to_b\n",
    "def name_a_to_b(data,col,a,b):\n",
    "  data = data.replace({col:a}, {col:b}, inplace=True)\n",
    "  return(data)\n",
    "\n",
    "# 카테고리 코드 -> 이름\n",
    "cat_code = [10,20,21,22,30,31,32,33,34,35,40,42,43,44,50,52,60,62,70,71,80,81,92]\n",
    "cat_name = ['숙박','레저용품','레저업소','문화취미','가구','전기','주방용구',\n",
    "            '연료판매','광학제품','가전','유통업','의복','직물','신변잡화','서적문구','사무통신',\n",
    "            '자동차판매','자동차정비','의료기관','보건위생','요식업소','음료식품','수리서비스']\n",
    "for i in range(len(cat_code)):\n",
    "  name_a_to_b(scr,'MCT_CAT_CD',cat_code[i],cat_name[i])\n",
    "\n",
    "# 시구 및 동 이름 추가\n",
    "scr = pd.merge(scr, dong_cd, left_on=['GU_CD', 'DONG_CD'], right_on=['GU_CD', 'HDONG_CD'])\n",
    "\n",
    "# 날짜 형식으로 변환(int->str->date)\n",
    "scr['STD_YMD'] = pd.to_datetime(scr['STD_DD'].astype(str), format='%Y%m%d',infer_datetime_format=True)\n",
    "\n",
    "# 클러스터링 추가\n",
    "scr = pd.merge(scr, dong, left_on='HDONG_NM', right_on='HDONG_NM')\n",
    "\n",
    "# 연도 추가\n",
    "scr['STD_Y'] = scr['STD_DD'].astype(str).str.slice(0,4)\n",
    "\n",
    "scr = scr.drop(['STD_DD', 'GU_CD', 'DONG_CD', 'HDONG_CD', 'AGE_CD'], axis=1)"
   ]
  },
  {
   "cell_type": "code",
   "execution_count": null,
   "metadata": {
    "id": "zyNDK3Qej-vw"
   },
   "outputs": [],
   "source": [
    "scr_s = scr.query(\"SIDO_NM == '서울'\")"
   ]
  },
  {
   "cell_type": "code",
   "execution_count": null,
   "metadata": {
    "id": "5A-b_ELkkJpd"
   },
   "outputs": [],
   "source": [
    "def growth(data):\n",
    "  sc_cnt_sum_19 =data[data['STD_YMD'] < '2020']\n",
    "  sc_cnt_sum_20 =data[data['STD_YMD'] > '2020']\n",
    "\n",
    "  sc_cnt_sum_20.index = sc_cnt_sum_20['STD_YMD']\n",
    "  del sc_cnt_sum_20['STD_YMD']\n",
    "  sc_cnt_sum_19.index = sc_cnt_sum_19['STD_YMD']\n",
    "  del sc_cnt_sum_19['STD_YMD']\n",
    "\n",
    "  #2020 index 저장\n",
    "  index_2020 = list(sc_cnt_sum_20.index)\n",
    "\n",
    "  # rolling 전 요일을 맞춰주기 위한 작업\n",
    "\n",
    "  #20/02/01 = 일요일\n",
    "  #19/02/01 = 토요일 ==> 19년 토요일 데이터 삭제\n",
    "  sc_cnt_sum_19=sc_cnt_sum_19.iloc[1:,]\n",
    "\n",
    "  #설날 보정\n",
    "  columns = sc_cnt_sum_19.columns\n",
    "  index = sc_cnt_sum_19.index\n",
    "\n",
    "  sc_cnt_sum_19 = np.array(sc_cnt_sum_19)\n",
    "  sc_cnt_sum_19[2:5,:] = (sc_cnt_sum_19[9:12,:]+sc_cnt_sum_19[16:19,:])/2\n",
    "  sc_cnt_sum_19 = pd.DataFrame(sc_cnt_sum_19)\n",
    "  sc_cnt_sum_19.columns = columns\n",
    "  sc_cnt_sum_19.index = index\n",
    "\n",
    "  sc_cnt_sum_19_roll7 = pd.DataFrame(sc_cnt_sum_19.rolling(7,min_periods = 1).mean()).reset_index()\n",
    "  sc_cnt_sum_20_roll7 = pd.DataFrame(sc_cnt_sum_20.rolling(7,min_periods = 1).mean()).reset_index()\n",
    "\n",
    "  del sc_cnt_sum_19_roll7['STD_YMD']\n",
    "  del sc_cnt_sum_20_roll7['STD_YMD']\n",
    "\n",
    "  sc_cnt_sum_20_roll7 = sc_cnt_sum_20_roll7.iloc[:-2,:]\n",
    "\n",
    "  sc_cnt_sum_per= (sc_cnt_sum_20_roll7-sc_cnt_sum_19_roll7)/sc_cnt_sum_19_roll7\n",
    "\n",
    "  index_2020=[x.strftime('%m-%d')for x in index_2020]\n",
    "  sc_cnt_sum_per.index = index_2020[:-2]\n",
    "\n",
    "  return sc_cnt_sum_per"
   ]
  },
  {
   "cell_type": "code",
   "execution_count": null,
   "metadata": {
    "id": "SkluY2ymkJw_"
   },
   "outputs": [],
   "source": [
    "import numpy as np\n",
    "from sklearn.linear_model import LinearRegression\n",
    "\n",
    "def slope(data):\n",
    "  cat = data.columns\n",
    "\n",
    "  r_sq=[]\n",
    "  slope=[]\n",
    "  intercept=[]\n",
    "  for c in cat:\n",
    "    x = np.arange(0,data.shape[0]/100,0.01).reshape(data.shape[0],-1)\n",
    "    y = np.array(data.loc[:,c]).reshape(-1,)\n",
    "    model = LinearRegression().fit(x, y)\n",
    "    r_sq.append(model.score(x, y))\n",
    "    intercept.append(model.intercept_)\n",
    "    slope.append(model.coef_)\n",
    "  \n",
    "  return r_sq, intercept, slope"
   ]
  },
  {
   "cell_type": "code",
   "execution_count": null,
   "metadata": {
    "id": "Mxl5Xl0tkJ4X"
   },
   "outputs": [],
   "source": [
    "def draw_slope(data):\n",
    "  sc_1 =  data.loc[data.index < '02-18',:]\n",
    "  sc_2 =  data.loc[(data.index >= '02-18') & (data.index < '03-22'),:]\n",
    "  sc_3 =  data.loc[data.index >= '03-22',:]\n",
    "\n",
    "  before_r, before_intercept, before_slope = slope(sc_1)\n",
    "  middle_r, middle_intercept, middle_slope = slope(sc_2)\n",
    "  after_r, after_intercept, after_slope = slope(sc_3)\n",
    "\n",
    "  before = pd.DataFrame(\n",
    "      {\n",
    "      'slope_before' : np.array(before_slope).reshape(-1,),\n",
    "      'inter_before' : before_intercept,\n",
    "      'r2_before': before_r,\n",
    "  }).T\n",
    "  before.columns = sc_1.columns\n",
    "\n",
    "  middle = pd.DataFrame(\n",
    "      {\n",
    "      'slope_middle' : - np.array(middle_slope).reshape(-1,),\n",
    "      'inter_middle' : middle_intercept,\n",
    "      'r2_middle': middle_r,\n",
    "  }).T\n",
    "  middle.columns = sc_2.columns\n",
    "\n",
    "  after = pd.DataFrame({\n",
    "      'slope_after': np.array(after_slope).reshape(-1,),\n",
    "      'inter_after' : after_intercept,\n",
    "      'r2_after':after_r    \n",
    "  }).T   \n",
    "  after.columns = sc_3.columns\n",
    "\n",
    "  merge = pd.concat([middle.iloc[0,:],after.iloc[0,:]],axis=1)  \n",
    "  merge['cat'] = merge.index\n",
    "  merge['cat'] = merge['cat'].apply(lambda x : x[7:])\n",
    "\n",
    "  return merge"
   ]
  },
  {
   "cell_type": "code",
   "execution_count": null,
   "metadata": {
    "id": "woDX-we8kPxU"
   },
   "outputs": [],
   "source": [
    "def show_scattor(data, p1, p2, name):\n",
    "    fig = px.scatter(data, x=\"slope_middle\", y=\"slope_after\", hover_data=[\"cat\"], text=\"cat\",template= 'plotly_white') # ,color = 'group'\n",
    "    fig.update_traces(textfont_size=7)\n",
    "\n",
    "    fig.update_traces(textposition='top center')\n",
    "\n",
    "    fig.update_layout(\n",
    "        showlegend=False,\n",
    "        title=\"회복도 및 타격도 / 성장률 & \"+name,\n",
    "        xaxis_title=\"타격도 (신천지 - 사회적 거리두기)\",\n",
    "        yaxis_title=\"회복도 (사회적 거리두기 - 최근)\",\n",
    "        autosize=False,\n",
    "        width=600,\n",
    "        height=600,\n",
    "        margin=dict(l=50,r=50,b=100,t=100,pad=4))\n",
    "\n",
    "\n",
    "    fig.add_shape(dict(type=\"line\",\n",
    "                x0=p1,y0=p1,\n",
    "                x1=p2,y1=p2,\n",
    "                line=dict(color=\"red\",width=1,dash=\"dash\",)))\n",
    "\n",
    "    fig.show()"
   ]
  },
  {
   "cell_type": "code",
   "execution_count": null,
   "metadata": {
    "id": "vWDzcoAMkk-L"
   },
   "outputs": [],
   "source": [
    "def rename_col(X):\n",
    "    X.columns =['SC_CNT_가구', 'SC_CNT_가전',\n",
    "       'SC_CNT_광학제품', 'SC_CNT_레저업소', 'SC_CNT_레저용품',\n",
    "       'SC_CNT_문화취미', 'SC_CNT_보건위생', 'SC_CNT_사무통신',\n",
    "       'SC_CNT_서적문구', 'SC_CNT_수리서비스', 'SC_CNT_숙박',\n",
    "       'SC_CNT_신변잡화', 'SC_CNT_연료판매', 'SC_CNT_요식업소',\n",
    "       'SC_CNT_유통업', 'SC_CNT_음료식품', 'SC_CNT_의료기관',\n",
    "       'SC_CNT_의복', 'SC_CNT_자동차정비', 'SC_CNT_자동차판매',\n",
    "       'SC_CNT_전기', 'SC_CNT_주방용구', 'SC_CNT_직물',\n",
    "       'SC_AMT_가구', 'SC_AMT_가전', 'SC_AMT_광학제품',\n",
    "       'SC_AMT_레저업소', 'SC_AMT_레저용품', 'SC_AMT_문화취미',\n",
    "       'SC_AMT_보건위생', 'SC_AMT_사무통신', 'SC_AMT_서적문구',\n",
    "       'SC_AMT_수리서비스', 'SC_AMT_숙박', 'SC_AMT_신변잡화',\n",
    "       'SC_AMT_연료판매', 'SC_AMT_요식업소', 'SC_AMT_유통업',\n",
    "       'SC_AMT_음료식품', 'SC_AMT_의료기관', 'SC_AMT_의복',\n",
    "       'SC_AMT_자동차정비', 'SC_AMT_자동차판매', 'SC_AMT_전기',\n",
    "       'SC_AMT_주방용구', 'SC_AMT_직물']\n",
    "    return X"
   ]
  },
  {
   "cell_type": "code",
   "execution_count": null,
   "metadata": {
    "id": "E0ywYPqMkpgW"
   },
   "outputs": [],
   "source": [
    "scr_s = scr_s.groupby(['STD_YMD', 'MCT_CAT_CD']).sum().unstack(level=1).fillna(0)\n",
    "scr_s = rename_col(scr_s)\n",
    "scr_s = scr_s.iloc[:,:23]\n",
    "scr_s = scr_s.reset_index(drop=False)\n",
    "scr_s = growth(scr_s)\n",
    "xx = scr_s\n",
    "scr_s = draw_slope(scr_s)"
   ]
  },
  {
   "cell_type": "code",
   "execution_count": null,
   "metadata": {
    "id": "tBF_VCpCkZGE"
   },
   "outputs": [],
   "source": [
    "group1 = scr_s.query('cat in [\"서적문구\" , \"숙박\", \"문화취미\", \"유통업\", \"사무통신\", \"전기\",\"레저업소\"]')\n",
    "group2 = scr_s.query('cat in [\"요식업소\", \"보건위생\", \"음료식품\", \"연료판매\", \"광학제품\", \"수리서비스\", \"의료기관\"]')\n",
    "group3 = scr_s.query('cat in [\"자동차정비\", \"레저용품\", \"의복\", \"신변잡화\", \"자동차판매\", \"주방용구\", \"직물\",\"가구\",\"가전\"]')"
   ]
  },
  {
   "cell_type": "code",
   "execution_count": null,
   "metadata": {
    "id": "ZtJfy0GZlX-1"
   },
   "outputs": [],
   "source": [
    "scr_s['group'] = scr_s['cat'].apply(lambda x : 'CAT3' if x in list(group1.cat) else ('CAT2' if x in list(group2.cat) else 'CAT1'))"
   ]
  },
  {
   "cell_type": "code",
   "execution_count": null,
   "metadata": {
    "id": "iUk7FlLSlzPy"
   },
   "outputs": [],
   "source": [
    "scr_s['catnm'] = scr_s['cat'].apply(lambda x: '' if x in ['수리서비스', '광학제품', '요식업소', '음료식품', '문화취미', '신변잡화', '레저업소', '자동차정비', '숙박', '레저용품', '의복'] else x) # '레저용품', ''"
   ]
  },
  {
   "cell_type": "code",
   "execution_count": null,
   "metadata": {
    "colab": {
     "base_uri": "https://localhost:8080/",
     "height": 637
    },
    "id": "N32x3Zfzlbzk",
    "outputId": "a61c6ac1-8d99-431a-95b8-73aa9aac9f8b"
   },
   "outputs": [
    {
     "data": {
      "text/html": [
       "<html>\n",
       "<head><meta charset=\"utf-8\" /></head>\n",
       "<body>\n",
       "    <div>\n",
       "            <script src=\"https://cdnjs.cloudflare.com/ajax/libs/mathjax/2.7.5/MathJax.js?config=TeX-AMS-MML_SVG\"></script><script type=\"text/javascript\">if (window.MathJax) {MathJax.Hub.Config({SVG: {font: \"STIX-Web\"}});}</script>\n",
       "                <script type=\"text/javascript\">window.PlotlyConfig = {MathJaxConfig: 'local'};</script>\n",
       "        <script src=\"https://cdn.plot.ly/plotly-latest.min.js\"></script>    \n",
       "            <div id=\"3221cdba-8980-4498-bf18-713d49342f73\" class=\"plotly-graph-div\" style=\"height:620px; width:600px;\"></div>\n",
       "            <script type=\"text/javascript\">\n",
       "                \n",
       "                    window.PLOTLYENV=window.PLOTLYENV || {};\n",
       "                    \n",
       "                if (document.getElementById(\"3221cdba-8980-4498-bf18-713d49342f73\")) {\n",
       "                    Plotly.newPlot(\n",
       "                        '3221cdba-8980-4498-bf18-713d49342f73',\n",
       "                        [{\"customdata\": [[\"\\uac00\\uad6c\"], [\"\\uac00\\uc804\"], [\"\\ub808\\uc800\\uc6a9\\ud488\"], [\"\\uc2e0\\ubcc0\\uc7a1\\ud654\"], [\"\\uc758\\ubcf5\"], [\"\\uc790\\ub3d9\\ucc28\\uc815\\ube44\"], [\"\\uc790\\ub3d9\\ucc28\\ud310\\ub9e4\"], [\"\\uc8fc\\ubc29\\uc6a9\\uad6c\"], [\"\\uc9c1\\ubb3c\"]], \"hoverlabel\": {\"namelength\": 0}, \"hovertemplate\": \"group=CAT1<br>slope_middle=%{x}<br>slope_after=%{y}<br>cat=%{customdata[0]}<br>catnm=%{text}\", \"legendgroup\": \"group=CAT1\", \"marker\": {\"color\": \"rgb(85,107,47)\", \"size\": 15, \"symbol\": \"circle\"}, \"mode\": \"markers+text\", \"name\": \"group=CAT1\", \"showlegend\": true, \"text\": [\"\\uac00\\uad6c\", \"\\uac00\\uc804\", \"\", \"\", \"\", \"\", \"\\uc790\\ub3d9\\ucc28\\ud310\\ub9e4\", \"\\uc8fc\\ubc29\\uc6a9\\uad6c\", \"\\uc9c1\\ubb3c\"], \"textfont\": {\"size\": 15}, \"textposition\": \"bottom center\", \"type\": \"scatter\", \"x\": [-0.1144693400074629, -0.19709657768876124, 0.12197909775915627, 0.2841950138526556, 0.21993828551842484, 0.16565496944356167, -1.3843385672808801, 0.6038980876120351, -0.12705708856670042], \"xaxis\": \"x\", \"y\": [2.0810430317217534, 0.5926528106571036, 0.7585792217286531, 0.5745572370396504, 0.6402721691638559, 0.49788271741267126, 0.7859098105457882, 1.294423075738181, 1.4919454617126457], \"yaxis\": \"y\"}, {\"customdata\": [[\"\\uad11\\ud559\\uc81c\\ud488\"], [\"\\ubcf4\\uac74\\uc704\\uc0dd\"], [\"\\uc218\\ub9ac\\uc11c\\ube44\\uc2a4\"], [\"\\uc5f0\\ub8cc\\ud310\\ub9e4\"], [\"\\uc694\\uc2dd\\uc5c5\\uc18c\"], [\"\\uc74c\\ub8cc\\uc2dd\\ud488\"], [\"\\uc758\\ub8cc\\uae30\\uad00\"]], \"hoverlabel\": {\"namelength\": 0}, \"hovertemplate\": \"group=CAT2<br>slope_middle=%{x}<br>slope_after=%{y}<br>cat=%{customdata[0]}<br>catnm=%{text}\", \"legendgroup\": \"group=CAT2\", \"marker\": {\"color\": \"rgb(169,169,169)\", \"size\": 15, \"symbol\": \"circle\"}, \"mode\": \"markers+text\", \"name\": \"group=CAT2\", \"showlegend\": true, \"text\": [\"\", \"\\ubcf4\\uac74\\uc704\\uc0dd\", \"\", \"\\uc5f0\\ub8cc\\ud310\\ub9e4\", \"\", \"\", \"\\uc758\\ub8cc\\uae30\\uad00\"], \"textfont\": {\"size\": 15}, \"textposition\": \"bottom center\", \"type\": \"scatter\", \"x\": [-0.07006467887915012, 0.39887447077920457, -0.07765428570497561, 0.15269688491473318, 0.4397968188437196, 0.3063002128434658, -0.28007331079575537], \"xaxis\": \"x\", \"y\": [0.3135951856995836, 0.39547535463593947, 0.2832487275235019, 0.15938877963517362, 0.27847529435650953, 0.33588140888568063, 0.270079446753937], \"yaxis\": \"y\"}, {\"customdata\": [[\"\\ub808\\uc800\\uc5c5\\uc18c\"], [\"\\ubb38\\ud654\\ucde8\\ubbf8\"], [\"\\uc0ac\\ubb34\\ud1b5\\uc2e0\"], [\"\\uc11c\\uc801\\ubb38\\uad6c\"], [\"\\uc219\\ubc15\"], [\"\\uc720\\ud1b5\\uc5c5\"], [\"\\uc804\\uae30\"]], \"hoverlabel\": {\"namelength\": 0}, \"hovertemplate\": \"group=CAT3<br>slope_middle=%{x}<br>slope_after=%{y}<br>cat=%{customdata[0]}<br>catnm=%{text}\", \"legendgroup\": \"group=CAT3\", \"marker\": {\"color\": \"rgb(250,128,114)\", \"size\": 15, \"symbol\": \"circle\"}, \"mode\": \"markers+text\", \"name\": \"group=CAT3\", \"showlegend\": true, \"text\": [\"\", \"\", \"\\uc0ac\\ubb34\\ud1b5\\uc2e0\", \"\\uc11c\\uc801\\ubb38\\uad6c\", \"\", \"\\uc720\\ud1b5\\uc5c5\", \"\\uc804\\uae30\"], \"textfont\": {\"size\": 15}, \"textposition\": \"bottom center\", \"type\": \"scatter\", \"x\": [0.6761447202904285, 0.5016740186906095, 0.9087100354848501, 1.3129773033128482, 0.627400708787612, 0.6429854502868967, 1.2300836788027532], \"xaxis\": \"x\", \"y\": [0.25636872835297114, 0.3676939371222493, -2.157390209235897, 0.5101084723164181, 0.4466057725575959, 0.1600349012872307, 0.24578330974637355], \"yaxis\": \"y\"}, {\"marker\": {\"color\": \"crimson\", \"line\": {\"color\": \"black\", \"width\": 4}, \"size\": 20}, \"mode\": \"markers\", \"showlegend\": false, \"type\": \"scatter\", \"x\": [0.6429854502868967], \"y\": [0.1600349012872307]}],\n",
       "                        {\"autosize\": false, \"height\": 620, \"legend\": {\"tracegroupgap\": 0}, \"margin\": {\"b\": 50, \"l\": 20, \"pad\": 4, \"r\": 20, \"t\": 50}, \"shapes\": [{\"fillcolor\": \"pink\", \"line\": {\"color\": \"pink\"}, \"opacity\": 0.2, \"type\": \"circle\", \"x0\": 0.20167401869060947, \"x1\": 1.9329773033128483, \"xref\": \"x\", \"y0\": -2.257390209235897, \"y1\": 0.7101084723164182, \"yref\": \"y\"}, {\"fillcolor\": \"lightgrey\", \"line\": {\"color\": \"lightgrey\"}, \"opacity\": 0.2, \"type\": \"circle\", \"x0\": -0.4400733107957554, \"x1\": 0.48979681884371956, \"xref\": \"x\", \"y0\": 0.05938877963517361, \"y1\": 0.4954753546359395, \"yref\": \"y\"}, {\"fillcolor\": \"green\", \"line\": {\"color\": \"green\"}, \"opacity\": 0.1, \"type\": \"circle\", \"x0\": -1.55433856728088, \"x1\": 0.6538980876120352, \"xref\": \"x\", \"y0\": 0.36788271741267126, \"y1\": 2.1810430317217535, \"yref\": \"y\"}, {\"line\": {\"color\": \"red\", \"dash\": \"dash\", \"width\": 1}, \"type\": \"line\", \"x0\": 0.5, \"x1\": 0.5, \"y0\": -2.2, \"y1\": 2.2}, {\"line\": {\"color\": \"red\", \"dash\": \"dash\", \"width\": 1}, \"type\": \"line\", \"x0\": -1.4, \"x1\": 2, \"y0\": 0.5, \"y1\": 0.5}], \"showlegend\": false, \"template\": {\"data\": {\"bar\": [{\"error_x\": {\"color\": \"#2a3f5f\"}, \"error_y\": {\"color\": \"#2a3f5f\"}, \"marker\": {\"line\": {\"color\": \"white\", \"width\": 0.5}}, \"type\": \"bar\"}], \"barpolar\": [{\"marker\": {\"line\": {\"color\": \"white\", \"width\": 0.5}}, \"type\": \"barpolar\"}], \"carpet\": [{\"aaxis\": {\"endlinecolor\": \"#2a3f5f\", \"gridcolor\": \"#C8D4E3\", \"linecolor\": \"#C8D4E3\", \"minorgridcolor\": \"#C8D4E3\", \"startlinecolor\": \"#2a3f5f\"}, \"baxis\": {\"endlinecolor\": \"#2a3f5f\", \"gridcolor\": \"#C8D4E3\", \"linecolor\": \"#C8D4E3\", \"minorgridcolor\": \"#C8D4E3\", \"startlinecolor\": \"#2a3f5f\"}, \"type\": \"carpet\"}], \"choropleth\": [{\"colorbar\": {\"outlinewidth\": 0, \"ticks\": \"\"}, \"type\": \"choropleth\"}], \"contour\": [{\"colorbar\": {\"outlinewidth\": 0, \"ticks\": \"\"}, \"colorscale\": [[0.0, \"#0d0887\"], [0.1111111111111111, \"#46039f\"], [0.2222222222222222, \"#7201a8\"], [0.3333333333333333, \"#9c179e\"], [0.4444444444444444, \"#bd3786\"], [0.5555555555555556, \"#d8576b\"], [0.6666666666666666, \"#ed7953\"], [0.7777777777777778, \"#fb9f3a\"], [0.8888888888888888, \"#fdca26\"], [1.0, \"#f0f921\"]], \"type\": \"contour\"}], \"contourcarpet\": [{\"colorbar\": {\"outlinewidth\": 0, \"ticks\": \"\"}, \"type\": \"contourcarpet\"}], \"heatmap\": [{\"colorbar\": {\"outlinewidth\": 0, \"ticks\": \"\"}, \"colorscale\": [[0.0, \"#0d0887\"], [0.1111111111111111, \"#46039f\"], [0.2222222222222222, \"#7201a8\"], [0.3333333333333333, \"#9c179e\"], [0.4444444444444444, \"#bd3786\"], [0.5555555555555556, \"#d8576b\"], [0.6666666666666666, \"#ed7953\"], [0.7777777777777778, \"#fb9f3a\"], [0.8888888888888888, \"#fdca26\"], [1.0, \"#f0f921\"]], \"type\": \"heatmap\"}], \"heatmapgl\": [{\"colorbar\": {\"outlinewidth\": 0, \"ticks\": \"\"}, \"colorscale\": [[0.0, \"#0d0887\"], [0.1111111111111111, \"#46039f\"], [0.2222222222222222, \"#7201a8\"], [0.3333333333333333, \"#9c179e\"], [0.4444444444444444, \"#bd3786\"], [0.5555555555555556, \"#d8576b\"], [0.6666666666666666, \"#ed7953\"], [0.7777777777777778, \"#fb9f3a\"], [0.8888888888888888, \"#fdca26\"], [1.0, \"#f0f921\"]], \"type\": \"heatmapgl\"}], \"histogram\": [{\"marker\": {\"colorbar\": {\"outlinewidth\": 0, \"ticks\": \"\"}}, \"type\": \"histogram\"}], \"histogram2d\": [{\"colorbar\": {\"outlinewidth\": 0, \"ticks\": \"\"}, \"colorscale\": [[0.0, \"#0d0887\"], [0.1111111111111111, \"#46039f\"], [0.2222222222222222, \"#7201a8\"], [0.3333333333333333, \"#9c179e\"], [0.4444444444444444, \"#bd3786\"], [0.5555555555555556, \"#d8576b\"], [0.6666666666666666, \"#ed7953\"], [0.7777777777777778, \"#fb9f3a\"], [0.8888888888888888, \"#fdca26\"], [1.0, \"#f0f921\"]], \"type\": \"histogram2d\"}], \"histogram2dcontour\": [{\"colorbar\": {\"outlinewidth\": 0, \"ticks\": \"\"}, \"colorscale\": [[0.0, \"#0d0887\"], [0.1111111111111111, \"#46039f\"], [0.2222222222222222, \"#7201a8\"], [0.3333333333333333, \"#9c179e\"], [0.4444444444444444, \"#bd3786\"], [0.5555555555555556, \"#d8576b\"], [0.6666666666666666, \"#ed7953\"], [0.7777777777777778, \"#fb9f3a\"], [0.8888888888888888, \"#fdca26\"], [1.0, \"#f0f921\"]], \"type\": \"histogram2dcontour\"}], \"mesh3d\": [{\"colorbar\": {\"outlinewidth\": 0, \"ticks\": \"\"}, \"type\": \"mesh3d\"}], \"parcoords\": [{\"line\": {\"colorbar\": {\"outlinewidth\": 0, \"ticks\": \"\"}}, \"type\": \"parcoords\"}], \"pie\": [{\"automargin\": true, \"type\": \"pie\"}], \"scatter\": [{\"marker\": {\"colorbar\": {\"outlinewidth\": 0, \"ticks\": \"\"}}, \"type\": \"scatter\"}], \"scatter3d\": [{\"line\": {\"colorbar\": {\"outlinewidth\": 0, \"ticks\": \"\"}}, \"marker\": {\"colorbar\": {\"outlinewidth\": 0, \"ticks\": \"\"}}, \"type\": \"scatter3d\"}], \"scattercarpet\": [{\"marker\": {\"colorbar\": {\"outlinewidth\": 0, \"ticks\": \"\"}}, \"type\": \"scattercarpet\"}], \"scattergeo\": [{\"marker\": {\"colorbar\": {\"outlinewidth\": 0, \"ticks\": \"\"}}, \"type\": \"scattergeo\"}], \"scattergl\": [{\"marker\": {\"colorbar\": {\"outlinewidth\": 0, \"ticks\": \"\"}}, \"type\": \"scattergl\"}], \"scattermapbox\": [{\"marker\": {\"colorbar\": {\"outlinewidth\": 0, \"ticks\": \"\"}}, \"type\": \"scattermapbox\"}], \"scatterpolar\": [{\"marker\": {\"colorbar\": {\"outlinewidth\": 0, \"ticks\": \"\"}}, \"type\": \"scatterpolar\"}], \"scatterpolargl\": [{\"marker\": {\"colorbar\": {\"outlinewidth\": 0, \"ticks\": \"\"}}, \"type\": \"scatterpolargl\"}], \"scatterternary\": [{\"marker\": {\"colorbar\": {\"outlinewidth\": 0, \"ticks\": \"\"}}, \"type\": \"scatterternary\"}], \"surface\": [{\"colorbar\": {\"outlinewidth\": 0, \"ticks\": \"\"}, \"colorscale\": [[0.0, \"#0d0887\"], [0.1111111111111111, \"#46039f\"], [0.2222222222222222, \"#7201a8\"], [0.3333333333333333, \"#9c179e\"], [0.4444444444444444, \"#bd3786\"], [0.5555555555555556, \"#d8576b\"], [0.6666666666666666, \"#ed7953\"], [0.7777777777777778, \"#fb9f3a\"], [0.8888888888888888, \"#fdca26\"], [1.0, \"#f0f921\"]], \"type\": \"surface\"}], \"table\": [{\"cells\": {\"fill\": {\"color\": \"#EBF0F8\"}, \"line\": {\"color\": \"white\"}}, \"header\": {\"fill\": {\"color\": \"#C8D4E3\"}, \"line\": {\"color\": \"white\"}}, \"type\": \"table\"}]}, \"layout\": {\"annotationdefaults\": {\"arrowcolor\": \"#2a3f5f\", \"arrowhead\": 0, \"arrowwidth\": 1}, \"coloraxis\": {\"colorbar\": {\"outlinewidth\": 0, \"ticks\": \"\"}}, \"colorscale\": {\"diverging\": [[0, \"#8e0152\"], [0.1, \"#c51b7d\"], [0.2, \"#de77ae\"], [0.3, \"#f1b6da\"], [0.4, \"#fde0ef\"], [0.5, \"#f7f7f7\"], [0.6, \"#e6f5d0\"], [0.7, \"#b8e186\"], [0.8, \"#7fbc41\"], [0.9, \"#4d9221\"], [1, \"#276419\"]], \"sequential\": [[0.0, \"#0d0887\"], [0.1111111111111111, \"#46039f\"], [0.2222222222222222, \"#7201a8\"], [0.3333333333333333, \"#9c179e\"], [0.4444444444444444, \"#bd3786\"], [0.5555555555555556, \"#d8576b\"], [0.6666666666666666, \"#ed7953\"], [0.7777777777777778, \"#fb9f3a\"], [0.8888888888888888, \"#fdca26\"], [1.0, \"#f0f921\"]], \"sequentialminus\": [[0.0, \"#0d0887\"], [0.1111111111111111, \"#46039f\"], [0.2222222222222222, \"#7201a8\"], [0.3333333333333333, \"#9c179e\"], [0.4444444444444444, \"#bd3786\"], [0.5555555555555556, \"#d8576b\"], [0.6666666666666666, \"#ed7953\"], [0.7777777777777778, \"#fb9f3a\"], [0.8888888888888888, \"#fdca26\"], [1.0, \"#f0f921\"]]}, \"colorway\": [\"#636efa\", \"#EF553B\", \"#00cc96\", \"#ab63fa\", \"#FFA15A\", \"#19d3f3\", \"#FF6692\", \"#B6E880\", \"#FF97FF\", \"#FECB52\"], \"font\": {\"color\": \"#2a3f5f\"}, \"geo\": {\"bgcolor\": \"white\", \"lakecolor\": \"white\", \"landcolor\": \"white\", \"showlakes\": true, \"showland\": true, \"subunitcolor\": \"#C8D4E3\"}, \"hoverlabel\": {\"align\": \"left\"}, \"hovermode\": \"closest\", \"mapbox\": {\"style\": \"light\"}, \"paper_bgcolor\": \"white\", \"plot_bgcolor\": \"white\", \"polar\": {\"angularaxis\": {\"gridcolor\": \"#EBF0F8\", \"linecolor\": \"#EBF0F8\", \"ticks\": \"\"}, \"bgcolor\": \"white\", \"radialaxis\": {\"gridcolor\": \"#EBF0F8\", \"linecolor\": \"#EBF0F8\", \"ticks\": \"\"}}, \"scene\": {\"xaxis\": {\"backgroundcolor\": \"white\", \"gridcolor\": \"#DFE8F3\", \"gridwidth\": 2, \"linecolor\": \"#EBF0F8\", \"showbackground\": true, \"ticks\": \"\", \"zerolinecolor\": \"#EBF0F8\"}, \"yaxis\": {\"backgroundcolor\": \"white\", \"gridcolor\": \"#DFE8F3\", \"gridwidth\": 2, \"linecolor\": \"#EBF0F8\", \"showbackground\": true, \"ticks\": \"\", \"zerolinecolor\": \"#EBF0F8\"}, \"zaxis\": {\"backgroundcolor\": \"white\", \"gridcolor\": \"#DFE8F3\", \"gridwidth\": 2, \"linecolor\": \"#EBF0F8\", \"showbackground\": true, \"ticks\": \"\", \"zerolinecolor\": \"#EBF0F8\"}}, \"shapedefaults\": {\"line\": {\"color\": \"#2a3f5f\"}}, \"ternary\": {\"aaxis\": {\"gridcolor\": \"#DFE8F3\", \"linecolor\": \"#A2B1C6\", \"ticks\": \"\"}, \"baxis\": {\"gridcolor\": \"#DFE8F3\", \"linecolor\": \"#A2B1C6\", \"ticks\": \"\"}, \"bgcolor\": \"white\", \"caxis\": {\"gridcolor\": \"#DFE8F3\", \"linecolor\": \"#A2B1C6\", \"ticks\": \"\"}}, \"title\": {\"x\": 0.05}, \"xaxis\": {\"automargin\": true, \"gridcolor\": \"#EBF0F8\", \"linecolor\": \"#EBF0F8\", \"ticks\": \"\", \"title\": {\"standoff\": 15}, \"zerolinecolor\": \"#EBF0F8\", \"zerolinewidth\": 2}, \"yaxis\": {\"automargin\": true, \"gridcolor\": \"#EBF0F8\", \"linecolor\": \"#EBF0F8\", \"ticks\": \"\", \"title\": {\"standoff\": 15}, \"zerolinecolor\": \"#EBF0F8\", \"zerolinewidth\": 2}}}, \"title\": {\"font\": {\"size\": 20}, \"text\": \"\\ud68c\\ubcf5\\ub3c4 \\ubc0f \\ud0c0\\uaca9\\ub3c4 / \\uc11c\\uc6b8 \\uc804\\uccb4\"}, \"width\": 600, \"xaxis\": {\"anchor\": \"y\", \"domain\": [0.0, 1.0], \"title\": {\"font\": {\"size\": 16}, \"text\": \"\\ud0c0\\uaca9\\ub3c4 (\\uc2e0\\ucc9c\\uc9c0 - \\uc0ac\\ud68c\\uc801 \\uac70\\ub9ac\\ub450\\uae30)\"}}, \"yaxis\": {\"anchor\": \"x\", \"domain\": [0.0, 1.0], \"title\": {\"font\": {\"size\": 16}, \"text\": \"\\ud68c\\ubcf5\\ub3c4 (\\uc0ac\\ud68c\\uc801 \\uac70\\ub9ac\\ub450\\uae30 - \\ucd5c\\uadfc)\"}}},\n",
       "                        {\"responsive\": true}\n",
       "                    ).then(function(){\n",
       "                            \n",
       "var gd = document.getElementById('3221cdba-8980-4498-bf18-713d49342f73');\n",
       "var x = new MutationObserver(function (mutations, observer) {{\n",
       "        var display = window.getComputedStyle(gd).display;\n",
       "        if (!display || display === 'none') {{\n",
       "            console.log([gd, 'removed!']);\n",
       "            Plotly.purge(gd);\n",
       "            observer.disconnect();\n",
       "        }}\n",
       "}});\n",
       "\n",
       "// Listen for the removal of the full notebook cells\n",
       "var notebookContainer = gd.closest('#notebook-container');\n",
       "if (notebookContainer) {{\n",
       "    x.observe(notebookContainer, {childList: true});\n",
       "}}\n",
       "\n",
       "// Listen for the clearing of the current output cell\n",
       "var outputEl = gd.closest('.output');\n",
       "if (outputEl) {{\n",
       "    x.observe(outputEl, {childList: true});\n",
       "}}\n",
       "\n",
       "                        })\n",
       "                };\n",
       "                \n",
       "            </script>\n",
       "        </div>\n",
       "</body>\n",
       "</html>"
      ]
     },
     "metadata": {
      "tags": []
     },
     "output_type": "display_data"
    }
   ],
   "source": [
    "import plotly.express as px\n",
    "import plotly.graph_objects as go\n",
    "\n",
    "color_discrete_map = {'CAT1': 'rgb(85,107,47)', 'CAT2': 'rgb(169,169,169)', 'CAT3': 'rgb(250,128,114)'}\n",
    "fig = px.scatter(scr_s, x=\"slope_middle\", y=\"slope_after\",hover_data=[\"cat\"],text=\"catnm\",template= 'plotly_white',color = 'group',color_discrete_map=color_discrete_map)\n",
    "fig.update_traces(textfont_size=15)\n",
    "\n",
    "fig.update_traces(textposition='bottom center', \n",
    "                  marker=dict(size=15))\n",
    "\n",
    "fig.update_layout(\n",
    "    showlegend=False,\n",
    "    title=dict(text=\"회복도 및 타격도 / 서울 전체\", font=dict(size=20)),\n",
    "    xaxis_title=dict(text=\"타격도 (신천지 - 사회적 거리두기)\", font=dict(size=16)),\n",
    "    yaxis_title=dict(text=\"회복도 (사회적 거리두기 - 최근)\", font=dict(size=16)),\n",
    "    autosize=False,\n",
    "    width=600,\n",
    "    height=620,\n",
    "    margin=dict(l=20,r=20,b=50,t=50,pad=4),\n",
    "    shapes=[dict(type=\"circle\",xref=\"x\",yref=\"y\",\n",
    "                 x0=np.min(group1['slope_middle'])-0.3,y0=np.min(group1['slope_after'])-0.1,\n",
    "                 x1=max(group1['slope_middle'])+0.62,y1=max(group1['slope_after'])+0.2,\n",
    "                 opacity=0.2,fillcolor=\"pink\",line_color=\"pink\"),\n",
    "            dict(type=\"circle\",xref=\"x\",yref=\"y\",\n",
    "                 x0=np.min(group2['slope_middle'])-0.16,y0=np.min(group2['slope_after'])-0.1,\n",
    "                 x1=max(group2['slope_middle'])+0.05,y1=max(group2['slope_after'])+0.1,\n",
    "                 opacity=0.2,fillcolor=\"lightgrey\",line_color=\"lightgrey\"),\n",
    "            dict(type=\"circle\",xref=\"x\",yref=\"y\",\n",
    "                 x0=np.min(group3['slope_middle'])-0.17,y0=np.min(group3['slope_after'])-0.13,\n",
    "                 x1=max(group3['slope_middle'])+0.05,y1=max(group3['slope_after'])+0.1,\n",
    "                 opacity=0.1,fillcolor=\"green\",line_color=\"green\")])\n",
    "\n",
    "fig.add_shape(dict(type=\"line\", \n",
    "                   x0=0.5,y0=-2.2, x1=0.5,y1=2.2,\n",
    "                   line=dict(color=\"red\",width=1,dash=\"dash\")))\n",
    "\n",
    "fig.add_shape(dict(type=\"line\", \n",
    "                   x0=-1.4,y0=0.5, x1=2,y1=0.5,\n",
    "                   line=dict(color=\"red\",width=1,dash=\"dash\")))\n",
    "\n",
    "fig.add_trace(\n",
    "    go.Scatter(\n",
    "        mode='markers',\n",
    "        x=[scr_s.loc['SC_CNT_유통업','slope_middle']],\n",
    "        y=[scr_s.loc['SC_CNT_유통업','slope_after']],\n",
    "        marker=dict(\n",
    "            color='crimson',\n",
    "            size=20,\n",
    "            line=dict(\n",
    "                color='black',\n",
    "                width=4\n",
    "            )\n",
    "        ),\n",
    "        showlegend=False\n",
    "    )\n",
    ")\n",
    "\n",
    "fig.show()"
   ]
  },
  {
   "cell_type": "code",
   "execution_count": null,
   "metadata": {
    "colab": {
     "base_uri": "https://localhost:8080/",
     "height": 817
    },
    "id": "OM7YHk2PkP_T",
    "outputId": "ea55249d-5521-4225-c05c-cfb3320e5666"
   },
   "outputs": [
    {
     "data": {
      "text/html": [
       "<html>\n",
       "<head><meta charset=\"utf-8\" /></head>\n",
       "<body>\n",
       "    <div>\n",
       "            <script src=\"https://cdnjs.cloudflare.com/ajax/libs/mathjax/2.7.5/MathJax.js?config=TeX-AMS-MML_SVG\"></script><script type=\"text/javascript\">if (window.MathJax) {MathJax.Hub.Config({SVG: {font: \"STIX-Web\"}});}</script>\n",
       "                <script type=\"text/javascript\">window.PlotlyConfig = {MathJaxConfig: 'local'};</script>\n",
       "        <script src=\"https://cdn.plot.ly/plotly-latest.min.js\"></script>    \n",
       "            <div id=\"a5b343cf-580e-4c27-9c41-a02a3d5ff458\" class=\"plotly-graph-div\" style=\"height:800px; width:600px;\"></div>\n",
       "            <script type=\"text/javascript\">\n",
       "                \n",
       "                    window.PLOTLYENV=window.PLOTLYENV || {};\n",
       "                    \n",
       "                if (document.getElementById(\"a5b343cf-580e-4c27-9c41-a02a3d5ff458\")) {\n",
       "                    Plotly.newPlot(\n",
       "                        'a5b343cf-580e-4c27-9c41-a02a3d5ff458',\n",
       "                        [{\"customdata\": [[\"\\uac00\\uad6c\"], [\"\\uac00\\uc804\"], [\"\\ub808\\uc800\\uc6a9\\ud488\"], [\"\\uc2e0\\ubcc0\\uc7a1\\ud654\"], [\"\\uc758\\ubcf5\"], [\"\\uc790\\ub3d9\\ucc28\\uc815\\ube44\"], [\"\\uc790\\ub3d9\\ucc28\\ud310\\ub9e4\"], [\"\\uc8fc\\ubc29\\uc6a9\\uad6c\"], [\"\\uc9c1\\ubb3c\"]], \"hoverlabel\": {\"namelength\": 0}, \"hovertemplate\": \"group=CAT1<br>slope_middle=%{x}<br>slope_after=%{y}<br>cat=%{customdata[0]}<br>catnm=%{text}\", \"legendgroup\": \"group=CAT1\", \"marker\": {\"color\": \"rgb(85,107,47)\", \"size\": 15, \"symbol\": \"circle\"}, \"mode\": \"markers+text\", \"name\": \"group=CAT1\", \"showlegend\": true, \"text\": [\"\\uac00\\uad6c\", \"\\uac00\\uc804\", \"\", \"\", \"\", \"\", \"\\uc790\\ub3d9\\ucc28\\ud310\\ub9e4\", \"\\uc8fc\\ubc29\\uc6a9\\uad6c\", \"\\uc9c1\\ubb3c\"], \"textfont\": {\"size\": 15}, \"textposition\": \"bottom center\", \"type\": \"scatter\", \"x\": [-0.1144693400074629, -0.19709657768876124, 0.12197909775915627, 0.2841950138526556, 0.21993828551842484, 0.16565496944356167, -1.3843385672808801, 0.6038980876120351, -0.12705708856670042], \"xaxis\": \"x\", \"y\": [2.0810430317217534, 0.5926528106571036, 0.7585792217286531, 0.5745572370396504, 0.6402721691638559, 0.49788271741267126, 0.7859098105457882, 1.294423075738181, 1.4919454617126457], \"yaxis\": \"y\"}, {\"customdata\": [[\"\\uad11\\ud559\\uc81c\\ud488\"], [\"\\ubcf4\\uac74\\uc704\\uc0dd\"], [\"\\uc218\\ub9ac\\uc11c\\ube44\\uc2a4\"], [\"\\uc5f0\\ub8cc\\ud310\\ub9e4\"], [\"\\uc694\\uc2dd\\uc5c5\\uc18c\"], [\"\\uc74c\\ub8cc\\uc2dd\\ud488\"], [\"\\uc758\\ub8cc\\uae30\\uad00\"]], \"hoverlabel\": {\"namelength\": 0}, \"hovertemplate\": \"group=CAT2<br>slope_middle=%{x}<br>slope_after=%{y}<br>cat=%{customdata[0]}<br>catnm=%{text}\", \"legendgroup\": \"group=CAT2\", \"marker\": {\"color\": \"rgb(169,169,169)\", \"size\": 15, \"symbol\": \"circle\"}, \"mode\": \"markers+text\", \"name\": \"group=CAT2\", \"showlegend\": true, \"text\": [\"\", \"\\ubcf4\\uac74\\uc704\\uc0dd\", \"\", \"\\uc5f0\\ub8cc\\ud310\\ub9e4\", \"\", \"\", \"\\uc758\\ub8cc\\uae30\\uad00\"], \"textfont\": {\"size\": 15}, \"textposition\": \"bottom center\", \"type\": \"scatter\", \"x\": [-0.07006467887915012, 0.39887447077920457, -0.07765428570497561, 0.15269688491473318, 0.4397968188437196, 0.3063002128434658, -0.28007331079575537], \"xaxis\": \"x\", \"y\": [0.3135951856995836, 0.39547535463593947, 0.2832487275235019, 0.15938877963517362, 0.27847529435650953, 0.33588140888568063, 0.270079446753937], \"yaxis\": \"y\"}, {\"customdata\": [[\"\\ub808\\uc800\\uc5c5\\uc18c\"], [\"\\ubb38\\ud654\\ucde8\\ubbf8\"], [\"\\uc0ac\\ubb34\\ud1b5\\uc2e0\"], [\"\\uc11c\\uc801\\ubb38\\uad6c\"], [\"\\uc219\\ubc15\"], [\"\\uc720\\ud1b5\\uc5c5\"], [\"\\uc804\\uae30\"]], \"hoverlabel\": {\"namelength\": 0}, \"hovertemplate\": \"group=CAT3<br>slope_middle=%{x}<br>slope_after=%{y}<br>cat=%{customdata[0]}<br>catnm=%{text}\", \"legendgroup\": \"group=CAT3\", \"marker\": {\"color\": \"rgb(250,128,114)\", \"size\": 15, \"symbol\": \"circle\"}, \"mode\": \"markers+text\", \"name\": \"group=CAT3\", \"showlegend\": true, \"text\": [\"\", \"\", \"\\uc0ac\\ubb34\\ud1b5\\uc2e0\", \"\\uc11c\\uc801\\ubb38\\uad6c\", \"\", \"\\uc720\\ud1b5\\uc5c5\", \"\\uc804\\uae30\"], \"textfont\": {\"size\": 15}, \"textposition\": \"bottom center\", \"type\": \"scatter\", \"x\": [0.6761447202904285, 0.5016740186906095, 0.9087100354848501, 1.3129773033128482, 0.627400708787612, 0.6429854502868967, 1.2300836788027532], \"xaxis\": \"x\", \"y\": [0.25636872835297114, 0.3676939371222493, -2.157390209235897, 0.5101084723164181, 0.4466057725575959, 0.1600349012872307, 0.24578330974637355], \"yaxis\": \"y\"}],\n",
       "                        {\"autosize\": false, \"height\": 800, \"legend\": {\"tracegroupgap\": 0}, \"margin\": {\"b\": 50, \"l\": 20, \"pad\": 4, \"r\": 20, \"t\": 50}, \"shapes\": [{\"fillcolor\": \"pink\", \"line\": {\"color\": \"pink\"}, \"opacity\": 0.2, \"type\": \"circle\", \"x0\": 0.20167401869060947, \"x1\": 1.9329773033128483, \"xref\": \"x\", \"y0\": -2.257390209235897, \"y1\": 0.7101084723164182, \"yref\": \"y\"}, {\"fillcolor\": \"lightgrey\", \"line\": {\"color\": \"lightgrey\"}, \"opacity\": 0.2, \"type\": \"circle\", \"x0\": -0.4400733107957554, \"x1\": 0.48979681884371956, \"xref\": \"x\", \"y0\": 0.05938877963517361, \"y1\": 0.4954753546359395, \"yref\": \"y\"}, {\"fillcolor\": \"green\", \"line\": {\"color\": \"green\"}, \"opacity\": 0.1, \"type\": \"circle\", \"x0\": -1.55433856728088, \"x1\": 0.6538980876120352, \"xref\": \"x\", \"y0\": 0.36788271741267126, \"y1\": 2.1810430317217535, \"yref\": \"y\"}, {\"line\": {\"color\": \"red\", \"dash\": \"dash\", \"width\": 1}, \"type\": \"line\", \"x0\": 0.5, \"x1\": 0.5, \"y0\": -2.2, \"y1\": 2.2}, {\"line\": {\"color\": \"red\", \"dash\": \"dash\", \"width\": 1}, \"type\": \"line\", \"x0\": -1.4, \"x1\": 2, \"y0\": 0.5, \"y1\": 0.5}], \"showlegend\": false, \"template\": {\"data\": {\"bar\": [{\"error_x\": {\"color\": \"#2a3f5f\"}, \"error_y\": {\"color\": \"#2a3f5f\"}, \"marker\": {\"line\": {\"color\": \"white\", \"width\": 0.5}}, \"type\": \"bar\"}], \"barpolar\": [{\"marker\": {\"line\": {\"color\": \"white\", \"width\": 0.5}}, \"type\": \"barpolar\"}], \"carpet\": [{\"aaxis\": {\"endlinecolor\": \"#2a3f5f\", \"gridcolor\": \"#C8D4E3\", \"linecolor\": \"#C8D4E3\", \"minorgridcolor\": \"#C8D4E3\", \"startlinecolor\": \"#2a3f5f\"}, \"baxis\": {\"endlinecolor\": \"#2a3f5f\", \"gridcolor\": \"#C8D4E3\", \"linecolor\": \"#C8D4E3\", \"minorgridcolor\": \"#C8D4E3\", \"startlinecolor\": \"#2a3f5f\"}, \"type\": \"carpet\"}], \"choropleth\": [{\"colorbar\": {\"outlinewidth\": 0, \"ticks\": \"\"}, \"type\": \"choropleth\"}], \"contour\": [{\"colorbar\": {\"outlinewidth\": 0, \"ticks\": \"\"}, \"colorscale\": [[0.0, \"#0d0887\"], [0.1111111111111111, \"#46039f\"], [0.2222222222222222, \"#7201a8\"], [0.3333333333333333, \"#9c179e\"], [0.4444444444444444, \"#bd3786\"], [0.5555555555555556, \"#d8576b\"], [0.6666666666666666, \"#ed7953\"], [0.7777777777777778, \"#fb9f3a\"], [0.8888888888888888, \"#fdca26\"], [1.0, \"#f0f921\"]], \"type\": \"contour\"}], \"contourcarpet\": [{\"colorbar\": {\"outlinewidth\": 0, \"ticks\": \"\"}, \"type\": \"contourcarpet\"}], \"heatmap\": [{\"colorbar\": {\"outlinewidth\": 0, \"ticks\": \"\"}, \"colorscale\": [[0.0, \"#0d0887\"], [0.1111111111111111, \"#46039f\"], [0.2222222222222222, \"#7201a8\"], [0.3333333333333333, \"#9c179e\"], [0.4444444444444444, \"#bd3786\"], [0.5555555555555556, \"#d8576b\"], [0.6666666666666666, \"#ed7953\"], [0.7777777777777778, \"#fb9f3a\"], [0.8888888888888888, \"#fdca26\"], [1.0, \"#f0f921\"]], \"type\": \"heatmap\"}], \"heatmapgl\": [{\"colorbar\": {\"outlinewidth\": 0, \"ticks\": \"\"}, \"colorscale\": [[0.0, \"#0d0887\"], [0.1111111111111111, \"#46039f\"], [0.2222222222222222, \"#7201a8\"], [0.3333333333333333, \"#9c179e\"], [0.4444444444444444, \"#bd3786\"], [0.5555555555555556, \"#d8576b\"], [0.6666666666666666, \"#ed7953\"], [0.7777777777777778, \"#fb9f3a\"], [0.8888888888888888, \"#fdca26\"], [1.0, \"#f0f921\"]], \"type\": \"heatmapgl\"}], \"histogram\": [{\"marker\": {\"colorbar\": {\"outlinewidth\": 0, \"ticks\": \"\"}}, \"type\": \"histogram\"}], \"histogram2d\": [{\"colorbar\": {\"outlinewidth\": 0, \"ticks\": \"\"}, \"colorscale\": [[0.0, \"#0d0887\"], [0.1111111111111111, \"#46039f\"], [0.2222222222222222, \"#7201a8\"], [0.3333333333333333, \"#9c179e\"], [0.4444444444444444, \"#bd3786\"], [0.5555555555555556, \"#d8576b\"], [0.6666666666666666, \"#ed7953\"], [0.7777777777777778, \"#fb9f3a\"], [0.8888888888888888, \"#fdca26\"], [1.0, \"#f0f921\"]], \"type\": \"histogram2d\"}], \"histogram2dcontour\": [{\"colorbar\": {\"outlinewidth\": 0, \"ticks\": \"\"}, \"colorscale\": [[0.0, \"#0d0887\"], [0.1111111111111111, \"#46039f\"], [0.2222222222222222, \"#7201a8\"], [0.3333333333333333, \"#9c179e\"], [0.4444444444444444, \"#bd3786\"], [0.5555555555555556, \"#d8576b\"], [0.6666666666666666, \"#ed7953\"], [0.7777777777777778, \"#fb9f3a\"], [0.8888888888888888, \"#fdca26\"], [1.0, \"#f0f921\"]], \"type\": \"histogram2dcontour\"}], \"mesh3d\": [{\"colorbar\": {\"outlinewidth\": 0, \"ticks\": \"\"}, \"type\": \"mesh3d\"}], \"parcoords\": [{\"line\": {\"colorbar\": {\"outlinewidth\": 0, \"ticks\": \"\"}}, \"type\": \"parcoords\"}], \"pie\": [{\"automargin\": true, \"type\": \"pie\"}], \"scatter\": [{\"marker\": {\"colorbar\": {\"outlinewidth\": 0, \"ticks\": \"\"}}, \"type\": \"scatter\"}], \"scatter3d\": [{\"line\": {\"colorbar\": {\"outlinewidth\": 0, \"ticks\": \"\"}}, \"marker\": {\"colorbar\": {\"outlinewidth\": 0, \"ticks\": \"\"}}, \"type\": \"scatter3d\"}], \"scattercarpet\": [{\"marker\": {\"colorbar\": {\"outlinewidth\": 0, \"ticks\": \"\"}}, \"type\": \"scattercarpet\"}], \"scattergeo\": [{\"marker\": {\"colorbar\": {\"outlinewidth\": 0, \"ticks\": \"\"}}, \"type\": \"scattergeo\"}], \"scattergl\": [{\"marker\": {\"colorbar\": {\"outlinewidth\": 0, \"ticks\": \"\"}}, \"type\": \"scattergl\"}], \"scattermapbox\": [{\"marker\": {\"colorbar\": {\"outlinewidth\": 0, \"ticks\": \"\"}}, \"type\": \"scattermapbox\"}], \"scatterpolar\": [{\"marker\": {\"colorbar\": {\"outlinewidth\": 0, \"ticks\": \"\"}}, \"type\": \"scatterpolar\"}], \"scatterpolargl\": [{\"marker\": {\"colorbar\": {\"outlinewidth\": 0, \"ticks\": \"\"}}, \"type\": \"scatterpolargl\"}], \"scatterternary\": [{\"marker\": {\"colorbar\": {\"outlinewidth\": 0, \"ticks\": \"\"}}, \"type\": \"scatterternary\"}], \"surface\": [{\"colorbar\": {\"outlinewidth\": 0, \"ticks\": \"\"}, \"colorscale\": [[0.0, \"#0d0887\"], [0.1111111111111111, \"#46039f\"], [0.2222222222222222, \"#7201a8\"], [0.3333333333333333, \"#9c179e\"], [0.4444444444444444, \"#bd3786\"], [0.5555555555555556, \"#d8576b\"], [0.6666666666666666, \"#ed7953\"], [0.7777777777777778, \"#fb9f3a\"], [0.8888888888888888, \"#fdca26\"], [1.0, \"#f0f921\"]], \"type\": \"surface\"}], \"table\": [{\"cells\": {\"fill\": {\"color\": \"#EBF0F8\"}, \"line\": {\"color\": \"white\"}}, \"header\": {\"fill\": {\"color\": \"#C8D4E3\"}, \"line\": {\"color\": \"white\"}}, \"type\": \"table\"}]}, \"layout\": {\"annotationdefaults\": {\"arrowcolor\": \"#2a3f5f\", \"arrowhead\": 0, \"arrowwidth\": 1}, \"coloraxis\": {\"colorbar\": {\"outlinewidth\": 0, \"ticks\": \"\"}}, \"colorscale\": {\"diverging\": [[0, \"#8e0152\"], [0.1, \"#c51b7d\"], [0.2, \"#de77ae\"], [0.3, \"#f1b6da\"], [0.4, \"#fde0ef\"], [0.5, \"#f7f7f7\"], [0.6, \"#e6f5d0\"], [0.7, \"#b8e186\"], [0.8, \"#7fbc41\"], [0.9, \"#4d9221\"], [1, \"#276419\"]], \"sequential\": [[0.0, \"#0d0887\"], [0.1111111111111111, \"#46039f\"], [0.2222222222222222, \"#7201a8\"], [0.3333333333333333, \"#9c179e\"], [0.4444444444444444, \"#bd3786\"], [0.5555555555555556, \"#d8576b\"], [0.6666666666666666, \"#ed7953\"], [0.7777777777777778, \"#fb9f3a\"], [0.8888888888888888, \"#fdca26\"], [1.0, \"#f0f921\"]], \"sequentialminus\": [[0.0, \"#0d0887\"], [0.1111111111111111, \"#46039f\"], [0.2222222222222222, \"#7201a8\"], [0.3333333333333333, \"#9c179e\"], [0.4444444444444444, \"#bd3786\"], [0.5555555555555556, \"#d8576b\"], [0.6666666666666666, \"#ed7953\"], [0.7777777777777778, \"#fb9f3a\"], [0.8888888888888888, \"#fdca26\"], [1.0, \"#f0f921\"]]}, \"colorway\": [\"#636efa\", \"#EF553B\", \"#00cc96\", \"#ab63fa\", \"#FFA15A\", \"#19d3f3\", \"#FF6692\", \"#B6E880\", \"#FF97FF\", \"#FECB52\"], \"font\": {\"color\": \"#2a3f5f\"}, \"geo\": {\"bgcolor\": \"white\", \"lakecolor\": \"white\", \"landcolor\": \"white\", \"showlakes\": true, \"showland\": true, \"subunitcolor\": \"#C8D4E3\"}, \"hoverlabel\": {\"align\": \"left\"}, \"hovermode\": \"closest\", \"mapbox\": {\"style\": \"light\"}, \"paper_bgcolor\": \"white\", \"plot_bgcolor\": \"white\", \"polar\": {\"angularaxis\": {\"gridcolor\": \"#EBF0F8\", \"linecolor\": \"#EBF0F8\", \"ticks\": \"\"}, \"bgcolor\": \"white\", \"radialaxis\": {\"gridcolor\": \"#EBF0F8\", \"linecolor\": \"#EBF0F8\", \"ticks\": \"\"}}, \"scene\": {\"xaxis\": {\"backgroundcolor\": \"white\", \"gridcolor\": \"#DFE8F3\", \"gridwidth\": 2, \"linecolor\": \"#EBF0F8\", \"showbackground\": true, \"ticks\": \"\", \"zerolinecolor\": \"#EBF0F8\"}, \"yaxis\": {\"backgroundcolor\": \"white\", \"gridcolor\": \"#DFE8F3\", \"gridwidth\": 2, \"linecolor\": \"#EBF0F8\", \"showbackground\": true, \"ticks\": \"\", \"zerolinecolor\": \"#EBF0F8\"}, \"zaxis\": {\"backgroundcolor\": \"white\", \"gridcolor\": \"#DFE8F3\", \"gridwidth\": 2, \"linecolor\": \"#EBF0F8\", \"showbackground\": true, \"ticks\": \"\", \"zerolinecolor\": \"#EBF0F8\"}}, \"shapedefaults\": {\"line\": {\"color\": \"#2a3f5f\"}}, \"ternary\": {\"aaxis\": {\"gridcolor\": \"#DFE8F3\", \"linecolor\": \"#A2B1C6\", \"ticks\": \"\"}, \"baxis\": {\"gridcolor\": \"#DFE8F3\", \"linecolor\": \"#A2B1C6\", \"ticks\": \"\"}, \"bgcolor\": \"white\", \"caxis\": {\"gridcolor\": \"#DFE8F3\", \"linecolor\": \"#A2B1C6\", \"ticks\": \"\"}}, \"title\": {\"x\": 0.05}, \"xaxis\": {\"automargin\": true, \"gridcolor\": \"#EBF0F8\", \"linecolor\": \"#EBF0F8\", \"ticks\": \"\", \"title\": {\"standoff\": 15}, \"zerolinecolor\": \"#EBF0F8\", \"zerolinewidth\": 2}, \"yaxis\": {\"automargin\": true, \"gridcolor\": \"#EBF0F8\", \"linecolor\": \"#EBF0F8\", \"ticks\": \"\", \"title\": {\"standoff\": 15}, \"zerolinecolor\": \"#EBF0F8\", \"zerolinewidth\": 2}}}, \"title\": {\"font\": {\"size\": 20}, \"text\": \"\\ud68c\\ubcf5\\ub3c4 \\ubc0f \\ud0c0\\uaca9\\ub3c4 / \\uc11c\\uc6b8 \\uc804\\uccb4\"}, \"width\": 600, \"xaxis\": {\"anchor\": \"y\", \"domain\": [0.0, 1.0], \"title\": {\"font\": {\"size\": 16}, \"text\": \"\\ud0c0\\uaca9\\ub3c4 (\\uc2e0\\ucc9c\\uc9c0 - \\uc0ac\\ud68c\\uc801 \\uac70\\ub9ac\\ub450\\uae30)\"}}, \"yaxis\": {\"anchor\": \"x\", \"domain\": [0.0, 1.0], \"title\": {\"font\": {\"size\": 16}, \"text\": \"\\ud68c\\ubcf5\\ub3c4 (\\uc0ac\\ud68c\\uc801 \\uac70\\ub9ac\\ub450\\uae30 - \\ucd5c\\uadfc)\"}}},\n",
       "                        {\"responsive\": true}\n",
       "                    ).then(function(){\n",
       "                            \n",
       "var gd = document.getElementById('a5b343cf-580e-4c27-9c41-a02a3d5ff458');\n",
       "var x = new MutationObserver(function (mutations, observer) {{\n",
       "        var display = window.getComputedStyle(gd).display;\n",
       "        if (!display || display === 'none') {{\n",
       "            console.log([gd, 'removed!']);\n",
       "            Plotly.purge(gd);\n",
       "            observer.disconnect();\n",
       "        }}\n",
       "}});\n",
       "\n",
       "// Listen for the removal of the full notebook cells\n",
       "var notebookContainer = gd.closest('#notebook-container');\n",
       "if (notebookContainer) {{\n",
       "    x.observe(notebookContainer, {childList: true});\n",
       "}}\n",
       "\n",
       "// Listen for the clearing of the current output cell\n",
       "var outputEl = gd.closest('.output');\n",
       "if (outputEl) {{\n",
       "    x.observe(outputEl, {childList: true});\n",
       "}}\n",
       "\n",
       "                        })\n",
       "                };\n",
       "                \n",
       "            </script>\n",
       "        </div>\n",
       "</body>\n",
       "</html>"
      ]
     },
     "metadata": {
      "tags": []
     },
     "output_type": "display_data"
    }
   ],
   "source": [
    "import plotly.express as px\n",
    "import plotly.graph_objects as go\n",
    "\n",
    "color_discrete_map = {'CAT1': 'rgb(85,107,47)', 'CAT2': 'rgb(169,169,169)', 'CAT3': 'rgb(250,128,114)'}\n",
    "fig = px.scatter(scr_s, x=\"slope_middle\", y=\"slope_after\",hover_data=[\"cat\"],text=\"catnm\",template= 'plotly_white',color = 'group',color_discrete_map=color_discrete_map)\n",
    "fig.update_traces(textfont_size=15)\n",
    "\n",
    "fig.update_traces(textposition='bottom center', \n",
    "                  marker=dict(size=15))\n",
    "\n",
    "fig.update_layout(\n",
    "    showlegend=False,\n",
    "    title=dict(text=\"회복도 및 타격도 / 서울 전체\", font=dict(size=20)),\n",
    "    xaxis_title=dict(text=\"타격도 (신천지 - 사회적 거리두기)\", font=dict(size=16)),\n",
    "    yaxis_title=dict(text=\"회복도 (사회적 거리두기 - 최근)\", font=dict(size=16)),\n",
    "    autosize=False,\n",
    "    width=600,\n",
    "    height=800,\n",
    "    margin=dict(l=20,r=20,b=50,t=50,pad=4),\n",
    "    shapes=[dict(type=\"circle\",xref=\"x\",yref=\"y\",\n",
    "                 x0=np.min(group1['slope_middle'])-0.3,y0=np.min(group1['slope_after'])-0.1,\n",
    "                 x1=max(group1['slope_middle'])+0.62,y1=max(group1['slope_after'])+0.2,\n",
    "                 opacity=0.2,fillcolor=\"pink\",line_color=\"pink\"),\n",
    "            dict(type=\"circle\",xref=\"x\",yref=\"y\",\n",
    "                 x0=np.min(group2['slope_middle'])-0.16,y0=np.min(group2['slope_after'])-0.1,\n",
    "                 x1=max(group2['slope_middle'])+0.05,y1=max(group2['slope_after'])+0.1,\n",
    "                 opacity=0.2,fillcolor=\"lightgrey\",line_color=\"lightgrey\"),\n",
    "            dict(type=\"circle\",xref=\"x\",yref=\"y\",\n",
    "                 x0=np.min(group3['slope_middle'])-0.17,y0=np.min(group3['slope_after'])-0.13,\n",
    "                 x1=max(group3['slope_middle'])+0.05,y1=max(group3['slope_after'])+0.1,\n",
    "                 opacity=0.1,fillcolor=\"green\",line_color=\"green\")])\n",
    "\n",
    "fig.add_shape(dict(type=\"line\", \n",
    "                   x0=0.5,y0=-2.2, x1=0.5,y1=2.2,\n",
    "                   line=dict(color=\"red\",width=1,dash=\"dash\")))\n",
    "\n",
    "fig.add_shape(dict(type=\"line\", \n",
    "                   x0=-1.4,y0=0.5, x1=2,y1=0.5,\n",
    "                   line=dict(color=\"red\",width=1,dash=\"dash\")))\n",
    "\n",
    "\n",
    "fig.show()"
   ]
  },
  {
   "cell_type": "markdown",
   "metadata": {
    "id": "QPpspPi9LLYg"
   },
   "source": [
    "# **2.유통업 매출건수 증감률 시계열 그래프**"
   ]
  },
  {
   "cell_type": "code",
   "execution_count": null,
   "metadata": {},
   "outputs": [],
   "source": [
    "fig = plt.figure(figsize=(16,6))\n",
    "\n",
    "plt.plot(xx.index, xx['SC_CNT_유통업'], linestyle='-', marker='o', color='crimson')\n",
    "\n",
    "mycolor ='grey'; min=-0.28\n",
    "plt.axvline(x='02-18',color=mycolor,linestyle='--')\n",
    "plt.text('02-18',min,'신천지', ha='center', va='center',rotation='horizontal', backgroundcolor='white', fontsize=15)\n",
    "plt.axvline(x='03-22', color=mycolor,linestyle='--')\n",
    "plt.text('03-22',min, '사회적 거리두기', ha='center', va='center',rotation='horizontal', backgroundcolor='white', fontsize=15)\n",
    "\n",
    "plt.title('신한카드 유통업 매출건수 증감률 시계열 그래프', size=30)\n",
    "plt.ylim(-0.3, -0.01)\n",
    "plt.tick_params(\n",
    "    axis='x',          # changes apply to the x-axis\n",
    "    which='both',      # both major and minor ticks are affected\n",
    "    bottom=False,      # ticks along the bottom edge are off\n",
    "    top=False,         # ticks along the top edge are off\n",
    "    labelbottom=False)"
   ]
  },
  {
   "cell_type": "code",
   "execution_count": null,
   "metadata": {
    "id": "_CQGHCMfqFEi"
   },
   "outputs": [],
   "source": []
  }
 ],
 "metadata": {
  "colab": {
   "collapsed_sections": [],
   "name": "[업종선택1] 전체 타격/회복",
   "provenance": [],
   "toc_visible": true
  },
  "kernelspec": {
   "display_name": "Python 3",
   "language": "python",
   "name": "python3"
  },
  "language_info": {
   "codemirror_mode": {
    "name": "ipython",
    "version": 3
   },
   "file_extension": ".py",
   "mimetype": "text/x-python",
   "name": "python",
   "nbconvert_exporter": "python",
   "pygments_lexer": "ipython3",
   "version": "3.6.10"
  }
 },
 "nbformat": 4,
 "nbformat_minor": 1
}