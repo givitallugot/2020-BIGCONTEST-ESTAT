{
 "cells": [
  {
   "cell_type": "code",
   "execution_count": null,
   "metadata": {
    "colab": {
     "base_uri": "https://localhost:8080/",
     "height": 34
    },
    "id": "z_HyMIS2uEF0",
    "outputId": "7b6ba048-29dc-405a-f23e-5591245fc2eb"
   },
   "outputs": [
    {
     "name": "stdout",
     "output_type": "stream",
     "text": [
      "Drive already mounted at /content/gdrive; to attempt to forcibly remount, call drive.mount(\"/content/gdrive\", force_remount=True).\n"
     ]
    }
   ],
   "source": [
    "from google.colab import drive\n",
    "drive.mount('/content/gdrive')"
   ]
  },
  {
   "cell_type": "code",
   "execution_count": null,
   "metadata": {
    "id": "RrpSQtl3wAcF"
   },
   "outputs": [],
   "source": [
    "# Import Library\n",
    "import numpy as np\n",
    "import pandas as pd\n",
    "import matplotlib.pyplot as plt"
   ]
  },
  {
   "cell_type": "markdown",
   "metadata": {
    "id": "nVjBKci3oWdm"
   },
   "source": [
    "# 데이터셋 합치기"
   ]
  },
  {
   "cell_type": "code",
   "execution_count": null,
   "metadata": {
    "id": "kRdVnEBvober"
   },
   "outputs": [],
   "source": [
    "# Read Data\n",
    "cj = pd.read_excel('./gdrive/My Drive/빅콘 대상팀/data/CJ/CJ.xlsx', error_bad_lines=False)\n",
    "gs = pd.read_csv('./gdrive/My Drive/빅콘 대상팀/data/GS/GS.csv',  encoding='cp949')\n",
    "scr =  pd.read_csv('./gdrive/My Drive/빅콘 대상팀/data/SC/CARD_SPENDING_RESIDENT.txt', sep='\\t')\n",
    "skt =  pd.read_csv('./gdrive/My Drive/빅콘 대상팀/data/SK/skt.csv', index_col='Unnamed: 0')\n",
    "ska = pd.read_csv('./gdrive/My Drive/빅콘 대상팀/data/SK/ska.csv', index_col='Unnamed: 0')"
   ]
  },
  {
   "cell_type": "code",
   "execution_count": null,
   "metadata": {},
   "outputs": [],
   "source": [
    "# scr\n",
    "scr.rename(columns = {'STD_DD' : 'STD_YMD'}, inplace = True)\n",
    "scr.rename(columns = {'DONG_CD' : 'HDONG_CD'}, inplace = True)\n",
    "\n",
    "scr['STD_YMD'] = pd.to_datetime(scr['STD_YMD'].astype(str), format='%Y%m%d')\n",
    "scr = scr.drop(['GU_CD', 'SEX_CD', 'AGE_CD'], axis=1) \n",
    "\n",
    "def name_a_to_b(data,col,a,b):\n",
    "  data = data.replace({col:a}, {col:b}, inplace=True)\n",
    "  return(data)\n",
    "\n",
    "cat_code = [10,20,21,22,30,31,32,33,34,35,40,42,43,44,50,52,60,62,70,71,80,81,92]\n",
    "cat_name = ['숙박','레저용품','레저업소','문화취미','가구','전기','주방용구',\n",
    "            '연료판매','광학제품','가전','유통업','의복','직물','신변잡화','서적문구','사무통신',\n",
    "            '자동차판매','자동차정비','의료기관','보건위생','요식업소','음료식품','수리서비스']\n",
    "            \n",
    "for i in range(len(cat_code)):\n",
    "  name_a_to_b(scr,'MCT_CAT_CD',cat_code[i],cat_name[i])\n",
    "\n",
    "scr = scr.groupby(['STD_YMD', 'HDONG_CD', 'MCT_CAT_CD']).sum().unstack(level=2).fillna(0)"
   ]
  },
  {
   "cell_type": "code",
   "execution_count": null,
   "metadata": {},
   "outputs": [],
   "source": [
    "# gs\n",
    "gs.rename(columns = {'OPER_DT' : 'STD_YMD'}, inplace = True)\n",
    "gs.rename(columns = {'ADMD' : 'HDONG_NM'}, inplace = True)\n",
    "\n",
    "gs['STD_YMD'] = pd.to_datetime(gs['STD_YMD'].astype(str), format='%Y%m%d')\n",
    "\n",
    "gs = gs.drop(['PVN', 'BOR'], axis=1)"
   ]
  },
  {
   "cell_type": "code",
   "execution_count": null,
   "metadata": {
    "colab": {
     "base_uri": "https://localhost:8080/",
     "height": 273
    },
    "id": "4i7iFcF4uXVA",
    "outputId": "7af5d890-b61c-4486-d527-83e3c8222220"
   },
   "outputs": [
    {
     "data": {
      "text/html": [
       "<div>\n",
       "<style scoped>\n",
       "    .dataframe tbody tr th:only-of-type {\n",
       "        vertical-align: middle;\n",
       "    }\n",
       "\n",
       "    .dataframe tbody tr th {\n",
       "        vertical-align: top;\n",
       "    }\n",
       "\n",
       "    .dataframe thead tr th {\n",
       "        text-align: left;\n",
       "    }\n",
       "\n",
       "    .dataframe thead tr:last-of-type th {\n",
       "        text-align: right;\n",
       "    }\n",
       "</style>\n",
       "<table border=\"1\" class=\"dataframe\">\n",
       "  <thead>\n",
       "    <tr>\n",
       "      <th></th>\n",
       "      <th></th>\n",
       "      <th>HDONG_NM</th>\n",
       "      <th colspan=\"10\" halign=\"left\">INVC_CONT</th>\n",
       "    </tr>\n",
       "    <tr>\n",
       "      <th></th>\n",
       "      <th>CJ_CATG</th>\n",
       "      <th></th>\n",
       "      <th>가구/인테리어</th>\n",
       "      <th>도서/음반</th>\n",
       "      <th>디지털/가전</th>\n",
       "      <th>생활건강</th>\n",
       "      <th>스포츠/레저</th>\n",
       "      <th>식품</th>\n",
       "      <th>출산/육아</th>\n",
       "      <th>패션의류</th>\n",
       "      <th>패션잡화</th>\n",
       "      <th>화장품/미용</th>\n",
       "    </tr>\n",
       "    <tr>\n",
       "      <th>STD_YMD</th>\n",
       "      <th>HDONG_CD</th>\n",
       "      <th></th>\n",
       "      <th></th>\n",
       "      <th></th>\n",
       "      <th></th>\n",
       "      <th></th>\n",
       "      <th></th>\n",
       "      <th></th>\n",
       "      <th></th>\n",
       "      <th></th>\n",
       "      <th></th>\n",
       "      <th></th>\n",
       "    </tr>\n",
       "  </thead>\n",
       "  <tbody>\n",
       "    <tr>\n",
       "      <th rowspan=\"5\" valign=\"top\">2019-02-01</th>\n",
       "      <th>510</th>\n",
       "      <td>범어1동</td>\n",
       "      <td>6.0</td>\n",
       "      <td>64.0</td>\n",
       "      <td>15.0</td>\n",
       "      <td>20.0</td>\n",
       "      <td>3.0</td>\n",
       "      <td>14.0</td>\n",
       "      <td>0.0</td>\n",
       "      <td>29.0</td>\n",
       "      <td>12.0</td>\n",
       "      <td>19.0</td>\n",
       "    </tr>\n",
       "    <tr>\n",
       "      <th>517</th>\n",
       "      <td>동인동</td>\n",
       "      <td>6.0</td>\n",
       "      <td>41.0</td>\n",
       "      <td>6.0</td>\n",
       "      <td>20.0</td>\n",
       "      <td>0.0</td>\n",
       "      <td>15.0</td>\n",
       "      <td>1.0</td>\n",
       "      <td>21.0</td>\n",
       "      <td>9.0</td>\n",
       "      <td>21.0</td>\n",
       "    </tr>\n",
       "    <tr>\n",
       "      <th>520</th>\n",
       "      <td>범어2동</td>\n",
       "      <td>12.0</td>\n",
       "      <td>53.0</td>\n",
       "      <td>14.0</td>\n",
       "      <td>23.0</td>\n",
       "      <td>0.0</td>\n",
       "      <td>20.0</td>\n",
       "      <td>0.0</td>\n",
       "      <td>36.0</td>\n",
       "      <td>19.0</td>\n",
       "      <td>28.0</td>\n",
       "    </tr>\n",
       "    <tr>\n",
       "      <th>520</th>\n",
       "      <td>소공동</td>\n",
       "      <td>3.0</td>\n",
       "      <td>48.0</td>\n",
       "      <td>35.0</td>\n",
       "      <td>15.0</td>\n",
       "      <td>0.0</td>\n",
       "      <td>19.0</td>\n",
       "      <td>0.0</td>\n",
       "      <td>25.0</td>\n",
       "      <td>10.0</td>\n",
       "      <td>26.0</td>\n",
       "    </tr>\n",
       "    <tr>\n",
       "      <th>530</th>\n",
       "      <td>범어3동</td>\n",
       "      <td>4.0</td>\n",
       "      <td>46.0</td>\n",
       "      <td>10.0</td>\n",
       "      <td>21.0</td>\n",
       "      <td>1.0</td>\n",
       "      <td>31.0</td>\n",
       "      <td>1.0</td>\n",
       "      <td>39.0</td>\n",
       "      <td>11.0</td>\n",
       "      <td>22.0</td>\n",
       "    </tr>\n",
       "  </tbody>\n",
       "</table>\n",
       "</div>"
      ],
      "text/plain": [
       "                    HDONG_NM INVC_CONT               ...                         \n",
       "CJ_CATG                        가구/인테리어 도서/음반 디지털/가전  ... 출산/육아  패션의류  패션잡화 화장품/미용\n",
       "STD_YMD    HDONG_CD                                  ...                         \n",
       "2019-02-01 510          범어1동       6.0  64.0   15.0  ...   0.0  29.0  12.0   19.0\n",
       "           517           동인동       6.0  41.0    6.0  ...   1.0  21.0   9.0   21.0\n",
       "           520          범어2동      12.0  53.0   14.0  ...   0.0  36.0  19.0   28.0\n",
       "           520           소공동       3.0  48.0   35.0  ...   0.0  25.0  10.0   26.0\n",
       "           530          범어3동       4.0  46.0   10.0  ...   1.0  39.0  11.0   22.0\n",
       "\n",
       "[5 rows x 11 columns]"
      ]
     },
     "execution_count": 54,
     "metadata": {
      "tags": []
     },
     "output_type": "execute_result"
    }
   ],
   "source": [
    "cj.rename(columns = {'DL_YMD' : 'STD_YMD'}, inplace = True)\n",
    "cj.rename(columns = {'DL_GD_LCLS_NM' : 'CJ_CATG'}, inplace = True)\n",
    "cj.rename(columns = {'HDNG_NM' : 'HDONG_NM'}, inplace = True)\n",
    "cj.rename(columns = {'HDNG_CD' : 'HDONG_CD'}, inplace = True)\n",
    "\n",
    "cj['STD_YMD'] = pd.to_datetime(cj['STD_YMD'].astype(str), format='%y%m%d')\n",
    "\n",
    "cj['HDONG_NM'] = cj['HDONG_NM'].apply(lambda x: '신당5동' if x == '신당제5동' else x)\n",
    "\n",
    "cj = cj.drop(['DL_GD_LCLS_CD', 'CTPV_NM', 'CTPV_CD', 'CTGG_NM', 'CTGG_CD'], axis=1)\n",
    "cj = cj.set_index(['STD_YMD', 'HDONG_CD', 'HDONG_NM', 'CJ_CATG']).unstack(level=3).fillna(0)\n",
    "cj = cj.reset_index(drop=False).set_index(['STD_YMD', 'HDONG_CD'])\n",
    "cj.head()"
   ]
  },
  {
   "cell_type": "code",
   "execution_count": null,
   "metadata": {},
   "outputs": [],
   "source": [
    "skt['STD_YMD'] = pd.to_datetime(skt['STD_YMD'].astype(str), format='%Y%m%d') # dtype datetime으로 변경\n",
    "\n",
    "skt['TMST_MORNING'] = np.mean(skt.iloc[:,15:19], axis=1)\n",
    "skt['TMST_NOON'] = np.mean(skt.iloc[:,15:18], axis=1)\n",
    "skt['TMST_AFTNOON'] = np.mean(skt.iloc[:,18:22], axis=1)\n",
    "skt['TMST_NIGHT'] = np.mean(skt.iloc[:,22:26], axis=1)\n",
    "skt['TMST_DAWN'] = np.mean(pd.concat([skt.iloc[:, 26:28], skt.iloc[:, 5:11]], axis=1), axis=1)\n",
    "\n",
    "skt = skt[['STD_YMD', 'HDONG_NM', 'TMST_MORNING', 'TMST_NOON', 'TMST_AFTNOON', 'TMST_NIGHT', 'TMST_DAWN']]\n",
    "\n",
    "\n",
    "# skt = skt.set_index(['HDONG_NM', 'STD_YMD']) # index로 설정\n",
    "\n",
    "# ska_backup = ska\n",
    "# ska['STD_YMD'] = pd.to_datetime(ska['STD_YMD'].astype(str), format='%Y%m%d') # dtype datetime으로 변경\n",
    "# ska = ska.set_index(['HDONG_NM', 'STD_YMD']) # index로 설정\n",
    "\n",
    "# sk = pd.concat([skt, ska.iloc[:,3:]], axis=1)"
   ]
  },
  {
   "cell_type": "code",
   "execution_count": null,
   "metadata": {},
   "outputs": [],
   "source": [
    "# cj랑 sc 코드로 합치고, 코드 지우기\n",
    "all = pd.merge(cj, scr, left_on=['STD_YMD', 'HDONG_CD'], right_on=['STD_YMD', 'HDONG_CD'], how='left')\n",
    "all = all.reset_index(drop=False).set_index(['STD_YMD', 'HDONG_NM']).drop('HDONG_CD', axis=1)\n",
    "all = pd.merge(all, gs, left_on=['STD_YMD', 'HDONG_NM'], right_on=['STD_YMD', 'HDONG_NM'], how='left')\n",
    "all = pd.merge(all, skt, left_on=['STD_YMD', 'HDONG_NM'], right_on=['STD_YMD', 'HDONG_NM'], how='left')"
   ]
  },
  {
   "cell_type": "code",
   "execution_count": null,
   "metadata": {
    "id": "haEedeVjMD3R"
   },
   "outputs": [],
   "source": [
    "#all.to_csv('./gdrive/My Drive/빅콘 대상팀/data/all.csv', sep=',',index=False)"
   ]
  },
  {
   "cell_type": "code",
   "execution_count": null,
   "metadata": {
    "id": "AVIvHGNtNyyC"
   },
   "outputs": [],
   "source": [
    "all = pd.read_csv('./gdrive/My Drive/빅콘 대상팀/data/all.csv')"
   ]
  },
  {
   "cell_type": "code",
   "execution_count": null,
   "metadata": {
    "id": "36JT1nUZOnjL"
   },
   "outputs": [],
   "source": [
    "gu = pd.read_excel('./gdrive/My Drive/빅콘 대상팀/data/지역데이터/구_동.xlsx')"
   ]
  },
  {
   "cell_type": "code",
   "execution_count": null,
   "metadata": {
    "id": "aLgMimhQR11h"
   },
   "outputs": [],
   "source": [
    "all.columns =[ 'STD_YMD', 'HDONG_NM', 'CJ_가구/인테리어',\n",
    "       'CJ_도서/음반', 'CJ_디지털/가전',\n",
    "       'CJ_생활건강', 'CJ_스포츠/레저',\n",
    "       'CJ_식품', 'CJ_출산/육아',\n",
    "       'CJ_패션의류', 'CJ_패션잡화',\n",
    "       'CJ_화장품/미용', 'SC_CNT_가구', 'SC_CNT_가전',\n",
    "       'SC_CNT_광학제품', 'SC_CNT_레저업소', 'SC_CNT_레저용품',\n",
    "       'SC_CNT_문화취미', 'SC_CNT_보건위생', 'SC_CNT_사무통신',\n",
    "       'SC_CNT_서적문구', 'SC_CNT_수리서비스', 'SC_CNT_숙박',\n",
    "       'SC_CNT_신변잡화', 'SC_CNT_연료판매', 'SC_CNT_요식업소',\n",
    "       'SC_CNT_유통업', 'SC_CNT_음료식품', 'SC_CNT_의료기관',\n",
    "       'SC_CNT_의복', 'SC_CNT_자동차정비', 'SC_CNT_자동차판매',\n",
    "       'SC_CNT_전기', 'SC_CNT_주방용구', 'SC_CNT_직물',\n",
    "       'SC_AMT_가구', 'SC_AMT_가전', 'SC_AMT_광학제품',\n",
    "       'SC_AMT_레저업소', 'SC_AMT_레저용품', 'SC_AMT_문화취미',\n",
    "       'SC_AMT_보건위생', 'SC_AMT_사무통신', 'SC_AMT_서적문구',\n",
    "       'SC_AMT_수리서비스', 'SC_AMT_숙박', 'SC_AMT_신변잡화',\n",
    "       'SC_AMT_연료판매', 'SC_AMT_요식업소', 'SC_AMT_유통업',\n",
    "       'SC_AMT_음료식품', 'SC_AMT_의료기관', 'SC_AMT_의복',\n",
    "       'SC_AMT_자동차정비', 'SC_AMT_자동차판매', 'SC_AMT_전기',\n",
    "       'SC_AMT_주방용구', 'SC_AMT_직물', 'GS_매출지수', 'GS_식사',\n",
    "       'GS_간식', 'GS_마실거리', 'GS_홈/리빙', 'GS_헬스/뷰티', 'GS_취미/여가활동',\n",
    "       'GS_사회활동', 'GS_임신육아', 'TMST_MORNING', 'TMST_NOON', 'TMST_AFTNOON',\n",
    "       'TMST_NIGHT', 'TMST_DAWN']"
   ]
  },
  {
   "cell_type": "code",
   "execution_count": null,
   "metadata": {},
   "outputs": [],
   "source": [
    "data_final = pd.merge(all,gu,how='left',on = 'HDONG_NM')"
   ]
  },
  {
   "cell_type": "code",
   "execution_count": null,
   "metadata": {
    "id": "OHA_1L2dR_dy"
   },
   "outputs": [],
   "source": [
    "#data_final.to_csv('./gdrive/My Drive/빅콘 대상팀/data/all_clean.csv', sep=',',index=False)"
   ]
  },
  {
   "cell_type": "code",
   "execution_count": null,
   "metadata": {
    "id": "4Aycs9aoSEVq"
   },
   "outputs": [],
   "source": [
    "all = pd.read_csv('./gdrive/My Drive/빅콘 대상팀/data/all_clean.csv' ,parse_dates=['STD_YMD'])"
   ]
  },
  {
   "cell_type": "code",
   "execution_count": null,
   "metadata": {
    "id": "S0QrPZNvSA9o"
   },
   "outputs": [],
   "source": [
    "for i in np.arange(-14,-6,1):\n",
    "  all.iloc[:,i] = all.iloc[:,i].str.replace('%','').astype(float)"
   ]
  },
  {
   "cell_type": "code",
   "execution_count": null,
   "metadata": {
    "id": "MLuaY3v8SIvo"
   },
   "outputs": [],
   "source": [
    "all[all.filter(like='GS').columns[1:]] = all[all.filter(like='GS').columns[1:]].multiply(all[\"GS_매출지수\"], axis=\"index\")"
   ]
  },
  {
   "cell_type": "code",
   "execution_count": null,
   "metadata": {
    "id": "lzLzrYJDSN5-"
   },
   "outputs": [],
   "source": [
    "#all.to_csv('./gdrive/My Drive/빅콘 대상팀/data/all_amt.csv', sep=',',index=False)"
   ]
  }
 ],
 "metadata": {
  "colab": {
   "collapsed_sections": [],
   "name": "[통합데이터생성] 4사 데이터 통합",
   "provenance": [],
   "toc_visible": true
  },
  "kernelspec": {
   "display_name": "Python 3",
   "language": "python",
   "name": "python3"
  },
  "language_info": {
   "codemirror_mode": {
    "name": "ipython",
    "version": 3
   },
   "file_extension": ".py",
   "mimetype": "text/x-python",
   "name": "python",
   "nbconvert_exporter": "python",
   "pygments_lexer": "ipython3",
   "version": "3.6.10"
  }
 },
 "nbformat": 4,
 "nbformat_minor": 1
}