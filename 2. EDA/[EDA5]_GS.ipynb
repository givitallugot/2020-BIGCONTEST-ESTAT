{
 "cells": [
  {
   "cell_type": "code",
   "execution_count": null,
   "metadata": {
    "id": "2sIOD90VlFLv"
   },
   "outputs": [],
   "source": [
    "import matplotlib.pylab as plt\n",
    "import seaborn as sns\n",
    "import numpy as np\n",
    "import pandas as pd\n",
    "%matplotlib inline\n",
    "\n",
    "#!sudo apt-get install -y fonts-nanum\n",
    "#!sudo fc-cache -fv\n",
    "#!rm ~/.cache/matplotlib -rf"
   ]
  },
  {
   "cell_type": "code",
   "execution_count": null,
   "metadata": {
    "colab": {
     "base_uri": "https://localhost:8080/",
     "height": 34
    },
    "id": "eDJHZ4QFXP3f",
    "outputId": "bbb53c64-4683-4659-9681-e25a7bc0584c"
   },
   "outputs": [
    {
     "name": "stdout",
     "output_type": "stream",
     "text": [
      "Drive already mounted at /content/gdrive; to attempt to forcibly remount, call drive.mount(\"/content/gdrive\", force_remount=True).\n"
     ]
    }
   ],
   "source": [
    "import os, sys\n",
    "from google.colab import drive\n",
    "drive.mount('/content/gdrive')\n",
    "\n",
    "plt.rc('font', family='NanumBarunGothic') "
   ]
  },
  {
   "cell_type": "code",
   "execution_count": null,
   "metadata": {
    "id": "w56N9xPmC2Bi"
   },
   "outputs": [],
   "source": [
    "#!pip install --target=$my_path numpy"
   ]
  },
  {
   "cell_type": "code",
   "execution_count": null,
   "metadata": {
    "id": "ipjM-lnRW9n9"
   },
   "outputs": [],
   "source": [
    "gs = pd.read_csv('./gdrive/My Drive/빅콘 대상팀/data/GS/GS.csv',  encoding='cp949',parse_dates=['OPER_DT'])"
   ]
  },
  {
   "cell_type": "code",
   "execution_count": null,
   "metadata": {
    "id": "o0iuftgwZDmo"
   },
   "outputs": [],
   "source": [
    "for i in range(5,13):\n",
    "  gs.iloc[:,i] = gs.iloc[:,i].str.replace('%','').astype(float)"
   ]
  },
  {
   "cell_type": "markdown",
   "metadata": {
    "id": "3ISaax6hc50b"
   },
   "source": [
    "# **1. 품목별 판매비중 비교**"
   ]
  },
  {
   "cell_type": "code",
   "execution_count": null,
   "metadata": {
    "id": "BMbjMy1FXjXf"
   },
   "outputs": [],
   "source": [
    "overall = gs.groupby(['OPER_DT']).mean()\n",
    "overall19 = overall.query('OPER_DT < 2020')\n",
    "overall20 = overall.query('OPER_DT > 2020')"
   ]
  },
  {
   "cell_type": "code",
   "execution_count": null,
   "metadata": {
    "id": "DCNDqSu4eA33"
   },
   "outputs": [],
   "source": [
    "overall19.index = overall19.index.strftime('%m-%d')\n",
    "overall20.index = overall20.index.strftime('%m-%d')"
   ]
  },
  {
   "cell_type": "code",
   "execution_count": null,
   "metadata": {
    "id": "yQh6XREQg4Vn"
   },
   "outputs": [],
   "source": [
    "overall20=overall20.drop('02-29')"
   ]
  },
  {
   "cell_type": "code",
   "execution_count": null,
   "metadata": {
    "colab": {
     "base_uri": "https://localhost:8080/",
     "height": 69
    },
    "id": "BRpcwA74718m",
    "outputId": "31f74db8-94bb-4223-903d-7fb3d0bbe61f"
   },
   "outputs": [
    {
     "data": {
      "text/plain": [
       "Index(['AMT_IND', 'LCLS_10_P', 'LCLS_20_P', 'LCLS_30_P', 'LCLS_40_P',\n",
       "       'LCLS_50_P', 'LCLS_60_P', 'LCLS_70_P', 'LCLS_80_P'],\n",
       "      dtype='object')"
      ]
     },
     "execution_count": 9,
     "metadata": {
      "tags": []
     },
     "output_type": "execute_result"
    }
   ],
   "source": [
    "overall20.columns"
   ]
  },
  {
   "cell_type": "code",
   "execution_count": null,
   "metadata": {},
   "outputs": [],
   "source": [
    "df = pd.concat([overall19,overall20],axis=0)\n",
    "# df.max()"
   ]
  },
  {
   "cell_type": "code",
   "execution_count": null,
   "metadata": {
    "id": "N-C-m7CpgnPE"
   },
   "outputs": [],
   "source": [
    "def v_lines(min):\n",
    "    plt.axvline(x='02-18',color='red')\n",
    "    plt.text('02-18',min, '신천지', ha='center', va='center',rotation='horizontal', backgroundcolor='white') \n",
    "    plt.axvline(x='03-09',color='red')\n",
    "    plt.text('03-09',min, '마스크 5부제', ha='center', va='center',rotation='horizontal', backgroundcolor='white')\n",
    "    plt.axvline(x='03-22',color='red')\n",
    "    plt.text('03-22',min, '사회적 거리두기', ha='center', va='center',rotation='horizontal', backgroundcolor='white')\n",
    "    plt.axvline(x='04-06',color='red')\n",
    "    plt.text('04-06',min, '고강도 사회적 거리두기', ha='center', va='center',rotation='horizontal', backgroundcolor='white')\n",
    "    plt.axvline(x='05-06',color='red')\n",
    "    plt.text('05-06',min, '생활속 거리두기', ha='center', va='center',rotation='horizontal', backgroundcolor='white')"
   ]
  },
  {
   "cell_type": "code",
   "execution_count": null,
   "metadata": {},
   "outputs": [],
   "source": [
    "cat= ['매출지수','식사','간식','음료','홈/리빙','헬스/뷰티','취미/여가활동','사회활동','임신/육아']\n",
    "colors = ['#1f77b4', '#ff7f0e', '#2ca02c', '#d62728', '#9467bd', '#8c564b', '#e377c2', '#7f7f7f','#1f77b4']\n",
    "date = []\n",
    "for i in range(8):\n",
    "  df = pd.concat([overall19,overall20],axis=0)\n",
    "  #mid = (overall19.iloc[:,i].min() + overall19.iloc[:,i].max())/2 \n",
    "  min = df.iloc[:,i].min()\n",
    "  max = df.iloc[:,i].max()\n",
    "\n",
    "  plt.figure(figsize=(20, 6))\n",
    "  plt.ylim(min-min*0.1,max+max*0.1)\n",
    "  plt.tick_params(axis='x',bottom=False,labelbottom=False)\n",
    "  line1,=plt.plot(overall19.iloc[:,i],linestyle='--', marker='o',color = '#7f7f7f')\n",
    "  line2,=plt.plot(overall20.iloc[:,i],marker='o',color = '#1f77b4')\n",
    "      \n",
    "  #v_lines(min)\n",
    "      \n",
    "  plt.legend(handles=(line1,line2),labels=('2019','2020'),fontsize=12) \n",
    "\n",
    "  plt.title(cat[i],fontsize=20)\n",
    "  plt.show()"
   ]
  },
  {
   "cell_type": "markdown",
   "metadata": {
    "id": "AzdXcAah6wxm"
   },
   "source": [
    "# **2. 품목별 판매지수(매출액) 비교**"
   ]
  },
  {
   "cell_type": "code",
   "execution_count": null,
   "metadata": {
    "id": "qmkCpD8sk7EE"
   },
   "outputs": [],
   "source": [
    "overall['AMT_IND_NEW']=overall['AMT_IND']*25359626.37"
   ]
  },
  {
   "cell_type": "code",
   "execution_count": null,
   "metadata": {
    "id": "vj2lgNkyQwms"
   },
   "outputs": [],
   "source": [
    "overall['LCLS_10_P_NEW']=overall['AMT_IND_NEW']*overall['LCLS_10_P']/100\n",
    "overall['LCLS_20_P_NEW']=overall['AMT_IND_NEW']*overall['LCLS_20_P']/100\n",
    "overall['LCLS_30_P_NEW']=overall['AMT_IND_NEW']*overall['LCLS_30_P']/100\n",
    "overall['LCLS_40_P_NEW']=overall['AMT_IND_NEW']*overall['LCLS_40_P']/100\n",
    "overall['LCLS_50_P_NEW']=overall['AMT_IND_NEW']*overall['LCLS_50_P']/100\n",
    "overall['LCLS_60_P_NEW']=overall['AMT_IND_NEW']*overall['LCLS_60_P']/100\n",
    "overall['LCLS_70_P_NEW']=overall['AMT_IND_NEW']*overall['LCLS_70_P']/100\n",
    "overall['LCLS_80_P_NEW']=overall['AMT_IND_NEW']*overall['LCLS_80_P']/100"
   ]
  },
  {
   "cell_type": "code",
   "execution_count": null,
   "metadata": {
    "colab": {
     "base_uri": "https://localhost:8080/",
     "height": 104
    },
    "id": "PaTkNFtNmDzU",
    "outputId": "f3053c81-99ed-4068-ed2d-6b95c8b2ec5c"
   },
   "outputs": [
    {
     "data": {
      "text/plain": [
       "Index(['AMT_IND', 'LCLS_10_P', 'LCLS_20_P', 'LCLS_30_P', 'LCLS_40_P',\n",
       "       'LCLS_50_P', 'LCLS_60_P', 'LCLS_70_P', 'LCLS_80_P', 'AMT_IND_NEW',\n",
       "       'LCLS_10_P_NEW', 'LCLS_20_P_NEW', 'LCLS_30_P_NEW', 'LCLS_40_P_NEW',\n",
       "       'LCLS_50_P_NEW', 'LCLS_60_P_NEW', 'LCLS_70_P_NEW', 'LCLS_80_P_NEW'],\n",
       "      dtype='object')"
      ]
     },
     "execution_count": 15,
     "metadata": {
      "tags": []
     },
     "output_type": "execute_result"
    }
   ],
   "source": [
    "overall.columns"
   ]
  },
  {
   "cell_type": "code",
   "execution_count": null,
   "metadata": {
    "id": "l6rrrfdnnHaF"
   },
   "outputs": [],
   "source": [
    "overall19 = overall.query('OPER_DT < 2020')\n",
    "overall20 = overall.query('OPER_DT > 2020')\n",
    "overall19.index = overall19.index.strftime('%m-%d')\n",
    "overall20.index = overall20.index.strftime('%m-%d')\n",
    "overall20=overall20.drop('02-29')"
   ]
  },
  {
   "cell_type": "code",
   "execution_count": null,
   "metadata": {},
   "outputs": [],
   "source": [
    "cat= ['매출지수','식사','간식','음료','홈/리빙','헬스/뷰티','취미/여가활동','사회활동','임신/육아']\n",
    "colors = ['#1f77b4', '#ff7f0e', '#2ca02c', '#d62728', '#9467bd', '#8c564b', '#e377c2', '#7f7f7f','#1f77b4']\n",
    "date = []\n",
    "for i in range(9,18):\n",
    "  df = pd.concat([overall19,overall20],axis=0)\n",
    "  #mid = (overall19.iloc[:,i].min() + overall19.iloc[:,i].max())/2 \n",
    "  min = df.iloc[:,i].min()\n",
    "  max = df.iloc[:,i].max()\n",
    "\n",
    "  plt.figure(figsize=(20, 6))\n",
    "  plt.ylim(min-min*0.1,max+max*0.1)\n",
    "  plt.tick_params(axis='x',bottom=False,labelbottom=False)\n",
    "  line1,=plt.plot(overall19.iloc[:,i],linestyle='--', marker='o',color = '#7f7f7f')\n",
    "  line2,=plt.plot(overall20.iloc[:,i],marker='o',color = '#1f77b4')\n",
    "      \n",
    "  #v_lines(min)\n",
    "      \n",
    "  plt.legend(handles=(line1,line2),labels=('2019','2020'),fontsize=13) \n",
    "\n",
    "  plt.title(cat[i-9],fontsize=20)\n",
    "  plt.show()"
   ]
  },
  {
   "cell_type": "markdown",
   "metadata": {
    "id": "wP4SWgmgA-gf"
   },
   "source": [
    "# **3. 품목별 판매지수 증감률 주별 비교**"
   ]
  },
  {
   "cell_type": "code",
   "execution_count": null,
   "metadata": {
    "id": "NL-ZrprjAJe2"
   },
   "outputs": [],
   "source": [
    "gu = pd.read_excel('./gdrive/My Drive/빅콘 대상팀/data/지역데이터/구_동.xlsx')\n",
    "gs = pd.read_csv('./gdrive/My Drive/빅콘 대상팀/data/all_amt.csv',parse_dates=['STD_YMD'])\n",
    "gs = pd.merge(gu,gs,on='HDONG_NM').query('HDONG_GU == \"서울 중구\" or HDONG_GU == \"서울 노원구\"')\n",
    "gs = gs.groupby(['STD_YMD']).mean()\n",
    "gs = gs.filter(like='GS')\n",
    "gs.columns = list(map(lambda x: x[3:],gs.columns.values))"
   ]
  },
  {
   "cell_type": "code",
   "execution_count": null,
   "metadata": {
    "id": "SisQT4WkAKn6"
   },
   "outputs": [],
   "source": [
    "def growth_week(data):\n",
    "  sc_cnt_sum_19 =data[data['STD_YMD'] < '2020']\n",
    "  sc_cnt_sum_20 =data[data['STD_YMD'] > '2020']\n",
    "\n",
    "  sc_cnt_sum_20.index = sc_cnt_sum_20['STD_YMD']\n",
    "  del sc_cnt_sum_20['STD_YMD']\n",
    "  sc_cnt_sum_19.index = sc_cnt_sum_19['STD_YMD']\n",
    "  del sc_cnt_sum_19['STD_YMD']\n",
    "\n",
    "  # 요일을 맞춰주기 위한 작업\n",
    "\n",
    "  #20/02/01 = 일요일\n",
    "  #19/02/01 = 토요일 ==> 19년 토요일 데이터 삭제\n",
    "  sc_cnt_sum_19=sc_cnt_sum_19.iloc[1:,]\n",
    "\n",
    "  #설날 보정\n",
    "  columns = sc_cnt_sum_19.columns\n",
    "  index = sc_cnt_sum_19.index\n",
    "\n",
    "  sc_cnt_sum_19 = np.array(sc_cnt_sum_19)\n",
    "  sc_cnt_sum_19[2:5,:] = (sc_cnt_sum_19[9:12,:]+sc_cnt_sum_19[16:19,:])/2\n",
    "  sc_cnt_sum_19 = pd.DataFrame(sc_cnt_sum_19)\n",
    "  sc_cnt_sum_19.columns = columns\n",
    "  sc_cnt_sum_19.index = index\n",
    "\n",
    "  sc_cnt_sum_20 = sc_cnt_sum_20.iloc[:-2,:]\n",
    "\n",
    "  sc_cnt_sum_19= sc_cnt_sum_19.resample('W-Fri').mean().reset_index()\n",
    "  sc_cnt_sum_20= sc_cnt_sum_20.resample('W-Fri').mean().reset_index()\n",
    "\n",
    "  del sc_cnt_sum_19['STD_YMD']\n",
    "  del sc_cnt_sum_20['STD_YMD']\n",
    "\n",
    "  sc_cnt_sum_per= (sc_cnt_sum_20-sc_cnt_sum_19)/sc_cnt_sum_19*100\n",
    "\n",
    "  sc_cnt_sum_per.index = ['2-1', '2-2', '2-3', '2-4', '3-1', '3-2', '3-3', '3-4', '4-1', '4-2', '4-3', '4-4','4-5','5-1', '5-2', '5-3', '5-4']\n",
    "\n",
    "  return sc_cnt_sum_per\n"
   ]
  },
  {
   "cell_type": "code",
   "execution_count": null,
   "metadata": {
    "id": "pKCDLPyiAPf5"
   },
   "outputs": [],
   "source": [
    "def v_lines(min,mycolor):\n",
    "  #plt.axhline(y=0,color=mycolor,linestyle='--')\n",
    "  plt.axvline(x='2-3',color=mycolor,linestyle='--',linewidth=1)\n",
    "  plt.text('2-3',min,'신천지', ha='center', va='center',rotation='horizontal', backgroundcolor='white')\n",
    "  plt.axvline(x='3-2',color=mycolor,linestyle='--',linewidth=1)\n",
    "  plt.text('3-2',min, '마스크 5부제', ha='center', va='center',rotation='horizontal', backgroundcolor='white')\n",
    "  plt.axvline(x='3-4', color=mycolor,linestyle='--',linewidth=1)\n",
    "  plt.text('3-4',min, '사회적 거리두기', ha='center', va='center',rotation='horizontal', backgroundcolor='white')\n",
    "  plt.axvline(x='4-2', color=mycolor,linestyle='--',linewidth=1)\n",
    "  plt.text('4-2', min, '고강도 사회적 거리두기', ha='center', va='center',rotation='horizontal', backgroundcolor='white')\n",
    "  plt.axvline(x='5-1', color=mycolor,linestyle='--',linewidth=1)\n",
    "  plt.text('5-1',min,'생활속 거리두기', ha='center', va='center',rotation='horizontal', backgroundcolor='white')\n"
   ]
  },
  {
   "cell_type": "code",
   "execution_count": null,
   "metadata": {
    "id": "78mko3KGAQ_K"
   },
   "outputs": [],
   "source": [
    "def plot(data, cat,colors = None):\n",
    "  category =  ['매출지수','식사','간식','마실거리','홈/리빙','헬스/뷰티','취미/여가활동','사회활동','임신육아']\n",
    "  min = data.min().min()\n",
    "  max = data.max().max()\n",
    "\n",
    "  plt.figure(figsize=(20, 6))\n",
    "  plt.ylim(min-20,max+15)\n",
    "\n",
    "  notcat = [i for j,i in enumerate(category) if i not in cat]\n",
    "  for nc in notcat:\n",
    "    plt.plot(data.loc[:,nc],color='lightgray')\n",
    "\n",
    "  if colors == None:\n",
    "    for i,c in enumerate(cat):\n",
    "      plt.plot(data.loc[:,c],label=c,marker='o')\n",
    "  else:\n",
    "    for i,c in enumerate(cat):\n",
    "      plt.plot(data.loc[:,c],label=c,marker='o',color=colors[i])    \n",
    "  \n",
    "  v_lines(min-10,'gray')\n",
    "  plt.xticks(fontsize=13)\n",
    "  plt.title('GS리테일 품목별 주차별 평균 증감률(%) 비교',fontsize=20)\n",
    "\n",
    "  plt.legend(loc='lower center',bbox_to_anchor=(0.5, 0.9),ncol=len(cat),fontsize=12)\n",
    "\n",
    "  plt.show()      "
   ]
  },
  {
   "cell_type": "code",
   "execution_count": null,
   "metadata": {
    "id": "HUMes1k3AMTI"
   },
   "outputs": [],
   "source": [
    "gs_per = growth_week(gs.reset_index())"
   ]
  },
  {
   "cell_type": "code",
   "execution_count": null,
   "metadata": {},
   "outputs": [],
   "source": [
    "cat = ['헬스/뷰티','임신육아']\n",
    "plot(gs_per,cat)\n",
    "\n",
    "cat = ['식사','마실거리','간식','홈/리빙','취미/여가활동','사회활동']\n",
    "colors =  ['#011f4b','#3b7dd8','#009688','#96ceb4','#8dbdff','#bfd6f6']\n",
    "plot(gs_per,cat,colors=colors)"
   ]
  },
  {
   "cell_type": "markdown",
   "metadata": {
    "id": "5oNErQ_oDcg5"
   },
   "source": [
    "# **4. 클러스터별 판매지수 비교**"
   ]
  },
  {
   "cell_type": "code",
   "execution_count": null,
   "metadata": {
    "id": "hR_faTrSC-E5"
   },
   "outputs": [],
   "source": [
    "gs = pd.read_csv('./gdrive/My Drive/빅콘 대상팀/data/GS/GS.csv',  encoding='cp949',parse_dates=['OPER_DT'])\n",
    "\n",
    "for i in range(5,13):\n",
    "  gs.iloc[:,i] = gs.iloc[:,i].str.replace('%','').astype(float)"
   ]
  },
  {
   "cell_type": "code",
   "execution_count": null,
   "metadata": {
    "id": "PIbsyBx2C-2J"
   },
   "outputs": [],
   "source": [
    "gs_seoul = gs[gs.PVN == '서울특별시']\n",
    "gs_seoul.columns = ['날짜', '시', '구', '동', '매출지수', '식사', '간식', '마실거리', '홈&리빙', '헬스&뷰티', '취미&여가활동', '사회활동', '임신/육아']\n",
    "\n",
    "dong = pd.read_csv('./gdrive/My Drive/빅콘 대상팀/data/지역데이터/전체동별클러스터링.csv', sep = ',', encoding='utf-8')\n",
    "gs_seoul = pd.merge(gs_seoul, dong, left_on='동', right_on='HDONG_NM')\n",
    "gs_seoul = gs_seoul.drop(['HDONG_NM', 'SIDO_NM'], axis=1)\n",
    "gs_seoul['년도'] = (gs_seoul['날짜']).dt.year\n",
    "gs_seoul_am = gs_seoul.copy()"
   ]
  },
  {
   "cell_type": "code",
   "execution_count": null,
   "metadata": {
    "id": "87jD779RDIm9"
   },
   "outputs": [],
   "source": [
    "for i in range(5, 13):\n",
    "  gs_seoul_am.iloc[:, i] = gs_seoul.iloc[:, 4] * gs_seoul.iloc[:, i]"
   ]
  },
  {
   "cell_type": "code",
   "execution_count": null,
   "metadata": {
    "id": "NeTOS6TXDJpv"
   },
   "outputs": [],
   "source": [
    "gs_seoul = gs_seoul.groupby(['CLUS_NM', '년도']).mean()\n",
    "gs_seoul_am = gs_seoul_am.groupby(['CLUS_NM', '년도']).mean()\n",
    "gs_seoul = gs_seoul.reset_index()\n",
    "gs_seoul_am = gs_seoul_am.reset_index()\n",
    "gs_seoul = gs_seoul.rename(columns={'CLUS_NM':'클러스터'})\n",
    "gs_seoul_am = gs_seoul_am.rename(columns={'CLUS_NM':'클러스터'})"
   ]
  },
  {
   "cell_type": "code",
   "execution_count": null,
   "metadata": {},
   "outputs": [],
   "source": [
    "plt.figure(figsize=(8,6))\n",
    "clrs = []\n",
    "ax = sns.barplot(x='클러스터', y='매출지수', hue='년도', data=gs_seoul, palette='Greys')\n",
    "plt.title('클러스터별 매출지수 비교', fontsize=20)\n",
    "plt.xticks(fontsize=13)\n",
    "plt.xlabel('')\n",
    "plt.ylabel('')\n",
    "\n",
    "for bar in ax.patches:\n",
    "    if bar.get_xy() == (2,0):\n",
    "        bar.set_color('crimson')"
   ]
  },
  {
   "cell_type": "markdown",
   "metadata": {
    "id": "WWfrts0hEObp"
   },
   "source": [
    "# **5. 클러스터별 판매 비율 비교**"
   ]
  },
  {
   "cell_type": "code",
   "execution_count": null,
   "metadata": {
    "id": "5_OQrrmMDQc2"
   },
   "outputs": [],
   "source": [
    "gs_seoul['기타'] = np.sum(gs_seoul.iloc[:,8:], axis=1)\n",
    "gs_seoul = gs_seoul.drop(['취미&여가활동', '사회활동', '임신/육아'], axis=1)"
   ]
  },
  {
   "cell_type": "code",
   "execution_count": null,
   "metadata": {},
   "outputs": [],
   "source": [
    "plt.figure(figsize=(6, 8))\n",
    "#plt.subplot(121)\n",
    "#explode = (0.05, 0.05, 0.05, 0.05, 0.05, 0.05)\n",
    "#gs_seoul.iloc[4, 3:].plot.pie(autopct='%0.1f%%', shadow=True, explode=explode, cmap=plt.cm.Blues)\n",
    "#plt.title('2019년'.format(gs_seoul.클러스터[4]), fontsize=16)\n",
    "#plt.ylabel('')\n",
    "\n",
    "#plt.subplot(122)\n",
    "explode = (0.05, 0.05, 0.05, 0.05, 0.05, 0.05)\n",
    "gs_seoul.iloc[5, 3:].plot.pie(autopct='%0.1f%%', shadow=True, explode=explode, cmap=plt.cm.Blues)\n",
    "plt.title('2020년 중구 빌딩숲 판매 비율', fontsize=20)\n",
    "plt.ylabel('')"
   ]
  },
  {
   "cell_type": "code",
   "execution_count": null,
   "metadata": {
    "id": "qFQSN-DtEXR4"
   },
   "outputs": [],
   "source": []
  }
 ],
 "metadata": {
  "colab": {
   "collapsed_sections": [],
   "name": "[EDA5] GS  ",
   "provenance": [],
   "toc_visible": true
  },
  "kernelspec": {
   "display_name": "Python 3",
   "language": "python",
   "name": "python3"
  },
  "language_info": {
   "codemirror_mode": {
    "name": "ipython",
    "version": 3
   },
   "file_extension": ".py",
   "mimetype": "text/x-python",
   "name": "python",
   "nbconvert_exporter": "python",
   "pygments_lexer": "ipython3",
   "version": "3.6.10"
  }
 },
 "nbformat": 4,
 "nbformat_minor": 1
}