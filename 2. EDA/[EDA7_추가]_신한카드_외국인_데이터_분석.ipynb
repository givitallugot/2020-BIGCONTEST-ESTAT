{
 "cells": [
  {
   "cell_type": "code",
   "execution_count": null,
   "metadata": {
    "id": "XqVsKUKuQAkG"
   },
   "outputs": [],
   "source": [
    "# !sudo apt-get install -y fonts-nanum\n",
    "# !sudo fc-cache -fv\n",
    "# !rm ~/.cache/matplotlib -rf"
   ]
  },
  {
   "cell_type": "code",
   "execution_count": null,
   "metadata": {
    "id": "MxRYYdB6QPC0"
   },
   "outputs": [],
   "source": [
    "# # Mount\n",
    "# from google.colab import drive\n",
    "# drive.mount('/content/gdrive')"
   ]
  },
  {
   "cell_type": "code",
   "execution_count": null,
   "metadata": {
    "colab": {
     "base_uri": "https://localhost:8080/",
     "height": 73
    },
    "id": "SCPY-bAPQSDR",
    "outputId": "d3ec2d15-1cd6-4894-df1f-179ce68b29e4"
   },
   "outputs": [
    {
     "name": "stderr",
     "output_type": "stream",
     "text": [
      "/usr/local/lib/python3.6/dist-packages/statsmodels/tools/_testing.py:19: FutureWarning: pandas.util.testing is deprecated. Use the functions in the public API at pandas.testing instead.\n",
      "  import pandas.util.testing as tm\n"
     ]
    }
   ],
   "source": [
    "# Import Library\n",
    "import numpy as np\n",
    "import pandas as pd\n",
    "import seaborn as sns\n",
    "import matplotlib.pyplot as plt\n",
    "import plotly.express as px\n",
    "import datetime as dt\n",
    "from sklearn.cluster import KMeans\n",
    "%matplotlib inline\n",
    "\n",
    "plt.rc('font', family='NanumBarunGothic')"
   ]
  },
  {
   "cell_type": "code",
   "execution_count": null,
   "metadata": {
    "id": "P15oASbPU-7Z"
   },
   "outputs": [],
   "source": [
    "scf = pd.read_csv('./gdrive/My Drive/빅콘 대상팀/data/SC/CARD_SPENDING_FOREIGNER.txt', sep='\\t', encoding='cp949')\n",
    "# scr = pd.read_csv('./gdrive/My Drive/빅콘 대상팀/data/SC/CARD_SPENDING_RESIDENT.txt', sep='\\t', encoding='cp949')\n",
    "\n",
    "dong = pd.read_csv('./gdrive/My Drive/빅콘 대상팀/data/지역데이터/전체동별클러스터링.csv', sep = ',', encoding='utf-8')\n",
    "dong_cd = pd.read_csv('./gdrive/My Drive/빅콘 대상팀/data/SC/SC동코드변환.csv', sep = ',', encoding='utf-8')"
   ]
  },
  {
   "cell_type": "code",
   "execution_count": null,
   "metadata": {
    "id": "69RZbb-D3AuH"
   },
   "outputs": [],
   "source": [
    "# SCR = scr\n",
    "SCF = scf"
   ]
  },
  {
   "cell_type": "markdown",
   "metadata": {
    "id": "Dhcyfp9mVfA5"
   },
   "source": [
    "# **신한카드 외국인 데이터 분석**"
   ]
  },
  {
   "cell_type": "code",
   "execution_count": null,
   "metadata": {
    "id": "jLwou6tVo1Ds"
   },
   "outputs": [],
   "source": [
    "# 코드 -> 이름으로 바꾸는 함수 : name_a_to_b\n",
    "def name_a_to_b(data,col,a,b):\n",
    "  data = data.replace({col:a}, {col:b}, inplace=True)\n",
    "  return(data)\n",
    "\n",
    "# 카테고리 코드 -> 이름\n",
    "cat_code = [10,20,21,22,30,31,32,33,34,35,40,42,43,44,50,52,60,62,70,71,80,81,92]\n",
    "cat_name = ['숙박','레저용품','레저업소','문화취미','가구','전기','주방용구',\n",
    "            '연료판매','광학제품','가전','유통업','의복','직물','신변잡화','서적문구','사무통신',\n",
    "            '자동차판매','자동차정비','의료기관','보건위생','요식업소','음료식품','수리서비스']\n",
    "for i in range(len(cat_code)):\n",
    "  name_a_to_b(scf,'MCT_CAT_CD',cat_code[i],cat_name[i])\n",
    "\n",
    "# 시구 및 동 이름 추가\n",
    "scf = pd.merge(scf, dong_cd, left_on=['GU_CD', 'DONG_CD'], right_on=['GU_CD', 'HDONG_CD'])\n",
    "scf = scf.drop(['GU_CD', 'DONG_CD', 'HDONG_CD'], axis=1)\n",
    "\n",
    "# 날짜 형식으로 변환(int->str->date)\n",
    "scf.STD_DD = pd.to_datetime(scf['STD_DD'].astype(str), format='%Y%m%d',infer_datetime_format=True)\n",
    "\n",
    "# 클러스터링 추가\n",
    "scf = pd.merge(scf, dong, left_on='HDONG_NM', right_on='HDONG_NM')\n",
    "\n",
    "scf = scf[scf['SIDO_NM'] == '서울']\n",
    "SCF = scf"
   ]
  },
  {
   "cell_type": "code",
   "execution_count": null,
   "metadata": {},
   "outputs": [],
   "source": [
    "scf_cat = scf.groupby(['STD_DD','MCT_CAT_CD']).sum().unstack().fillna(0)"
   ]
  },
  {
   "cell_type": "code",
   "execution_count": null,
   "metadata": {
    "id": "AddaUMH9rRcb"
   },
   "outputs": [],
   "source": [
    "# 설날 2019 2월 4,5,6일 보정\n",
    "scf_cat = scf.groupby(['STD_DD','MCT_CAT_CD']).sum().fillna(0).unstack()\n",
    "for i in ['USE_CNT','USE_AMT']:\n",
    "  scf_cat.xs(i,axis=1,level=0).loc['2019-02-04'] = (scf_cat.xs(i,axis=1,level=0).loc['2019-02-11']+scf_cat.xs(i,axis=1,level=0).loc['2019-02-18'])/2\n",
    "  scf_cat.xs(i,axis=1,level=0).loc['2019-02-05'] = (scf_cat.xs(i,axis=1,level=0).loc['2019-02-12']+scf_cat.xs(i,axis=1,level=0).loc['2019-02-19'])/2\n",
    "  scf_cat.xs(i,axis=1,level=0).loc['2019-02-06'] = (scf_cat.xs(i,axis=1,level=0).loc['2019-02-13']+scf_cat.xs(i,axis=1,level=0).loc['2019-02-20'])/2\n",
    "  \n",
    "scf_cat = scf_cat.reset_index(drop=False)\n",
    "scf_cat = scf_cat[scf_cat.STD_DD != '2019-02-01'] ; scf_cat = scf_cat[scf_cat.STD_DD != '2020-05-30'] ; scf_cat = scf_cat[scf_cat.STD_DD != '2020-05-31'] \n",
    "scf_cat = scf_cat.set_index('STD_DD').fillna(0)\n"
   ]
  },
  {
   "cell_type": "code",
   "execution_count": null,
   "metadata": {
    "colab": {
     "base_uri": "https://localhost:8080/",
     "height": 53
    },
    "id": "V896kTIJY-cc",
    "outputId": "6161e91e-f556-40c3-e172-7206901bdd6d"
   },
   "outputs": [
    {
     "name": "stdout",
     "output_type": "stream",
     "text": [
      "Index(['유통업', '숙박', '요식업소', '보건위생', '의복'], dtype='object', name='MCT_CAT_CD')\n",
      "Index(['유통업', '요식업소', '숙박', '보건위생', '의복'], dtype='object', name='MCT_CAT_CD')\n"
     ]
    }
   ],
   "source": [
    "scf_cat_list = list(scf_cat.xs('USE_AMT', axis=1, level=0).sum().sort_values(ascending=False).index)#.reset_index()\n",
    "scf_cat_amt =  scf_cat.xs('USE_AMT', axis=1, level=0).reindex(columns=scf_cat_list)\n",
    "scf_cat_cnt =  scf_cat.xs('USE_CNT', axis=1, level=0).reindex(columns=scf_cat_list)\n",
    "\n",
    "scf_cat_amt_list = scf_cat.xs('USE_AMT', axis=1, level=0).sum().sort_values(ascending=False).index\n",
    "print(scf_cat_amt_list[:5])\n",
    "scf_cat_cnt_list = scf_cat.xs('USE_CNT', axis=1, level=0).sum().sort_values(ascending=False).index\n",
    "print(scf_cat_cnt_list[:5])"
   ]
  },
  {
   "cell_type": "code",
   "execution_count": null,
   "metadata": {
    "colab": {
     "base_uri": "https://localhost:8080/",
     "height": 125
    },
    "id": "ptTCbS672Jsf",
    "outputId": "d504cbca-7f15-4cbb-8303-0db668eb9de7"
   },
   "outputs": [
    {
     "name": "stdout",
     "output_type": "stream",
     "text": [
      "Index(['유통업', '숙박', '요식업소', '보건위생', '의복', '레저용품', '자동차정비', '의료기관', '신변잡화',\n",
      "       '음료식품'],\n",
      "      dtype='object', name='MCT_CAT_CD')\n",
      "Index(['유통업', '요식업소', '숙박', '보건위생', '의복', '자동차정비', '레저용품', '신변잡화', '음료식품',\n",
      "       '서적문구'],\n",
      "      dtype='object', name='MCT_CAT_CD')\n"
     ]
    }
   ],
   "source": [
    "print(scf_cat_amt_list[:10])\n",
    "print(scf_cat_cnt_list[:10])"
   ]
  },
  {
   "cell_type": "code",
   "execution_count": null,
   "metadata": {
    "colab": {
     "base_uri": "https://localhost:8080/",
     "height": 143
    },
    "id": "Un0RHZ6rwXZI",
    "outputId": "057befe7-5cc7-424b-df32-9afec1191438"
   },
   "outputs": [
    {
     "name": "stdout",
     "output_type": "stream",
     "text": [
      "['유통업','숙박','요식업소','보건위생']\n",
      "외국인 이용금액 비율 0.7953855711320703\n",
      "외국인 이용건수 비율 0.7085911788734396\n"
     ]
    },
    {
     "name": "stderr",
     "output_type": "stream",
     "text": [
      "/usr/local/lib/python3.6/dist-packages/pandas/core/generic.py:3936: PerformanceWarning:\n",
      "\n",
      "dropping on a non-lexsorted multi-index without a level parameter may impact performance.\n",
      "\n"
     ]
    }
   ],
   "source": [
    "print('[\\'유통업\\',\\'숙박\\',\\'요식업소\\',\\'보건위생\\']')\n",
    "print('외국인 이용금액 비율',scf_cat.reset_index().drop('STD_DD',axis=1).sum().USE_AMT[['유통업','숙박','요식업소']].sum() / scf_cat.reset_index().drop('STD_DD',axis=1).sum().USE_AMT.sum())\n",
    "print('외국인 이용건수 비율',scf_cat.reset_index().drop('STD_DD',axis=1).sum().USE_CNT[['유통업','숙박','요식업소']].sum() / scf_cat.reset_index().drop('STD_DD',axis=1).sum().USE_CNT.sum())"
   ]
  },
  {
   "cell_type": "code",
   "execution_count": null,
   "metadata": {
    "colab": {
     "base_uri": "https://localhost:8080/",
     "height": 125
    },
    "id": "0j_IYOF82gxB",
    "outputId": "62fa0042-8d33-40e1-9333-784c1e0b2fe6"
   },
   "outputs": [
    {
     "name": "stdout",
     "output_type": "stream",
     "text": [
      "외국인 이용금액 비율 0.7953855711320703\n",
      "외국인 이용건수 비율 0.7085911788734396\n"
     ]
    },
    {
     "name": "stderr",
     "output_type": "stream",
     "text": [
      "/usr/local/lib/python3.6/dist-packages/pandas/core/generic.py:3936: PerformanceWarning:\n",
      "\n",
      "dropping on a non-lexsorted multi-index without a level parameter may impact performance.\n",
      "\n"
     ]
    }
   ],
   "source": [
    "# ['유통업', '숙박', '요식업소', '보건위생', '의복', '레저용품', '자동차정비', '의료기관', '신변잡화','음료식품']\n",
    "print('외국인 이용금액 비율',scf_cat.reset_index().drop('STD_DD',axis=1).sum().USE_AMT[['유통업', '숙박', '요식업소']].sum() / scf_cat.reset_index().drop('STD_DD',axis=1).sum().USE_AMT.sum())\n",
    "print('외국인 이용건수 비율',scf_cat.reset_index().drop('STD_DD',axis=1).sum().USE_CNT[['유통업', '숙박', '요식업소']].sum() / scf_cat.reset_index().drop('STD_DD',axis=1).sum().USE_CNT.sum())"
   ]
  },
  {
   "cell_type": "code",
   "execution_count": null,
   "metadata": {},
   "outputs": [],
   "source": [
    "scf_cat_g = scf_cat.unstack().reset_index().rename(columns={'level_0':'USE',0:'value'})\n",
    "scf_cat_g = scf_cat_g.query(\"MCT_CAT_CD in ['유통업', '숙박', '요식업소', '보건위생', '의복']\").groupby(['STD_DD','USE','MCT_CAT_CD']).sum().unstack().droplevel(0,axis=1).reindex(columns=['유통업', '숙박', '요식업소', '보건위생', '의복']).unstack().swaplevel(0,1,1).reset_index()\n",
    "scf_cat_g['year'] = scf_cat_g.STD_DD.dt.year\n",
    "scf_cat_g = scf_cat_g.groupby(['year']).sum().unstack().groupby(['year','MCT_CAT_CD','USE']).sum().unstack().unstack()"
   ]
  },
  {
   "cell_type": "code",
   "execution_count": null,
   "metadata": {},
   "outputs": [],
   "source": [
    "scf_cat19 = scf_cat.loc['2019-02-01':'2019-05-31',:]\n",
    "scf_cat20 = scf_cat.loc['2020-02-01':'2020-05-31',:]\n",
    "#증감률\n",
    "scf_cat_gr = pd.DataFrame((scf_cat20.sum() - scf_cat19.sum())/scf_cat19.sum()*100).rename(columns ={0:'증감률'}).T\n",
    "\n",
    "# 2019+2020+증감률\n",
    "scf_cat_bar = scf_cat_g.T.reset_index().merge(scf_cat_gr.T.reset_index(),left_on=['USE','MCT_CAT_CD'],right_on=['level_0','MCT_CAT_CD']).drop('level_0',axis=1).set_index(['USE','MCT_CAT_CD'])"
   ]
  },
  {
   "cell_type": "code",
   "execution_count": null,
   "metadata": {
    "colab": {
     "base_uri": "https://localhost:8080/",
     "height": 53
    },
    "id": "3agQbHotJdT4",
    "outputId": "d4f6997f-b83a-4db4-998a-7ca0b7e22c8f"
   },
   "outputs": [
    {
     "name": "stdout",
     "output_type": "stream",
     "text": [
      "외국인 이용금액 평균 감소율 :  -80.46891631446272\n",
      "외국인 이용건수 평균 감소율 :  -85.87987482847893\n"
     ]
    }
   ],
   "source": [
    "print('외국인 이용금액 평균 감소율 : ',scf_cat_gr.USE_CNT[['유통업', '숙박', '요식업소', '보건위생', '의복']].values.mean())\n",
    "print('외국인 이용건수 평균 감소율 : ',scf_cat_gr.USE_AMT[['유통업', '숙박', '요식업소', '보건위생', '의복']].values.mean())"
   ]
  },
  {
   "cell_type": "code",
   "execution_count": null,
   "metadata": {},
   "outputs": [],
   "source": [
    "scf_cat_bar_amt = scf_cat_bar.loc['USE_AMT'].reset_index()\n",
    "scf_cat_bar_cnt = scf_cat_bar.loc['USE_CNT'].sort_values(by=2019,ascending=False).reset_index()\n",
    "fig, (ax1, ax2) = plt.subplots(1,2, figsize=(20, 6))\n",
    "plt.subplots_adjust(wspace = 0.05) # hspace = 0.2\n",
    "\n",
    "ax1.bar(scf_cat_bar_amt.index-0.2, scf_cat_bar_amt.loc[:,2019], width=0.4, color = 'lightgrey', label=\"2019\")\n",
    "ax1.bar(scf_cat_bar_amt.index+0.2, scf_cat_bar_amt.loc[:,2020], width=0.4, label=\"2020\")\n",
    "for i in range(5):\n",
    "  # ax1.plot([i-0.2,i+0.2],scf_cat_bar_amt.iloc[i,1:3],marker='o',color='r',linestyle='--')\n",
    "  ax1.text(x=i-0.07,y=scf_cat_bar_amt.iloc[i,2]+10000000,s=(str(round(scf_cat_bar_amt.iloc[i,3],1))+'%'),color='r',fontsize=15)\n",
    "ax1.set_title('2019년 & 2020년 신한카드 외국인 카테고리별 이용금액(Top5)', fontsize=20)\n",
    "ax1.legend(prop={'size': 12})\n",
    "ax1.set_xticks(np.array(range(5)))\n",
    "ax1.set_xticklabels(list(scf_cat_bar_amt.MCT_CAT_CD),fontsize=12)\n",
    "\n",
    "\n",
    "ax2.bar(scf_cat_bar_cnt.index-0.2, scf_cat_bar_cnt.loc[:,2019], width=0.4, color = 'lightgrey', label=\"2019\")\n",
    "ax2.bar(scf_cat_bar_cnt.index+0.2, scf_cat_bar_cnt.loc[:,2020], width=0.4, label=\"2020\")\n",
    "for i in range(5):\n",
    "  # ax2.plot([i-0.2,i+0.2],scf_cat_bar_cnt.iloc[i,1:3],marker='o',color='r',linestyle='--')\n",
    "  ax2.text(x=i-0.07,y=scf_cat_bar_cnt.iloc[i,2]+40000,s=(str(round(scf_cat_bar_cnt.iloc[i,3],1))+'%'),color='r',fontsize=15)\n",
    "ax2.set_title('2019년 & 2020년 신한카드 외국인 카테고리별 이용건수(Top5)', fontsize=20)\n",
    "ax2.legend(prop={'size': 12})\n",
    "ax2.set_xticks(np.array(range(5)))\n",
    "ax2.set_xticklabels(list(scf_cat_bar_cnt.MCT_CAT_CD),fontsize=11)"
   ]
  },
  {
   "cell_type": "code",
   "execution_count": null,
   "metadata": {},
   "outputs": [],
   "source": [
    "# 전체 데이터 주차별 성장률 그래프\n",
    "\n",
    "fig, (ax1, ax2) = plt.subplots(1,2, figsize=(20, 6))\n",
    "plt.subplots_adjust(wspace = 0.05) # hspace = 0.2\n",
    "\n",
    "ax1.bar(scf_cat_gr.xs('USE_AMT',axis=1,level=0).T.sort_values(by='증감률',ascending=False).index,scf_cat_gr.xs('USE_AMT',axis=1,level=0).T.sort_values(by='증감률',ascending=False).증감률, width=0.9)\n",
    "ax1.set_xlim(-1,23)\n",
    "ax1.set_ylim(-95,1)\n",
    "ax1.set_xticklabels(scf_cat_gr.xs('USE_AMT',axis=1,level=0).T.sort_values(by='증감률',ascending=False).index,rotation=35)\n",
    "ax1.set_title('신한카드 외국인 카테고리별 이용금액 증감률(%)', fontsize=20)\n",
    "ax1.axhline(y=0, color='r',linestyle='--')\n",
    "\n",
    "ax2.bar(scf_cat_gr.xs('USE_CNT',axis=1,level=0).T.sort_values(by='증감률',ascending=False).index,scf_cat_gr.xs('USE_CNT',axis=1,level=0).T.sort_values(by='증감률',ascending=False).증감률, width=0.9)\n",
    "ax2.set_xlim(-1,23)\n",
    "ax2.set_ylim(-95,1)\n",
    "ax2.set_xticklabels(scf_cat_gr.xs('USE_CNT',axis=1,level=0).T.sort_values(by='증감률',ascending=False).index,rotation=35)\n",
    "ax2.axhline(y=0, color='r',linestyle='--')\n",
    "ax2.set_title('신한카드 외국인 카테고리별 이용건수 증감률(%)', fontsize=20)\n",
    "\n"
   ]
  }
 ],
 "metadata": {
  "accelerator": "GPU",
  "colab": {
   "collapsed_sections": [],
   "name": "[EDA7_추가] 신한카드 / 외국인 데이터 분석",
   "provenance": [],
   "toc_visible": true
  },
  "kernelspec": {
   "display_name": "Python 3",
   "language": "python",
   "name": "python3"
  },
  "language_info": {
   "codemirror_mode": {
    "name": "ipython",
    "version": 3
   },
   "file_extension": ".py",
   "mimetype": "text/x-python",
   "name": "python",
   "nbconvert_exporter": "python",
   "pygments_lexer": "ipython3",
   "version": "3.6.10"
  }
 },
 "nbformat": 4,
 "nbformat_minor": 1
}