{
 "cells": [
  {
   "cell_type": "code",
   "execution_count": null,
   "metadata": {
    "colab": {
     "base_uri": "https://localhost:8080/",
     "height": 34
    },
    "id": "FwFRnV1Oyjz6",
    "outputId": "e080703a-4aad-4103-b502-86c9464e22aa"
   },
   "outputs": [
    {
     "name": "stdout",
     "output_type": "stream",
     "text": [
      "Drive already mounted at /content/gdrive; to attempt to forcibly remount, call drive.mount(\"/content/gdrive\", force_remount=True).\n"
     ]
    }
   ],
   "source": [
    "from google.colab import drive\n",
    "drive.mount('/content/gdrive')"
   ]
  },
  {
   "cell_type": "code",
   "execution_count": null,
   "metadata": {
    "colab": {
     "base_uri": "https://localhost:8080/",
     "height": 72
    },
    "id": "9n0oBsBJ7LQR",
    "outputId": "d7f0cb8a-015e-4d38-e71c-35ddf3215e40"
   },
   "outputs": [
    {
     "name": "stderr",
     "output_type": "stream",
     "text": [
      "/usr/local/lib/python3.6/dist-packages/statsmodels/tools/_testing.py:19: FutureWarning: pandas.util.testing is deprecated. Use the functions in the public API at pandas.testing instead.\n",
      "  import pandas.util.testing as tm\n"
     ]
    }
   ],
   "source": [
    "import numpy as np\n",
    "import pandas as pd\n",
    "import matplotlib as mpl\n",
    "import matplotlib.pyplot as plt\n",
    "from matplotlib import font_manager, rc\n",
    "import seaborn as sns\n",
    "from sklearn.model_selection import train_test_split\n",
    "from datetime import datetime as dt\n",
    "import warnings\n",
    "import matplotlib.font_manager as fm\n",
    "%config InlineBackend.figure_format = 'retina'\n",
    "%matplotlib inline"
   ]
  },
  {
   "cell_type": "code",
   "execution_count": null,
   "metadata": {
    "id": "WPsqFuyz3ndR"
   },
   "outputs": [],
   "source": [
    "#!sudo apt-get install -y fonts-nanum\n",
    "#!sudo fc-cache -fv\n",
    "#!rm ~/.cache/matplotlib -rf\n",
    "\n",
    "plt.rc('font', family='NanumBarunGothic') "
   ]
  },
  {
   "cell_type": "markdown",
   "metadata": {
    "id": "sjS7ubtw8A74"
   },
   "source": [
    "# **1. GS25 판매지수, 4사데이터 시차분석**"
   ]
  },
  {
   "cell_type": "code",
   "execution_count": null,
   "metadata": {
    "id": "aFdHNh3M6nfg"
   },
   "outputs": [],
   "source": [
    "## GS_food\n",
    "gu = pd.read_excel('./gdrive/My Drive/빅콘 대상팀/data/지역데이터/구_동.xlsx')\n",
    "gs = pd.read_csv('./gdrive/My Drive/빅콘 대상팀/data/all_amt.csv',parse_dates=['STD_YMD'])\n",
    "#gs = gs.drop(['Unnamed: 0'],axis=1)\n",
    "gs = pd.concat([gs.iloc[:,[0,1]],gs.filter(like='GS')],axis=1)\n",
    "gs = pd.merge(gs,gu,on='HDONG_NM')\n",
    "gs['CITY'] = gs['HDONG_GU'].apply(lambda x: x[0:2])\n",
    "gs_seoul = gs.query('CITY == \"서울\" & STD_YMD > \"2020\"')"
   ]
  },
  {
   "cell_type": "code",
   "execution_count": null,
   "metadata": {
    "id": "Rcz0tXPS7xNL"
   },
   "outputs": [],
   "source": [
    "gs_food = pd.DataFrame(gs_seoul.groupby(['STD_YMD']).sum().iloc[:,1:4].diff().dropna())\n",
    "gs_food.columns = ['식사','간식','마실거리']"
   ]
  },
  {
   "cell_type": "code",
   "execution_count": null,
   "metadata": {
    "id": "CXQH95FwJH_q"
   },
   "outputs": [],
   "source": [
    "## GS ##\n",
    "gs_sell = pd.read_csv('./gdrive/My Drive/빅콘 대상팀/data/GS/GS.csv',  encoding='cp949',parse_dates=['OPER_DT'])\n",
    "for i in range(5,13):\n",
    "  gs_sell.iloc[:,i] = gs_sell.iloc[:,i].str.replace('%','').astype(float)\n",
    "\n",
    "dong_list = ['회현동','소공동','광희동','명동','필동','다산동','을지로동','중계1동','상계5동','월계1동','약수동','장충동','상계3.4동','하계1동','동화동']\n",
    "\n",
    "gs_sell = gs_sell[(gs_sell.OPER_DT >= '2020-02-01') & (gs_sell.PVN == '서울특별시') & (gs_sell.ADMD.isin(dong_list))]\n",
    "#gs['hpercent'] = gs.LCLS_60_P + gs.LCLS_70_P\n",
    "gs_sell = gs_sell[['OPER_DT', 'AMT_IND']]\n",
    "gs_sell = gs_sell.groupby('OPER_DT').sum()\n",
    "gs_sell = gs_sell.diff().dropna()\n",
    "\n",
    "## SC ##\n",
    "scr =  pd.read_csv('./gdrive/My Drive/빅콘 대상팀/data/SC/CARD_SPENDING_RESIDENT.txt', sep='\\t',parse_dates = ['STD_DD'])\n",
    "dong = pd.read_csv('./gdrive/My Drive/빅콘 대상팀/data/지역데이터/전체동별클러스터링.csv', sep = ',', encoding='UTF-8')\n",
    "dong_cd = pd.read_csv('./gdrive/My Drive/빅콘 대상팀/data/SC/SC동코드변환.csv', sep = ',',encoding='UTF-8')\n",
    "\n",
    "def name_a_to_b(data,col,a,b):\n",
    "  data = data.replace({col:a}, {col:b}, inplace=True)\n",
    "  return(data)\n",
    "\n",
    "scr = pd.merge(scr, dong_cd, left_on=['GU_CD', 'DONG_CD'], right_on=['GU_CD', 'HDONG_CD'])\n",
    "scr = scr.drop(['GU_CD', 'DONG_CD'], axis=1)\n",
    "\n",
    "# 카테고리 코드 -> 이름\n",
    "cat_code = [10,20,21,22,30,31,32,33,34,35,40,42,43,44,50,52,60,62,70,71,80,81,92]\n",
    "cat_name = ['숙박','레저용품','레저업소','문화취미','가구','전기','주방용구',\n",
    "            '연료판매','광학제품','가전','유통업','의복','직물','신변잡화','서적문구','사무통신',\n",
    "            '자동차판매','자동차정비','의료기관','보건위생','요식업소','음료식품','수리서비스']\n",
    "for i in range(len(cat_code)):\n",
    "  name_a_to_b(scr,'MCT_CAT_CD',cat_code[i],cat_name[i])\n",
    "\n",
    "scr = scr[(scr.HDONG_NM.isin(dong_list)) & (scr.MCT_CAT_CD == '유통업') & (scr.STD_DD >= '2020-02-01')]\n",
    "scr = scr.groupby(['STD_DD', 'HDONG_NM']).mean()\n",
    "scr = scr[['USE_AMT']]\n",
    "\n",
    "scr = scr.groupby(['STD_DD']).mean()\n",
    "scr = scr[['USE_AMT']]\n",
    "sc = scr.diff().dropna()\n",
    "\n",
    "## SK ##\n",
    "skt =  pd.read_csv('./gdrive/My Drive/빅콘 대상팀/data/SK/skt.csv', index_col='Unnamed: 0')\n",
    "ska = pd.read_csv('./gdrive/My Drive/빅콘 대상팀/data/SK/ska.csv', index_col='Unnamed: 0')\n",
    "\n",
    "skt_backup = skt\n",
    "skt['STD_YMD'] = pd.to_datetime(skt['STD_YMD'].astype(str), format='%Y%m%d') # dtype datetime으로 변경\n",
    "skt = skt.set_index(['HDONG_NM', 'STD_YMD']) # index로 설정\n",
    "\n",
    "ska_backup = ska\n",
    "ska['STD_YMD'] = pd.to_datetime(ska['STD_YMD'].astype(str), format='%Y%m%d') # dtype datetime으로 변경\n",
    "ska = ska.set_index(['HDONG_NM', 'STD_YMD']) # index로 설정\n",
    "\n",
    "sk = pd.concat([skt, ska.iloc[:,4:]], axis=1)\n",
    "\n",
    "skt = skt_backup\n",
    "skt = skt.set_index('STD_YMD', drop=False)\n",
    "\n",
    "ska = ska_backup\n",
    "ska = ska.set_index('STD_YMD', drop=False)\n",
    "\n",
    "# 구 정보 추가\n",
    "temp = skt['HDONG_CD'].astype(str).str.slice(start=0, stop=5)\n",
    "temp = temp.apply(lambda x: '서울 중구' if x == \"11140\" else x)\n",
    "temp = temp.apply(lambda x: '서울 노원구' if x == \"11350\" else x)\n",
    "temp = temp.apply(lambda x: '대구 중구' if x == \"27110\" else x)\n",
    "temp = temp.apply(lambda x: '대구 수성구' if x == \"27260\" else x)\n",
    "skt['HGU_NM'] = temp\n",
    "skt = skt[['STD_YMD', 'STD_YM', 'HGU_NM', 'HDONG_CD', 'HDONG_NM', 'TMST_00', 'TMST_01', 'TMST_02', 'TMST_03', 'TMST_04', 'TMST_05', 'TMST_06', 'TMST_07', 'TMST_08', 'TMST_09', 'TMST_10', 'TMST_11', 'TMST_12', 'TMST_13', 'TMST_14', 'TMST_15', 'TMST_16', 'TMST_17', 'TMST_18', 'TMST_19', 'TMST_20', 'TMST_21', 'TMST_22', 'TMST_23']]\n",
    "\n",
    "skt = skt[(skt.HDONG_NM.isin(dong_list)) & (skt.STD_YMD >= '2020-02-01') & (skt.STD_YMD <= '2020-05-31')]\n",
    "skt['people'] = np.sum(skt.iloc[:, 5:30], axis=1)\n",
    "skt_home = skt[['people']].unstack()\n",
    "skt_home = skt_home.groupby('STD_YMD').sum()\n",
    "sk = skt_home.diff().dropna()\n",
    "\n",
    "## CJ ## \n",
    "cj = pd.read_excel('./gdrive/My Drive/빅콘 대상팀/data/CJ/cj.xlsx', error_bad_lines=False, parse_dates=['DL_YMD'])\n",
    "#cj_home = cj[cj.DL_GD_LCLS_NM.isin(['가구/인테리어', '도서/음반', '디지털/가전'])]\n",
    "cj = pd.merge(cj, dong_cd, left_on=['HDNG_NM'], right_on=['HDONG_NM'])\n",
    "cj = cj[(cj.CTPV_NM == '서울특별시') & (cj.HDONG_NM.isin(dong_list)) & (cj.DL_YMD >= '2020-02-01')]\n",
    "cj_food = cj.groupby(['DL_YMD','DL_GD_LCLS_NM']).sum().query('DL_GD_LCLS_NM==\"식품\"')\n",
    "cj_food = cj_food.loc[:,'INVC_CONT']\n",
    "cj = cj.groupby('DL_YMD').sum()\n",
    "cj = cj[['INVC_CONT']]\n",
    "dt_index = pd.date_range(start='20200201', end='20200531')\n",
    "dt = pd.DataFrame({'date':dt_index})\n",
    "cj = pd.merge(dt, pd.DataFrame(cj), left_on=['date'], right_on=['DL_YMD'], how='outer').fillna(0)\n",
    "cj_food = pd.merge(dt, pd.DataFrame(cj_food), left_on=['date'], right_on=['DL_YMD'], how='outer').fillna(0) \n",
    "cj = cj.groupby('date').sum()\n",
    "cj_food = cj.groupby('date').sum()\n",
    "cj = cj.diff().dropna()\n",
    "cj_food = cj_food.diff().dropna()\n",
    "\n",
    "## 코로나 ##\n",
    "covid = pd.read_csv('./gdrive/My Drive/빅콘 대상팀/data/covid.csv', sep = ',', parse_dates=['기준일'])\n",
    "covid = covid[(covid['기준일'] >= '2020-02-01') & (covid['기준일'] <= '2020-05-31')]\n",
    "covid = covid.set_index('기준일')\n",
    "\n",
    "covid = pd.DataFrame(covid['일별확진자수'].diff().dropna())"
   ]
  },
  {
   "cell_type": "code",
   "execution_count": null,
   "metadata": {
    "id": "BtYtRRGvGdd4"
   },
   "outputs": [],
   "source": [
    "skt_home = skt[['people']].unstack()\n",
    "skt_home = skt_home.groupby('STD_YMD').sum()\n",
    "sk = skt_home.diff().dropna()"
   ]
  },
  {
   "cell_type": "code",
   "execution_count": null,
   "metadata": {
    "colab": {
     "base_uri": "https://localhost:8080/",
     "height": 591
    },
    "id": "X_47-gNrQE2H",
    "outputId": "5a674aae-bb27-4f31-c7aa-efaeff46ab57"
   },
   "outputs": [
    {
     "data": {
      "text/plain": [
       "Text(0.5, 1.0, 'GS편의점 & 물류 시차')"
      ]
     },
     "execution_count": 9,
     "metadata": {
      "tags": []
     },
     "output_type": "execute_result"
    },
    {
     "name": "stderr",
     "output_type": "stream",
     "text": [
      "/usr/local/lib/python3.6/dist-packages/matplotlib/backends/backend_agg.py:214: RuntimeWarning: Glyph 8722 missing from current font.\n",
      "  font.set_text(s, 0.0, flags=flags)\n",
      "/usr/local/lib/python3.6/dist-packages/matplotlib/backends/backend_agg.py:183: RuntimeWarning: Glyph 8722 missing from current font.\n",
      "  font.set_text(s, 0, flags=flags)\n"
     ]
    },
    {
     "data": {
      "image/png": "[encoded data removed]",
      "text/plain": [
       "<Figure size 1440x576 with 4 Axes>"
      ]
     },
     "metadata": {
      "image/png": {
       "height": 484,
       "width": 1154
      },
      "needs_background": "light",
      "tags": []
     },
     "output_type": "display_data"
    }
   ],
   "source": [
    "plt.figure(figsize=(20, 8))\n",
    "plt.subplot(221)\n",
    "plt.acorr(gs_sell['AMT_IND'], usevlines=True, normed=True, maxlags=7, lw=2)\n",
    "plt.grid(True)\n",
    "plt.title('GS편의점 과거 매출 시차', fontsize= 15)\n",
    "#plt.show()\n",
    "\n",
    "plt.subplot(222)\n",
    "plt.xcorr(gs_sell['AMT_IND'], sc['USE_AMT'], usevlines=True, maxlags=7, normed=True, lw=2)\n",
    "plt.grid(True)\n",
    "plt.title('GS편의점 & 신한카드(유통) 시차', fontsize= 15)\n",
    "#plt.show()\n",
    "\n",
    "plt.subplot(223)\n",
    "plt.xcorr(gs_sell['AMT_IND'], sk, usevlines=True, maxlags=7, normed=True, lw=2)\n",
    "plt.grid(True)\n",
    "plt.title('GS편의점 & 유동인구 시차', fontsize= 15)\n",
    "#plt.show()\n",
    "\n",
    "plt.subplot(224)\n",
    "plt.xcorr(gs_sell['AMT_IND'], cj['INVC_CONT'], usevlines=True, maxlags=7, normed=True, lw=2)\n",
    "plt.grid(True)\n",
    "plt.title('GS편의점 & 물류 시차', fontsize= 15)\n",
    "#plt.show()\n"
   ]
  },
  {
   "cell_type": "markdown",
   "metadata": {
    "id": "i3ycNJOovsjo"
   },
   "source": [
    "GS와의 시차(0.4 기준)\n",
    "- 과거매출 : -7\n",
    "- 신한카드 : 0,-1\n",
    "- 유동인구 :0\n",
    "- 물류 : 0,-1\n",
    "- 확진자 : 1\n"
   ]
  },
  {
   "cell_type": "markdown",
   "metadata": {
    "id": "Mez9TXqWh4uE"
   },
   "source": [
    "# **2. GS25 식사, 4사데이터 시차분석**"
   ]
  },
  {
   "cell_type": "code",
   "execution_count": null,
   "metadata": {
    "colab": {
     "base_uri": "https://localhost:8080/",
     "height": 591
    },
    "id": "mqQvlQhKPQLc",
    "outputId": "7166d347-d806-41db-d579-02de47006cc0"
   },
   "outputs": [
    {
     "data": {
      "text/plain": [
       "Text(0.5, 1.0, 'GS편의점 식사& 물류 시차')"
      ]
     },
     "execution_count": 13,
     "metadata": {
      "tags": []
     },
     "output_type": "execute_result"
    },
    {
     "name": "stderr",
     "output_type": "stream",
     "text": [
      "/usr/local/lib/python3.6/dist-packages/matplotlib/backends/backend_agg.py:214: RuntimeWarning: Glyph 8722 missing from current font.\n",
      "  font.set_text(s, 0.0, flags=flags)\n",
      "/usr/local/lib/python3.6/dist-packages/matplotlib/backends/backend_agg.py:183: RuntimeWarning: Glyph 8722 missing from current font.\n",
      "  font.set_text(s, 0, flags=flags)\n"
     ]
    },
    {
     "data": {
      "image/png": "[encoded data removed]",
      "text/plain": [
       "<Figure size 1440x576 with 4 Axes>"
      ]
     },
     "metadata": {
      "image/png": {
       "height": 484,
       "width": 1154
      },
      "needs_background": "light",
      "tags": []
     },
     "output_type": "display_data"
    }
   ],
   "source": [
    "plt.figure(figsize=(20, 8))\n",
    "plt.subplot(221)\n",
    "plt.acorr(gs_food['식사'], usevlines=True, normed=True, maxlags=7, lw=2)\n",
    "plt.grid(True)\n",
    "plt.title('GS편의점 식사 과거 매출 시차', fontsize= 15)\n",
    "#plt.show()\n",
    "\n",
    "plt.subplot(222)\n",
    "plt.xcorr(gs_food['식사'], sc['USE_AMT'], usevlines=True, maxlags=7, normed=True, lw=2)\n",
    "plt.grid(True)\n",
    "plt.title('GS편의점 식사 & 신한카드(유통) 시차', fontsize= 15)\n",
    "#plt.show()\n",
    "\n",
    "plt.subplot(223)\n",
    "plt.xcorr(gs_food['식사'], sk, usevlines=True, maxlags=7, normed=True, lw=2)\n",
    "plt.grid(True)\n",
    "plt.title('GS편의점 식사& 유동인구 시차', fontsize= 15)\n",
    "#plt.show()\n",
    "\n",
    "plt.subplot(224)\n",
    "plt.xcorr(gs_food['식사'], cj['INVC_CONT'], usevlines=True, maxlags=7, normed=True, lw=2)\n",
    "plt.grid(True)\n",
    "plt.title('GS편의점 식사& 물류 시차', fontsize= 15)\n",
    "#plt.show()\n"
   ]
  },
  {
   "cell_type": "markdown",
   "metadata": {
    "id": "SXTm-n5CiATG"
   },
   "source": [
    "# **3. GS25 간식, 4사데이터 시차분석**"
   ]
  },
  {
   "cell_type": "code",
   "execution_count": null,
   "metadata": {
    "colab": {
     "base_uri": "https://localhost:8080/",
     "height": 591
    },
    "id": "v_fI4fe6SXgj",
    "outputId": "bfa95c47-24c9-47a2-ba29-de0424ca3c4f"
   },
   "outputs": [
    {
     "data": {
      "text/plain": [
       "Text(0.5, 1.0, 'GS편의점 간식 & 물류 시차')"
      ]
     },
     "execution_count": 14,
     "metadata": {
      "tags": []
     },
     "output_type": "execute_result"
    },
    {
     "name": "stderr",
     "output_type": "stream",
     "text": [
      "/usr/local/lib/python3.6/dist-packages/matplotlib/backends/backend_agg.py:214: RuntimeWarning: Glyph 8722 missing from current font.\n",
      "  font.set_text(s, 0.0, flags=flags)\n",
      "/usr/local/lib/python3.6/dist-packages/matplotlib/backends/backend_agg.py:183: RuntimeWarning: Glyph 8722 missing from current font.\n",
      "  font.set_text(s, 0, flags=flags)\n"
     ]
    },
    {
     "data": {
      "image/png": "[encoded data removed]",
      "text/plain": [
       "<Figure size 1440x576 with 4 Axes>"
      ]
     },
     "metadata": {
      "image/png": {
       "height": 484,
       "width": 1154
      },
      "needs_background": "light",
      "tags": []
     },
     "output_type": "display_data"
    }
   ],
   "source": [
    "plt.figure(figsize=(20, 8))\n",
    "plt.subplot(221)\n",
    "plt.acorr(gs_food['간식'], usevlines=True, normed=True, maxlags=7, lw=2)\n",
    "plt.grid(True)\n",
    "plt.title('GS편의점 간식 과거 매출 시차', fontsize= 15)\n",
    "#plt.show()\n",
    "\n",
    "plt.subplot(222)\n",
    "plt.xcorr(gs_food['간식'], sc['USE_AMT'], usevlines=True, maxlags=7, normed=True, lw=2)\n",
    "plt.grid(True)\n",
    "plt.title('GS편의점 간식 & 신한카드(유통) 시차', fontsize= 15)\n",
    "#plt.show()\n",
    "\n",
    "plt.subplot(223)\n",
    "plt.xcorr(gs_food['간식'], sk, usevlines=True, maxlags=7, normed=True, lw=2)\n",
    "plt.grid(True)\n",
    "plt.title('GS편의점 간식& 유동인구 시차', fontsize= 15)\n",
    "#plt.show()\n",
    "\n",
    "plt.subplot(224)\n",
    "plt.xcorr(gs_food['간식'], cj['INVC_CONT'], usevlines=True, maxlags=7, normed=True, lw=2)\n",
    "plt.grid(True)\n",
    "plt.title('GS편의점 간식 & 물류 시차', fontsize= 15)\n",
    "#plt.show()\n"
   ]
  },
  {
   "cell_type": "markdown",
   "metadata": {
    "id": "A4TIxXgBiFLk"
   },
   "source": [
    "# **4. GS25 마실거리, 4사데이터 시차분석**"
   ]
  },
  {
   "cell_type": "code",
   "execution_count": null,
   "metadata": {
    "colab": {
     "base_uri": "https://localhost:8080/",
     "height": 591
    },
    "id": "Wggbw5WPSb2O",
    "outputId": "c19ce7fd-eadc-4d79-e6e4-84cc39f10c30"
   },
   "outputs": [
    {
     "data": {
      "text/plain": [
       "Text(0.5, 1.0, 'GS편의점 마실거리& 물류 시차')"
      ]
     },
     "execution_count": 15,
     "metadata": {
      "tags": []
     },
     "output_type": "execute_result"
    },
    {
     "name": "stderr",
     "output_type": "stream",
     "text": [
      "/usr/local/lib/python3.6/dist-packages/matplotlib/backends/backend_agg.py:214: RuntimeWarning: Glyph 8722 missing from current font.\n",
      "  font.set_text(s, 0.0, flags=flags)\n",
      "/usr/local/lib/python3.6/dist-packages/matplotlib/backends/backend_agg.py:183: RuntimeWarning: Glyph 8722 missing from current font.\n",
      "  font.set_text(s, 0, flags=flags)\n"
     ]
    },
    {
     "data": {
      "image/png": "[encoded data removed]",
      "text/plain": [
       "<Figure size 1440x576 with 4 Axes>"
      ]
     },
     "metadata": {
      "image/png": {
       "height": 484,
       "width": 1154
      },
      "needs_background": "light",
      "tags": []
     },
     "output_type": "display_data"
    }
   ],
   "source": [
    "plt.figure(figsize=(20, 8))\n",
    "plt.subplot(221)\n",
    "plt.acorr(gs_food['마실거리'], usevlines=True, normed=True, maxlags=7, lw=2)\n",
    "plt.grid(True)\n",
    "plt.title('GS편의점 마실거리 과거 매출 시차', fontsize= 15)\n",
    "#plt.show()\n",
    "\n",
    "plt.subplot(222)\n",
    "plt.xcorr(gs_food['마실거리'], sc['USE_AMT'], usevlines=True, maxlags=7, normed=True, lw=2)\n",
    "plt.grid(True)\n",
    "plt.title('GS편의점 마실거리 & 신한카드(유통) 시차', fontsize= 15)\n",
    "#plt.show()\n",
    "\n",
    "plt.subplot(223)\n",
    "plt.xcorr(gs_food['마실거리'], sk, usevlines=True, maxlags=7, normed=True, lw=2)\n",
    "plt.grid(True)\n",
    "plt.title('GS편의점 마실거리& 유동인구 시차', fontsize= 15)\n",
    "#plt.show()\n",
    "\n",
    "plt.subplot(224)\n",
    "plt.xcorr(gs_food['마실거리'], cj['INVC_CONT'], usevlines=True, maxlags=7, normed=True, lw=2)\n",
    "plt.grid(True)\n",
    "plt.title('GS편의점 마실거리& 물류 시차', fontsize= 15)\n",
    "#plt.show()"
   ]
  },
  {
   "cell_type": "markdown",
   "metadata": {
    "id": "IM_8bvrfB1ON"
   },
   "source": [
    "# **5. 모델 final Data Build**"
   ]
  },
  {
   "cell_type": "code",
   "execution_count": null,
   "metadata": {
    "id": "o6qhzeaUJeye"
   },
   "outputs": [],
   "source": [
    "#Y data\n",
    "gs_eat = gs_seoul.iloc[:,[0,1,3]].sort_values(['HDONG_NM','STD_YMD'])\n",
    "gs_snack = gs_seoul.iloc[:,[0,1,4]].sort_values(['HDONG_NM','STD_YMD'])\n",
    "gs_drink = gs_seoul.iloc[:,[0,1,5]].sort_values(['HDONG_NM','STD_YMD'])"
   ]
  },
  {
   "cell_type": "code",
   "execution_count": null,
   "metadata": {
    "id": "53kxQnX6WofI"
   },
   "outputs": [],
   "source": [
    "# x data 준비\n",
    "gu = pd.read_excel('./gdrive/My Drive/빅콘 대상팀/data/지역데이터/구_동.xlsx')\n",
    "all = pd.read_csv('./gdrive/My Drive/빅콘 대상팀/data/all_amt.csv',parse_dates=['STD_YMD'])\n",
    "#all = all.drop(['Unnamed: 0'],axis=1)\n",
    "all = pd.merge(all,gu,on='HDONG_NM')\n",
    "all['CITY'] = all['HDONG_GU'].apply(lambda x: x[0:2])\n",
    "all = all.query('CITY == \"서울\" & STD_YMD > \"2020\"')"
   ]
  },
  {
   "cell_type": "code",
   "execution_count": null,
   "metadata": {
    "id": "tJ9UoorpW_bb"
   },
   "outputs": [],
   "source": [
    "cj = pd.concat([all.iloc[:,[0,1]],all.filter(like='CJ').sum(axis=1)],axis=1)\n",
    "cj.columns.values[2] = 'cj_0'\n",
    "sc = pd.concat([all.iloc[:,[0,1]],all.filter(like='AMT_유통업')],axis=1)\n",
    "sc.columns.values[2] = 'sc_0'\n",
    "sk = pd.concat([all.iloc[:,[0,1]],all.filter(like='TMST').sum(axis=1)],axis=1)\n",
    "sk.columns.values[2] = 'sk_0'"
   ]
  },
  {
   "cell_type": "code",
   "execution_count": null,
   "metadata": {
    "id": "6q6hB2yOavhE"
   },
   "outputs": [],
   "source": [
    "covid = pd.read_csv('./gdrive/My Drive/빅콘 대상팀/data/covid.csv', sep = ',', parse_dates=['기준일'])\n",
    "covid = covid[(covid['기준일'] >= '2020-02-01') & (covid['기준일'] <= '2020-05-31')]\n",
    "covid = covid.set_index('기준일')\n",
    "\n",
    "covid = pd.DataFrame(covid['일별확진자수']).reset_index()\n",
    "covid.columns = ['STD_YMD','COVID_CNT']"
   ]
  },
  {
   "cell_type": "code",
   "execution_count": null,
   "metadata": {
    "id": "C9Jr4AdFXa9R"
   },
   "outputs": [],
   "source": [
    "seoul_weather = pd.read_csv('./gdrive/My Drive/빅콘 대상팀/data/일별데이터/WEATHER_SEOUL.csv',parse_dates=['일시'])\n",
    "seoul_weather = seoul_weather.iloc[:,2:]\n",
    "seoul_weather.columns =['STD_YMD','기온','최저기온','최고기온','일강수량']\n",
    "seoul_weather['일교차'] = seoul_weather['최고기온']-seoul_weather['최저기온']\n",
    "seoul_weather = seoul_weather.interpolate(method='values')  \n",
    "seoul_weather = seoul_weather[seoul_weather['STD_YMD']>'2020']"
   ]
  },
  {
   "cell_type": "code",
   "execution_count": null,
   "metadata": {
    "id": "1GbipgFdjRxR"
   },
   "outputs": [],
   "source": [
    "seoul_dust = pd.read_csv('./gdrive/My Drive/빅콘 대상팀/data/일별데이터/20미세먼지.csv',parse_dates=['date'])\n",
    "seoul_dust.columns=['STD_YMD','dust']"
   ]
  },
  {
   "cell_type": "code",
   "execution_count": null,
   "metadata": {
    "id": "mXxJfTbXjb4e"
   },
   "outputs": [],
   "source": [
    "seoul_holiday = pd.read_csv('./gdrive/My Drive/빅콘 대상팀/data/일별데이터/20holiday.csv',encoding='cp949',parse_dates=['date'])\n",
    "seoul_holiday.columns.values[0]='STD_YMD'"
   ]
  },
  {
   "cell_type": "code",
   "execution_count": null,
   "metadata": {
    "id": "ZnUG3vubX_nm"
   },
   "outputs": [],
   "source": [
    "final_data = pd.merge(pd.merge(pd.merge(pd.merge(pd.merge(cj,sc),sk),covid).sort_values(['HDONG_NM','STD_YMD']),seoul_weather,on=['STD_YMD']),seoul_dust,on=['STD_YMD'])"
   ]
  },
  {
   "cell_type": "code",
   "execution_count": null,
   "metadata": {
    "id": "PDsZ7KBGQypr"
   },
   "outputs": [],
   "source": [
    "final_data['sc_m1'] = final_data.groupby(['HDONG_NM'])['sc_0'].shift(1)\n",
    "final_data['cj_m1'] = final_data.groupby(['HDONG_NM'])['cj_0'].shift(1)\n",
    "final_data['covid_p1'] = final_data.groupby(['HDONG_NM'])['COVID_CNT'].shift(-1)"
   ]
  },
  {
   "cell_type": "code",
   "execution_count": null,
   "metadata": {
    "id": "Hj2JkG1pPnlO"
   },
   "outputs": [],
   "source": [
    "#final_data.to_csv(\"./gdrive/My Drive/빅콘 대상팀/data/model_data.csv\",index=False)"
   ]
  },
  {
   "cell_type": "markdown",
   "metadata": {
    "id": "eoePNNlChG3O"
   },
   "source": [
    "# **[appendix] 시차정보를 사용하지 않는 모델**"
   ]
  },
  {
   "cell_type": "code",
   "execution_count": null,
   "metadata": {
    "id": "N_2qf9CWFqNr"
   },
   "outputs": [],
   "source": [
    "# final data 여러가지 시도\n",
    "#final_data2 = final_data.drop(['holiday','event'],axis=1) #binary 변수 빼기\n",
    "#final_data3 = final_data.drop(['holiday','event','COVID_CNT','covid_p1'],axis=1) \n",
    "final_data4 = final_data.drop(['COVID_CNT','covid_p1','sc_m1','cj_m1','covid_p1','최저기온','최고기온','일강수량'],axis=1) #최종사용데이터\n",
    "#lstm_data = final_data.drop(['holiday','event','COVID_CNT','covid_p1','sc_m1','cj_m1'],axis=1)"
   ]
  },
  {
   "cell_type": "code",
   "execution_count": null,
   "metadata": {
    "id": "jbz7aTK1U3ZE"
   },
   "outputs": [],
   "source": [
    "def build_data(data,dong,cat):\n",
    "\n",
    "  X = data.query('HDONG_NM==@dong').reset_index(drop=True)\n",
    "  \n",
    "  if cat == \"식사\":\n",
    "    eat = gs_eat.query('HDONG_NM==@dong').reset_index(drop=True)\n",
    "    X['self_m7'] = eat['GS_식사'].shift(7)\n",
    "    X['y'] = eat['GS_식사']\n",
    "  elif cat == \"간식\":\n",
    "    snack = gs_snack.query('HDONG_NM==@dong').reset_index(drop=True)\n",
    "    X['self_m7'] = snack['GS_간식'].shift(7)\n",
    "    X['y'] = snack['GS_간식']\n",
    "  elif cat == \"마실거리\":\n",
    "    drink = gs_drink.query('HDONG_NM==@dong').reset_index(drop=True)\n",
    "    X['self_m7'] = drink['GS_마실거리'].shift(7)\n",
    "    X['y'] = drink['GS_마실거리']\n",
    "  \n",
    "  X.index = X['STD_YMD']\n",
    "  del X['STD_YMD'],X['HDONG_NM']\n",
    "\n",
    "  return X"
   ]
  },
  {
   "cell_type": "code",
   "execution_count": null,
   "metadata": {
    "id": "kO-iR5eXtBeV"
   },
   "outputs": [],
   "source": [
    "def minmax_scalar(X):\n",
    "  idx = X.index\n",
    "  col = X.columns\n",
    "\n",
    "  scalar = MinMaxScaler()\n",
    "  scaled_X = pd.DataFrame(scalar.fit_transform(X))\n",
    "  scaled_X.index = idx\n",
    "  scaled_X.columns = col\n",
    "\n",
    "  return scaled_X"
   ]
  },
  {
   "cell_type": "code",
   "execution_count": null,
   "metadata": {
    "id": "OF4-zsRWqHVb"
   },
   "outputs": [],
   "source": [
    "import numpy as np\n",
    "from sklearn.metrics import mean_squared_log_error\n",
    "\n",
    "def RMSLE_fun(origin,pred):\n",
    "  rmsle = np.sqrt(mean_squared_log_error(origin+1, pred+1))\n",
    "  return rmsle"
   ]
  },
  {
   "cell_type": "code",
   "execution_count": null,
   "metadata": {
    "id": "OsHb-LirBKA6"
   },
   "outputs": [],
   "source": [
    "def train_test_split(n,X,y):\n",
    "  if isinstance(X, pd.DataFrame):\n",
    "    total = X.shape[0]\n",
    "    X_train,X_test = X.iloc[:total-n, :],X.iloc[-n:, :]\n",
    "    y_train,y_test = y[:total-n],y[-n:]\n",
    "  else :\n",
    "    total = X.shape[0]\n",
    "    X_train,X_test = X[:total-n, :],X[-n:, :]\n",
    "    y_train,y_test = y[:total-n],y[-n:]\n",
    "  return X_train,X_test,y_train,y_test"
   ]
  },
  {
   "cell_type": "markdown",
   "metadata": {
    "id": "RyfVYGsV8iYo"
   },
   "source": [
    "## 1)ARDL"
   ]
  },
  {
   "cell_type": "code",
   "execution_count": null,
   "metadata": {
    "id": "T1SJyCG9SMo8"
   },
   "outputs": [],
   "source": [
    "from sklearn.linear_model import LinearRegression\n",
    "from statsmodels.api import OLS\n",
    "from sklearn.preprocessing import MinMaxScaler"
   ]
  },
  {
   "cell_type": "code",
   "execution_count": null,
   "metadata": {
    "id": "FYJaAaT0_kQb"
   },
   "outputs": [],
   "source": [
    "def ARDL(X,dong,cat):\n",
    "  X=build_data(X,dong,cat)\n",
    "\n",
    "  #차분\n",
    "  init = X.loc['2020-05-23','y'].astype('int32')\n",
    "\n",
    "  X = X.iloc[:,2:].diff(1)\n",
    "  X = X.dropna()\n",
    "\n",
    "  y = X['y']\n",
    "  del X['y']\n",
    "\n",
    "  #scaling\n",
    "  scaled_X = minmax_scalar(X)\n",
    "\n",
    "  #train-test 분리\n",
    "  X_train,X_test,y_train,y_test = train_test_split(7,scaled_X,y)\n",
    "\n",
    "  mlr = LinearRegression()\n",
    "  mlr.fit(X_train, y_train)\n",
    "  predict = mlr.predict(X_test)\n",
    "  r2=mlr.score(X_train, y_train)\n",
    "  #print(OLS(y_train,X_train).fit().summary())\n",
    "\n",
    "  predict_before_diff = init+predict.cumsum()\n",
    "  y_test_before_diff = init+y_test.cumsum()\n",
    "\n",
    "  mse = np.mean((y_test_before_diff-predict_before_diff)**2)\n",
    "  rmse = np.sqrt(mse)\n",
    "  rmsle = RMSLE_fun(y_test_before_diff, predict_before_diff)\n",
    "  \n",
    "  #print(mse)\n",
    "  #plt.plot(y)\n",
    "  #plt.plot(X.index[n:], predict, color='red')\n",
    "  #plt.xticks(rotation=45)\n",
    "  #plt.legend(labels=['y', 'Predicted'], bbox_to_anchor=(1.04,1))\n",
    "  #plt.title('ARDL Model', fontsize=20)\n",
    "  #print('MSE = {}'.format(mse))\n",
    "  #return predict_before_diff,y_test_before_diff\n",
    "  return mse,rmse, rmsle"
   ]
  },
  {
   "cell_type": "code",
   "execution_count": null,
   "metadata": {
    "id": "aJNoEXJI9iQ6"
   },
   "outputs": [],
   "source": [
    "warnings.filterwarnings(\"ignore\")\n",
    "\n",
    "dong = list(gu.query('HDONG_GU ==\"서울 노원구\"').HDONG_NM.unique())+list(gu.query('HDONG_GU ==\"서울 중구\"').HDONG_NM.unique())\n",
    "cat = ['식사','간식','마실거리']\n",
    "\n",
    "RMSLE_ARDL=[]\n",
    "MSE_ARDL=[]\n",
    "RMSE_ARDL=[]\n",
    "for j,c in enumerate(cat):\n",
    "  for i,d in enumerate(dong):\n",
    "    if d ==\"상계8동\":\n",
    "      continue\n",
    "    #print('=============================result of {}============================'.format(d))\n",
    "    mse,rmse,rmsle=ARDL(final_data4,d,c)\n",
    "    MSE_ARDL.append(mse)\n",
    "    RMSE_ARDL.append(rmse)\n",
    "    RMSLE_ARDL.append(rmsle)\n",
    "    "
   ]
  },
  {
   "cell_type": "code",
   "execution_count": null,
   "metadata": {
    "colab": {
     "base_uri": "https://localhost:8080/",
     "height": 1000
    },
    "id": "5Z5zOl5ydgQo",
    "outputId": "61780b79-2275-40e5-ed0b-8dd4faa4d571"
   },
   "outputs": [
    {
     "data": {
      "text/html": [
       "<div>\n",
       "<style scoped>\n",
       "    .dataframe tbody tr th:only-of-type {\n",
       "        vertical-align: middle;\n",
       "    }\n",
       "\n",
       "    .dataframe tbody tr th {\n",
       "        vertical-align: top;\n",
       "    }\n",
       "\n",
       "    .dataframe thead th {\n",
       "        text-align: right;\n",
       "    }\n",
       "</style>\n",
       "<table border=\"1\" class=\"dataframe\">\n",
       "  <thead>\n",
       "    <tr style=\"text-align: right;\">\n",
       "      <th></th>\n",
       "      <th>dong</th>\n",
       "      <th>rmsle_eat</th>\n",
       "      <th>rmsle_snack</th>\n",
       "      <th>rmsle_drink</th>\n",
       "      <th>mse_eat</th>\n",
       "      <th>mse_snack</th>\n",
       "      <th>mse_drink</th>\n",
       "      <th>rmse_eat</th>\n",
       "      <th>rmse_snack</th>\n",
       "      <th>rmse_drink</th>\n",
       "    </tr>\n",
       "  </thead>\n",
       "  <tbody>\n",
       "    <tr>\n",
       "      <th>0</th>\n",
       "      <td>월계1동</td>\n",
       "      <td>0.079639</td>\n",
       "      <td>0.139648</td>\n",
       "      <td>0.055330</td>\n",
       "      <td>5.137732</td>\n",
       "      <td>5.539976</td>\n",
       "      <td>5.653296</td>\n",
       "      <td>2.266657</td>\n",
       "      <td>2.353715</td>\n",
       "      <td>2.377666</td>\n",
       "    </tr>\n",
       "    <tr>\n",
       "      <th>1</th>\n",
       "      <td>월계2동</td>\n",
       "      <td>0.103827</td>\n",
       "      <td>0.267225</td>\n",
       "      <td>0.099164</td>\n",
       "      <td>9.812036</td>\n",
       "      <td>27.643534</td>\n",
       "      <td>15.666365</td>\n",
       "      <td>3.132417</td>\n",
       "      <td>5.257712</td>\n",
       "      <td>3.958076</td>\n",
       "    </tr>\n",
       "    <tr>\n",
       "      <th>2</th>\n",
       "      <td>월계3동</td>\n",
       "      <td>0.059708</td>\n",
       "      <td>0.181435</td>\n",
       "      <td>0.059403</td>\n",
       "      <td>3.119114</td>\n",
       "      <td>26.719530</td>\n",
       "      <td>10.775178</td>\n",
       "      <td>1.766101</td>\n",
       "      <td>5.169094</td>\n",
       "      <td>3.282557</td>\n",
       "    </tr>\n",
       "    <tr>\n",
       "      <th>3</th>\n",
       "      <td>공릉2동</td>\n",
       "      <td>0.069805</td>\n",
       "      <td>0.142597</td>\n",
       "      <td>0.061087</td>\n",
       "      <td>3.678851</td>\n",
       "      <td>8.691458</td>\n",
       "      <td>7.182837</td>\n",
       "      <td>1.918033</td>\n",
       "      <td>2.948128</td>\n",
       "      <td>2.680082</td>\n",
       "    </tr>\n",
       "    <tr>\n",
       "      <th>4</th>\n",
       "      <td>하계1동</td>\n",
       "      <td>0.102395</td>\n",
       "      <td>0.087581</td>\n",
       "      <td>0.133298</td>\n",
       "      <td>10.247880</td>\n",
       "      <td>7.289083</td>\n",
       "      <td>62.133447</td>\n",
       "      <td>3.201231</td>\n",
       "      <td>2.699830</td>\n",
       "      <td>7.882477</td>\n",
       "    </tr>\n",
       "    <tr>\n",
       "      <th>5</th>\n",
       "      <td>하계2동</td>\n",
       "      <td>0.084382</td>\n",
       "      <td>0.130103</td>\n",
       "      <td>0.096002</td>\n",
       "      <td>20.159655</td>\n",
       "      <td>54.219104</td>\n",
       "      <td>46.455568</td>\n",
       "      <td>4.489950</td>\n",
       "      <td>7.363362</td>\n",
       "      <td>6.815832</td>\n",
       "    </tr>\n",
       "    <tr>\n",
       "      <th>6</th>\n",
       "      <td>중계본동</td>\n",
       "      <td>0.101682</td>\n",
       "      <td>0.147243</td>\n",
       "      <td>0.081892</td>\n",
       "      <td>15.722681</td>\n",
       "      <td>26.014658</td>\n",
       "      <td>23.915947</td>\n",
       "      <td>3.965184</td>\n",
       "      <td>5.100457</td>\n",
       "      <td>4.890393</td>\n",
       "    </tr>\n",
       "    <tr>\n",
       "      <th>7</th>\n",
       "      <td>중계1동</td>\n",
       "      <td>0.109772</td>\n",
       "      <td>0.205490</td>\n",
       "      <td>0.154430</td>\n",
       "      <td>12.640549</td>\n",
       "      <td>29.914700</td>\n",
       "      <td>71.664913</td>\n",
       "      <td>3.555355</td>\n",
       "      <td>5.469433</td>\n",
       "      <td>8.465513</td>\n",
       "    </tr>\n",
       "    <tr>\n",
       "      <th>8</th>\n",
       "      <td>중계4동</td>\n",
       "      <td>0.135118</td>\n",
       "      <td>0.110807</td>\n",
       "      <td>0.226111</td>\n",
       "      <td>32.377296</td>\n",
       "      <td>9.685557</td>\n",
       "      <td>160.452589</td>\n",
       "      <td>5.690105</td>\n",
       "      <td>3.112163</td>\n",
       "      <td>12.666988</td>\n",
       "    </tr>\n",
       "    <tr>\n",
       "      <th>9</th>\n",
       "      <td>상계1동</td>\n",
       "      <td>0.072491</td>\n",
       "      <td>0.076756</td>\n",
       "      <td>0.103455</td>\n",
       "      <td>3.989191</td>\n",
       "      <td>3.619479</td>\n",
       "      <td>27.083935</td>\n",
       "      <td>1.997296</td>\n",
       "      <td>1.902493</td>\n",
       "      <td>5.204223</td>\n",
       "    </tr>\n",
       "    <tr>\n",
       "      <th>10</th>\n",
       "      <td>상계2동</td>\n",
       "      <td>0.074561</td>\n",
       "      <td>0.098362</td>\n",
       "      <td>0.083951</td>\n",
       "      <td>10.235318</td>\n",
       "      <td>8.918930</td>\n",
       "      <td>34.783353</td>\n",
       "      <td>3.199268</td>\n",
       "      <td>2.986458</td>\n",
       "      <td>5.897741</td>\n",
       "    </tr>\n",
       "    <tr>\n",
       "      <th>11</th>\n",
       "      <td>상계5동</td>\n",
       "      <td>0.116355</td>\n",
       "      <td>0.072817</td>\n",
       "      <td>0.096785</td>\n",
       "      <td>13.928193</td>\n",
       "      <td>2.852596</td>\n",
       "      <td>15.709664</td>\n",
       "      <td>3.732049</td>\n",
       "      <td>1.688963</td>\n",
       "      <td>3.963542</td>\n",
       "    </tr>\n",
       "    <tr>\n",
       "      <th>12</th>\n",
       "      <td>상계9동</td>\n",
       "      <td>0.076129</td>\n",
       "      <td>0.119164</td>\n",
       "      <td>0.116499</td>\n",
       "      <td>5.067523</td>\n",
       "      <td>11.572099</td>\n",
       "      <td>40.988768</td>\n",
       "      <td>2.251116</td>\n",
       "      <td>3.401779</td>\n",
       "      <td>6.402247</td>\n",
       "    </tr>\n",
       "    <tr>\n",
       "      <th>13</th>\n",
       "      <td>상계10동</td>\n",
       "      <td>0.143542</td>\n",
       "      <td>0.092850</td>\n",
       "      <td>0.096965</td>\n",
       "      <td>21.281060</td>\n",
       "      <td>4.735141</td>\n",
       "      <td>16.901850</td>\n",
       "      <td>4.613140</td>\n",
       "      <td>2.176038</td>\n",
       "      <td>4.111186</td>\n",
       "    </tr>\n",
       "    <tr>\n",
       "      <th>14</th>\n",
       "      <td>상계3.4동</td>\n",
       "      <td>0.115909</td>\n",
       "      <td>0.145558</td>\n",
       "      <td>0.059310</td>\n",
       "      <td>31.134509</td>\n",
       "      <td>13.864969</td>\n",
       "      <td>9.765859</td>\n",
       "      <td>5.579831</td>\n",
       "      <td>3.723569</td>\n",
       "      <td>3.125037</td>\n",
       "    </tr>\n",
       "    <tr>\n",
       "      <th>15</th>\n",
       "      <td>상계6.7동</td>\n",
       "      <td>0.066114</td>\n",
       "      <td>0.147687</td>\n",
       "      <td>0.094326</td>\n",
       "      <td>4.573520</td>\n",
       "      <td>29.640221</td>\n",
       "      <td>30.806329</td>\n",
       "      <td>2.138579</td>\n",
       "      <td>5.444283</td>\n",
       "      <td>5.550345</td>\n",
       "    </tr>\n",
       "    <tr>\n",
       "      <th>16</th>\n",
       "      <td>중계2.3동</td>\n",
       "      <td>0.112849</td>\n",
       "      <td>0.093941</td>\n",
       "      <td>0.144329</td>\n",
       "      <td>42.156928</td>\n",
       "      <td>14.598978</td>\n",
       "      <td>114.940703</td>\n",
       "      <td>6.492837</td>\n",
       "      <td>3.820861</td>\n",
       "      <td>10.721040</td>\n",
       "    </tr>\n",
       "    <tr>\n",
       "      <th>17</th>\n",
       "      <td>공릉1동</td>\n",
       "      <td>0.095959</td>\n",
       "      <td>0.085761</td>\n",
       "      <td>0.079501</td>\n",
       "      <td>6.260220</td>\n",
       "      <td>2.295433</td>\n",
       "      <td>9.676178</td>\n",
       "      <td>2.502043</td>\n",
       "      <td>1.515069</td>\n",
       "      <td>3.110655</td>\n",
       "    </tr>\n",
       "    <tr>\n",
       "      <th>18</th>\n",
       "      <td>소공동</td>\n",
       "      <td>0.212287</td>\n",
       "      <td>0.284958</td>\n",
       "      <td>0.086518</td>\n",
       "      <td>41.096379</td>\n",
       "      <td>33.670393</td>\n",
       "      <td>31.649155</td>\n",
       "      <td>6.410646</td>\n",
       "      <td>5.802620</td>\n",
       "      <td>5.625758</td>\n",
       "    </tr>\n",
       "    <tr>\n",
       "      <th>19</th>\n",
       "      <td>회현동</td>\n",
       "      <td>0.134704</td>\n",
       "      <td>0.149091</td>\n",
       "      <td>0.180217</td>\n",
       "      <td>18.556569</td>\n",
       "      <td>16.641595</td>\n",
       "      <td>83.073047</td>\n",
       "      <td>4.307734</td>\n",
       "      <td>4.079411</td>\n",
       "      <td>9.114442</td>\n",
       "    </tr>\n",
       "    <tr>\n",
       "      <th>20</th>\n",
       "      <td>명동</td>\n",
       "      <td>0.139262</td>\n",
       "      <td>0.187964</td>\n",
       "      <td>0.129939</td>\n",
       "      <td>13.744903</td>\n",
       "      <td>12.636025</td>\n",
       "      <td>61.470578</td>\n",
       "      <td>3.707412</td>\n",
       "      <td>3.554719</td>\n",
       "      <td>7.840317</td>\n",
       "    </tr>\n",
       "    <tr>\n",
       "      <th>21</th>\n",
       "      <td>필동</td>\n",
       "      <td>0.107079</td>\n",
       "      <td>0.102002</td>\n",
       "      <td>0.097656</td>\n",
       "      <td>13.741437</td>\n",
       "      <td>5.497708</td>\n",
       "      <td>26.336402</td>\n",
       "      <td>3.706944</td>\n",
       "      <td>2.344719</td>\n",
       "      <td>5.131900</td>\n",
       "    </tr>\n",
       "    <tr>\n",
       "      <th>22</th>\n",
       "      <td>장충동</td>\n",
       "      <td>0.104609</td>\n",
       "      <td>0.123503</td>\n",
       "      <td>0.045286</td>\n",
       "      <td>5.562023</td>\n",
       "      <td>5.013131</td>\n",
       "      <td>2.124392</td>\n",
       "      <td>2.358394</td>\n",
       "      <td>2.239002</td>\n",
       "      <td>1.457529</td>\n",
       "    </tr>\n",
       "    <tr>\n",
       "      <th>23</th>\n",
       "      <td>광희동</td>\n",
       "      <td>0.091204</td>\n",
       "      <td>0.117130</td>\n",
       "      <td>0.128066</td>\n",
       "      <td>5.865613</td>\n",
       "      <td>6.621713</td>\n",
       "      <td>29.737792</td>\n",
       "      <td>2.421903</td>\n",
       "      <td>2.573269</td>\n",
       "      <td>5.453237</td>\n",
       "    </tr>\n",
       "    <tr>\n",
       "      <th>24</th>\n",
       "      <td>을지로동</td>\n",
       "      <td>0.098930</td>\n",
       "      <td>0.103877</td>\n",
       "      <td>0.139548</td>\n",
       "      <td>12.966919</td>\n",
       "      <td>15.630887</td>\n",
       "      <td>81.027000</td>\n",
       "      <td>3.600961</td>\n",
       "      <td>3.953592</td>\n",
       "      <td>9.001500</td>\n",
       "    </tr>\n",
       "    <tr>\n",
       "      <th>25</th>\n",
       "      <td>신당5동</td>\n",
       "      <td>0.099635</td>\n",
       "      <td>0.092661</td>\n",
       "      <td>0.111608</td>\n",
       "      <td>3.614323</td>\n",
       "      <td>8.282883</td>\n",
       "      <td>21.800579</td>\n",
       "      <td>1.901137</td>\n",
       "      <td>2.878000</td>\n",
       "      <td>4.669109</td>\n",
       "    </tr>\n",
       "    <tr>\n",
       "      <th>26</th>\n",
       "      <td>황학동</td>\n",
       "      <td>0.046349</td>\n",
       "      <td>0.093578</td>\n",
       "      <td>0.109595</td>\n",
       "      <td>3.185311</td>\n",
       "      <td>7.122231</td>\n",
       "      <td>32.468986</td>\n",
       "      <td>1.784744</td>\n",
       "      <td>2.668751</td>\n",
       "      <td>5.698156</td>\n",
       "    </tr>\n",
       "    <tr>\n",
       "      <th>27</th>\n",
       "      <td>중림동</td>\n",
       "      <td>0.134847</td>\n",
       "      <td>0.448811</td>\n",
       "      <td>0.108398</td>\n",
       "      <td>13.678983</td>\n",
       "      <td>110.266553</td>\n",
       "      <td>25.255939</td>\n",
       "      <td>3.698511</td>\n",
       "      <td>10.500788</td>\n",
       "      <td>5.025529</td>\n",
       "    </tr>\n",
       "    <tr>\n",
       "      <th>28</th>\n",
       "      <td>신당동</td>\n",
       "      <td>0.238261</td>\n",
       "      <td>0.078191</td>\n",
       "      <td>0.116320</td>\n",
       "      <td>160.663751</td>\n",
       "      <td>12.754325</td>\n",
       "      <td>107.662204</td>\n",
       "      <td>12.675321</td>\n",
       "      <td>3.571320</td>\n",
       "      <td>10.376040</td>\n",
       "    </tr>\n",
       "    <tr>\n",
       "      <th>29</th>\n",
       "      <td>다산동</td>\n",
       "      <td>0.227929</td>\n",
       "      <td>0.079041</td>\n",
       "      <td>0.061063</td>\n",
       "      <td>78.126127</td>\n",
       "      <td>7.305122</td>\n",
       "      <td>13.110949</td>\n",
       "      <td>8.838899</td>\n",
       "      <td>2.702799</td>\n",
       "      <td>3.620904</td>\n",
       "    </tr>\n",
       "    <tr>\n",
       "      <th>30</th>\n",
       "      <td>약수동</td>\n",
       "      <td>0.055649</td>\n",
       "      <td>0.126935</td>\n",
       "      <td>0.104847</td>\n",
       "      <td>4.887194</td>\n",
       "      <td>34.925103</td>\n",
       "      <td>32.432332</td>\n",
       "      <td>2.210700</td>\n",
       "      <td>5.909746</td>\n",
       "      <td>5.694939</td>\n",
       "    </tr>\n",
       "    <tr>\n",
       "      <th>31</th>\n",
       "      <td>청구동</td>\n",
       "      <td>0.108344</td>\n",
       "      <td>0.204299</td>\n",
       "      <td>0.146563</td>\n",
       "      <td>16.071689</td>\n",
       "      <td>34.214496</td>\n",
       "      <td>97.652744</td>\n",
       "      <td>4.008951</td>\n",
       "      <td>5.849316</td>\n",
       "      <td>9.881940</td>\n",
       "    </tr>\n",
       "    <tr>\n",
       "      <th>32</th>\n",
       "      <td>동화동</td>\n",
       "      <td>0.213298</td>\n",
       "      <td>0.147626</td>\n",
       "      <td>0.176642</td>\n",
       "      <td>23.393690</td>\n",
       "      <td>13.505823</td>\n",
       "      <td>59.782735</td>\n",
       "      <td>4.836702</td>\n",
       "      <td>3.675027</td>\n",
       "      <td>7.731930</td>\n",
       "    </tr>\n",
       "  </tbody>\n",
       "</table>\n",
       "</div>"
      ],
      "text/plain": [
       "      dong  rmsle_eat  rmsle_snack  ...   rmse_eat  rmse_snack  rmse_drink\n",
       "0     월계1동   0.079639     0.139648  ...   2.266657    2.353715    2.377666\n",
       "1     월계2동   0.103827     0.267225  ...   3.132417    5.257712    3.958076\n",
       "2     월계3동   0.059708     0.181435  ...   1.766101    5.169094    3.282557\n",
       "3     공릉2동   0.069805     0.142597  ...   1.918033    2.948128    2.680082\n",
       "4     하계1동   0.102395     0.087581  ...   3.201231    2.699830    7.882477\n",
       "5     하계2동   0.084382     0.130103  ...   4.489950    7.363362    6.815832\n",
       "6     중계본동   0.101682     0.147243  ...   3.965184    5.100457    4.890393\n",
       "7     중계1동   0.109772     0.205490  ...   3.555355    5.469433    8.465513\n",
       "8     중계4동   0.135118     0.110807  ...   5.690105    3.112163   12.666988\n",
       "9     상계1동   0.072491     0.076756  ...   1.997296    1.902493    5.204223\n",
       "10    상계2동   0.074561     0.098362  ...   3.199268    2.986458    5.897741\n",
       "11    상계5동   0.116355     0.072817  ...   3.732049    1.688963    3.963542\n",
       "12    상계9동   0.076129     0.119164  ...   2.251116    3.401779    6.402247\n",
       "13   상계10동   0.143542     0.092850  ...   4.613140    2.176038    4.111186\n",
       "14  상계3.4동   0.115909     0.145558  ...   5.579831    3.723569    3.125037\n",
       "15  상계6.7동   0.066114     0.147687  ...   2.138579    5.444283    5.550345\n",
       "16  중계2.3동   0.112849     0.093941  ...   6.492837    3.820861   10.721040\n",
       "17    공릉1동   0.095959     0.085761  ...   2.502043    1.515069    3.110655\n",
       "18     소공동   0.212287     0.284958  ...   6.410646    5.802620    5.625758\n",
       "19     회현동   0.134704     0.149091  ...   4.307734    4.079411    9.114442\n",
       "20      명동   0.139262     0.187964  ...   3.707412    3.554719    7.840317\n",
       "21      필동   0.107079     0.102002  ...   3.706944    2.344719    5.131900\n",
       "22     장충동   0.104609     0.123503  ...   2.358394    2.239002    1.457529\n",
       "23     광희동   0.091204     0.117130  ...   2.421903    2.573269    5.453237\n",
       "24    을지로동   0.098930     0.103877  ...   3.600961    3.953592    9.001500\n",
       "25    신당5동   0.099635     0.092661  ...   1.901137    2.878000    4.669109\n",
       "26     황학동   0.046349     0.093578  ...   1.784744    2.668751    5.698156\n",
       "27     중림동   0.134847     0.448811  ...   3.698511   10.500788    5.025529\n",
       "28     신당동   0.238261     0.078191  ...  12.675321    3.571320   10.376040\n",
       "29     다산동   0.227929     0.079041  ...   8.838899    2.702799    3.620904\n",
       "30     약수동   0.055649     0.126935  ...   2.210700    5.909746    5.694939\n",
       "31     청구동   0.108344     0.204299  ...   4.008951    5.849316    9.881940\n",
       "32     동화동   0.213298     0.147626  ...   4.836702    3.675027    7.731930\n",
       "\n",
       "[33 rows x 10 columns]"
      ]
     },
     "execution_count": 42,
     "metadata": {
      "tags": []
     },
     "output_type": "execute_result"
    }
   ],
   "source": [
    "#dong.remove('상계8동')\n",
    "n=len(dong)\n",
    "result_ardl = pd.DataFrame({'dong':dong,\n",
    "                       'rmsle_eat':RMSLE_ARDL[:n],'rmsle_snack':RMSLE_ARDL[n:len(RMSLE_ARDL)-n],'rmsle_drink':RMSLE_ARDL[len(RMSLE_ARDL)-n:],\n",
    "                       'mse_eat':MSE_ARDL[:n],'mse_snack':MSE_ARDL[n:len(MSE_ARDL)-n],'mse_drink':MSE_ARDL[len(MSE_ARDL)-n:],\n",
    "                       'rmse_eat':RMSE_ARDL[:n],'rmse_snack':RMSE_ARDL[n:len(RMSE_ARDL)-n],'rmse_drink':RMSE_ARDL[len(RMSE_ARDL)-n:]}).reset_index(drop=True)\n",
    "result_ardl"
   ]
  },
  {
   "cell_type": "code",
   "execution_count": null,
   "metadata": {
    "colab": {
     "base_uri": "https://localhost:8080/",
     "height": 86
    },
    "id": "JkyPp2o8caGB",
    "outputId": "0b04374b-d2f0-41f3-a277-fc42f0f7a026"
   },
   "outputs": [
    {
     "name": "stdout",
     "output_type": "stream",
     "text": [
      "ARDL모델의 동별 RMSLE의 평균은 식사:0.11310987390875296 간식:0.1419603400814931 마실거리:0.10860925520230373\n",
      "ARDL모델의 동별 RMSLE의 총계는 식사:3.7326258389888483 간식:4.684691222689271 마실거리:3.5841054216760235\n",
      "ARDL모델의 동별 MSE의 평균은 식사:20.202338480010958 간식:18.542528365653755 마실거리:42.73156405995093\n",
      "ARDL모델의 동별 MSE의 총계는 식사:666.6771698403617 간식:611.9034360665739 마실거리:1410.1416139783807\n"
     ]
    }
   ],
   "source": [
    "print(\"ARDL모델의 동별 RMSLE의 평균은 식사:{} 간식:{} 마실거리:{}\".format(np.mean(result_ardl.rmsle_eat),np.mean(result_ardl.rmsle_snack),np.mean(result_ardl.rmsle_drink)))\n",
    "print(\"ARDL모델의 동별 RMSLE의 총계는 식사:{} 간식:{} 마실거리:{}\".format(np.sum(result_ardl.rmsle_eat),np.sum(result_ardl.rmsle_snack),np.sum(result_ardl.rmsle_drink)))\n",
    "\n",
    "print(\"ARDL모델의 동별 MSE의 평균은 식사:{} 간식:{} 마실거리:{}\".format(np.mean(result_ardl.mse_eat),np.mean(result_ardl.mse_snack),np.mean(result_ardl.mse_drink)))\n",
    "print(\"ARDL모델의 동별 MSE의 총계는 식사:{} 간식:{} 마실거리:{}\".format(np.sum(result_ardl.mse_eat),np.sum(result_ardl.mse_snack),np.sum(result_ardl.mse_drink)))"
   ]
  },
  {
   "cell_type": "markdown",
   "metadata": {
    "id": "wIhHRKyvbABa"
   },
   "source": [
    "## 2) XGBoost"
   ]
  },
  {
   "cell_type": "code",
   "execution_count": null,
   "metadata": {
    "id": "7Wa72F3LVDul"
   },
   "outputs": [],
   "source": [
    "from xgboost import plot_importance, XGBRegressor\n",
    "import lightgbm as lgb\n",
    "from sklearn.model_selection import RandomizedSearchCV, GridSearchCV\n",
    "from sklearn.metrics import mean_squared_error, r2_score\n",
    "from sklearn.model_selection import StratifiedKFold"
   ]
  },
  {
   "cell_type": "code",
   "execution_count": null,
   "metadata": {
    "id": "XlT3gd6xfJTO"
   },
   "outputs": [],
   "source": [
    "def algorithm_pipeline(X_train_data, X_test_data, y_train_data, y_test_data, \n",
    "                       model, param_grid, cv=5, scoring_fit='neg_mean_squared_error',\n",
    "                       do_probabilities = False):\n",
    "    gs = GridSearchCV(\n",
    "        estimator=model,\n",
    "        param_grid=param_grid, \n",
    "        cv=cv, \n",
    "        n_jobs=1, \n",
    "        scoring=scoring_fit,\n",
    "        verbose=0\n",
    "    )\n",
    "    fitted_model = gs.fit(X_train_data, y_train_data)\n",
    "    \n",
    "    if do_probabilities:\n",
    "      pred = fitted_model.predict_proba(X_test_data)\n",
    "    else:\n",
    "      pred = fitted_model.predict(X_test_data)\n",
    "    \n",
    "    return fitted_model, pred"
   ]
  },
  {
   "cell_type": "code",
   "execution_count": null,
   "metadata": {
    "id": "43HYyG8_qQ57"
   },
   "outputs": [],
   "source": [
    "def XGBOOST(X,dong,cat):\n",
    "  X=build_data(X,dong,cat)\n",
    "\n",
    "  y = X['y']\n",
    "  del X['y']\n",
    "\n",
    "  scaled_X = minmax_scalar(X)\n",
    "  X_train,X_test,y_train,y_test = train_test_split(7,scaled_X,y)\n",
    "  xgb = XGBRegressor(objective ='reg:squarederror',seed=0)\n",
    "  #print(xgb)\n",
    "  '''\n",
    "  param_grid = {\n",
    "      'n_estimators': [100,300,500],\n",
    "      'eta' : [0.1,0.3],\n",
    "      'max_depth': [3,5,7,9],\n",
    "  }\n",
    "  model, predict = algorithm_pipeline(X_train, X_test, y_train, y_test, xgb, \n",
    "                                 param_grid, cv=5)\n",
    "  '''\n",
    "  #plot_importance(model, height=0.9)\n",
    "  xgb.fit(X_train,y_train,eval_set=[(X_test,y_test)],verbose=0)\n",
    "  predict = xgb.predict(X_test)\n",
    "\n",
    "  mse = np.mean((y_test-predict)**2)\n",
    "  rmsle = RMSLE_fun(np.array(y_test),np.array(predict))\n",
    "  #r2= r2_score(np.array(y_test),np.array(predict))\n",
    "\n",
    "  return mse,rmsle"
   ]
  },
  {
   "cell_type": "code",
   "execution_count": null,
   "metadata": {
    "id": "HtufAaAmC52e"
   },
   "outputs": [],
   "source": [
    "warnings.filterwarnings(\"ignore\")\n",
    "\n",
    "dong = list(gu.query('HDONG_GU ==\"서울 노원구\"').HDONG_NM.unique())+list(gu.query('HDONG_GU ==\"서울 중구\"').HDONG_NM.unique())\n",
    "cat = ['식사','간식','마실거리']\n",
    "\n",
    "RMSLE_XGBOOST=[]\n",
    "MSE_XGBOOST=[]\n",
    "for j,c in enumerate(cat):\n",
    "  for i,d in enumerate(dong):\n",
    "    if d ==\"상계8동\":\n",
    "      continue\n",
    "    #print('=============================result of {}============================'.format(d))\n",
    "    mse,rmsle=XGBOOST(final_data4,d,c)\n",
    "    RMSLE_XGBOOST.append(rmsle)\n",
    "    MSE_XGBOOST.append(mse)"
   ]
  },
  {
   "cell_type": "code",
   "execution_count": null,
   "metadata": {
    "colab": {
     "base_uri": "https://localhost:8080/",
     "height": 1000
    },
    "id": "-1r8XzxjsjH0",
    "outputId": "6f2468ba-c3f2-4290-ccd2-63621b6e776e"
   },
   "outputs": [
    {
     "data": {
      "text/html": [
       "<div>\n",
       "<style scoped>\n",
       "    .dataframe tbody tr th:only-of-type {\n",
       "        vertical-align: middle;\n",
       "    }\n",
       "\n",
       "    .dataframe tbody tr th {\n",
       "        vertical-align: top;\n",
       "    }\n",
       "\n",
       "    .dataframe thead th {\n",
       "        text-align: right;\n",
       "    }\n",
       "</style>\n",
       "<table border=\"1\" class=\"dataframe\">\n",
       "  <thead>\n",
       "    <tr style=\"text-align: right;\">\n",
       "      <th></th>\n",
       "      <th>dong</th>\n",
       "      <th>rmsle_eat</th>\n",
       "      <th>rmsle_snack</th>\n",
       "      <th>rmsle_drink</th>\n",
       "      <th>mse_eat</th>\n",
       "      <th>mse_snack</th>\n",
       "      <th>mse_drink</th>\n",
       "      <th>rmse_eat</th>\n",
       "      <th>rmse_snack</th>\n",
       "      <th>rmse_drink</th>\n",
       "    </tr>\n",
       "  </thead>\n",
       "  <tbody>\n",
       "    <tr>\n",
       "      <th>0</th>\n",
       "      <td>월계1동</td>\n",
       "      <td>0.071206</td>\n",
       "      <td>0.054878</td>\n",
       "      <td>0.076844</td>\n",
       "      <td>4.754965</td>\n",
       "      <td>1.016144</td>\n",
       "      <td>7.571310</td>\n",
       "      <td>2.266657</td>\n",
       "      <td>2.353715</td>\n",
       "      <td>2.377666</td>\n",
       "    </tr>\n",
       "    <tr>\n",
       "      <th>1</th>\n",
       "      <td>월계2동</td>\n",
       "      <td>0.075597</td>\n",
       "      <td>0.097734</td>\n",
       "      <td>0.136169</td>\n",
       "      <td>7.060874</td>\n",
       "      <td>4.854114</td>\n",
       "      <td>28.206982</td>\n",
       "      <td>3.132417</td>\n",
       "      <td>5.257712</td>\n",
       "      <td>3.958076</td>\n",
       "    </tr>\n",
       "    <tr>\n",
       "      <th>2</th>\n",
       "      <td>월계3동</td>\n",
       "      <td>0.113038</td>\n",
       "      <td>0.067599</td>\n",
       "      <td>0.087430</td>\n",
       "      <td>11.117859</td>\n",
       "      <td>2.977321</td>\n",
       "      <td>19.481231</td>\n",
       "      <td>1.766101</td>\n",
       "      <td>5.169094</td>\n",
       "      <td>3.282557</td>\n",
       "    </tr>\n",
       "    <tr>\n",
       "      <th>3</th>\n",
       "      <td>공릉2동</td>\n",
       "      <td>0.083556</td>\n",
       "      <td>0.057639</td>\n",
       "      <td>0.096679</td>\n",
       "      <td>6.143077</td>\n",
       "      <td>1.612820</td>\n",
       "      <td>12.433268</td>\n",
       "      <td>1.918033</td>\n",
       "      <td>2.948128</td>\n",
       "      <td>2.680082</td>\n",
       "    </tr>\n",
       "    <tr>\n",
       "      <th>4</th>\n",
       "      <td>하계1동</td>\n",
       "      <td>0.097556</td>\n",
       "      <td>0.085196</td>\n",
       "      <td>0.156163</td>\n",
       "      <td>9.453148</td>\n",
       "      <td>5.682678</td>\n",
       "      <td>62.177967</td>\n",
       "      <td>3.201231</td>\n",
       "      <td>2.699830</td>\n",
       "      <td>7.882477</td>\n",
       "    </tr>\n",
       "    <tr>\n",
       "      <th>5</th>\n",
       "      <td>하계2동</td>\n",
       "      <td>0.113752</td>\n",
       "      <td>0.071054</td>\n",
       "      <td>0.114243</td>\n",
       "      <td>33.200198</td>\n",
       "      <td>11.324728</td>\n",
       "      <td>39.180565</td>\n",
       "      <td>4.489950</td>\n",
       "      <td>7.363362</td>\n",
       "      <td>6.815832</td>\n",
       "    </tr>\n",
       "    <tr>\n",
       "      <th>6</th>\n",
       "      <td>중계본동</td>\n",
       "      <td>0.097264</td>\n",
       "      <td>0.090510</td>\n",
       "      <td>0.126905</td>\n",
       "      <td>16.283159</td>\n",
       "      <td>10.399603</td>\n",
       "      <td>42.554179</td>\n",
       "      <td>3.965184</td>\n",
       "      <td>5.100457</td>\n",
       "      <td>4.890393</td>\n",
       "    </tr>\n",
       "    <tr>\n",
       "      <th>7</th>\n",
       "      <td>중계1동</td>\n",
       "      <td>0.130690</td>\n",
       "      <td>0.081441</td>\n",
       "      <td>0.150871</td>\n",
       "      <td>18.549631</td>\n",
       "      <td>4.749118</td>\n",
       "      <td>46.887779</td>\n",
       "      <td>3.555355</td>\n",
       "      <td>5.469433</td>\n",
       "      <td>8.465513</td>\n",
       "    </tr>\n",
       "    <tr>\n",
       "      <th>8</th>\n",
       "      <td>중계4동</td>\n",
       "      <td>0.080445</td>\n",
       "      <td>0.117846</td>\n",
       "      <td>0.176345</td>\n",
       "      <td>8.301635</td>\n",
       "      <td>8.178757</td>\n",
       "      <td>64.026710</td>\n",
       "      <td>5.690105</td>\n",
       "      <td>3.112163</td>\n",
       "      <td>12.666988</td>\n",
       "    </tr>\n",
       "    <tr>\n",
       "      <th>9</th>\n",
       "      <td>상계1동</td>\n",
       "      <td>0.075050</td>\n",
       "      <td>0.071833</td>\n",
       "      <td>0.105689</td>\n",
       "      <td>3.662212</td>\n",
       "      <td>2.661270</td>\n",
       "      <td>17.665980</td>\n",
       "      <td>1.997296</td>\n",
       "      <td>1.902493</td>\n",
       "      <td>5.204223</td>\n",
       "    </tr>\n",
       "    <tr>\n",
       "      <th>10</th>\n",
       "      <td>상계2동</td>\n",
       "      <td>0.052162</td>\n",
       "      <td>0.054681</td>\n",
       "      <td>0.136417</td>\n",
       "      <td>4.898036</td>\n",
       "      <td>3.062425</td>\n",
       "      <td>62.978459</td>\n",
       "      <td>3.199268</td>\n",
       "      <td>2.986458</td>\n",
       "      <td>5.897741</td>\n",
       "    </tr>\n",
       "    <tr>\n",
       "      <th>11</th>\n",
       "      <td>상계5동</td>\n",
       "      <td>0.100606</td>\n",
       "      <td>0.061291</td>\n",
       "      <td>0.096219</td>\n",
       "      <td>11.527515</td>\n",
       "      <td>1.404197</td>\n",
       "      <td>12.459981</td>\n",
       "      <td>3.732049</td>\n",
       "      <td>1.688963</td>\n",
       "      <td>3.963542</td>\n",
       "    </tr>\n",
       "    <tr>\n",
       "      <th>12</th>\n",
       "      <td>상계9동</td>\n",
       "      <td>0.124854</td>\n",
       "      <td>0.088906</td>\n",
       "      <td>0.142417</td>\n",
       "      <td>14.381691</td>\n",
       "      <td>4.886846</td>\n",
       "      <td>42.132526</td>\n",
       "      <td>2.251116</td>\n",
       "      <td>3.401779</td>\n",
       "      <td>6.402247</td>\n",
       "    </tr>\n",
       "    <tr>\n",
       "      <th>13</th>\n",
       "      <td>상계10동</td>\n",
       "      <td>0.071697</td>\n",
       "      <td>0.098910</td>\n",
       "      <td>0.102881</td>\n",
       "      <td>4.537602</td>\n",
       "      <td>3.709609</td>\n",
       "      <td>18.980537</td>\n",
       "      <td>4.613140</td>\n",
       "      <td>2.176038</td>\n",
       "      <td>4.111186</td>\n",
       "    </tr>\n",
       "    <tr>\n",
       "      <th>14</th>\n",
       "      <td>상계3.4동</td>\n",
       "      <td>0.077043</td>\n",
       "      <td>0.089313</td>\n",
       "      <td>0.082735</td>\n",
       "      <td>11.764775</td>\n",
       "      <td>5.874069</td>\n",
       "      <td>13.475952</td>\n",
       "      <td>5.579831</td>\n",
       "      <td>3.723569</td>\n",
       "      <td>3.125037</td>\n",
       "    </tr>\n",
       "    <tr>\n",
       "      <th>15</th>\n",
       "      <td>상계6.7동</td>\n",
       "      <td>0.134183</td>\n",
       "      <td>0.104215</td>\n",
       "      <td>0.094176</td>\n",
       "      <td>20.430484</td>\n",
       "      <td>14.024154</td>\n",
       "      <td>26.775844</td>\n",
       "      <td>2.138579</td>\n",
       "      <td>5.444283</td>\n",
       "      <td>5.550345</td>\n",
       "    </tr>\n",
       "    <tr>\n",
       "      <th>16</th>\n",
       "      <td>중계2.3동</td>\n",
       "      <td>0.064614</td>\n",
       "      <td>0.082351</td>\n",
       "      <td>0.094490</td>\n",
       "      <td>11.252411</td>\n",
       "      <td>9.937360</td>\n",
       "      <td>37.004739</td>\n",
       "      <td>6.492837</td>\n",
       "      <td>3.820861</td>\n",
       "      <td>10.721040</td>\n",
       "    </tr>\n",
       "    <tr>\n",
       "      <th>17</th>\n",
       "      <td>공릉1동</td>\n",
       "      <td>0.052384</td>\n",
       "      <td>0.046555</td>\n",
       "      <td>0.120159</td>\n",
       "      <td>1.868050</td>\n",
       "      <td>0.601643</td>\n",
       "      <td>15.571116</td>\n",
       "      <td>2.502043</td>\n",
       "      <td>1.515069</td>\n",
       "      <td>3.110655</td>\n",
       "    </tr>\n",
       "    <tr>\n",
       "      <th>18</th>\n",
       "      <td>소공동</td>\n",
       "      <td>0.133705</td>\n",
       "      <td>0.240277</td>\n",
       "      <td>0.076060</td>\n",
       "      <td>13.789800</td>\n",
       "      <td>97.595523</td>\n",
       "      <td>15.130035</td>\n",
       "      <td>6.410646</td>\n",
       "      <td>5.802620</td>\n",
       "      <td>5.625758</td>\n",
       "    </tr>\n",
       "    <tr>\n",
       "      <th>19</th>\n",
       "      <td>회현동</td>\n",
       "      <td>0.053863</td>\n",
       "      <td>0.078146</td>\n",
       "      <td>0.062597</td>\n",
       "      <td>2.874047</td>\n",
       "      <td>3.547279</td>\n",
       "      <td>7.887633</td>\n",
       "      <td>4.307734</td>\n",
       "      <td>4.079411</td>\n",
       "      <td>9.114442</td>\n",
       "    </tr>\n",
       "    <tr>\n",
       "      <th>20</th>\n",
       "      <td>명동</td>\n",
       "      <td>0.052172</td>\n",
       "      <td>0.127440</td>\n",
       "      <td>0.111252</td>\n",
       "      <td>2.091015</td>\n",
       "      <td>5.396591</td>\n",
       "      <td>20.660285</td>\n",
       "      <td>3.707412</td>\n",
       "      <td>3.554719</td>\n",
       "      <td>7.840317</td>\n",
       "    </tr>\n",
       "    <tr>\n",
       "      <th>21</th>\n",
       "      <td>필동</td>\n",
       "      <td>0.074309</td>\n",
       "      <td>0.042467</td>\n",
       "      <td>0.118976</td>\n",
       "      <td>8.244675</td>\n",
       "      <td>1.136707</td>\n",
       "      <td>21.809472</td>\n",
       "      <td>3.706944</td>\n",
       "      <td>2.344719</td>\n",
       "      <td>5.131900</td>\n",
       "    </tr>\n",
       "    <tr>\n",
       "      <th>22</th>\n",
       "      <td>장충동</td>\n",
       "      <td>0.177463</td>\n",
       "      <td>0.142953</td>\n",
       "      <td>0.075142</td>\n",
       "      <td>18.189587</td>\n",
       "      <td>5.514670</td>\n",
       "      <td>4.356995</td>\n",
       "      <td>2.358394</td>\n",
       "      <td>2.239002</td>\n",
       "      <td>1.457529</td>\n",
       "    </tr>\n",
       "    <tr>\n",
       "      <th>23</th>\n",
       "      <td>광희동</td>\n",
       "      <td>0.065645</td>\n",
       "      <td>0.091037</td>\n",
       "      <td>0.089599</td>\n",
       "      <td>3.603019</td>\n",
       "      <td>2.750699</td>\n",
       "      <td>11.813168</td>\n",
       "      <td>2.421903</td>\n",
       "      <td>2.573269</td>\n",
       "      <td>5.453237</td>\n",
       "    </tr>\n",
       "    <tr>\n",
       "      <th>24</th>\n",
       "      <td>을지로동</td>\n",
       "      <td>0.099378</td>\n",
       "      <td>0.135876</td>\n",
       "      <td>0.179584</td>\n",
       "      <td>8.835071</td>\n",
       "      <td>8.518186</td>\n",
       "      <td>53.315545</td>\n",
       "      <td>3.600961</td>\n",
       "      <td>3.953592</td>\n",
       "      <td>9.001500</td>\n",
       "    </tr>\n",
       "    <tr>\n",
       "      <th>25</th>\n",
       "      <td>신당5동</td>\n",
       "      <td>0.114224</td>\n",
       "      <td>0.106055</td>\n",
       "      <td>0.106528</td>\n",
       "      <td>10.000424</td>\n",
       "      <td>8.488459</td>\n",
       "      <td>20.632916</td>\n",
       "      <td>1.901137</td>\n",
       "      <td>2.878000</td>\n",
       "      <td>4.669109</td>\n",
       "    </tr>\n",
       "    <tr>\n",
       "      <th>26</th>\n",
       "      <td>황학동</td>\n",
       "      <td>0.075677</td>\n",
       "      <td>0.085631</td>\n",
       "      <td>0.097203</td>\n",
       "      <td>6.464865</td>\n",
       "      <td>4.533603</td>\n",
       "      <td>17.649411</td>\n",
       "      <td>1.784744</td>\n",
       "      <td>2.668751</td>\n",
       "      <td>5.698156</td>\n",
       "    </tr>\n",
       "    <tr>\n",
       "      <th>27</th>\n",
       "      <td>중림동</td>\n",
       "      <td>0.059502</td>\n",
       "      <td>0.106436</td>\n",
       "      <td>0.079247</td>\n",
       "      <td>7.214660</td>\n",
       "      <td>7.887845</td>\n",
       "      <td>15.824631</td>\n",
       "      <td>3.698511</td>\n",
       "      <td>10.500788</td>\n",
       "      <td>5.025529</td>\n",
       "    </tr>\n",
       "    <tr>\n",
       "      <th>28</th>\n",
       "      <td>신당동</td>\n",
       "      <td>0.159718</td>\n",
       "      <td>0.103026</td>\n",
       "      <td>0.059147</td>\n",
       "      <td>72.165510</td>\n",
       "      <td>13.247766</td>\n",
       "      <td>16.340695</td>\n",
       "      <td>12.675321</td>\n",
       "      <td>3.571320</td>\n",
       "      <td>10.376040</td>\n",
       "    </tr>\n",
       "    <tr>\n",
       "      <th>29</th>\n",
       "      <td>다산동</td>\n",
       "      <td>0.143817</td>\n",
       "      <td>0.166598</td>\n",
       "      <td>0.111087</td>\n",
       "      <td>16.153867</td>\n",
       "      <td>16.254047</td>\n",
       "      <td>19.593961</td>\n",
       "      <td>8.838899</td>\n",
       "      <td>2.702799</td>\n",
       "      <td>3.620904</td>\n",
       "    </tr>\n",
       "    <tr>\n",
       "      <th>30</th>\n",
       "      <td>약수동</td>\n",
       "      <td>0.068608</td>\n",
       "      <td>0.137683</td>\n",
       "      <td>0.119164</td>\n",
       "      <td>8.144233</td>\n",
       "      <td>30.680204</td>\n",
       "      <td>37.289328</td>\n",
       "      <td>2.210700</td>\n",
       "      <td>5.909746</td>\n",
       "      <td>5.694939</td>\n",
       "    </tr>\n",
       "    <tr>\n",
       "      <th>31</th>\n",
       "      <td>청구동</td>\n",
       "      <td>0.068693</td>\n",
       "      <td>0.202215</td>\n",
       "      <td>0.118943</td>\n",
       "      <td>7.254080</td>\n",
       "      <td>39.821551</td>\n",
       "      <td>42.992757</td>\n",
       "      <td>4.008951</td>\n",
       "      <td>5.849316</td>\n",
       "      <td>9.881940</td>\n",
       "    </tr>\n",
       "    <tr>\n",
       "      <th>32</th>\n",
       "      <td>동화동</td>\n",
       "      <td>0.216292</td>\n",
       "      <td>0.111968</td>\n",
       "      <td>0.133965</td>\n",
       "      <td>22.523963</td>\n",
       "      <td>5.488442</td>\n",
       "      <td>19.335718</td>\n",
       "      <td>4.836702</td>\n",
       "      <td>3.675027</td>\n",
       "      <td>7.731930</td>\n",
       "    </tr>\n",
       "  </tbody>\n",
       "</table>\n",
       "</div>"
      ],
      "text/plain": [
       "      dong  rmsle_eat  rmsle_snack  ...   rmse_eat  rmse_snack  rmse_drink\n",
       "0     월계1동   0.071206     0.054878  ...   2.266657    2.353715    2.377666\n",
       "1     월계2동   0.075597     0.097734  ...   3.132417    5.257712    3.958076\n",
       "2     월계3동   0.113038     0.067599  ...   1.766101    5.169094    3.282557\n",
       "3     공릉2동   0.083556     0.057639  ...   1.918033    2.948128    2.680082\n",
       "4     하계1동   0.097556     0.085196  ...   3.201231    2.699830    7.882477\n",
       "5     하계2동   0.113752     0.071054  ...   4.489950    7.363362    6.815832\n",
       "6     중계본동   0.097264     0.090510  ...   3.965184    5.100457    4.890393\n",
       "7     중계1동   0.130690     0.081441  ...   3.555355    5.469433    8.465513\n",
       "8     중계4동   0.080445     0.117846  ...   5.690105    3.112163   12.666988\n",
       "9     상계1동   0.075050     0.071833  ...   1.997296    1.902493    5.204223\n",
       "10    상계2동   0.052162     0.054681  ...   3.199268    2.986458    5.897741\n",
       "11    상계5동   0.100606     0.061291  ...   3.732049    1.688963    3.963542\n",
       "12    상계9동   0.124854     0.088906  ...   2.251116    3.401779    6.402247\n",
       "13   상계10동   0.071697     0.098910  ...   4.613140    2.176038    4.111186\n",
       "14  상계3.4동   0.077043     0.089313  ...   5.579831    3.723569    3.125037\n",
       "15  상계6.7동   0.134183     0.104215  ...   2.138579    5.444283    5.550345\n",
       "16  중계2.3동   0.064614     0.082351  ...   6.492837    3.820861   10.721040\n",
       "17    공릉1동   0.052384     0.046555  ...   2.502043    1.515069    3.110655\n",
       "18     소공동   0.133705     0.240277  ...   6.410646    5.802620    5.625758\n",
       "19     회현동   0.053863     0.078146  ...   4.307734    4.079411    9.114442\n",
       "20      명동   0.052172     0.127440  ...   3.707412    3.554719    7.840317\n",
       "21      필동   0.074309     0.042467  ...   3.706944    2.344719    5.131900\n",
       "22     장충동   0.177463     0.142953  ...   2.358394    2.239002    1.457529\n",
       "23     광희동   0.065645     0.091037  ...   2.421903    2.573269    5.453237\n",
       "24    을지로동   0.099378     0.135876  ...   3.600961    3.953592    9.001500\n",
       "25    신당5동   0.114224     0.106055  ...   1.901137    2.878000    4.669109\n",
       "26     황학동   0.075677     0.085631  ...   1.784744    2.668751    5.698156\n",
       "27     중림동   0.059502     0.106436  ...   3.698511   10.500788    5.025529\n",
       "28     신당동   0.159718     0.103026  ...  12.675321    3.571320   10.376040\n",
       "29     다산동   0.143817     0.166598  ...   8.838899    2.702799    3.620904\n",
       "30     약수동   0.068608     0.137683  ...   2.210700    5.909746    5.694939\n",
       "31     청구동   0.068693     0.202215  ...   4.008951    5.849316    9.881940\n",
       "32     동화동   0.216292     0.111968  ...   4.836702    3.675027    7.731930\n",
       "\n",
       "[33 rows x 10 columns]"
      ]
     },
     "execution_count": 50,
     "metadata": {
      "tags": []
     },
     "output_type": "execute_result"
    }
   ],
   "source": [
    "dong.remove('상계8동')\n",
    "n=len(dong)\n",
    "result_xgboost = pd.DataFrame({'dong':dong,\n",
    "                       'rmsle_eat':RMSLE_XGBOOST[:n],\n",
    "                       'rmsle_snack':RMSLE_XGBOOST[n:len(RMSLE_XGBOOST)-n],\n",
    "                       'rmsle_drink':RMSLE_XGBOOST[len(RMSLE_XGBOOST)-n:],\n",
    "                       'mse_eat':MSE_XGBOOST[:n],\n",
    "                       'mse_snack':MSE_XGBOOST[n:len(MSE_XGBOOST)-n],\n",
    "                       'mse_drink':MSE_XGBOOST[len(MSE_XGBOOST)-n:],\n",
    "                       'rmse_eat':RMSE_ARDL[:n],\n",
    "                       'rmse_snack':RMSE_ARDL[n:len(RMSE_ARDL)-n],\n",
    "                       'rmse_drink':RMSE_ARDL[len(RMSE_ARDL)-n:]}).reset_index(drop=True)\n",
    "result_xgboost"
   ]
  },
  {
   "cell_type": "code",
   "execution_count": null,
   "metadata": {
    "colab": {
     "base_uri": "https://localhost:8080/",
     "height": 86
    },
    "id": "KLk8AZQ1jDP-",
    "outputId": "6ef89148-8418-425c-bf81-a0a270539478"
   },
   "outputs": [
    {
     "name": "stdout",
     "output_type": "stream",
     "text": [
      "GBM모델의 동별 RMSLE의 평균은 식사:0.09632611767725562 간식:0.0999928442823621 마실거리:0.1101613883467116\n",
      "GBM모델의 동별 RMSLE의 총계는 식사:3.178761883349435 간식:3.29976386131795 마실거리:3.635325815441482\n",
      "GBM모델의 동별 MSE의 평균은 식사:12.325337595310936 간식:10.539952368716026 마실거리:27.09689927564678\n",
      "GBM모델의 동별 MSE의 총계는 식사:406.73614064526083 간식:347.81842816762884 마실거리:894.1976760963436\n"
     ]
    }
   ],
   "source": [
    "print(\"GBM모델의 동별 RMSLE의 평균은 식사:{} 간식:{} 마실거리:{}\".format(np.mean(result_xgboost.rmsle_eat),np.mean(result_xgboost.rmsle_snack),np.mean(result_xgboost.rmsle_drink)))\n",
    "print(\"GBM모델의 동별 RMSLE의 총계는 식사:{} 간식:{} 마실거리:{}\".format(np.sum(result_xgboost.rmsle_eat),np.sum(result_xgboost.rmsle_snack),np.sum(result_xgboost.rmsle_drink)))\n",
    "\n",
    "print(\"GBM모델의 동별 MSE의 평균은 식사:{} 간식:{} 마실거리:{}\".format(np.mean(result_xgboost.mse_eat),np.mean(result_xgboost.mse_snack),np.mean(result_xgboost.mse_drink)))\n",
    "print(\"GBM모델의 동별 MSE의 총계는 식사:{} 간식:{} 마실거리:{}\".format(np.sum(result_xgboost.mse_eat),np.sum(result_xgboost.mse_snack),np.sum(result_xgboost.mse_drink)))\n",
    "\n"
   ]
  }
 ],
 "metadata": {
  "colab": {
   "collapsed_sections": [],
   "name": "[모델링1_GS매출] 시차분석 변수선택, final data set, baseline model",
   "provenance": [],
   "toc_visible": true
  },
  "kernelspec": {
   "display_name": "Python 3",
   "language": "python",
   "name": "python3"
  },
  "language_info": {
   "codemirror_mode": {
    "name": "ipython",
    "version": 3
   },
   "file_extension": ".py",
   "mimetype": "text/x-python",
   "name": "python",
   "nbconvert_exporter": "python",
   "pygments_lexer": "ipython3",
   "version": "3.6.10"
  }
 },
 "nbformat": 4,
 "nbformat_minor": 1
}