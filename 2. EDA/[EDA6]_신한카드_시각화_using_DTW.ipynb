{
 "cells": [
  {
   "cell_type": "code",
   "execution_count": null,
   "metadata": {
    "id": "CTHm7hPrKMry"
   },
   "outputs": [],
   "source": [
    "#!sudo apt-get install -y fonts-nanum\n",
    "#!sudo fc-cache -fv\n",
    "#!rm ~/.cache/matplotlib -rf"
   ]
  },
  {
   "cell_type": "code",
   "execution_count": null,
   "metadata": {
    "colab": {
     "base_uri": "https://localhost:8080/",
     "height": 34
    },
    "id": "Zg1O5euiEfs7",
    "outputId": "5d9a2e43-e759-4065-843c-cc9f3a1fdcc7"
   },
   "outputs": [
    {
     "name": "stdout",
     "output_type": "stream",
     "text": [
      "Drive already mounted at /content/gdrive; to attempt to forcibly remount, call drive.mount(\"/content/gdrive\", force_remount=True).\n"
     ]
    }
   ],
   "source": [
    "import os, sys\n",
    "from google.colab import drive\n",
    "drive.mount('/content/gdrive')"
   ]
  },
  {
   "cell_type": "code",
   "execution_count": null,
   "metadata": {
    "colab": {
     "base_uri": "https://localhost:8080/",
     "height": 72
    },
    "id": "IC64ZhjBKRyw",
    "outputId": "9dccde4a-c501-45e0-a22b-fd3d78a43982"
   },
   "outputs": [
    {
     "name": "stderr",
     "output_type": "stream",
     "text": [
      "/usr/local/lib/python3.6/dist-packages/statsmodels/tools/_testing.py:19: FutureWarning: pandas.util.testing is deprecated. Use the functions in the public API at pandas.testing instead.\n",
      "  import pandas.util.testing as tm\n"
     ]
    }
   ],
   "source": [
    "import numpy as np\n",
    "import pandas as pd\n",
    "import matplotlib.pyplot as plt\n",
    "import seaborn as sns\n",
    "\n",
    "from datetime import datetime as dt\n",
    "import warnings\n",
    "\n",
    " \n",
    "warnings.filterwarnings(\"ignore\")\n",
    "plt.rc('font', family='NanumBarunGothic') \n",
    "\n",
    "%matplotlib inline"
   ]
  },
  {
   "cell_type": "markdown",
   "metadata": {
    "id": "gDRvHEV069ik"
   },
   "source": [
    "# **DATA cleansing**"
   ]
  },
  {
   "cell_type": "code",
   "execution_count": null,
   "metadata": {
    "id": "oJM3dgcq_6XI"
   },
   "outputs": [],
   "source": [
    "all = pd.read_csv('./gdrive/My Drive/빅콘 대상팀/data/all_clean.csv',parse_dates=['STD_YMD'])"
   ]
  },
  {
   "cell_type": "code",
   "execution_count": null,
   "metadata": {
    "id": "5HI7kTQzDZHr"
   },
   "outputs": [],
   "source": [
    "cj = list(all.filter(like='CJ').columns)\n",
    "gs = list(all.filter(like='GS').columns)\n",
    "tmst = list(all.filter(like='TMST').columns)\n",
    "sc = all.drop(cj+gs+tmst, axis = 1) \n",
    "amt = list(sc.filter(like='AMT').columns)\n",
    "sc_cnt = sc.drop(amt,axis=1)\n",
    "sc_cnt = sc_cnt.query('HDONG_GU ==\"서울 중구\" or HDONG_GU == \"서울 노원구\"')"
   ]
  },
  {
   "cell_type": "code",
   "execution_count": null,
   "metadata": {
    "id": "-4_wGN5WF9V6"
   },
   "outputs": [],
   "source": [
    "sc_cnt_sum = sc_cnt.groupby('STD_YMD').sum().reset_index()\n",
    "sc_cnt_sum.columns.values[1:] = list(map(lambda x : x[7:],sc_cnt_sum.columns.values[1:]))"
   ]
  },
  {
   "cell_type": "code",
   "execution_count": null,
   "metadata": {
    "id": "I2tTHRLwG5X9"
   },
   "outputs": [],
   "source": [
    "sc_cnt_sum_19 =sc_cnt_sum[sc_cnt_sum['STD_YMD'] < '2020']\n",
    "sc_cnt_sum_20 =sc_cnt_sum[sc_cnt_sum['STD_YMD'] > '2020']\n",
    "\n",
    "sc_cnt_sum_20.index = sc_cnt_sum_20['STD_YMD']\n",
    "del sc_cnt_sum_20['STD_YMD']"
   ]
  },
  {
   "cell_type": "code",
   "execution_count": null,
   "metadata": {
    "id": "ZyHbyGIuL0gW"
   },
   "outputs": [],
   "source": [
    "#correlation heatmap\n",
    "#plt.figure(figsize=(10,10))\n",
    "#sns.heatmap(data = sc_cnt_sum_20.corr(method='spearman'), annot=True, fmt = '.2f', linewidths=.5, cmap='Blues')\n",
    "#plt.show()"
   ]
  },
  {
   "cell_type": "markdown",
   "metadata": {
    "id": "iTHF97ZF7AxJ"
   },
   "source": [
    "# **2020 clustering**"
   ]
  },
  {
   "cell_type": "code",
   "execution_count": null,
   "metadata": {
    "id": "5GY2T_OZYIRV"
   },
   "outputs": [],
   "source": [
    "sc_cnt_sum_20_roll3 = pd.DataFrame(sc_cnt_sum_20.rolling(3).mean())\n",
    "sc_cnt_sum_20_roll5 = pd.DataFrame(sc_cnt_sum_20.rolling(5).mean())\n",
    "sc_cnt_sum_20_roll7 = pd.DataFrame(sc_cnt_sum_20.rolling(7).mean())"
   ]
  },
  {
   "cell_type": "code",
   "execution_count": null,
   "metadata": {
    "id": "t2YcMRlOGWc2"
   },
   "outputs": [],
   "source": [
    "from sklearn.preprocessing import MinMaxScaler\n",
    "import scipy.cluster.hierarchy as hac\n",
    "from scipy import stats\n",
    "from scipy.cluster.hierarchy import cut_tree\n",
    "\n",
    "def hclust(data,metric):\n",
    "  min_max_scaler = MinMaxScaler()\n",
    "  data_scaled = min_max_scaler.fit_transform(np.array(data))\n",
    "\n",
    "  data_scaled= pd.DataFrame(data_scaled)\n",
    "  data_scaled.columns = data.columns\n",
    "  data_scaled = data_scaled.T\n",
    "\n",
    "  # Do the clustering\n",
    "  Z = hac.linkage(data_scaled, method='single', metric=metric)\n",
    "  \n",
    "  # Plot dendogram\n",
    "  plt.figure(figsize=(8, 6))\n",
    "  plt.title('Hierarchical Clustering Dendrogram',fontsize=20)\n",
    "  plt.xlabel('sample index')\n",
    "  plt.ylabel('distance')\n",
    "  hac.dendrogram(\n",
    "      Z,\n",
    "      leaf_rotation=90.,  # rotates the x axis labels\n",
    "      leaf_font_size=8.,  # font size for the x axis labels\n",
    "  )\n",
    "  plt.show()\n",
    "\n",
    "  return(Z)"
   ]
  },
  {
   "cell_type": "markdown",
   "metadata": {
    "id": "zCj9gS_pZI8i"
   },
   "source": [
    "## **clustering (method = DTW)**"
   ]
  },
  {
   "cell_type": "code",
   "execution_count": null,
   "metadata": {
    "colab": {
     "base_uri": "https://localhost:8080/",
     "height": 1000
    },
    "id": "cYB4LQbdUvVZ",
    "outputId": "b9f880de-5610-49d4-a65f-a3cb572215f4"
   },
   "outputs": [
    {
     "data": {
      "image/png": "[encoded data removed]",
      "text/plain": [
       "<Figure size 576x432 with 1 Axes>"
      ]
     },
     "metadata": {
      "needs_background": "light",
      "tags": []
     },
     "output_type": "display_data"
    },
    {
     "data": {
      "image/png": "[encoded data removed]",
      "text/plain": [
       "<Figure size 576x432 with 1 Axes>"
      ]
     },
     "metadata": {
      "needs_background": "light",
      "tags": []
     },
     "output_type": "display_data"
    },
    {
     "data": {
      "image/png": "[encoded data removed]",
      "text/plain": [
       "<Figure size 576x432 with 1 Axes>"
      ]
     },
     "metadata": {
      "needs_background": "light",
      "tags": []
     },
     "output_type": "display_data"
    },
    {
     "data": {
      "image/png": "[encoded data removed]",
      "text/plain": [
       "<Figure size 576x432 with 1 Axes>"
      ]
     },
     "metadata": {
      "needs_background": "light",
      "tags": []
     },
     "output_type": "display_data"
    }
   ],
   "source": [
    "from scipy.spatial.distance import euclidean\n",
    "from fastdtw import fastdtw\n",
    "\n",
    "def dtw(x, y):\n",
    "    d = fastdtw(x, y, dist=euclidean)[0]\n",
    "    return d \n",
    "    \n",
    "DTW = hclust(sc_cnt_sum_20.dropna(),dtw) # 최종 선택 후, cut tree 진행\n",
    "DTW_roll3 = hclust(sc_cnt_sum_20_roll3.dropna(),dtw)\n",
    "DTW_roll5 = hclust(sc_cnt_sum_20_roll5.dropna(),dtw)\n",
    "DTW_roll7 = hclust(sc_cnt_sum_20_roll7.dropna(),dtw)"
   ]
  },
  {
   "cell_type": "code",
   "execution_count": null,
   "metadata": {
    "id": "FuceXGG-a0mp"
   },
   "outputs": [],
   "source": [
    "DTW_info = cut_tree(DTW,13)\n",
    "DTW_info_roll3 = cut_tree(DTW_roll3, 7)\n",
    "DTW_info_roll5 = cut_tree(DTW_roll5, 5)\n",
    "DTW_info_roll7 = cut_tree(DTW_roll7, 3)"
   ]
  },
  {
   "cell_type": "code",
   "execution_count": null,
   "metadata": {
    "id": "RenydQJVeGKZ"
   },
   "outputs": [],
   "source": [
    "#pearson_info = pearson_info.reshape(-1,)\n",
    "#pearson_info_roll3 = pearson_info_roll3.reshape(-1,)\n",
    "#pearson_info_roll5 = pearson_info_roll5.reshape(-1,)\n",
    "\n",
    "DTW_info=DTW_info.reshape(-1,)\n",
    "DTW_info_roll3=DTW_info_roll3.reshape(-1,)\n",
    "DTW_info_roll5=DTW_info_roll5.reshape(-1,)\n",
    "DTW_info_roll7=DTW_info_roll7.reshape(-1,)"
   ]
  },
  {
   "cell_type": "code",
   "execution_count": null,
   "metadata": {
    "id": "_ZrskAPJeLr9"
   },
   "outputs": [],
   "source": [
    "cat = np.array(sc_cnt_sum_20.columns)"
   ]
  },
  {
   "cell_type": "code",
   "execution_count": null,
   "metadata": {},
   "outputs": [],
   "source": [
    "cluster_result = pd.DataFrame({'업종':cat,\n",
    "                              #'pearson':pearson_info,\n",
    "                              #'pearson_roll3':pearson_info_roll3,\n",
    "                              #'pearson_roll5':pearson_info_roll5,\n",
    "                               'DTW':DTW_info,\n",
    "                               'DTW_roll3':DTW_info_roll3,\n",
    "                               'DTW_roll5':DTW_info_roll5,\n",
    "                               'DTW_roll7':DTW_info_roll7})\n",
    "cluster_result"
   ]
  },
  {
   "cell_type": "markdown",
   "metadata": {
    "id": "cSq7KusHfw2Z"
   },
   "source": [
    "## **DTW cluster graph**"
   ]
  },
  {
   "cell_type": "code",
   "execution_count": null,
   "metadata": {
    "id": "6Mu5V_X1f19a"
   },
   "outputs": [],
   "source": [
    "#data scaling\n",
    "def scaler(data):\n",
    "  min_max_scaler = MinMaxScaler()\n",
    "  data_scaled = min_max_scaler.fit_transform(np.array(data))\n",
    "\n",
    "  data_scaled= pd.DataFrame(data_scaled)\n",
    "  data_scaled.columns = data.columns\n",
    "  return data_scaled\n",
    "\n",
    "# kind show\n",
    "def clustering_plot(cluster,data):\n",
    "  \n",
    "  dat = scaler(data)\n",
    "\n",
    "\n",
    "  legend1 = []\n",
    "  title=\"\"\n",
    "  plt.figure(figsize=(6,6))\n",
    "  for i in range(0, len(cluster)):\n",
    "      plt.plot(dat.loc[:,cluster[i]], linewidth=1,markersize=5)\n",
    "      legend1.append(cluster[i])\n",
    "      if len(cluster) == 1:\n",
    "        title = cluster[i]\n",
    "      else:\n",
    "        title = title + cluster[i] + ', '\n",
    "\n",
    "\n",
    "  plt.title(title, fontsize=20)\n",
    "  plt.tick_params(\n",
    "    axis='x',          # changes apply to the x-axis\n",
    "    which='both',      # both major and minor ticks are affected\n",
    "    bottom=False,      # ticks along the bottom edge are off\n",
    "    labelbottom=False) # labels along the bottom edge are off\n",
    "\n",
    "  plt.tick_params(\n",
    "    axis='y',          # changes apply to the x-axis\n",
    "    which='both',      # both major and minor ticks are affected\n",
    "    left=False,         # ticks along the top edge are off\n",
    "    labelleft=False) # labels along the bottom edge are off\n",
    "\n",
    "  plt.yticks(color='w')\n",
    "  legend1=[x[7:] for x in legend1]\n",
    "  #plt.legend(legend1,bbox_to_anchor=(1,0.5),loc='center left',fontsize=10)\n",
    "  #plt.legend(legend1,loc='lower center',bbox_to_anchor=(0.5, 0.9),ncol=len(legend1)-1,fontsize=8)\n",
    "\n",
    "  plt.show()"
   ]
  },
  {
   "cell_type": "markdown",
   "metadata": {
    "id": "zsX8tWYhg7_v"
   },
   "source": [
    "### 1.**DTW no rolling (실제 사용한 방법)**"
   ]
  },
  {
   "cell_type": "code",
   "execution_count": null,
   "metadata": {},
   "outputs": [],
   "source": [
    "n=cluster_result['DTW'].max()+1\n",
    "for i in range(n):\n",
    "  cluster = list(cluster_result.loc[cluster_result['DTW'] == i].업종)\n",
    "  clustering_plot(cluster,sc_cnt_sum_20)"
   ]
  },
  {
   "cell_type": "markdown",
   "metadata": {
    "id": "1C2mGPlfhChQ"
   },
   "source": [
    "### **2. DTW rolling 3**"
   ]
  },
  {
   "cell_type": "code",
   "execution_count": null,
   "metadata": {},
   "outputs": [],
   "source": [
    "n=cluster_result['DTW_roll3'].max()+1\n",
    "for i in range(n):\n",
    "  cluster = list(cluster_result.loc[cluster_result['DTW_roll3'] == i].업종)\n",
    "  clustering_plot(cluster,sc_cnt_sum_20_roll3)"
   ]
  },
  {
   "cell_type": "markdown",
   "metadata": {
    "id": "G7RLFfzhh9_J"
   },
   "source": [
    "### **3. DTW rolling 5**"
   ]
  },
  {
   "cell_type": "code",
   "execution_count": null,
   "metadata": {},
   "outputs": [],
   "source": [
    "n=cluster_result['DTW_roll5'].max()+1\n",
    "for i in range(n):\n",
    "  cluster = list(cluster_result.loc[cluster_result['DTW_roll5'] == i].업종)\n",
    "  clustering_plot(cluster,sc_cnt_sum_20_roll5)"
   ]
  },
  {
   "cell_type": "markdown",
   "metadata": {
    "id": "eJKyvWVGiOLK"
   },
   "source": [
    "### **4. DTW rolling 7**"
   ]
  },
  {
   "cell_type": "code",
   "execution_count": null,
   "metadata": {},
   "outputs": [],
   "source": [
    "n=cluster_result['DTW_roll7'].max()+1\n",
    "for i in range(n):\n",
    "  cluster = list(cluster_result.loc[cluster_result['DTW_roll7'] == i].업종)\n",
    "  clustering_plot(cluster,sc_cnt_sum_20_roll7)"
   ]
  },
  {
   "cell_type": "markdown",
   "metadata": {
    "id": "oC1phiWAi3TR"
   },
   "source": [
    "# **동별 업종 건수 summary**"
   ]
  },
  {
   "cell_type": "code",
   "execution_count": null,
   "metadata": {
    "id": "l4KNygUki2T1"
   },
   "outputs": [],
   "source": [
    "sc_cnt_dong= sc_cnt.groupby(['HDONG_NM']).sum()"
   ]
  },
  {
   "cell_type": "markdown",
   "metadata": {
    "id": "xUl7L8HcGCBK"
   },
   "source": [
    "위에 표에서 확인할 수 있듯, 지역에 해당업종이 존재하지 않는 경우들이 있어 데이터 bias를 일으킬 수 있음."
   ]
  },
  {
   "cell_type": "code",
   "execution_count": null,
   "metadata": {},
   "outputs": [],
   "source": [
    "sc_cnt_dong.loc[:,(sc_cnt_dong==0).any(axis=0)].describe()"
   ]
  }
 ],
 "metadata": {
  "colab": {
   "collapsed_sections": [],
   "name": "[EDA6] 신한카드 / 시각화 using DTW",
   "provenance": [],
   "toc_visible": true
  },
  "kernelspec": {
   "display_name": "Python 3",
   "language": "python",
   "name": "python3"
  },
  "language_info": {
   "codemirror_mode": {
    "name": "ipython",
    "version": 3
   },
   "file_extension": ".py",
   "mimetype": "text/x-python",
   "name": "python",
   "nbconvert_exporter": "python",
   "pygments_lexer": "ipython3",
   "version": "3.6.10"
  }
 },
 "nbformat": 4,
 "nbformat_minor": 1
}